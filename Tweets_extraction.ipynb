{
 "cells": [
  {
   "cell_type": "code",
   "execution_count": 1,
   "metadata": {},
   "outputs": [],
   "source": [
    "import pandas as pd\n",
    "import twint\n",
    "import nest_asyncio\n",
    "nest_asyncio.apply()\n",
    "import os\n",
    "import shutil\n",
    "from sklearn.feature_extraction.text import TfidfVectorizer\n",
    "from sklearn.metrics.pairwise import linear_kernel\n",
    "from nltk.corpus import stopwords"
   ]
  },
  {
   "cell_type": "code",
   "execution_count": 2,
   "metadata": {},
   "outputs": [],
   "source": [
    "tags_tweet = [\"#KeikoNova\", \"#keikonuncamas\", \"#FujimoriNuncaMás\", \"#NoAKeiko\", \"#Keikino\", \"#KeikoTAPERdiendo\",\n",
    "              \"#GolpeElectoral\",\"#FuerzaPopular\", \"#ConMiVotoNoTeMetas\",\n",
    "               \"#BICENTENARIOMEJORCONSTITUCION\", \"#FujimafiaNuncaMás\", \"#NoAlNarcoEstado\", \"#FujimorismoNuncaMas\",\n",
    "               \"#KeikoGolpistaYDictadora\", \"#keikonoimpugnesmiacta\", \"#KEIKOMENTIROSA\", \"#KeikoPresidenta2021\",\n",
    "               \"#KeikoPresidenta\",\"#PedroCastilloPresidente\",\"#PedroCastilloNoVa\", \"#NoAlComunismoEnElPeru\",\n",
    "               \"#NoAlTerrorismo\", \"#NoAlComunismo\",\"#LosBuenosSomosMas\",\"#pedrocastilloNICagando\", \"#PedroCastilloNoVa\", \n",
    "              \"#PedroTiraPiedras\",\"#Genocidas\",\"#KeikoPresidenta2021\",\"#KeikoFujimori\",\"#CastilloMachistayHomofobico\",\n",
    "              \"#CastilloYCerronUnSoloCorazon\",\"#EleccionesPerú2021\",\"#DefiendeTuVoto\",\"#RespetaMiVoto\",\"#LaMaldiciondelaSenoraK\",\n",
    "              \"#LaCamisetaNoSeMancha\",\"#FujimorismoNuncaMás\",\"#SegundaVuelta\", \"#EleccionesBicentenario\",\"#Elecciones2021PE\",\n",
    "               \"#PeruDecide2021\",\"#PedroCastillo\",\"#KeikoFujimori\",\"#Elecciones2021\",\"#eleccionesperu\",\"#ONPE\",\"#EleccionesPeru\", \n",
    "              \"#Elecciones2021Peru\",\"#EleccionesBicentenario\", \"#Onpe\",\"ONPE\",\"#JNE\",\"#SegundaVuelta\", \n",
    "              \"#ONPEPeru\",\"#JNEPeru\",\"#PeruLibre\",\"#PERULIBRE\",\"#TerrorismoNuncaMas\",\"#Jne\", \"#PedroCastilloTe\", \"#JNE_Peru\"]"
   ]
  },
  {
   "cell_type": "code",
   "execution_count": 3,
   "metadata": {},
   "outputs": [],
   "source": [
    "tags_tweet1 = [\"#KeikoNova\",\"#SegundaVuelta\",\"#PedroCastilloTe\",'#NoAlNarcoEstado','#RespetaMiVoto',\n",
    "       '#KeikoPresidenta','#FujimafiaNuncaMas',\"#pedrocastilloNiCagando\",'#KEIKOMENTIROSA',\n",
    "       '#PedroCastilloNoVa','#DefiendeTuVoto','#DefiendeTuVoto','#PedroCastilloPresidente',\n",
    "       '#keikonuncamas','#BICENTENARIOMEJORCONSTITUCION','#NoAKeiko','#KeikoTAPERdiendo','#CastilloYCerronUnSoloCorazon',\n",
    "       '#NoalTerrorismo','#KeikoGolpistaYDictadora','#NoAlComunismoEnElPeru','#PeruDecide2021',\n",
    "       '#FujimoriNuncaMas','#LosBuenosSomosMas','#KeikoFujimori','#FujimorismoNuncaMas','#Genocidas',\n",
    "       '#NoAlComunismo','#PeruLibre','#PedroCastillo','#Elecciones2021','#TerrorismoNuncaMas']\n"
   ]
  },
  {
   "cell_type": "code",
   "execution_count": 4,
   "metadata": {},
   "outputs": [],
   "source": [
    "tags = [\"#KeikoNova\",\"#SegundaVuelta\",\"#PedroCastilloTe\",'#NoAlNarcoEstado','#RespetaMiVoto',\n",
    "       '#KeikoPresidenta','#FujimafiaNuncaMas',\"#pedrocastilloNiCagando\",'#KEIKOMENTIROSA',\n",
    "       '#PedroCastilloNoVa','#DefiendeTuVoto','#DefiendeTuVoto','#PedroCastilloPresidente',\n",
    "       '#keikonuncamas','#BICENTENARIOMEJORCONSTITUCION','#NoAKeiko','#KeikoTAPERdiendo','#CastilloYCerronUnSoloCorazon',\n",
    "       '#NoalTerrorismo','#KeikoGolpistaYDictadora','#NoAlComunismoEnElPeru','#PeruDecide2021',\n",
    "       '#FujimoriNuncaMas','#LosBuenosSomosMas','#KeikoFujimori','#FujimorismoNuncaMas','#FujimorismoNuncaMás','#Genocidas',\n",
    "       '#NoAlComunismo','#PeruLibre','#PedroCastillo','#Elecciones2021','#TerrorismoNuncaMas','#FuerzaPopular','#FujimoriNuncaMás',\n",
    "       'KeikoFujimori','PedroCastillo','keiko','castillo','EleccionesPresidenciales2021','JNE','ONPE','Derecha','Izquierda','DebatePresidencial','#Rojos']\n",
    "\n",
    "tag_vac = ['#VacúnateYa','#COVID19', '#PongoElHombro', '#LaVacunaEsVida', '#NoBajemosLaGuardia', '#VamosaSalirAdelante', '#vacunacion',\n",
    "           '#sialavacuna', '#VacunaFest','#TodasLasVacunasSirven', '#NuevaCepa', '#Sinopharm', '#YoApoyoaBeto', '#ErnestoBustamante',\n",
    "           '#SagastiGenocida', '#VacunaCOVID19', '#SuizaLab', '#AstraZeneca', '#Pfizer', '#delta', '#variante', '#PfizerBiontech', \n",
    "           '#Moderna', '#CureVac']\n",
    "tag_vac1 = ['#VacunateYa']\n",
    "tag2 = ['#MirthaVásquez','#Premier','#GabineteVásquez' ,'#GuidoBellido','@patriciagamarra']"
   ]
  },
  {
   "cell_type": "code",
   "execution_count": 5,
   "metadata": {},
   "outputs": [],
   "source": [
    "#prueba = [\"#PeruLibre\",\"#PERULIBRE\",\"#TerrorismoNuncaMas\",\"#Jne\"]\n",
    "#prueba=[\"#Elecciones2022 \"#ONPE\"]\n"
   ]
  },
  {
   "cell_type": "code",
   "execution_count": 6,
   "metadata": {},
   "outputs": [],
   "source": [
    "def Crear_carpeta(Rutabase, name_carpeta):\n",
    "    # Se define el nombre de la carpeta o directorio a crear\n",
    "    directorio = Rutabase + name_carpeta\n",
    "    if os.path.exists(directorio):\n",
    "        shutil.rmtree(directorio)\n",
    "        os.makedirs(directorio)\n",
    "        print(\"Se reemplazo el directorio %s \" % directorio)\n",
    "    else:\n",
    "        try:\n",
    "            os.mkdir(directorio)\n",
    "        except OSError:\n",
    "            print(\"La creación del directorio %s falló\" % directorio)\n",
    "        else:\n",
    "            print(\"Se ha creado el directorio: %s \" % directorio)"
   ]
  },
  {
   "cell_type": "code",
   "execution_count": 7,
   "metadata": {
    "scrolled": true
   },
   "outputs": [],
   "source": [
    "def Generar_Tweets(lista, Rutabase, since, until):\n",
    "    df_Final = pd.DataFrame()\n",
    "    numero_tweets = 0\n",
    "    for i in lista:\n",
    "        c = twint.Config()\n",
    "        #print(i)\n",
    "        c.Search = i\n",
    "        c.Language = 'es'\n",
    "        c.Since = since\n",
    "        c.Until = until\n",
    "        c.Limit = 10000\n",
    "        c.Pandas = True\n",
    "        c.Hide_output= True\n",
    "        twint.run.Search(c)\n",
    "        #print(twint.storage.panda.Tweets_df)\n",
    "        df_twint = twint.storage.panda.Tweets_df\n",
    "        #print(df_twint)\n",
    "        #print(len(df_twint))\n",
    "        numero_tweets = numero_tweets + len(df_twint)\n",
    "        Rutarel =  i + '.csv'\n",
    "        Rutasol = os.path.join(Rutabase, Rutarel)\n",
    "        df_twint.to_csv(Rutasol, index = False)\n",
    "        print('Se ha creado correctamente el ' + i + '.csv, recuperando ' + str(numero_tweets) + ' tweets')\n",
    "    #df_Final.to_csv(\"Tweets_prueba.csv\", index=False)"
   ]
  },
  {
   "cell_type": "code",
   "execution_count": 72,
   "metadata": {},
   "outputs": [],
   "source": [
    "def SeleccionarTweets(lista, Rutabase):\n",
    "    total_df = pd.DataFrame() \n",
    "    count = 0\n",
    "    for i in lista:\n",
    "        Rutarel =  i + '.csv'\n",
    "        Rutasol = os.path.join(Rutabase, Rutarel)\n",
    "        #print(Rutasol)\n",
    "        df = pd.read_csv(Rutasol, delimiter=',')\n",
    "        #print(df)\n",
    "        new_df = df[df['language'] == 'es']\n",
    "        #print(new_df)\n",
    "        #count = count + len(df)\n",
    "        total_df = pd.concat([total_df, new_df],ignore_index=False)\n",
    "    #print(total_df.shape)\n",
    "    total_df = total_df.reset_index(drop = True)\n",
    "    print('Se ha recuperado ' + str(len(total_df)) + ' tweets en el idioma espanhol' )\n",
    "    return total_df\n",
    "   \n",
    "\n",
    "#df[(df['date'] > '2021-04-01') & (df['date'] < '2021-10-01')]"
   ]
  },
  {
   "cell_type": "code",
   "execution_count": 73,
   "metadata": {},
   "outputs": [],
   "source": [
    "def Recuperar_Indice(lista_indices):\n",
    "    index = []\n",
    "    for i in lista_indices:\n",
    "        index.append(i[1])\n",
    "    index = pd.unique(index)\n",
    "    index = list(index)\n",
    "    return index"
   ]
  },
  {
   "cell_type": "code",
   "execution_count": 80,
   "metadata": {},
   "outputs": [],
   "source": [
    "def Eliminar_Repetidos(df, label, language, threshold):\n",
    "    tfidf = TfidfVectorizer(stop_words = stopwords.words(language))\n",
    "    # Construct the TF-IDF matrix\n",
    "    tfidf_matrix = tfidf.fit_transform(df[label])\n",
    "\n",
    "    # Generate the cosine similarity matrix\n",
    "    cosine_sim = linear_kernel(tfidf_matrix, tfidf_matrix)\n",
    "    print(cosine_sim)\n",
    "    #Lista que recupera los tweets\n",
    "    A = []\n",
    "    for i in range(0,len(cosine_sim)):\n",
    "        for k in range(0,len(cosine_sim)):\n",
    "            if ((k>i) and (cosine_sim[i][k] >= threshold)):\n",
    "                #print(k)\n",
    "                A.append([i,k])\n",
    "                \n",
    "    indices_tweets = Recuperar_Indice(A)\n",
    "    df = df.drop(indices_tweets)\n",
    "    #print(df)\n",
    "    df = df.reset_index(drop = True)\n",
    "    print('Se han recuperado ' + str(len(df)) + ' tweets')\n",
    "    return df\n",
    "    "
   ]
  },
  {
   "cell_type": "code",
   "execution_count": 81,
   "metadata": {},
   "outputs": [],
   "source": [
    "Rutabase = r'C:/Users/USER/Documents/Git/SATwint/'\n",
    "#carpeta = 'data4/'\n",
    "def Obtener_dataset(lista_tweet, name_carpeta, label, language, name):\n",
    "    Crear_carpeta(Rutabase, name_carpeta)\n",
    "    Ruta = Rutabase + name_carpeta\n",
    "    Generar_Tweets(lista_tweet, Ruta,'2020-01-01', '2021-11-01')\n",
    "    df = SeleccionarTweets(lista_tweet, Ruta)\n",
    "    #print(df)\n",
    "    df = Eliminar_Repetidos(df, label, language, 0.5)\n",
    "    df.to_csv(name + '.csv')\n",
    "    return df"
   ]
  },
  {
   "cell_type": "code",
   "execution_count": null,
   "metadata": {},
   "outputs": [
    {
     "name": "stdout",
     "output_type": "stream",
     "text": [
      "Se reemplazo el directorio C:/Users/USER/Documents/Git/SATwint/data5/ \n",
      "[!] No more data! Scraping will stop now.\n",
      "found 0 deleted tweets in this search.\n",
      "Se ha creado correctamente el #VacúnateYa.csv, recuperando %s 2283 tweets\n",
      "Se ha creado correctamente el #COVID19.csv, recuperando %s 12298 tweets\n",
      "[!] No more data! Scraping will stop now.\n",
      "found 0 deleted tweets in this search.\n",
      "Se ha creado correctamente el #PongoElHombro.csv, recuperando %s 13632 tweets\n",
      "[!] No more data! Scraping will stop now.\n",
      "found 0 deleted tweets in this search.\n",
      "Se ha creado correctamente el #LaVacunaEsVida.csv, recuperando %s 14335 tweets\n",
      "[!] No more data! Scraping will stop now.\n",
      "found 0 deleted tweets in this search.\n",
      "Se ha creado correctamente el #NoBajemosLaGuardia.csv, recuperando %s 21854 tweets\n",
      "Se ha creado correctamente el #VamosaSalirAdelante.csv, recuperando %s 31855 tweets\n"
     ]
    }
   ],
   "source": [
    "final_df = Obtener_dataset(tag_vac,'data5/', 'tweet', 'spanish', 'df_vacunacion' )"
   ]
  },
  {
   "cell_type": "code",
   "execution_count": null,
   "metadata": {},
   "outputs": [],
   "source": []
  }
 ],
 "metadata": {
  "kernelspec": {
   "display_name": "Python 3",
   "language": "python",
   "name": "python3"
  },
  "language_info": {
   "codemirror_mode": {
    "name": "ipython",
    "version": 3
   },
   "file_extension": ".py",
   "mimetype": "text/x-python",
   "name": "python",
   "nbconvert_exporter": "python",
   "pygments_lexer": "ipython3",
   "version": "3.8.3"
  }
 },
 "nbformat": 4,
 "nbformat_minor": 4
}
