{
 "cells": [
  {
   "cell_type": "markdown",
   "metadata": {},
   "source": [
    "## ANALISIS DE SENTIMIENTOS CONTEXTO PERU"
   ]
  },
  {
   "cell_type": "markdown",
   "metadata": {},
   "source": [
    "## Librerias"
   ]
  },
  {
   "cell_type": "code",
   "execution_count": 381,
   "metadata": {},
   "outputs": [],
   "source": [
    "#import warnings\n",
    "#warnings.filterwarnings(\"ignore\")\n",
    "\n",
    "import pandas as pd\n",
    "import numpy as np\n",
    "\n",
    "#NLTK\n",
    "import nltk\n",
    "from nltk import word_tokenize, WordPunctTokenizer, regexp_tokenize\n",
    "from nltk import word_tokenize, WordPunctTokenizer, regexp_tokenize\n",
    "\n",
    "#Plotting \n",
    "import matplotlib.pyplot as plt\n",
    "from wordcloud import WordCloud, STOPWORDS\n",
    "\n",
    "#Keras\n",
    "from numpy import array\n",
    "from keras.preprocessing.text import Tokenizer\n",
    "from keras.utils import to_categorical\n",
    "from keras.models import Sequential\n",
    "from keras.layers import Dense\n",
    "from keras.layers import LSTM\n",
    "from keras.layers import Embedding"
   ]
  },
  {
   "cell_type": "code",
   "execution_count": 382,
   "metadata": {},
   "outputs": [],
   "source": [
    "#Funcion para cambiar valores de polaridad\n",
    "def Cambiar_valor_polaridad(x):\n",
    "    result = 0\n",
    "    if x == 'POS':\n",
    "        result = 1\n",
    "    elif x == 'NEG':\n",
    "        result = 0\n",
    "    elif x == 'NEU':\n",
    "        result =  -1\n",
    "    return result\n",
    "\n",
    "def Cambiar_formato(x):\n",
    "    #print(x)\n",
    "    result = ''\n",
    "    if x == '0.0' or x == '0' :\n",
    "        result = 'NEG'\n",
    "    elif x == '1.0' or x == '1':\n",
    "        result = 'POS'\n",
    "    elif x == '-':\n",
    "        result = 'NEU'\n",
    "        \n",
    "    return result"
   ]
  },
  {
   "cell_type": "markdown",
   "metadata": {},
   "source": [
    "# DATASET PROPIO"
   ]
  },
  {
   "cell_type": "code",
   "execution_count": 826,
   "metadata": {},
   "outputs": [
    {
     "name": "stdout",
     "output_type": "stream",
     "text": [
      "Index(['Unnamed: 0', 'Unnamed: 0.1', 'Unnamed: 0.1.1', 'id', 'tweet',\n",
      "       'tweet_sentence', 'len_sentence', 'username', 'date', 'nlikes',\n",
      "       'tweet_word', 'len_word', 'POS', 'NEG', 'NEU', 'target'],\n",
      "      dtype='object')\n",
      "Index(['id', 'tweet', 'target'], dtype='object')\n",
      "NEG    2347\n",
      "POS    1470\n",
      "Name: target, dtype: int64\n"
     ]
    }
   ],
   "source": [
    "from sklearn.model_selection import train_test_split\n",
    "df = pd.read_csv(\"df_politico_score.csv\")\n",
    "print(df.columns)\n",
    "#df['target'] = df['target'].apply(lambda x: Cambiar_formato(x))\n",
    "#df = df[['id','tweet','sentimiento']]\n",
    "#df.to_csv(\"DF_politicoVM.csv\")\n",
    "#print(df.sentimiento.value_counts())\n",
    "##print(df)\n",
    "#df = df[(df['target_final'] == 'POS') | (df['target_final'] == 'NEG')]\n",
    "#print(df.target_final.value_counts())\n",
    "df = df[['id','tweet','target']]\n",
    "df = df[(df['target'] == 'POS') | (df['target'] == 'NEG')]\n",
    "df.columns =['id','tweet','target']\n",
    "print(df.columns)\n",
    "print(df.target.value_counts())\n",
    "#df['polarity_value'] = df['target'].apply(lambda x: Cambiar_valor_polaridad(x))\n",
    "#df = df[df['target'].isin(['POS','NEG','NEU'])]\n",
    "#X_train, X_test, y_train, y_test = train_test_split(df[['id','tweet','target']], df['target'], stratify=df['target'], test_size=0.30)"
   ]
  },
  {
   "cell_type": "code",
   "execution_count": 823,
   "metadata": {},
   "outputs": [],
   "source": [
    "df.to_excel('TweetsE.xlsx')"
   ]
  },
  {
   "cell_type": "code",
   "execution_count": 824,
   "metadata": {},
   "outputs": [
    {
     "name": "stdout",
     "output_type": "stream",
     "text": [
      "NEG    1775\n",
      "POS     885\n",
      "Name: target, dtype: int64\n"
     ]
    }
   ],
   "source": [
    "df = pd.read_csv(\"DF_politicoE.csv\")\n",
    "#df['target'] = df['targt'].apply(lambda x: Cambiar_formato(x))\n",
    "#df = df[['id','tweet','sentimiento']]\n",
    "#df.to_csv(\"DF_politicoVM.csv\")\n",
    "#print(df.sentimiento.value_counts())\n",
    "#print(df)\n",
    "df = df[df['target'].isin(['POS','NEG'])]\n",
    "print(df.target.value_counts())"
   ]
  },
  {
   "cell_type": "code",
   "execution_count": 825,
   "metadata": {},
   "outputs": [],
   "source": [
    "#X_train, X_test, y_train, y_test = cross_validation.train_test_split(Data, Target, test_size=0.3, random_state=0, stratify=Target)"
   ]
  },
  {
   "cell_type": "markdown",
   "metadata": {},
   "source": [
    "# Processing Tweets"
   ]
  },
  {
   "cell_type": "markdown",
   "metadata": {},
   "source": [
    "Merge both datasets for pre-processing."
   ]
  },
  {
   "cell_type": "code",
   "execution_count": 827,
   "metadata": {
    "scrolled": true
   },
   "outputs": [
    {
     "data": {
      "text/html": [
       "<div>\n",
       "<style scoped>\n",
       "    .dataframe tbody tr th:only-of-type {\n",
       "        vertical-align: middle;\n",
       "    }\n",
       "\n",
       "    .dataframe tbody tr th {\n",
       "        vertical-align: top;\n",
       "    }\n",
       "\n",
       "    .dataframe thead th {\n",
       "        text-align: right;\n",
       "    }\n",
       "</style>\n",
       "<table border=\"1\" class=\"dataframe\">\n",
       "  <thead>\n",
       "    <tr style=\"text-align: right;\">\n",
       "      <th></th>\n",
       "      <th>id</th>\n",
       "      <th>tweet</th>\n",
       "      <th>target</th>\n",
       "      <th>processed_tweet</th>\n",
       "    </tr>\n",
       "  </thead>\n",
       "  <tbody>\n",
       "    <tr>\n",
       "      <th>140</th>\n",
       "      <td>1.453153e+18</td>\n",
       "      <td>Como #GobiernoDelPueblo, somos y seremos respe...</td>\n",
       "      <td>POS</td>\n",
       "      <td>Como #GobiernoDelPueblo, somos y seremos respe...</td>\n",
       "    </tr>\n",
       "    <tr>\n",
       "      <th>2687</th>\n",
       "      <td>1.412395e+18</td>\n",
       "      <td>Mi saludo, respeto y reconocimiento a los #Doc...</td>\n",
       "      <td>POS</td>\n",
       "      <td>Mi saludo, respeto y reconocimiento a los #Doc...</td>\n",
       "    </tr>\n",
       "    <tr>\n",
       "      <th>2527</th>\n",
       "      <td>1.276297e+18</td>\n",
       "      <td>Acabamos de manifestarle al vicepresidente del...</td>\n",
       "      <td>NEG</td>\n",
       "      <td>Acabamos de manifestarle al vicepresidente del...</td>\n",
       "    </tr>\n",
       "    <tr>\n",
       "      <th>3866</th>\n",
       "      <td>1.281987e+18</td>\n",
       "      <td>Saludo a todos los #DocentesUniversitarios que...</td>\n",
       "      <td>POS</td>\n",
       "      <td>Saludo a todos los #DocentesUniversitarios que...</td>\n",
       "    </tr>\n",
       "  </tbody>\n",
       "</table>\n",
       "</div>"
      ],
      "text/plain": [
       "                id                                              tweet target  \\\n",
       "140   1.453153e+18  Como #GobiernoDelPueblo, somos y seremos respe...    POS   \n",
       "2687  1.412395e+18  Mi saludo, respeto y reconocimiento a los #Doc...    POS   \n",
       "2527  1.276297e+18  Acabamos de manifestarle al vicepresidente del...    NEG   \n",
       "3866  1.281987e+18  Saludo a todos los #DocentesUniversitarios que...    POS   \n",
       "\n",
       "                                        processed_tweet  \n",
       "140   Como #GobiernoDelPueblo, somos y seremos respe...  \n",
       "2687  Mi saludo, respeto y reconocimiento a los #Doc...  \n",
       "2527  Acabamos de manifestarle al vicepresidente del...  \n",
       "3866  Saludo a todos los #DocentesUniversitarios que...  "
      ]
     },
     "execution_count": 827,
     "metadata": {},
     "output_type": "execute_result"
    }
   ],
   "source": [
    "#processed_tweets= pd.concat([pd.DataFrame({'tweetID':tweets.id, 'tweetText':tweets.tweet,'polarity_value':tweets.target, 'set':tweets.set}), \n",
    "#                             pd.DataFrame({'tweetID':train_set.tweet_id, 'tweetText':train_set.tweetText, 'polarity_value':train_set.polarity_value,'set':train_set.set})], ignore_index=True)\n",
    "#processed_tweets= pd.concat([pd.DataFrame({'tweetID':df_pandemia_train.id, 'tweetText':df_pandemia_train.tweet,'polarity_value':df_pandemia_train.target, 'set':df_pandemia_train.set}),\n",
    "#                             pd.DataFrame({'tweetID':df_pandemia_test.id, 'tweetText': df_pandemia_test.tweet, 'polarity_value':df_pandemia_test.target,'set':df_pandemia_test.set})], ignore_index=True)\n",
    "processed_tweets = df.copy()\n",
    "processed_tweets['processed_tweet'] = df.tweet\n",
    "#processed_tweets['processed_tweet'] = processed_tweets.tweetText\n",
    "processed_tweets.sample(4)"
   ]
  },
  {
   "cell_type": "markdown",
   "metadata": {},
   "source": [
    "### Hashtags"
   ]
  },
  {
   "cell_type": "code",
   "execution_count": 828,
   "metadata": {},
   "outputs": [],
   "source": [
    "import re\n",
    "hash_regex = re.compile(r\"#(\\w+)\")\n",
    "hstgs = [] # To store the hashtags so we can exclude them from some parts of the analysis\n",
    "def hash_repl(match):\n",
    "    _ = '__HASH_'+match.group(1).upper()\n",
    "    hstgs.append(_)\n",
    "    return _"
   ]
  },
  {
   "cell_type": "markdown",
   "metadata": {},
   "source": [
    "### User names"
   ]
  },
  {
   "cell_type": "code",
   "execution_count": 829,
   "metadata": {},
   "outputs": [],
   "source": [
    "user_regex = re.compile(r\"@(\\w+)\")\n",
    "usr_names = [] # To store the user names so we can exclude them from some parts of the analysis\n",
    "def user_repl(match):\n",
    "    _ = '__user_'+match.group(1).upper()\n",
    "    usr_names.append(_)\n",
    "    return _"
   ]
  },
  {
   "cell_type": "markdown",
   "metadata": {},
   "source": [
    "### URLs"
   ]
  },
  {
   "cell_type": "code",
   "execution_count": 830,
   "metadata": {},
   "outputs": [],
   "source": [
    "url_regex = re.compile(r\"(http|https|ftp)://[a-zA-Z0-9\\./]+\")\n",
    "def url_repl(match):\n",
    "    return '__URL_'"
   ]
  },
  {
   "cell_type": "code",
   "execution_count": 831,
   "metadata": {},
   "outputs": [],
   "source": [
    "#processed_tweets['processed_tweet'] = [re.sub(url_regex, url_repl, str(s)) for s in processed_tweets.processed_tweet]\n",
    "#processed_tweets"
   ]
  },
  {
   "cell_type": "markdown",
   "metadata": {},
   "source": [
    "### Reppppppppetitions"
   ]
  },
  {
   "cell_type": "code",
   "execution_count": 832,
   "metadata": {},
   "outputs": [],
   "source": [
    "# Repeating words like hurrrryyyyyy\n",
    "rpt_regex = re.compile(r\"(.)\\1{1,}\", re.IGNORECASE);\n",
    "def rpt_repl(match):\n",
    "    return match.group(1)+match.group(1)"
   ]
  },
  {
   "cell_type": "code",
   "execution_count": 833,
   "metadata": {},
   "outputs": [
    {
     "data": {
      "text/plain": [
       "'Reppeated characters in wordss'"
      ]
     },
     "execution_count": 833,
     "metadata": {},
     "output_type": "execute_result"
    }
   ],
   "source": [
    "# Test\n",
    "re.sub(rpt_regex, rpt_repl, \"Reppppeated characters in wordsssssssss\" )"
   ]
  },
  {
   "cell_type": "markdown",
   "metadata": {},
   "source": [
    "### Punctuation"
   ]
  },
  {
   "cell_type": "code",
   "execution_count": 834,
   "metadata": {},
   "outputs": [],
   "source": [
    "# Spliting by word boundaries\n",
    "word_bound_regex = re.compile(r\"\\W+\")\n",
    "\n",
    "# Punctuations\n",
    "punctuations = \\\n",
    "\t[\t#('',\t\t['.', ] )\t,\\\n",
    "\t\t#('',\t\t[',', ] )\t,\\\n",
    "\t\t#('',\t\t['\\'', '\\\"', ] )\t,\\\n",
    "\t\t('__PUNC_EXCL',\t\t['!', '¡', ] )\t,\\\n",
    "\t\t('__PUNC_QUES',\t\t['?', '¿', ] )\t,\\\n",
    "\t\t('__PUNC_ELLP',\t\t['...', '…', ] )\t,\\\n",
    "\t]\n",
    "\n",
    "#For punctuation replacement\n",
    "def punctuations_repl(match):\n",
    "\ttext = match.group(0)\n",
    "\trepl = []\n",
    "\tfor (key, parr) in punctuations :\n",
    "\t\tfor punc in parr :\n",
    "\t\t\tif punc in text:\n",
    "\t\t\t\trepl.append(key)\n",
    "\tif( len(repl)>0 ) :\n",
    "\t\treturn ' '+' '.join(repl)+' '\n",
    "\telse :\n",
    "\t\treturn ' '"
   ]
  },
  {
   "cell_type": "code",
   "execution_count": 835,
   "metadata": {},
   "outputs": [],
   "source": [
    "processed_tweets['processed_tweet'] = [re.sub(word_bound_regex, punctuations_repl, str(s)) for s in processed_tweets.processed_tweet]"
   ]
  },
  {
   "cell_type": "markdown",
   "metadata": {},
   "source": [
    "### Stemming\n",
    "As there is no spanish language for PorterStemmer, go with snowball!"
   ]
  },
  {
   "cell_type": "code",
   "execution_count": 836,
   "metadata": {},
   "outputs": [],
   "source": [
    "from nltk.stem import SnowballStemmer\n",
    "stemmer = SnowballStemmer('spanish')"
   ]
  },
  {
   "cell_type": "code",
   "execution_count": 837,
   "metadata": {},
   "outputs": [
    {
     "ename": "KeyError",
     "evalue": "213",
     "output_type": "error",
     "traceback": [
      "\u001b[1;31m---------------------------------------------------------------------------\u001b[0m",
      "\u001b[1;31mKeyError\u001b[0m                                  Traceback (most recent call last)",
      "\u001b[1;32m~\\Anaconda3\\lib\\site-packages\\pandas\\core\\indexes\\base.py\u001b[0m in \u001b[0;36mget_loc\u001b[1;34m(self, key, method, tolerance)\u001b[0m\n\u001b[0;32m   3360\u001b[0m             \u001b[1;32mtry\u001b[0m\u001b[1;33m:\u001b[0m\u001b[1;33m\u001b[0m\u001b[1;33m\u001b[0m\u001b[0m\n\u001b[1;32m-> 3361\u001b[1;33m                 \u001b[1;32mreturn\u001b[0m \u001b[0mself\u001b[0m\u001b[1;33m.\u001b[0m\u001b[0m_engine\u001b[0m\u001b[1;33m.\u001b[0m\u001b[0mget_loc\u001b[0m\u001b[1;33m(\u001b[0m\u001b[0mcasted_key\u001b[0m\u001b[1;33m)\u001b[0m\u001b[1;33m\u001b[0m\u001b[1;33m\u001b[0m\u001b[0m\n\u001b[0m\u001b[0;32m   3362\u001b[0m             \u001b[1;32mexcept\u001b[0m \u001b[0mKeyError\u001b[0m \u001b[1;32mas\u001b[0m \u001b[0merr\u001b[0m\u001b[1;33m:\u001b[0m\u001b[1;33m\u001b[0m\u001b[1;33m\u001b[0m\u001b[0m\n",
      "\u001b[1;32m~\\Anaconda3\\lib\\site-packages\\pandas\\_libs\\index.pyx\u001b[0m in \u001b[0;36mpandas._libs.index.IndexEngine.get_loc\u001b[1;34m()\u001b[0m\n",
      "\u001b[1;32m~\\Anaconda3\\lib\\site-packages\\pandas\\_libs\\index.pyx\u001b[0m in \u001b[0;36mpandas._libs.index.IndexEngine.get_loc\u001b[1;34m()\u001b[0m\n",
      "\u001b[1;32mpandas\\_libs\\hashtable_class_helper.pxi\u001b[0m in \u001b[0;36mpandas._libs.hashtable.Int64HashTable.get_item\u001b[1;34m()\u001b[0m\n",
      "\u001b[1;32mpandas\\_libs\\hashtable_class_helper.pxi\u001b[0m in \u001b[0;36mpandas._libs.hashtable.Int64HashTable.get_item\u001b[1;34m()\u001b[0m\n",
      "\u001b[1;31mKeyError\u001b[0m: 213",
      "\nThe above exception was the direct cause of the following exception:\n",
      "\u001b[1;31mKeyError\u001b[0m                                  Traceback (most recent call last)",
      "\u001b[1;32m~\\AppData\\Local\\Temp/ipykernel_1556/88445331.py\u001b[0m in \u001b[0;36m<module>\u001b[1;34m\u001b[0m\n\u001b[0;32m      1\u001b[0m \u001b[1;31m# Test\u001b[0m\u001b[1;33m\u001b[0m\u001b[1;33m\u001b[0m\u001b[0m\n\u001b[1;32m----> 2\u001b[1;33m \u001b[0mtext\u001b[0m \u001b[1;33m=\u001b[0m \u001b[0mprocessed_tweets\u001b[0m\u001b[1;33m.\u001b[0m\u001b[0mprocessed_tweet\u001b[0m\u001b[1;33m[\u001b[0m\u001b[1;36m213\u001b[0m\u001b[1;33m]\u001b[0m\u001b[1;33m\u001b[0m\u001b[1;33m\u001b[0m\u001b[0m\n\u001b[0m\u001b[0;32m      3\u001b[0m \u001b[0mprint\u001b[0m\u001b[1;33m(\u001b[0m\u001b[0mtext\u001b[0m\u001b[1;33m)\u001b[0m\u001b[1;33m\u001b[0m\u001b[1;33m\u001b[0m\u001b[0m\n\u001b[0;32m      4\u001b[0m \u001b[0mtext\u001b[0m \u001b[1;33m=\u001b[0m \u001b[1;33m[\u001b[0m\u001b[0mword\u001b[0m \u001b[1;32mif\u001b[0m\u001b[1;33m(\u001b[0m\u001b[0mword\u001b[0m\u001b[1;33m[\u001b[0m\u001b[1;36m0\u001b[0m\u001b[1;33m:\u001b[0m\u001b[1;36m2\u001b[0m\u001b[1;33m]\u001b[0m\u001b[1;33m==\u001b[0m\u001b[1;34m'__'\u001b[0m\u001b[1;33m)\u001b[0m \u001b[1;32melse\u001b[0m \u001b[0mword\u001b[0m\u001b[1;33m.\u001b[0m\u001b[0mlower\u001b[0m\u001b[1;33m(\u001b[0m\u001b[1;33m)\u001b[0m \u001b[1;32mfor\u001b[0m \u001b[0mword\u001b[0m \u001b[1;32min\u001b[0m \u001b[0mtext\u001b[0m\u001b[1;33m.\u001b[0m\u001b[0msplit\u001b[0m\u001b[1;33m(\u001b[0m\u001b[1;33m)\u001b[0m \u001b[1;32mif\u001b[0m \u001b[1;33m(\u001b[0m\u001b[1;33m(\u001b[0m\u001b[0mlen\u001b[0m\u001b[1;33m(\u001b[0m\u001b[0mword\u001b[0m\u001b[1;33m)\u001b[0m \u001b[1;33m>=\u001b[0m \u001b[1;36m3\u001b[0m\u001b[1;33m)\u001b[0m \u001b[1;32mand\u001b[0m \u001b[1;33m(\u001b[0m\u001b[0mword\u001b[0m \u001b[1;32mnot\u001b[0m \u001b[1;32min\u001b[0m \u001b[0musr_names\u001b[0m\u001b[1;33m)\u001b[0m\u001b[1;33m)\u001b[0m\u001b[1;33m]\u001b[0m\u001b[1;33m\u001b[0m\u001b[1;33m\u001b[0m\u001b[0m\n\u001b[0;32m      5\u001b[0m \u001b[0mtext\u001b[0m \u001b[1;33m=\u001b[0m \u001b[1;33m[\u001b[0m\u001b[0mstemmer\u001b[0m\u001b[1;33m.\u001b[0m\u001b[0mstem\u001b[0m\u001b[1;33m(\u001b[0m\u001b[0mw\u001b[0m\u001b[1;33m)\u001b[0m \u001b[1;32mfor\u001b[0m \u001b[0mw\u001b[0m \u001b[1;32min\u001b[0m \u001b[0mtext\u001b[0m\u001b[1;33m]\u001b[0m\u001b[1;33m\u001b[0m\u001b[1;33m\u001b[0m\u001b[0m\n",
      "\u001b[1;32m~\\Anaconda3\\lib\\site-packages\\pandas\\core\\series.py\u001b[0m in \u001b[0;36m__getitem__\u001b[1;34m(self, key)\u001b[0m\n\u001b[0;32m    940\u001b[0m \u001b[1;33m\u001b[0m\u001b[0m\n\u001b[0;32m    941\u001b[0m         \u001b[1;32melif\u001b[0m \u001b[0mkey_is_scalar\u001b[0m\u001b[1;33m:\u001b[0m\u001b[1;33m\u001b[0m\u001b[1;33m\u001b[0m\u001b[0m\n\u001b[1;32m--> 942\u001b[1;33m             \u001b[1;32mreturn\u001b[0m \u001b[0mself\u001b[0m\u001b[1;33m.\u001b[0m\u001b[0m_get_value\u001b[0m\u001b[1;33m(\u001b[0m\u001b[0mkey\u001b[0m\u001b[1;33m)\u001b[0m\u001b[1;33m\u001b[0m\u001b[1;33m\u001b[0m\u001b[0m\n\u001b[0m\u001b[0;32m    943\u001b[0m \u001b[1;33m\u001b[0m\u001b[0m\n\u001b[0;32m    944\u001b[0m         \u001b[1;32mif\u001b[0m \u001b[0mis_hashable\u001b[0m\u001b[1;33m(\u001b[0m\u001b[0mkey\u001b[0m\u001b[1;33m)\u001b[0m\u001b[1;33m:\u001b[0m\u001b[1;33m\u001b[0m\u001b[1;33m\u001b[0m\u001b[0m\n",
      "\u001b[1;32m~\\Anaconda3\\lib\\site-packages\\pandas\\core\\series.py\u001b[0m in \u001b[0;36m_get_value\u001b[1;34m(self, label, takeable)\u001b[0m\n\u001b[0;32m   1049\u001b[0m \u001b[1;33m\u001b[0m\u001b[0m\n\u001b[0;32m   1050\u001b[0m         \u001b[1;31m# Similar to Index.get_value, but we do not fall back to positional\u001b[0m\u001b[1;33m\u001b[0m\u001b[1;33m\u001b[0m\u001b[0m\n\u001b[1;32m-> 1051\u001b[1;33m         \u001b[0mloc\u001b[0m \u001b[1;33m=\u001b[0m \u001b[0mself\u001b[0m\u001b[1;33m.\u001b[0m\u001b[0mindex\u001b[0m\u001b[1;33m.\u001b[0m\u001b[0mget_loc\u001b[0m\u001b[1;33m(\u001b[0m\u001b[0mlabel\u001b[0m\u001b[1;33m)\u001b[0m\u001b[1;33m\u001b[0m\u001b[1;33m\u001b[0m\u001b[0m\n\u001b[0m\u001b[0;32m   1052\u001b[0m         \u001b[1;32mreturn\u001b[0m \u001b[0mself\u001b[0m\u001b[1;33m.\u001b[0m\u001b[0mindex\u001b[0m\u001b[1;33m.\u001b[0m\u001b[0m_get_values_for_loc\u001b[0m\u001b[1;33m(\u001b[0m\u001b[0mself\u001b[0m\u001b[1;33m,\u001b[0m \u001b[0mloc\u001b[0m\u001b[1;33m,\u001b[0m \u001b[0mlabel\u001b[0m\u001b[1;33m)\u001b[0m\u001b[1;33m\u001b[0m\u001b[1;33m\u001b[0m\u001b[0m\n\u001b[0;32m   1053\u001b[0m \u001b[1;33m\u001b[0m\u001b[0m\n",
      "\u001b[1;32m~\\Anaconda3\\lib\\site-packages\\pandas\\core\\indexes\\base.py\u001b[0m in \u001b[0;36mget_loc\u001b[1;34m(self, key, method, tolerance)\u001b[0m\n\u001b[0;32m   3361\u001b[0m                 \u001b[1;32mreturn\u001b[0m \u001b[0mself\u001b[0m\u001b[1;33m.\u001b[0m\u001b[0m_engine\u001b[0m\u001b[1;33m.\u001b[0m\u001b[0mget_loc\u001b[0m\u001b[1;33m(\u001b[0m\u001b[0mcasted_key\u001b[0m\u001b[1;33m)\u001b[0m\u001b[1;33m\u001b[0m\u001b[1;33m\u001b[0m\u001b[0m\n\u001b[0;32m   3362\u001b[0m             \u001b[1;32mexcept\u001b[0m \u001b[0mKeyError\u001b[0m \u001b[1;32mas\u001b[0m \u001b[0merr\u001b[0m\u001b[1;33m:\u001b[0m\u001b[1;33m\u001b[0m\u001b[1;33m\u001b[0m\u001b[0m\n\u001b[1;32m-> 3363\u001b[1;33m                 \u001b[1;32mraise\u001b[0m \u001b[0mKeyError\u001b[0m\u001b[1;33m(\u001b[0m\u001b[0mkey\u001b[0m\u001b[1;33m)\u001b[0m \u001b[1;32mfrom\u001b[0m \u001b[0merr\u001b[0m\u001b[1;33m\u001b[0m\u001b[1;33m\u001b[0m\u001b[0m\n\u001b[0m\u001b[0;32m   3364\u001b[0m \u001b[1;33m\u001b[0m\u001b[0m\n\u001b[0;32m   3365\u001b[0m         \u001b[1;32mif\u001b[0m \u001b[0mis_scalar\u001b[0m\u001b[1;33m(\u001b[0m\u001b[0mkey\u001b[0m\u001b[1;33m)\u001b[0m \u001b[1;32mand\u001b[0m \u001b[0misna\u001b[0m\u001b[1;33m(\u001b[0m\u001b[0mkey\u001b[0m\u001b[1;33m)\u001b[0m \u001b[1;32mand\u001b[0m \u001b[1;32mnot\u001b[0m \u001b[0mself\u001b[0m\u001b[1;33m.\u001b[0m\u001b[0mhasnans\u001b[0m\u001b[1;33m:\u001b[0m\u001b[1;33m\u001b[0m\u001b[1;33m\u001b[0m\u001b[0m\n",
      "\u001b[1;31mKeyError\u001b[0m: 213"
     ]
    }
   ],
   "source": [
    "# Test\n",
    "text = processed_tweets.processed_tweet[213]\n",
    "print(text)\n",
    "text = [word if(word[0:2]=='__') else word.lower() for word in text.split() if ((len(word) >= 3) and (word not in usr_names))]\n",
    "text = [stemmer.stem(w) for w in text]                \n",
    "text = \" \".join(text)\n",
    "print('------------------')\n",
    "print(text)"
   ]
  },
  {
   "cell_type": "code",
   "execution_count": 838,
   "metadata": {},
   "outputs": [],
   "source": [
    "def sb_stem(text, only_first=0):\n",
    "    text = [word if(word[0:2]=='__') else word.lower() for word in text.split() if ((len(word) >= 3) or (word in ['no','si', 'sí', 'ni']))] #   If we are doing negation analysis, maybe is a better idea to keep the small words (like 'no')\n",
    "    text = [stemmer.stem(w) if w[0:2]!='__' else w for w in text ]\n",
    "    \n",
    "    return(text)"
   ]
  },
  {
   "cell_type": "code",
   "execution_count": 839,
   "metadata": {},
   "outputs": [],
   "source": [
    "processed_tweets['processed_tweet'] = processed_tweets.processed_tweet.apply(sb_stem)"
   ]
  },
  {
   "cell_type": "code",
   "execution_count": 840,
   "metadata": {},
   "outputs": [],
   "source": [
    "def processAll(text):\n",
    "    text = re.sub( hash_regex, hash_repl, text )\n",
    "    text = re.sub( user_regex, user_repl, text)\n",
    "    text = re.sub( url_regex, url_repl, text )\n",
    "    \n",
    "    text = text.replace('\\'','')\n",
    "    \n",
    "    text = re.sub( word_bound_regex , punctuations_repl, text )\n",
    "    text = re.sub( rpt_regex, rpt_repl, text )\n",
    "    \n",
    "    text = sb_stem(text)    \n",
    "    return text"
   ]
  },
  {
   "cell_type": "markdown",
   "metadata": {},
   "source": [
    "### Process tweets"
   ]
  },
  {
   "cell_type": "markdown",
   "metadata": {},
   "source": [
    "Now we can process the tweets with the recently created functions"
   ]
  },
  {
   "cell_type": "code",
   "execution_count": 841,
   "metadata": {},
   "outputs": [],
   "source": [
    "processed_tweets['processed_tweet'] = processed_tweets.tweet.apply(processAll)"
   ]
  },
  {
   "cell_type": "code",
   "execution_count": 842,
   "metadata": {},
   "outputs": [],
   "source": [
    "#check\n",
    "#processed_tweets.sample(4)"
   ]
  },
  {
   "cell_type": "code",
   "execution_count": 843,
   "metadata": {},
   "outputs": [
    {
     "data": {
      "text/html": [
       "<div>\n",
       "<style scoped>\n",
       "    .dataframe tbody tr th:only-of-type {\n",
       "        vertical-align: middle;\n",
       "    }\n",
       "\n",
       "    .dataframe tbody tr th {\n",
       "        vertical-align: top;\n",
       "    }\n",
       "\n",
       "    .dataframe thead th {\n",
       "        text-align: right;\n",
       "    }\n",
       "</style>\n",
       "<table border=\"1\" class=\"dataframe\">\n",
       "  <thead>\n",
       "    <tr style=\"text-align: right;\">\n",
       "      <th></th>\n",
       "      <th>id</th>\n",
       "      <th>tweet</th>\n",
       "      <th>target</th>\n",
       "      <th>processed_tweet</th>\n",
       "    </tr>\n",
       "  </thead>\n",
       "  <tbody>\n",
       "    <tr>\n",
       "      <th>0</th>\n",
       "      <td>1.361684e+18</td>\n",
       "      <td>Políticos como Vizcarra y su «gente de confian...</td>\n",
       "      <td>NEG</td>\n",
       "      <td>[polit, com, vizcarr, gent, confianz, confirm,...</td>\n",
       "    </tr>\n",
       "    <tr>\n",
       "      <th>1</th>\n",
       "      <td>1.361684e+18</td>\n",
       "      <td>Políticos como Vizcarra y su «gente de confian...</td>\n",
       "      <td>NEG</td>\n",
       "      <td>[polit, com, vizcarr, gent, confianz, confirm,...</td>\n",
       "    </tr>\n",
       "    <tr>\n",
       "      <th>2</th>\n",
       "      <td>1.361684e+18</td>\n",
       "      <td>Políticos como Vizcarra y su «gente de confian...</td>\n",
       "      <td>NEG</td>\n",
       "      <td>[polit, com, vizcarr, gent, confianz, confirm,...</td>\n",
       "    </tr>\n",
       "    <tr>\n",
       "      <th>3</th>\n",
       "      <td>1.361684e+18</td>\n",
       "      <td>Políticos como Vizcarra y su «gente de confian...</td>\n",
       "      <td>NEG</td>\n",
       "      <td>[polit, com, vizcarr, gent, confianz, confirm,...</td>\n",
       "    </tr>\n",
       "    <tr>\n",
       "      <th>4</th>\n",
       "      <td>1.361684e+18</td>\n",
       "      <td>Seamos claros: estás décadas de traición, corr...</td>\n",
       "      <td>NEG</td>\n",
       "      <td>[seam, clar, estas, dec, traicion, corrupcion,...</td>\n",
       "    </tr>\n",
       "    <tr>\n",
       "      <th>...</th>\n",
       "      <td>...</td>\n",
       "      <td>...</td>\n",
       "      <td>...</td>\n",
       "      <td>...</td>\n",
       "    </tr>\n",
       "    <tr>\n",
       "      <th>6369</th>\n",
       "      <td>1.531074e+18</td>\n",
       "      <td>Agradecemos el saludo de la @ACTransparencia p...</td>\n",
       "      <td>POS</td>\n",
       "      <td>[agradec, salud, __user_ACTRANSPARENCIA, por, ...</td>\n",
       "    </tr>\n",
       "    <tr>\n",
       "      <th>6370</th>\n",
       "      <td>1.531074e+18</td>\n",
       "      <td>Agradecemos el saludo de la @ACTransparencia p...</td>\n",
       "      <td>POS</td>\n",
       "      <td>[agradec, salud, __user_ACTRANSPARENCIA, por, ...</td>\n",
       "    </tr>\n",
       "    <tr>\n",
       "      <th>6375</th>\n",
       "      <td>1.542233e+18</td>\n",
       "      <td>En entrevista a #JNETV, Mariani señaló que lo ...</td>\n",
       "      <td>NEG</td>\n",
       "      <td>[entrev, __HASH_JNETV, mariani, señal, que, qu...</td>\n",
       "    </tr>\n",
       "    <tr>\n",
       "      <th>6376</th>\n",
       "      <td>1.542167e+18</td>\n",
       "      <td>Según el docente universitario, \"ejecutivo y l...</td>\n",
       "      <td>NEG</td>\n",
       "      <td>[segun, docent, universitari, ejecut, legisl, ...</td>\n",
       "    </tr>\n",
       "    <tr>\n",
       "      <th>6418</th>\n",
       "      <td>1.552033e+18</td>\n",
       "      <td>“Debemos actuar antes de que aparezcan en el h...</td>\n",
       "      <td>NEG</td>\n",
       "      <td>[deb, actu, antes, que, aparezc, horizont, alt...</td>\n",
       "    </tr>\n",
       "  </tbody>\n",
       "</table>\n",
       "<p>3817 rows × 4 columns</p>\n",
       "</div>"
      ],
      "text/plain": [
       "                id                                              tweet target  \\\n",
       "0     1.361684e+18  Políticos como Vizcarra y su «gente de confian...    NEG   \n",
       "1     1.361684e+18  Políticos como Vizcarra y su «gente de confian...    NEG   \n",
       "2     1.361684e+18  Políticos como Vizcarra y su «gente de confian...    NEG   \n",
       "3     1.361684e+18  Políticos como Vizcarra y su «gente de confian...    NEG   \n",
       "4     1.361684e+18  Seamos claros: estás décadas de traición, corr...    NEG   \n",
       "...            ...                                                ...    ...   \n",
       "6369  1.531074e+18  Agradecemos el saludo de la @ACTransparencia p...    POS   \n",
       "6370  1.531074e+18  Agradecemos el saludo de la @ACTransparencia p...    POS   \n",
       "6375  1.542233e+18  En entrevista a #JNETV, Mariani señaló que lo ...    NEG   \n",
       "6376  1.542167e+18  Según el docente universitario, \"ejecutivo y l...    NEG   \n",
       "6418  1.552033e+18  “Debemos actuar antes de que aparezcan en el h...    NEG   \n",
       "\n",
       "                                        processed_tweet  \n",
       "0     [polit, com, vizcarr, gent, confianz, confirm,...  \n",
       "1     [polit, com, vizcarr, gent, confianz, confirm,...  \n",
       "2     [polit, com, vizcarr, gent, confianz, confirm,...  \n",
       "3     [polit, com, vizcarr, gent, confianz, confirm,...  \n",
       "4     [seam, clar, estas, dec, traicion, corrupcion,...  \n",
       "...                                                 ...  \n",
       "6369  [agradec, salud, __user_ACTRANSPARENCIA, por, ...  \n",
       "6370  [agradec, salud, __user_ACTRANSPARENCIA, por, ...  \n",
       "6375  [entrev, __HASH_JNETV, mariani, señal, que, qu...  \n",
       "6376  [segun, docent, universitari, ejecut, legisl, ...  \n",
       "6418  [deb, actu, antes, que, aparezc, horizont, alt...  \n",
       "\n",
       "[3817 rows x 4 columns]"
      ]
     },
     "execution_count": 843,
     "metadata": {},
     "output_type": "execute_result"
    }
   ],
   "source": [
    "processed_tweets"
   ]
  },
  {
   "cell_type": "markdown",
   "metadata": {},
   "source": [
    "## Feature Creation"
   ]
  },
  {
   "cell_type": "markdown",
   "metadata": {},
   "source": [
    "### Emoticons"
   ]
  },
  {
   "cell_type": "markdown",
   "metadata": {},
   "source": [
    "Emojis on the Spanish tweets, unlike on the Colombian ones, are stored as combinations of characters, such as :) . We will try to put them all on the same page for the feature engineering. That is, we will translate them to their Unicode value. Let's begin with the spanish ones."
   ]
  },
  {
   "cell_type": "code",
   "execution_count": 844,
   "metadata": {},
   "outputs": [],
   "source": [
    "# Emoticons\n",
    "emoticons = \\\n",
    "\t[\t# For __EMOT_SMILEY\n",
    "        (' __emoji: U+1F601',\t[':-)', ':)', '(:', '(-:', ] )\t,\\\n",
    "        # for __EMOT_LAUGH\n",
    "\t\t(' __emoji: U+1F923',\t\t[':-D', ':D', 'X-D', 'XD', 'xD', ] )\t,\\\n",
    "        # For __EMOT_LOVE\n",
    "\t\t(' __emoji: U+2764',\t\t['<3', ':\\*', ] )\t,\\\n",
    "        # For __EMOT_WINK\n",
    "\t\t('__emoji: U+1F609',\t\t[';-)', ';)', ';-D', ';D', '(;', '(-;', ] )\t,\\\n",
    "        # For __EMOT_FROWN\n",
    "\t\t(' __emoji: U+2639',\t\t[':-(', ':(', '(:', '(-:', ] )\t,\\\n",
    "        # For __EMOT_CRY\n",
    "\t\t(' __emoji: U+1F622',\t\t[':,(', ':\\'(', ':\"(', ':(('] )\t,\\\n",
    "\t]\n",
    "    \n",
    "def escape_paren(arr):\n",
    "\treturn [text.replace(')', '[)}\\]]').replace('(', '[({\\[]') for text in arr]\n",
    "\n",
    "def regex_union(arr):\n",
    "\treturn '(' + '|'.join( arr ) + ')'\n",
    "\n",
    "emoticons_regex = [ (repl, re.compile(regex_union(escape_paren(regx))) ) for (repl, regx) in emoticons ]"
   ]
  },
  {
   "cell_type": "code",
   "execution_count": 845,
   "metadata": {},
   "outputs": [
    {
     "name": "stdout",
     "output_type": "stream",
     "text": [
      "This is a text with one emoticon   __emoji: U+1F601  and another   __emoji: U+2639 \n"
     ]
    }
   ],
   "source": [
    "# Test\n",
    "text = \"This is a text with one emoticon :) and another :(\"\n",
    "for (repl, regx) in emoticons_regex :\n",
    "    text = re.sub(regx, ' '+repl+' ', text)\n",
    "    \n",
    "print(text)"
   ]
  },
  {
   "cell_type": "markdown",
   "metadata": {},
   "source": [
    "Now we can do something similar for the Colombian tweets, we will translate them to their respective  unicode values:"
   ]
  },
  {
   "cell_type": "code",
   "execution_count": 846,
   "metadata": {},
   "outputs": [
    {
     "data": {
      "text/html": [
       "<div>\n",
       "<style scoped>\n",
       "    .dataframe tbody tr th:only-of-type {\n",
       "        vertical-align: middle;\n",
       "    }\n",
       "\n",
       "    .dataframe tbody tr th {\n",
       "        vertical-align: top;\n",
       "    }\n",
       "\n",
       "    .dataframe thead th {\n",
       "        text-align: right;\n",
       "    }\n",
       "</style>\n",
       "<table border=\"1\" class=\"dataframe\">\n",
       "  <thead>\n",
       "    <tr style=\"text-align: right;\">\n",
       "      <th></th>\n",
       "      <th>emoji_category</th>\n",
       "      <th>number</th>\n",
       "      <th>code</th>\n",
       "      <th>CLDR_Short_Name</th>\n",
       "    </tr>\n",
       "  </thead>\n",
       "  <tbody>\n",
       "    <tr>\n",
       "      <th>0</th>\n",
       "      <td>face-positive</td>\n",
       "      <td>1</td>\n",
       "      <td>U+1F600</td>\n",
       "      <td>grinning face</td>\n",
       "    </tr>\n",
       "    <tr>\n",
       "      <th>1</th>\n",
       "      <td>face-positive</td>\n",
       "      <td>2</td>\n",
       "      <td>U+1F601</td>\n",
       "      <td>beaming face with smiling eyes</td>\n",
       "    </tr>\n",
       "    <tr>\n",
       "      <th>2</th>\n",
       "      <td>face-positive</td>\n",
       "      <td>3</td>\n",
       "      <td>U+1F602</td>\n",
       "      <td>face with tears of joy</td>\n",
       "    </tr>\n",
       "    <tr>\n",
       "      <th>3</th>\n",
       "      <td>face-positive</td>\n",
       "      <td>4</td>\n",
       "      <td>U+1F923</td>\n",
       "      <td>rolling on the floor laughing</td>\n",
       "    </tr>\n",
       "    <tr>\n",
       "      <th>4</th>\n",
       "      <td>face-positive</td>\n",
       "      <td>5</td>\n",
       "      <td>U+1F603</td>\n",
       "      <td>grinning face with big eyes</td>\n",
       "    </tr>\n",
       "  </tbody>\n",
       "</table>\n",
       "</div>"
      ],
      "text/plain": [
       "  emoji_category  number     code                 CLDR_Short_Name\n",
       "0  face-positive       1  U+1F600                   grinning face\n",
       "1  face-positive       2  U+1F601  beaming face with smiling eyes\n",
       "2  face-positive       3  U+1F602          face with tears of joy\n",
       "3  face-positive       4  U+1F923   rolling on the floor laughing\n",
       "4  face-positive       5  U+1F603     grinning face with big eyes"
      ]
     },
     "execution_count": 846,
     "metadata": {},
     "output_type": "execute_result"
    }
   ],
   "source": [
    "# data scraped from http://www.unicode.org/emoji/charts/full-emoji-list.html\n",
    "emojis_db=pd.read_csv('emojis_db_csv.csv')\n",
    "emojis_db.head()"
   ]
  },
  {
   "cell_type": "code",
   "execution_count": 847,
   "metadata": {},
   "outputs": [
    {
     "data": {
      "text/plain": [
       "array(['face-positive', 'face-neutral', 'face-negative', 'face-sick',\n",
       "       'face-role', 'face-fantasy', 'cat-face', 'monkey-face', 'person',\n",
       "       'person-role', 'person-fantasy', 'person-gesture',\n",
       "       'person-activity', 'person-sport', 'family', 'body', 'hair-style',\n",
       "       'emotion', 'clothing', 'animal-mammal', 'animal-bird',\n",
       "       'animal-amphibian', 'animal-reptile', 'animal-marine',\n",
       "       'animal-bug', 'plant-flower', 'plant-other', 'food-fruit',\n",
       "       'food-vegetable', 'food-prepared', 'food-asian', 'food-sweet',\n",
       "       'drink', 'dishware', 'place-map', 'place-geographic',\n",
       "       'place-building', 'place-religious', 'place-other',\n",
       "       'transport-ground', 'transport-water', 'transport-air', 'hotel',\n",
       "       'time', 'sky & weather', 'event', 'award-medal', 'sport', 'game',\n",
       "       'arts & crafts', 'sound', 'music', 'musical-instrument', 'phone',\n",
       "       'computer', 'light & video', 'book-paper', 'money', 'mail',\n",
       "       'writing', 'office', 'lock', 'tool', 'science', 'medical',\n",
       "       'household', 'other-object', 'transport-sign', 'warning', 'arrow',\n",
       "       'religion', 'zodiac', 'av-symbol', 'other-symbol', 'keycap',\n",
       "       'alphanum', 'geometric', 'flag', 'country-flag',\n",
       "       'subdivision-flag'], dtype=object)"
      ]
     },
     "execution_count": 847,
     "metadata": {},
     "output_type": "execute_result"
    }
   ],
   "source": [
    "emojis_db.emoji_category.unique()"
   ]
  },
  {
   "cell_type": "markdown",
   "metadata": {},
   "source": [
    "Emojis present on tweets on the colombian dataset are encoded as the actual emoji image, the following function will extract the unicode from each emoji so we can use it as a feature."
   ]
  },
  {
   "cell_type": "code",
   "execution_count": 848,
   "metadata": {},
   "outputs": [],
   "source": [
    "def emojis_unicode(tweet):\n",
    "    ''' Extracts the emojis on the tweet on Unicode format, also tries to match those in regular format, such as \";)\" '''\n",
    "    for (repl, regx) in emoticons_regex :\n",
    "        tweet = re.sub(regx, ' '+repl+' ', tweet)\n",
    "#     print(tweet)\n",
    "\n",
    "    tweet_unicode = str(tweet.encode('unicode-escape'))\n",
    "    tweet_unicode = tweet_unicode.replace('\\\\\\\\U000',' __emoji: U+')\n",
    "#     print(tweet_unicode)\n",
    "    \n",
    "    emoji_list = []\n",
    "#     print(tweet)\n",
    "    for emoji in range(tweet_unicode.count(' __emoji: ')):\n",
    "        em = tweet_unicode.split('__emoji: ')[emoji+1].split()[0]\n",
    "        em = em[:7] # the len of the emoji in unicode is between 6 and 7\n",
    "        emoji_list.append(em.upper())\n",
    "    return emoji_list"
   ]
  },
  {
   "cell_type": "code",
   "execution_count": 849,
   "metadata": {},
   "outputs": [
    {
     "data": {
      "text/plain": [
       "['U+1F601', 'U+2639', 'U+1F621', 'U+1F923', 'U+1F602']"
      ]
     },
     "execution_count": 849,
     "metadata": {},
     "output_type": "execute_result"
    }
   ],
   "source": [
    "# Test\n",
    "text = \"This is a text with one emoticon :) and another :( and some others: 😡 🤣😂\"\n",
    "emojis_unicode(text)"
   ]
  },
  {
   "cell_type": "code",
   "execution_count": 850,
   "metadata": {},
   "outputs": [],
   "source": [
    "processed_tweets['emojis_unicode'] = processed_tweets.tweet.apply(emojis_unicode) # np.vectorize(emojis_unicode)(processed_tweets['tweetText'])"
   ]
  },
  {
   "cell_type": "markdown",
   "metadata": {},
   "source": [
    "Now we can get the category of the extracted emojis"
   ]
  },
  {
   "cell_type": "code",
   "execution_count": 851,
   "metadata": {
    "scrolled": true
   },
   "outputs": [
    {
     "data": {
      "text/plain": [
       "['face-positive',\n",
       " 'face-negative',\n",
       " 'face-negative',\n",
       " 'face-positive',\n",
       " 'face-positive']"
      ]
     },
     "execution_count": 851,
     "metadata": {},
     "output_type": "execute_result"
    }
   ],
   "source": [
    "def emoji_category(emojis):\n",
    "    categories = []\n",
    "    for i in range(len(emojis)):\n",
    "        # print(emojis[i])\n",
    "        try:\n",
    "            categories.append(emojis_db.loc[emojis_db.code == emojis[i]].emoji_category.values[0])\n",
    "        except:\n",
    "            try:\n",
    "                _ = emojis[i].split('+')[1] + '+'\n",
    "                categories.append(emojis_db[emojis_db.code.str.contains(_)].emoji_category.values[0])\n",
    "            except:\n",
    "                categories.append('other')\n",
    "    if len(categories) < 1:\n",
    "        categories.append('no_emojis')\n",
    "    return categories\n",
    "\n",
    "emoji_category(emojis_unicode(text))"
   ]
  },
  {
   "cell_type": "code",
   "execution_count": 852,
   "metadata": {},
   "outputs": [],
   "source": [
    "processed_tweets['emojis_categories'] = processed_tweets.emojis_unicode.apply(emoji_category)"
   ]
  },
  {
   "cell_type": "code",
   "execution_count": 853,
   "metadata": {
    "scrolled": false
   },
   "outputs": [
    {
     "data": {
      "text/html": [
       "<div>\n",
       "<style scoped>\n",
       "    .dataframe tbody tr th:only-of-type {\n",
       "        vertical-align: middle;\n",
       "    }\n",
       "\n",
       "    .dataframe tbody tr th {\n",
       "        vertical-align: top;\n",
       "    }\n",
       "\n",
       "    .dataframe thead th {\n",
       "        text-align: right;\n",
       "    }\n",
       "</style>\n",
       "<table border=\"1\" class=\"dataframe\">\n",
       "  <thead>\n",
       "    <tr style=\"text-align: right;\">\n",
       "      <th></th>\n",
       "      <th>id</th>\n",
       "      <th>tweet</th>\n",
       "      <th>target</th>\n",
       "      <th>processed_tweet</th>\n",
       "      <th>emojis_unicode</th>\n",
       "      <th>emojis_categories</th>\n",
       "    </tr>\n",
       "  </thead>\n",
       "  <tbody>\n",
       "    <tr>\n",
       "      <th>0</th>\n",
       "      <td>1.361684e+18</td>\n",
       "      <td>Políticos como Vizcarra y su «gente de confian...</td>\n",
       "      <td>NEG</td>\n",
       "      <td>[polit, com, vizcarr, gent, confianz, confirm,...</td>\n",
       "      <td>[]</td>\n",
       "      <td>[no_emojis]</td>\n",
       "    </tr>\n",
       "    <tr>\n",
       "      <th>1</th>\n",
       "      <td>1.361684e+18</td>\n",
       "      <td>Políticos como Vizcarra y su «gente de confian...</td>\n",
       "      <td>NEG</td>\n",
       "      <td>[polit, com, vizcarr, gent, confianz, confirm,...</td>\n",
       "      <td>[]</td>\n",
       "      <td>[no_emojis]</td>\n",
       "    </tr>\n",
       "    <tr>\n",
       "      <th>2</th>\n",
       "      <td>1.361684e+18</td>\n",
       "      <td>Políticos como Vizcarra y su «gente de confian...</td>\n",
       "      <td>NEG</td>\n",
       "      <td>[polit, com, vizcarr, gent, confianz, confirm,...</td>\n",
       "      <td>[]</td>\n",
       "      <td>[no_emojis]</td>\n",
       "    </tr>\n",
       "    <tr>\n",
       "      <th>3</th>\n",
       "      <td>1.361684e+18</td>\n",
       "      <td>Políticos como Vizcarra y su «gente de confian...</td>\n",
       "      <td>NEG</td>\n",
       "      <td>[polit, com, vizcarr, gent, confianz, confirm,...</td>\n",
       "      <td>[]</td>\n",
       "      <td>[no_emojis]</td>\n",
       "    </tr>\n",
       "    <tr>\n",
       "      <th>4</th>\n",
       "      <td>1.361684e+18</td>\n",
       "      <td>Seamos claros: estás décadas de traición, corr...</td>\n",
       "      <td>NEG</td>\n",
       "      <td>[seam, clar, estas, dec, traicion, corrupcion,...</td>\n",
       "      <td>[]</td>\n",
       "      <td>[no_emojis]</td>\n",
       "    </tr>\n",
       "  </tbody>\n",
       "</table>\n",
       "</div>"
      ],
      "text/plain": [
       "             id                                              tweet target  \\\n",
       "0  1.361684e+18  Políticos como Vizcarra y su «gente de confian...    NEG   \n",
       "1  1.361684e+18  Políticos como Vizcarra y su «gente de confian...    NEG   \n",
       "2  1.361684e+18  Políticos como Vizcarra y su «gente de confian...    NEG   \n",
       "3  1.361684e+18  Políticos como Vizcarra y su «gente de confian...    NEG   \n",
       "4  1.361684e+18  Seamos claros: estás décadas de traición, corr...    NEG   \n",
       "\n",
       "                                     processed_tweet emojis_unicode  \\\n",
       "0  [polit, com, vizcarr, gent, confianz, confirm,...             []   \n",
       "1  [polit, com, vizcarr, gent, confianz, confirm,...             []   \n",
       "2  [polit, com, vizcarr, gent, confianz, confirm,...             []   \n",
       "3  [polit, com, vizcarr, gent, confianz, confirm,...             []   \n",
       "4  [seam, clar, estas, dec, traicion, corrupcion,...             []   \n",
       "\n",
       "  emojis_categories  \n",
       "0       [no_emojis]  \n",
       "1       [no_emojis]  \n",
       "2       [no_emojis]  \n",
       "3       [no_emojis]  \n",
       "4       [no_emojis]  "
      ]
     },
     "execution_count": 853,
     "metadata": {},
     "output_type": "execute_result"
    }
   ],
   "source": [
    "processed_tweets.head()"
   ]
  },
  {
   "cell_type": "markdown",
   "metadata": {},
   "source": [
    "### N-grams"
   ]
  },
  {
   "cell_type": "code",
   "execution_count": 854,
   "metadata": {
    "scrolled": true
   },
   "outputs": [],
   "source": [
    "# Unigrams\n",
    "unigrams_fd = nltk.FreqDist()\n",
    "# unigrams_fd.update(text)\n",
    "# unigrams_fd\n",
    "\n",
    "# Bigrams\n",
    "# words_bi  = [ ','.join(map(str,bg)) for bg in nltk.bigrams(text) ]\n",
    "bi_grams_fd = nltk.FreqDist()\n",
    "# bi_grams_fd.update( words_bi )\n",
    "# bi_grams_fd\n",
    "\n",
    "# Trigrams\n",
    "# words_tri  = [ ','.join(map(str,tg)) for tg in nltk.trigrams(text) ]\n",
    "tri_grams_fd = nltk.FreqDist()\n",
    "# tri_grams_fd.update( words_tri )\n",
    "# tri_grams_fd"
   ]
  },
  {
   "cell_type": "code",
   "execution_count": 855,
   "metadata": {},
   "outputs": [],
   "source": [
    "# Wrapper function that encloses all the n-grams procedures\n",
    "def get_word_features(words):\n",
    "    bag = {}\n",
    "    words_uni = [ 'has(%s)'% ug for ug in words ]\n",
    "    words_bi  = [ 'has(%s)'% ','.join(map(str,bg)) for bg in nltk.bigrams(words) ]\n",
    "    words_tri = [ 'has(%s)'% ','.join(map(str,tg)) for tg in nltk.trigrams(words) ]\n",
    "    \n",
    "    for f in words_uni+words_bi+words_tri:\n",
    "        bag[f] = 1\n",
    "\n",
    "    return bag"
   ]
  },
  {
   "cell_type": "markdown",
   "metadata": {},
   "source": [
    "### Negation"
   ]
  },
  {
   "cell_type": "code",
   "execution_count": 856,
   "metadata": {},
   "outputs": [
    {
     "data": {
      "text/plain": [
       "['nunc', 'no', 'nad', 'ningun', 'ningun', 'ningun', 'tampoc']"
      ]
     },
     "execution_count": 856,
     "metadata": {},
     "output_type": "execute_result"
    }
   ],
   "source": [
    "sb_stem('nunca no nada ningún ninguno ninguna tampoco')"
   ]
  },
  {
   "cell_type": "code",
   "execution_count": 857,
   "metadata": {},
   "outputs": [],
   "source": [
    "negtn_regex = re.compile( r\"\"\"(?:\n",
    "    ^(?:nunca|no|nada|ningún|ninguno|ninguna|tampoco|\n",
    "        nunc|nad|ningun|tampoc\n",
    "    )$\n",
    ")\n",
    "|\n",
    "n't\n",
    "\"\"\", re.X)\n",
    "\n",
    "def get_negation_features(words):\n",
    "    INF = 0.0\n",
    "    negtn = [ bool(negtn_regex.search(w)) for w in words ]\n",
    "\n",
    "    left = [0.0] * len(words)\n",
    "    prev = 0.0\n",
    "    for i in range(0,len(words)):\n",
    "        if( negtn[i] ):\n",
    "            prev = 1.0\n",
    "        left[i] = prev\n",
    "        prev = max( 0.0, prev-0.1)\n",
    "\n",
    "    right = [0.0] * len(words)\n",
    "    prev = 0.0\n",
    "    for i in reversed(range(0,len(words))):\n",
    "        if( negtn[i] ):\n",
    "            prev = 1.0\n",
    "        right[i] = prev\n",
    "        prev = max( 0.0, prev-0.1)\n",
    "\n",
    "    return dict( zip(\n",
    "                    ['neg_l('+w+')' for w in  words] + ['neg_r('+w+')' for w in  words],\n",
    "                    left + right ) )"
   ]
  },
  {
   "cell_type": "code",
   "execution_count": 858,
   "metadata": {},
   "outputs": [
    {
     "data": {
      "text/plain": [
       "{'neg_l(Este)': 0.0,\n",
       " 'neg_l(tweet)': 0.0,\n",
       " 'neg_l(no)': 1.0,\n",
       " 'neg_l(es)': 0.9,\n",
       " 'neg_l(positivo)': 0.8,\n",
       " 'neg_r(Este)': 0.8,\n",
       " 'neg_r(tweet)': 0.9,\n",
       " 'neg_r(no)': 1.0,\n",
       " 'neg_r(es)': 0.0,\n",
       " 'neg_r(positivo)': 0.0}"
      ]
     },
     "execution_count": 858,
     "metadata": {},
     "output_type": "execute_result"
    }
   ],
   "source": [
    "# Test\n",
    "text = [\"Este\",\"tweet\", \"no\", \"es\", \"positivo\"]\n",
    "get_negation_features(text)"
   ]
  },
  {
   "cell_type": "markdown",
   "metadata": {},
   "source": [
    "### Polarity"
   ]
  },
  {
   "cell_type": "markdown",
   "metadata": {},
   "source": [
    "We tried using the spanish sentiment lexicon from http://www.opener-project.eu/ but it didn't improve the results on any of the algorithms. Maybe due to the fact that spanish from Spain is different from the spanish spoken in Colombia."
   ]
  },
  {
   "cell_type": "code",
   "execution_count": 859,
   "metadata": {},
   "outputs": [
    {
     "data": {
      "text/html": [
       "<div>\n",
       "<style scoped>\n",
       "    .dataframe tbody tr th:only-of-type {\n",
       "        vertical-align: middle;\n",
       "    }\n",
       "\n",
       "    .dataframe tbody tr th {\n",
       "        vertical-align: top;\n",
       "    }\n",
       "\n",
       "    .dataframe thead th {\n",
       "        text-align: right;\n",
       "    }\n",
       "</style>\n",
       "<table border=\"1\" class=\"dataframe\">\n",
       "  <thead>\n",
       "    <tr style=\"text-align: right;\">\n",
       "      <th></th>\n",
       "      <th>x</th>\n",
       "      <th>pos</th>\n",
       "      <th>polarity</th>\n",
       "      <th>xx</th>\n",
       "      <th>word</th>\n",
       "      <th>xxx</th>\n",
       "    </tr>\n",
       "  </thead>\n",
       "  <tbody>\n",
       "    <tr>\n",
       "      <th>0</th>\n",
       "      <td>unknown</td>\n",
       "      <td>n</td>\n",
       "      <td>positive</td>\n",
       "      <td>1.0</td>\n",
       "      <td>felicitación</td>\n",
       "      <td>1</td>\n",
       "    </tr>\n",
       "    <tr>\n",
       "      <th>1</th>\n",
       "      <td>unknown</td>\n",
       "      <td>a</td>\n",
       "      <td>negative</td>\n",
       "      <td>1.0</td>\n",
       "      <td>inconsciente</td>\n",
       "      <td>1</td>\n",
       "    </tr>\n",
       "    <tr>\n",
       "      <th>2</th>\n",
       "      <td>unknown</td>\n",
       "      <td>n</td>\n",
       "      <td>neutral</td>\n",
       "      <td>1.0</td>\n",
       "      <td>soporte</td>\n",
       "      <td>1</td>\n",
       "    </tr>\n",
       "    <tr>\n",
       "      <th>3</th>\n",
       "      <td>unknown</td>\n",
       "      <td>n</td>\n",
       "      <td>neutral</td>\n",
       "      <td>1.0</td>\n",
       "      <td>proceso_matemático</td>\n",
       "      <td>1</td>\n",
       "    </tr>\n",
       "    <tr>\n",
       "      <th>4</th>\n",
       "      <td>unknown</td>\n",
       "      <td>v</td>\n",
       "      <td>positive</td>\n",
       "      <td>1.0</td>\n",
       "      <td>manifestar</td>\n",
       "      <td>1</td>\n",
       "    </tr>\n",
       "  </tbody>\n",
       "</table>\n",
       "</div>"
      ],
      "text/plain": [
       "         x pos  polarity   xx                word  xxx\n",
       "0  unknown   n  positive  1.0        felicitación    1\n",
       "1  unknown   a  negative  1.0        inconsciente    1\n",
       "2  unknown   n   neutral  1.0             soporte    1\n",
       "3  unknown   n   neutral  1.0  proceso_matemático    1\n",
       "4  unknown   v  positive  1.0          manifestar    1"
      ]
     },
     "execution_count": 859,
     "metadata": {},
     "output_type": "execute_result"
    }
   ],
   "source": [
    "opener_lexicon = pd.read_csv('https://raw.githubusercontent.com/opener-project/public-sentiment-lexicons/master/propagation_lexicons/es/es.lemma.sy.an.hypo.rels.maxdepth5.seed500.maj.gold.csv', sep=';', header=None)\n",
    "opener_lexicon.columns = ['x','pos', 'polarity', 'xx','word','xxx']\n",
    "opener_lexicon.head()"
   ]
  },
  {
   "cell_type": "markdown",
   "metadata": {},
   "source": [
    "As the meaning of columns 4 and 6 is not known by us at the moment, they won't be included on the analysis."
   ]
  },
  {
   "cell_type": "code",
   "execution_count": 860,
   "metadata": {},
   "outputs": [],
   "source": [
    "def get_sent(polarity):\n",
    "    if polarity == 'neutral':\n",
    "        return 0\n",
    "    if polarity == 'negative':\n",
    "        return -1\n",
    "    if polarity == 'positive':\n",
    "        return 1\n",
    "opener_lexicon['sentiment'] = opener_lexicon.polarity.apply(get_sent)"
   ]
  },
  {
   "cell_type": "code",
   "execution_count": 861,
   "metadata": {},
   "outputs": [
    {
     "data": {
      "text/html": [
       "<div>\n",
       "<style scoped>\n",
       "    .dataframe tbody tr th:only-of-type {\n",
       "        vertical-align: middle;\n",
       "    }\n",
       "\n",
       "    .dataframe tbody tr th {\n",
       "        vertical-align: top;\n",
       "    }\n",
       "\n",
       "    .dataframe thead th {\n",
       "        text-align: right;\n",
       "    }\n",
       "</style>\n",
       "<table border=\"1\" class=\"dataframe\">\n",
       "  <thead>\n",
       "    <tr style=\"text-align: right;\">\n",
       "      <th></th>\n",
       "      <th>word</th>\n",
       "      <th>stmd_word</th>\n",
       "      <th>sentiment</th>\n",
       "    </tr>\n",
       "  </thead>\n",
       "  <tbody>\n",
       "    <tr>\n",
       "      <th>8875</th>\n",
       "      <td>schizopetalon</td>\n",
       "      <td>schizopetalon</td>\n",
       "      <td>1.0</td>\n",
       "    </tr>\n",
       "    <tr>\n",
       "      <th>2863</th>\n",
       "      <td>cubrir_de_tablillas</td>\n",
       "      <td>cubrir_de_tablill</td>\n",
       "      <td>1.0</td>\n",
       "    </tr>\n",
       "    <tr>\n",
       "      <th>10087</th>\n",
       "      <td>excrecencia</td>\n",
       "      <td>excrecent</td>\n",
       "      <td>-1.0</td>\n",
       "    </tr>\n",
       "    <tr>\n",
       "      <th>839</th>\n",
       "      <td>débil</td>\n",
       "      <td>debil</td>\n",
       "      <td>-1.0</td>\n",
       "    </tr>\n",
       "  </tbody>\n",
       "</table>\n",
       "</div>"
      ],
      "text/plain": [
       "                      word          stmd_word  sentiment\n",
       "8875         schizopetalon      schizopetalon        1.0\n",
       "2863   cubrir_de_tablillas  cubrir_de_tablill        1.0\n",
       "10087          excrecencia          excrecent       -1.0\n",
       "839                  débil              debil       -1.0"
      ]
     },
     "execution_count": 861,
     "metadata": {},
     "output_type": "execute_result"
    }
   ],
   "source": [
    "opener_lexicon['stmd_word'] = opener_lexicon['word'].apply(sb_stem)\n",
    "opener_lexicon['stmd_word'] = opener_lexicon.stmd_word.apply(lambda x: str(x).replace('[','').replace(']','').replace(\"'\",''))\n",
    "opener_lexicon = opener_lexicon[['word','stmd_word','sentiment']]\n",
    "opener_lexicon = opener_lexicon.loc[opener_lexicon.sentiment != 0]\n",
    "opener_lexicon = opener_lexicon.drop_duplicates()\n",
    "opener_lexicon.sample(4)"
   ]
  },
  {
   "cell_type": "code",
   "execution_count": 862,
   "metadata": {},
   "outputs": [],
   "source": [
    "def get_polarity_features(text):\n",
    "    pol = {}\n",
    "    text = sb_stem(text)\n",
    "    for word in text:\n",
    "        try:\n",
    "            pol[\"sent(\"+word+\")\"] = opener_lexicon.loc[opener_lexicon.stmd_word == word].sentiment.values[0]\n",
    "        except:\n",
    "            continue\n",
    "            \n",
    "    return pol\n",
    "\n",
    "#_ = processed_tweets.tweet[10]\n",
    "#print('Tweet ',_)\n",
    "#print('Would have the following words and sentiments associated:')\n",
    "#print(get_polarity_features(_))"
   ]
  },
  {
   "cell_type": "markdown",
   "metadata": {},
   "source": [
    "### Apply Features"
   ]
  },
  {
   "cell_type": "code",
   "execution_count": 863,
   "metadata": {},
   "outputs": [],
   "source": [
    "# Wrapper function for the extraction of features\n",
    "def extract_features(text):\n",
    "    global usr_names, hstgs\n",
    "    features = {}\n",
    "    words = text\n",
    "    words = processAll(text)\n",
    "\n",
    "    word_features = get_word_features(words)\n",
    "    features.update( word_features )\n",
    "\n",
    "    negation_features = get_negation_features(words)\n",
    "    features.update( negation_features )\n",
    "    \n",
    "    # Sentiment features are not included on the final deliverabe as did not improve results\n",
    "#     sentiment_features = get_polarity_features(text)\n",
    "#     features.update(sentiment_features )\n",
    "    \n",
    "    emoji_features = emoji_category(emojis_unicode(text))\n",
    "    emoji_features_dic = dict( zip(['emoji_('+w+')' for w in  emoji_features], emoji_features))\n",
    "    features.update( emoji_features_dic )\n",
    "    \n",
    "    usr_names = list(set(usr_names))\n",
    "    hstgs = list(set(hstgs))\n",
    "    return features"
   ]
  },
  {
   "cell_type": "code",
   "execution_count": 891,
   "metadata": {},
   "outputs": [],
   "source": [
    "processed_tweets['processed_tweet_features'] = processed_tweets.tweet.apply(extract_features)"
   ]
  },
  {
   "cell_type": "code",
   "execution_count": 892,
   "metadata": {},
   "outputs": [
    {
     "data": {
      "text/html": [
       "<div>\n",
       "<style scoped>\n",
       "    .dataframe tbody tr th:only-of-type {\n",
       "        vertical-align: middle;\n",
       "    }\n",
       "\n",
       "    .dataframe tbody tr th {\n",
       "        vertical-align: top;\n",
       "    }\n",
       "\n",
       "    .dataframe thead th {\n",
       "        text-align: right;\n",
       "    }\n",
       "</style>\n",
       "<table border=\"1\" class=\"dataframe\">\n",
       "  <thead>\n",
       "    <tr style=\"text-align: right;\">\n",
       "      <th></th>\n",
       "      <th>id</th>\n",
       "      <th>tweet</th>\n",
       "      <th>target</th>\n",
       "      <th>processed_tweet</th>\n",
       "      <th>emojis_unicode</th>\n",
       "      <th>emojis_categories</th>\n",
       "      <th>processed_tweet_features</th>\n",
       "    </tr>\n",
       "  </thead>\n",
       "  <tbody>\n",
       "    <tr>\n",
       "      <th>0</th>\n",
       "      <td>1.361684e+18</td>\n",
       "      <td>Políticos como Vizcarra y su «gente de confian...</td>\n",
       "      <td>NEG</td>\n",
       "      <td>[polit, com, vizcarr, gent, confianz, confirm,...</td>\n",
       "      <td>[]</td>\n",
       "      <td>[no_emojis]</td>\n",
       "      <td>{'has(polit)': 1, 'has(com)': 1, 'has(vizcarr)...</td>\n",
       "    </tr>\n",
       "    <tr>\n",
       "      <th>1</th>\n",
       "      <td>1.361684e+18</td>\n",
       "      <td>Políticos como Vizcarra y su «gente de confian...</td>\n",
       "      <td>NEG</td>\n",
       "      <td>[polit, com, vizcarr, gent, confianz, confirm,...</td>\n",
       "      <td>[]</td>\n",
       "      <td>[no_emojis]</td>\n",
       "      <td>{'has(polit)': 1, 'has(com)': 1, 'has(vizcarr)...</td>\n",
       "    </tr>\n",
       "    <tr>\n",
       "      <th>2</th>\n",
       "      <td>1.361684e+18</td>\n",
       "      <td>Políticos como Vizcarra y su «gente de confian...</td>\n",
       "      <td>NEG</td>\n",
       "      <td>[polit, com, vizcarr, gent, confianz, confirm,...</td>\n",
       "      <td>[]</td>\n",
       "      <td>[no_emojis]</td>\n",
       "      <td>{'has(polit)': 1, 'has(com)': 1, 'has(vizcarr)...</td>\n",
       "    </tr>\n",
       "    <tr>\n",
       "      <th>3</th>\n",
       "      <td>1.361684e+18</td>\n",
       "      <td>Políticos como Vizcarra y su «gente de confian...</td>\n",
       "      <td>NEG</td>\n",
       "      <td>[polit, com, vizcarr, gent, confianz, confirm,...</td>\n",
       "      <td>[]</td>\n",
       "      <td>[no_emojis]</td>\n",
       "      <td>{'has(polit)': 1, 'has(com)': 1, 'has(vizcarr)...</td>\n",
       "    </tr>\n",
       "    <tr>\n",
       "      <th>4</th>\n",
       "      <td>1.361684e+18</td>\n",
       "      <td>Seamos claros: estás décadas de traición, corr...</td>\n",
       "      <td>NEG</td>\n",
       "      <td>[seam, clar, estas, dec, traicion, corrupcion,...</td>\n",
       "      <td>[]</td>\n",
       "      <td>[no_emojis]</td>\n",
       "      <td>{'has(seam)': 1, 'has(clar)': 1, 'has(estas)':...</td>\n",
       "    </tr>\n",
       "  </tbody>\n",
       "</table>\n",
       "</div>"
      ],
      "text/plain": [
       "             id                                              tweet target  \\\n",
       "0  1.361684e+18  Políticos como Vizcarra y su «gente de confian...    NEG   \n",
       "1  1.361684e+18  Políticos como Vizcarra y su «gente de confian...    NEG   \n",
       "2  1.361684e+18  Políticos como Vizcarra y su «gente de confian...    NEG   \n",
       "3  1.361684e+18  Políticos como Vizcarra y su «gente de confian...    NEG   \n",
       "4  1.361684e+18  Seamos claros: estás décadas de traición, corr...    NEG   \n",
       "\n",
       "                                     processed_tweet emojis_unicode  \\\n",
       "0  [polit, com, vizcarr, gent, confianz, confirm,...             []   \n",
       "1  [polit, com, vizcarr, gent, confianz, confirm,...             []   \n",
       "2  [polit, com, vizcarr, gent, confianz, confirm,...             []   \n",
       "3  [polit, com, vizcarr, gent, confianz, confirm,...             []   \n",
       "4  [seam, clar, estas, dec, traicion, corrupcion,...             []   \n",
       "\n",
       "  emojis_categories                           processed_tweet_features  \n",
       "0       [no_emojis]  {'has(polit)': 1, 'has(com)': 1, 'has(vizcarr)...  \n",
       "1       [no_emojis]  {'has(polit)': 1, 'has(com)': 1, 'has(vizcarr)...  \n",
       "2       [no_emojis]  {'has(polit)': 1, 'has(com)': 1, 'has(vizcarr)...  \n",
       "3       [no_emojis]  {'has(polit)': 1, 'has(com)': 1, 'has(vizcarr)...  \n",
       "4       [no_emojis]  {'has(seam)': 1, 'has(clar)': 1, 'has(estas)':...  "
      ]
     },
     "execution_count": 892,
     "metadata": {},
     "output_type": "execute_result"
    }
   ],
   "source": [
    "processed_tweets.head()"
   ]
  },
  {
   "cell_type": "code",
   "execution_count": 866,
   "metadata": {
    "scrolled": true
   },
   "outputs": [
    {
     "ename": "KeyError",
     "evalue": "10",
     "output_type": "error",
     "traceback": [
      "\u001b[1;31m---------------------------------------------------------------------------\u001b[0m",
      "\u001b[1;31mKeyError\u001b[0m                                  Traceback (most recent call last)",
      "\u001b[1;32m~\\Anaconda3\\lib\\site-packages\\pandas\\core\\indexes\\base.py\u001b[0m in \u001b[0;36mget_loc\u001b[1;34m(self, key, method, tolerance)\u001b[0m\n\u001b[0;32m   3360\u001b[0m             \u001b[1;32mtry\u001b[0m\u001b[1;33m:\u001b[0m\u001b[1;33m\u001b[0m\u001b[1;33m\u001b[0m\u001b[0m\n\u001b[1;32m-> 3361\u001b[1;33m                 \u001b[1;32mreturn\u001b[0m \u001b[0mself\u001b[0m\u001b[1;33m.\u001b[0m\u001b[0m_engine\u001b[0m\u001b[1;33m.\u001b[0m\u001b[0mget_loc\u001b[0m\u001b[1;33m(\u001b[0m\u001b[0mcasted_key\u001b[0m\u001b[1;33m)\u001b[0m\u001b[1;33m\u001b[0m\u001b[1;33m\u001b[0m\u001b[0m\n\u001b[0m\u001b[0;32m   3362\u001b[0m             \u001b[1;32mexcept\u001b[0m \u001b[0mKeyError\u001b[0m \u001b[1;32mas\u001b[0m \u001b[0merr\u001b[0m\u001b[1;33m:\u001b[0m\u001b[1;33m\u001b[0m\u001b[1;33m\u001b[0m\u001b[0m\n",
      "\u001b[1;32m~\\Anaconda3\\lib\\site-packages\\pandas\\_libs\\index.pyx\u001b[0m in \u001b[0;36mpandas._libs.index.IndexEngine.get_loc\u001b[1;34m()\u001b[0m\n",
      "\u001b[1;32m~\\Anaconda3\\lib\\site-packages\\pandas\\_libs\\index.pyx\u001b[0m in \u001b[0;36mpandas._libs.index.IndexEngine.get_loc\u001b[1;34m()\u001b[0m\n",
      "\u001b[1;32mpandas\\_libs\\hashtable_class_helper.pxi\u001b[0m in \u001b[0;36mpandas._libs.hashtable.Int64HashTable.get_item\u001b[1;34m()\u001b[0m\n",
      "\u001b[1;32mpandas\\_libs\\hashtable_class_helper.pxi\u001b[0m in \u001b[0;36mpandas._libs.hashtable.Int64HashTable.get_item\u001b[1;34m()\u001b[0m\n",
      "\u001b[1;31mKeyError\u001b[0m: 10",
      "\nThe above exception was the direct cause of the following exception:\n",
      "\u001b[1;31mKeyError\u001b[0m                                  Traceback (most recent call last)",
      "\u001b[1;32m~\\AppData\\Local\\Temp/ipykernel_1556/2356125741.py\u001b[0m in \u001b[0;36m<module>\u001b[1;34m\u001b[0m\n\u001b[1;32m----> 1\u001b[1;33m \u001b[0mprocessed_tweets\u001b[0m\u001b[1;33m.\u001b[0m\u001b[0mprocessed_tweet_features\u001b[0m\u001b[1;33m[\u001b[0m\u001b[1;36m10\u001b[0m\u001b[1;33m]\u001b[0m\u001b[1;33m\u001b[0m\u001b[1;33m\u001b[0m\u001b[0m\n\u001b[0m",
      "\u001b[1;32m~\\Anaconda3\\lib\\site-packages\\pandas\\core\\series.py\u001b[0m in \u001b[0;36m__getitem__\u001b[1;34m(self, key)\u001b[0m\n\u001b[0;32m    940\u001b[0m \u001b[1;33m\u001b[0m\u001b[0m\n\u001b[0;32m    941\u001b[0m         \u001b[1;32melif\u001b[0m \u001b[0mkey_is_scalar\u001b[0m\u001b[1;33m:\u001b[0m\u001b[1;33m\u001b[0m\u001b[1;33m\u001b[0m\u001b[0m\n\u001b[1;32m--> 942\u001b[1;33m             \u001b[1;32mreturn\u001b[0m \u001b[0mself\u001b[0m\u001b[1;33m.\u001b[0m\u001b[0m_get_value\u001b[0m\u001b[1;33m(\u001b[0m\u001b[0mkey\u001b[0m\u001b[1;33m)\u001b[0m\u001b[1;33m\u001b[0m\u001b[1;33m\u001b[0m\u001b[0m\n\u001b[0m\u001b[0;32m    943\u001b[0m \u001b[1;33m\u001b[0m\u001b[0m\n\u001b[0;32m    944\u001b[0m         \u001b[1;32mif\u001b[0m \u001b[0mis_hashable\u001b[0m\u001b[1;33m(\u001b[0m\u001b[0mkey\u001b[0m\u001b[1;33m)\u001b[0m\u001b[1;33m:\u001b[0m\u001b[1;33m\u001b[0m\u001b[1;33m\u001b[0m\u001b[0m\n",
      "\u001b[1;32m~\\Anaconda3\\lib\\site-packages\\pandas\\core\\series.py\u001b[0m in \u001b[0;36m_get_value\u001b[1;34m(self, label, takeable)\u001b[0m\n\u001b[0;32m   1049\u001b[0m \u001b[1;33m\u001b[0m\u001b[0m\n\u001b[0;32m   1050\u001b[0m         \u001b[1;31m# Similar to Index.get_value, but we do not fall back to positional\u001b[0m\u001b[1;33m\u001b[0m\u001b[1;33m\u001b[0m\u001b[0m\n\u001b[1;32m-> 1051\u001b[1;33m         \u001b[0mloc\u001b[0m \u001b[1;33m=\u001b[0m \u001b[0mself\u001b[0m\u001b[1;33m.\u001b[0m\u001b[0mindex\u001b[0m\u001b[1;33m.\u001b[0m\u001b[0mget_loc\u001b[0m\u001b[1;33m(\u001b[0m\u001b[0mlabel\u001b[0m\u001b[1;33m)\u001b[0m\u001b[1;33m\u001b[0m\u001b[1;33m\u001b[0m\u001b[0m\n\u001b[0m\u001b[0;32m   1052\u001b[0m         \u001b[1;32mreturn\u001b[0m \u001b[0mself\u001b[0m\u001b[1;33m.\u001b[0m\u001b[0mindex\u001b[0m\u001b[1;33m.\u001b[0m\u001b[0m_get_values_for_loc\u001b[0m\u001b[1;33m(\u001b[0m\u001b[0mself\u001b[0m\u001b[1;33m,\u001b[0m \u001b[0mloc\u001b[0m\u001b[1;33m,\u001b[0m \u001b[0mlabel\u001b[0m\u001b[1;33m)\u001b[0m\u001b[1;33m\u001b[0m\u001b[1;33m\u001b[0m\u001b[0m\n\u001b[0;32m   1053\u001b[0m \u001b[1;33m\u001b[0m\u001b[0m\n",
      "\u001b[1;32m~\\Anaconda3\\lib\\site-packages\\pandas\\core\\indexes\\base.py\u001b[0m in \u001b[0;36mget_loc\u001b[1;34m(self, key, method, tolerance)\u001b[0m\n\u001b[0;32m   3361\u001b[0m                 \u001b[1;32mreturn\u001b[0m \u001b[0mself\u001b[0m\u001b[1;33m.\u001b[0m\u001b[0m_engine\u001b[0m\u001b[1;33m.\u001b[0m\u001b[0mget_loc\u001b[0m\u001b[1;33m(\u001b[0m\u001b[0mcasted_key\u001b[0m\u001b[1;33m)\u001b[0m\u001b[1;33m\u001b[0m\u001b[1;33m\u001b[0m\u001b[0m\n\u001b[0;32m   3362\u001b[0m             \u001b[1;32mexcept\u001b[0m \u001b[0mKeyError\u001b[0m \u001b[1;32mas\u001b[0m \u001b[0merr\u001b[0m\u001b[1;33m:\u001b[0m\u001b[1;33m\u001b[0m\u001b[1;33m\u001b[0m\u001b[0m\n\u001b[1;32m-> 3363\u001b[1;33m                 \u001b[1;32mraise\u001b[0m \u001b[0mKeyError\u001b[0m\u001b[1;33m(\u001b[0m\u001b[0mkey\u001b[0m\u001b[1;33m)\u001b[0m \u001b[1;32mfrom\u001b[0m \u001b[0merr\u001b[0m\u001b[1;33m\u001b[0m\u001b[1;33m\u001b[0m\u001b[0m\n\u001b[0m\u001b[0;32m   3364\u001b[0m \u001b[1;33m\u001b[0m\u001b[0m\n\u001b[0;32m   3365\u001b[0m         \u001b[1;32mif\u001b[0m \u001b[0mis_scalar\u001b[0m\u001b[1;33m(\u001b[0m\u001b[0mkey\u001b[0m\u001b[1;33m)\u001b[0m \u001b[1;32mand\u001b[0m \u001b[0misna\u001b[0m\u001b[1;33m(\u001b[0m\u001b[0mkey\u001b[0m\u001b[1;33m)\u001b[0m \u001b[1;32mand\u001b[0m \u001b[1;32mnot\u001b[0m \u001b[0mself\u001b[0m\u001b[1;33m.\u001b[0m\u001b[0mhasnans\u001b[0m\u001b[1;33m:\u001b[0m\u001b[1;33m\u001b[0m\u001b[1;33m\u001b[0m\u001b[0m\n",
      "\u001b[1;31mKeyError\u001b[0m: 10"
     ]
    }
   ],
   "source": [
    "processed_tweets.processed_tweet_features[10]"
   ]
  },
  {
   "cell_type": "code",
   "execution_count": null,
   "metadata": {},
   "outputs": [],
   "source": [
    "#processed_tweets.set.value_counts()"
   ]
  },
  {
   "cell_type": "code",
   "execution_count": null,
   "metadata": {},
   "outputs": [],
   "source": [
    "processed_tweets"
   ]
  },
  {
   "cell_type": "code",
   "execution_count": 898,
   "metadata": {},
   "outputs": [
    {
     "name": "stdout",
     "output_type": "stream",
     "text": [
      "Results Fold  1071\n",
      "Accuracy of the model =  0.9700934579439252\n",
      "accuracia 0.9773123909249564\n",
      "Results Fold  114\n",
      "Accuracy of the model =  0.9738317757009346\n",
      "accuracia 0.9781849912739965\n",
      "Results Fold  1494\n",
      "Accuracy of the model =  0.9794392523364486\n",
      "accuracia 0.9712041884816754\n",
      "Results Fold  1682\n",
      "Accuracy of the model =  0.9813084112149533\n",
      "accuracia 0.9773123909249564\n",
      "Results Fold  1569\n",
      "Accuracy of the model =  0.9738317757009346\n",
      "accuracia 0.9764397905759162\n"
     ]
    }
   ],
   "source": [
    "import random\n",
    "import statistics\n",
    "from sklearn.naive_bayes import MultinomialNB\n",
    "from sklearn.naive_bayes import GaussianNB\n",
    "from sklearn.neighbors import KNeighborsClassifier\n",
    "from sklearn.linear_model import LogisticRegression\n",
    "from sklearn.naive_bayes import BernoulliNB\n",
    "from sklearn.metrics import accuracy_score\n",
    "\n",
    "fold = 5\n",
    "index = list(range(0,len(processed_tweets) - 1))\n",
    "list_index = random.sample(index, fold)\n",
    "\n",
    "list_acur = []\n",
    "for i in list_index:\n",
    "    X_train, X_test, y_train, y_test = train_test_split(processed_tweets[['id','tweet','processed_tweet','processed_tweet_features']], \n",
    "                                                    processed_tweets['target'], stratify=processed_tweets['target'], random_state= i, test_size=0.30)\n",
    "    \n",
    "    train_ = X_train\n",
    "    train_['target'] = y_train\n",
    "    \n",
    "    test_ = X_test\n",
    "    test_['target'] = y_test\n",
    "    \n",
    "    train_size = int(train_.shape[0]*0.8)\n",
    "    sentiment_train_tweets = [(tweet, sentiment) for tweet, sentiment in train_[['tweet', 'target']].values[:train_size]]\n",
    "    sentiment_train_tweets_full = [(tweet, sentiment) for tweet, sentiment in train_[['tweet', 'target']].values[:train_size]]\n",
    "    sentiment_validation_tweets = [(tweet, sentiment) for tweet, sentiment in train_[['tweet', 'target']].values[train_size:]]\n",
    "    sentiment_test_tweets  = [(tweet, sentiment) for tweet, sentiment in test_[['tweet', 'target']].values]\n",
    "    \n",
    "    v_train = nltk.classify.apply_features(extract_features,sentiment_train_tweets)\n",
    "    v_train_full = nltk.classify.apply_features(extract_features,sentiment_train_tweets_full)\n",
    "    v_validation = nltk.classify.apply_features(extract_features,sentiment_validation_tweets)\n",
    "    v_test  = nltk.classify.apply_features(extract_features,sentiment_test_tweets)\n",
    "    #print(extract_features)\n",
    "    #print(v_train)\n",
    "    print('Results Fold ', i)\n",
    "    nb_classifier = nltk.classify.NaiveBayesClassifier\n",
    "    #nb_classifier = nltk.classify.SklearnClassifier(MultinomialNB())\n",
    "    nb_class = nb_classifier.train(v_train)\n",
    "    #print(v_validation)\n",
    "    print (\"Accuracy of the model = \", nltk.classify.accuracy(nb_class, v_validation))\n",
    "    \n",
    "    test_predict = [nb_class.classify(t) for (t,s) in v_test]\n",
    "    acuracia = accuracy_score(y_test, test_predict)\n",
    "    print('accuracia', acuracia)\n",
    "    list_acur.append(acuracia)\n",
    "\n",
    "#print(statistics.mean(list_acur))"
   ]
  },
  {
   "cell_type": "markdown",
   "metadata": {},
   "source": [
    "# Part 1: Classification - Sentiment Analysis"
   ]
  },
  {
   "cell_type": "code",
   "execution_count": 897,
   "metadata": {},
   "outputs": [],
   "source": [
    "X_train, X_test, y_train, y_test = train_test_split(processed_tweets[['id','tweet','processed_tweet','processed_tweet_features']], \n",
    "                                                    processed_tweets['target'], stratify=processed_tweets['target'], test_size=0.30)"
   ]
  },
  {
   "cell_type": "code",
   "execution_count": null,
   "metadata": {},
   "outputs": [],
   "source": [
    "#train_ = processed_tweets.loc[processed_tweets.set == 'train']\n",
    "#test_ = processed_tweets.loc[processed_tweets.set == 'test']\n",
    "print(len(X_train),len(X_test))"
   ]
  },
  {
   "cell_type": "code",
   "execution_count": null,
   "metadata": {},
   "outputs": [],
   "source": [
    "train_ = X_train\n",
    "train_['target'] = y_train"
   ]
  },
  {
   "cell_type": "code",
   "execution_count": 98,
   "metadata": {},
   "outputs": [],
   "source": [
    "test_ = X_test\n",
    "test_['target'] = y_test"
   ]
  },
  {
   "cell_type": "code",
   "execution_count": 99,
   "metadata": {},
   "outputs": [
    {
     "data": {
      "text/plain": [
       "1862"
      ]
     },
     "execution_count": 99,
     "metadata": {},
     "output_type": "execute_result"
    }
   ],
   "source": [
    "len(train_)"
   ]
  },
  {
   "cell_type": "code",
   "execution_count": 100,
   "metadata": {},
   "outputs": [
    {
     "data": {
      "text/plain": [
       "798"
      ]
     },
     "execution_count": 100,
     "metadata": {},
     "output_type": "execute_result"
    }
   ],
   "source": [
    "len(test_)"
   ]
  },
  {
   "cell_type": "code",
   "execution_count": 101,
   "metadata": {},
   "outputs": [],
   "source": [
    "train_size = int(train_.shape[0]*0.8)\n",
    "sentiment_train_tweets = [(tweet, sentiment) for tweet, sentiment in train_[['tweet', 'target']].values[:train_size]]\n",
    "sentiment_train_tweets_full = [(tweet, sentiment) for tweet, sentiment in train_[['tweet', 'target']].values[:train_size]]\n",
    "sentiment_validation_tweets = [(tweet, sentiment) for tweet, sentiment in train_[['tweet', 'target']].values[train_size:]]\n",
    "sentiment_test_tweets  = [(tweet, sentiment) for tweet, sentiment in test_[['tweet', 'target']].values]\n",
    "#sentiment_train_tweets"
   ]
  },
  {
   "cell_type": "markdown",
   "metadata": {},
   "source": [
    "## Data Preparation"
   ]
  },
  {
   "cell_type": "code",
   "execution_count": 102,
   "metadata": {},
   "outputs": [
    {
     "name": "stdout",
     "output_type": "stream",
     "text": [
      "1489 1489 373 798\n"
     ]
    }
   ],
   "source": [
    "# Apply the data processing and cleaning extraction methodologies\n",
    "v_train = nltk.classify.apply_features(extract_features,sentiment_train_tweets)\n",
    "v_train_full = nltk.classify.apply_features(extract_features,sentiment_train_tweets_full)\n",
    "v_validation = nltk.classify.apply_features(extract_features,sentiment_validation_tweets)\n",
    "v_test  = nltk.classify.apply_features(extract_features,sentiment_test_tweets)\n",
    "print(len(v_train), len(v_train_full), len(v_validation), len(v_test))"
   ]
  },
  {
   "cell_type": "code",
   "execution_count": 103,
   "metadata": {},
   "outputs": [
    {
     "data": {
      "text/plain": [
       "798"
      ]
     },
     "execution_count": 103,
     "metadata": {},
     "output_type": "execute_result"
    }
   ],
   "source": [
    "len(v_test)"
   ]
  },
  {
   "cell_type": "code",
   "execution_count": 104,
   "metadata": {},
   "outputs": [
    {
     "name": "stdout",
     "output_type": "stream",
     "text": [
      "For the tweet =  Una vez más en la puerta de mi domicilio gritando e insultando, grupo de mujeres inescrupulosas con matones. Se violan nuestros derechos impunemente. Estamos en peligro, el ataque es reiterado. Estos grupos son bandas criminales y temerarias. No se debe esperar una desgracia.\n",
      " \n",
      "The following features has been created:\n",
      " \n"
     ]
    }
   ],
   "source": [
    "print (\"For the tweet = \", train_.tweet.values[10] )\n",
    "print (\" \")\n",
    "print (\"The following features has been created:\")\n",
    "print (\" \")\n",
    "#print (v_train[0][0])"
   ]
  },
  {
   "cell_type": "markdown",
   "metadata": {},
   "source": [
    "## Multinomial "
   ]
  },
  {
   "cell_type": "code",
   "execution_count": 105,
   "metadata": {},
   "outputs": [
    {
     "name": "stdout",
     "output_type": "stream",
     "text": [
      "Accuracy of the model =  0.9061662198391421\n",
      "Accuracy of the model =  0.9085213032581454\n"
     ]
    }
   ],
   "source": [
    "nb_classifier =  nltk.classify.SklearnClassifier(MultinomialNB())\n",
    "nb_class = nb_classifier.train(v_train)\n",
    "#print(v_validation)\n",
    "print (\"Accuracy of the model = \", nltk.classify.accuracy(nb_class, v_validation))\n",
    "\n",
    "#nb_class = nb_classifier.train(v_train_full) \n",
    "test_predict = [nb_class.classify(t) for (t,s) in v_test]\n",
    "print (\"Accuracy of the model = \", nltk.classify.accuracy(nb_class, v_test))\n",
    "#print((test_predict),(y_test.to_list()))"
   ]
  },
  {
   "cell_type": "markdown",
   "metadata": {},
   "source": [
    "## Bernoulli"
   ]
  },
  {
   "cell_type": "code",
   "execution_count": 66,
   "metadata": {},
   "outputs": [
    {
     "name": "stdout",
     "output_type": "stream",
     "text": [
      "Accuracy of the model =  0.675603217158177\n",
      "Accuracy of the model =  0.6666666666666666\n"
     ]
    }
   ],
   "source": [
    "from nltk.classify.scikitlearn import SklearnClassifier\n",
    "from sklearn.naive_bayes import BernoulliNB\n",
    "nb_classifier =  nltk.classify.SklearnClassifier(BernoulliNB(alpha=1.0, binarize=1.0, fit_prior=False, class_prior=None))\n",
    "nb_class = nb_classifier.train(v_train)\n",
    "#print(v_validation)\n",
    "print (\"Accuracy of the model = \", nltk.classify.accuracy(nb_class, v_validation))\n",
    "\n",
    "#nb_class = nb_classifier.train(v_train_full) \n",
    "test_predict = [nb_class.classify(t) for (t,s) in v_test]\n",
    "print (\"Accuracy of the model = \", nltk.classify.accuracy(nb_class, v_test))\n",
    "#print((test_predict),(y_test.to_list()))"
   ]
  },
  {
   "cell_type": "markdown",
   "metadata": {},
   "source": [
    "## Logistic "
   ]
  },
  {
   "cell_type": "code",
   "execution_count": 241,
   "metadata": {},
   "outputs": [
    {
     "name": "stdout",
     "output_type": "stream",
     "text": [
      "Accuracy of the model =  0.9222520107238605\n",
      "Accuracy of the model =  0.8972431077694235\n"
     ]
    }
   ],
   "source": [
    "nb_classifier =  nltk.classify.SklearnClassifier(LogisticRegression())\n",
    "nb_class = nb_classifier.train(v_train)\n",
    "#print(v_validation)\n",
    "print (\"Accuracy of the model = \", nltk.classify.accuracy(nb_class, v_validation))\n",
    "\n",
    "#nb_class = nb_classifier.train(v_train_full) \n",
    "test_predict = [nb_class.classify(t) for (t,s) in v_test]\n",
    "print (\"Accuracy of the model = \", nltk.classify.accuracy(nb_class, v_test))\n",
    "#print((test_predict),(y_test.to_list()))\n"
   ]
  },
  {
   "cell_type": "markdown",
   "metadata": {},
   "source": [
    "## Naive Bayes"
   ]
  },
  {
   "cell_type": "code",
   "execution_count": 69,
   "metadata": {},
   "outputs": [
    {
     "name": "stdout",
     "output_type": "stream",
     "text": [
      "Accuracy of the model =  0.9276139410187667\n"
     ]
    }
   ],
   "source": [
    "nb_classifier = nltk.classify.NaiveBayesClassifier\n",
    "nb_class = nb_classifier.train(v_train)\n",
    "#print(v_validation)\n",
    "print (\"Accuracy of the model = \", nltk.classify.accuracy(nb_class, v_validation))"
   ]
  },
  {
   "cell_type": "markdown",
   "metadata": {},
   "source": [
    "Accuracy looks good enough, we can try now to train on the whole set and run on the Colombian tweets"
   ]
  },
  {
   "cell_type": "code",
   "execution_count": 216,
   "metadata": {},
   "outputs": [],
   "source": [
    "#nb_class = nb_classifier.train(v_train_full) \n",
    "test_predict = [nb_class.classify(t) for (t,s) in v_test]\n",
    "#print (\"Accuracy of the model = \", nltk.classify.accuracy(nb_class, v_test))\n",
    "#print((test_predict),(y_test.to_list()))"
   ]
  },
  {
   "cell_type": "code",
   "execution_count": 223,
   "metadata": {},
   "outputs": [
    {
     "name": "stdout",
     "output_type": "stream",
     "text": [
      "0.918546365914787 0.8311258278145696 0.9471698113207547 0.8853615520282188\n"
     ]
    }
   ],
   "source": [
    "from sklearn.metrics import accuracy_score, precision_score, recall_score, f1_score\n",
    "accuracia = accuracy_score(y_test.to_list(), test_predict)\n",
    "precision = precision_score(y_test.to_list(), test_predict, average=\"binary\", pos_label='POS')\n",
    "recall = recall_score(y_test.to_list(), test_predict, average=\"binary\", pos_label='POS')\n",
    "f1 = f1_score(y_test.to_list(), test_predict, average=\"binary\", pos_label='POS')\n",
    "print(accuracia, precision, recall, f1)"
   ]
  },
  {
   "cell_type": "code",
   "execution_count": 235,
   "metadata": {},
   "outputs": [
    {
     "data": {
      "image/png": "[encoded data removed]",
      "text/plain": [
       "<Figure size 432x288 with 1 Axes>"
      ]
     },
     "metadata": {
      "needs_background": "light"
     },
     "output_type": "display_data"
    }
   ],
   "source": [
    "from sklearn.metrics import confusion_matrix\n",
    "import seaborn as sns\n",
    "# crear matriz de confusión\n",
    "class_names= ['POS', 'NEG']\n",
    "matrix = confusion_matrix(y_test, test_predict)\n",
    "\n",
    "# crear marco de datos de pandas Crear un conjunto de datos\n",
    "dataframe = pd.DataFrame(matrix, index=class_names, columns=class_names)\n",
    "#print((dataframe))\n",
    "# crear mapa de calor dibujar mapa de calor\n",
    "sns.heatmap(dataframe, annot=True, cbar=None, cmap=\"Blues\", fmt=\"d\")\n",
    "plt.title(\"Confusion Matrix\"), plt.tight_layout()\n",
    "plt.ylabel(\"True Class\"), plt.xlabel(\"Predicted Class\")\n",
    "plt.show()"
   ]
  },
  {
   "cell_type": "markdown",
   "metadata": {},
   "source": [
    "## SVM"
   ]
  },
  {
   "cell_type": "code",
   "execution_count": 143,
   "metadata": {},
   "outputs": [
    {
     "name": "stdout",
     "output_type": "stream",
     "text": [
      "Accuracy of the model =  0.6886075949367089\n"
     ]
    }
   ],
   "source": [
    "from sklearn.svm import LinearSVC\n",
    "svm_classifier = nltk.classify.SklearnClassifier(LinearSVC())\n",
    "svm_class = svm_classifier.train(v_train)\n",
    "#print(v_validation)\n",
    "print (\"Accuracy of the model = \", nltk.classify.accuracy(svm_class, v_validation))"
   ]
  },
  {
   "cell_type": "code",
   "execution_count": 144,
   "metadata": {},
   "outputs": [],
   "source": [
    "#nb_class = nb_classifier.train(v_train_full) \n",
    "test_predict = [svm_class.classify(t) for (t,s) in v_test]\n",
    "#print (\"Accuracy of the model = \", nltk.classify.accuracy(nb_class, v_test))"
   ]
  },
  {
   "cell_type": "code",
   "execution_count": 145,
   "metadata": {},
   "outputs": [
    {
     "data": {
      "text/plain": [
       "0.6891252955082743"
      ]
     },
     "execution_count": 145,
     "metadata": {},
     "output_type": "execute_result"
    }
   ],
   "source": [
    "from sklearn.metrics import accuracy_score\n",
    "accuracy_score(y_test, test_predict)"
   ]
  },
  {
   "cell_type": "markdown",
   "metadata": {},
   "source": [
    "## Random Forest"
   ]
  },
  {
   "cell_type": "code",
   "execution_count": 146,
   "metadata": {},
   "outputs": [
    {
     "name": "stdout",
     "output_type": "stream",
     "text": [
      "Accuracy of the model =  0.6531645569620254\n"
     ]
    }
   ],
   "source": [
    "from sklearn.ensemble import RandomForestClassifier\n",
    "dt_classifier = nltk.classify.SklearnClassifier(RandomForestClassifier())\n",
    "dt_class = dt_classifier.train(v_train)\n",
    "#print(v_validation)\n",
    "print (\"Accuracy of the model = \", nltk.classify.accuracy(dt_class, v_validation))"
   ]
  },
  {
   "cell_type": "code",
   "execution_count": 147,
   "metadata": {},
   "outputs": [],
   "source": [
    "#nb_class = nb_classifier.train(v_train_full) \n",
    "test_predict = [dt_class.classify(t) for (t,s) in v_test]\n",
    "#print (\"Accuracy of the model = \", nltk.classify.accuracy(nb_class, v_test))"
   ]
  },
  {
   "cell_type": "code",
   "execution_count": 148,
   "metadata": {},
   "outputs": [
    {
     "data": {
      "text/plain": [
       "0.6572104018912529"
      ]
     },
     "execution_count": 148,
     "metadata": {},
     "output_type": "execute_result"
    }
   ],
   "source": [
    "from sklearn.metrics import accuracy_score\n",
    "accuracy_score(y_test, test_predict)"
   ]
  },
  {
   "cell_type": "markdown",
   "metadata": {},
   "source": [
    "# Redes"
   ]
  },
  {
   "cell_type": "code",
   "execution_count": 149,
   "metadata": {},
   "outputs": [
    {
     "name": "stderr",
     "output_type": "stream",
     "text": [
      "C:\\Users\\claud\\Anaconda3\\lib\\site-packages\\sklearn\\neural_network\\_multilayer_perceptron.py:619: UserWarning: Training interrupted by user.\n",
      "  warnings.warn(\"Training interrupted by user.\")\n"
     ]
    },
    {
     "name": "stdout",
     "output_type": "stream",
     "text": [
      "Accuracy of the model =  0.7189873417721518\n"
     ]
    }
   ],
   "source": [
    "from sklearn.neural_network import MLPClassifier\n",
    "dt_classifier = nltk.classify.SklearnClassifier(MLPClassifier())\n",
    "dt_class = dt_classifier.train(v_train)\n",
    "#print(v_validation)\n",
    "print (\"Accuracy of the model = \", nltk.classify.accuracy(dt_class, v_validation))"
   ]
  },
  {
   "cell_type": "code",
   "execution_count": 150,
   "metadata": {},
   "outputs": [],
   "source": [
    "#nb_class = nb_classifier.train(v_train_full) \n",
    "test_predict = [dt_class.classify(t) for (t,s) in v_test]\n",
    "#print (\"Accuracy of the model = \", nltk.classify.accuracy(nb_class, v_test))"
   ]
  },
  {
   "cell_type": "code",
   "execution_count": 151,
   "metadata": {},
   "outputs": [
    {
     "data": {
      "text/plain": [
       "0.7115839243498818"
      ]
     },
     "execution_count": 151,
     "metadata": {},
     "output_type": "execute_result"
    }
   ],
   "source": [
    "from sklearn.metrics import accuracy_score\n",
    "accuracy_score(y_test, test_predict)"
   ]
  },
  {
   "cell_type": "markdown",
   "metadata": {},
   "source": [
    "There is no way to measure test accuracy as the colombian tweets are not labeled. Clearly, as our production set is a different kind of Spanish (Colombia Vs. Spain on the test set), classification score shouldn't be expected to be as high on this proof of concept, but here is a random sample for each label:"
   ]
  },
  {
   "cell_type": "code",
   "execution_count": null,
   "metadata": {},
   "outputs": [],
   "source": []
  },
  {
   "cell_type": "code",
   "execution_count": 223,
   "metadata": {},
   "outputs": [
    {
     "data": {
      "text/html": [
       "<div>\n",
       "<style scoped>\n",
       "    .dataframe tbody tr th:only-of-type {\n",
       "        vertical-align: middle;\n",
       "    }\n",
       "\n",
       "    .dataframe tbody tr th {\n",
       "        vertical-align: top;\n",
       "    }\n",
       "\n",
       "    .dataframe thead th {\n",
       "        text-align: right;\n",
       "    }\n",
       "</style>\n",
       "<table border=\"1\" class=\"dataframe\">\n",
       "  <thead>\n",
       "    <tr style=\"text-align: right;\">\n",
       "      <th></th>\n",
       "      <th>tweet</th>\n",
       "      <th>sentiment</th>\n",
       "    </tr>\n",
       "  </thead>\n",
       "  <tbody>\n",
       "    <tr>\n",
       "      <th>0</th>\n",
       "      <td>(@CIDH @CorteIDH #Peru En investigaciones, el ...</td>\n",
       "      <td>1.0</td>\n",
       "    </tr>\n",
       "    <tr>\n",
       "      <th>1</th>\n",
       "      <td>(@GuilleBermejo01 el ex-presidente Sagasti es,...</td>\n",
       "      <td>1.0</td>\n",
       "    </tr>\n",
       "    <tr>\n",
       "      <th>2</th>\n",
       "      <td>(Perú siempre peleando la misma batalla contra...</td>\n",
       "      <td>1.0</td>\n",
       "    </tr>\n",
       "    <tr>\n",
       "      <th>3</th>\n",
       "      <td>(Vote x Castillo en la segunda vuelta ante la ...</td>\n",
       "      <td>1.0</td>\n",
       "    </tr>\n",
       "    <tr>\n",
       "      <th>4</th>\n",
       "      <td>(@willaxtv Ese es el pensamiento fujimorista y...</td>\n",
       "      <td>0.0</td>\n",
       "    </tr>\n",
       "    <tr>\n",
       "      <th>...</th>\n",
       "      <td>...</td>\n",
       "      <td>...</td>\n",
       "    </tr>\n",
       "    <tr>\n",
       "      <th>1711</th>\n",
       "      <td>(El Perú necesita dejar atrás la Constitución ...</td>\n",
       "      <td>1.0</td>\n",
       "    </tr>\n",
       "    <tr>\n",
       "      <th>1712</th>\n",
       "      <td>(@VLADIMIR_CERRON Perú esta primero económicam...</td>\n",
       "      <td>0.0</td>\n",
       "    </tr>\n",
       "    <tr>\n",
       "      <th>1713</th>\n",
       "      <td>(Sobre #AsambleaConstituyente, la razón porque...</td>\n",
       "      <td>1.0</td>\n",
       "    </tr>\n",
       "    <tr>\n",
       "      <th>1714</th>\n",
       "      <td>(@GuilleBermejo01 Qué tal imbecil eres y bruto...</td>\n",
       "      <td>1.0</td>\n",
       "    </tr>\n",
       "    <tr>\n",
       "      <th>1715</th>\n",
       "      <td>(@GuilleBermejo01 Maldito Comunista!! CHILE ES...</td>\n",
       "      <td>0.0</td>\n",
       "    </tr>\n",
       "  </tbody>\n",
       "</table>\n",
       "<p>1716 rows × 2 columns</p>\n",
       "</div>"
      ],
      "text/plain": [
       "                                                  tweet  sentiment\n",
       "0     (@CIDH @CorteIDH #Peru En investigaciones, el ...        1.0\n",
       "1     (@GuilleBermejo01 el ex-presidente Sagasti es,...        1.0\n",
       "2     (Perú siempre peleando la misma batalla contra...        1.0\n",
       "3     (Vote x Castillo en la segunda vuelta ante la ...        1.0\n",
       "4     (@willaxtv Ese es el pensamiento fujimorista y...        0.0\n",
       "...                                                 ...        ...\n",
       "1711  (El Perú necesita dejar atrás la Constitución ...        1.0\n",
       "1712  (@VLADIMIR_CERRON Perú esta primero económicam...        0.0\n",
       "1713  (Sobre #AsambleaConstituyente, la razón porque...        1.0\n",
       "1714  (@GuilleBermejo01 Qué tal imbecil eres y bruto...        1.0\n",
       "1715  (@GuilleBermejo01 Maldito Comunista!! CHILE ES...        0.0\n",
       "\n",
       "[1716 rows x 2 columns]"
      ]
     },
     "execution_count": 223,
     "metadata": {},
     "output_type": "execute_result"
    }
   ],
   "source": [
    "NB_results"
   ]
  },
  {
   "cell_type": "markdown",
   "metadata": {},
   "source": [
    "#### Positive Tweets:"
   ]
  },
  {
   "cell_type": "code",
   "execution_count": 222,
   "metadata": {},
   "outputs": [
    {
     "ename": "ValueError",
     "evalue": "a must be greater than 0 unless no samples are taken",
     "output_type": "error",
     "traceback": [
      "\u001b[0;31m---------------------------------------------------------------------------\u001b[0m",
      "\u001b[0;31mValueError\u001b[0m                                Traceback (most recent call last)",
      "Input \u001b[0;32mIn [222]\u001b[0m, in \u001b[0;36m<cell line: 4>\u001b[0;34m()\u001b[0m\n\u001b[1;32m      2\u001b[0m \u001b[38;5;66;03m# Print a sample of Tweets\u001b[39;00m\n\u001b[1;32m      3\u001b[0m sample_size \u001b[38;5;241m=\u001b[39m \u001b[38;5;241m10\u001b[39m\n\u001b[0;32m----> 4\u001b[0m \u001b[38;5;28;01mfor\u001b[39;00m tweet \u001b[38;5;129;01min\u001b[39;00m \u001b[43mpositives\u001b[49m\u001b[38;5;241;43m.\u001b[39;49m\u001b[43mtweet\u001b[49m\u001b[38;5;241;43m.\u001b[39;49m\u001b[43msample\u001b[49m\u001b[43m(\u001b[49m\u001b[43msample_size\u001b[49m\u001b[43m)\u001b[49m:\n\u001b[1;32m      5\u001b[0m     \u001b[38;5;28mprint\u001b[39m(tweet)\n",
      "File \u001b[0;32m~/anaconda3/lib/python3.9/site-packages/pandas/core/generic.py:5446\u001b[0m, in \u001b[0;36mNDFrame.sample\u001b[0;34m(self, n, frac, replace, weights, random_state, axis, ignore_index)\u001b[0m\n\u001b[1;32m   5443\u001b[0m \u001b[38;5;28;01mif\u001b[39;00m weights \u001b[38;5;129;01mis\u001b[39;00m \u001b[38;5;129;01mnot\u001b[39;00m \u001b[38;5;28;01mNone\u001b[39;00m:\n\u001b[1;32m   5444\u001b[0m     weights \u001b[38;5;241m=\u001b[39m sample\u001b[38;5;241m.\u001b[39mpreprocess_weights(\u001b[38;5;28mself\u001b[39m, weights, axis)\n\u001b[0;32m-> 5446\u001b[0m sampled_indices \u001b[38;5;241m=\u001b[39m \u001b[43msample\u001b[49m\u001b[38;5;241;43m.\u001b[39;49m\u001b[43msample\u001b[49m\u001b[43m(\u001b[49m\u001b[43mobj_len\u001b[49m\u001b[43m,\u001b[49m\u001b[43m \u001b[49m\u001b[43msize\u001b[49m\u001b[43m,\u001b[49m\u001b[43m \u001b[49m\u001b[43mreplace\u001b[49m\u001b[43m,\u001b[49m\u001b[43m \u001b[49m\u001b[43mweights\u001b[49m\u001b[43m,\u001b[49m\u001b[43m \u001b[49m\u001b[43mrs\u001b[49m\u001b[43m)\u001b[49m\n\u001b[1;32m   5447\u001b[0m result \u001b[38;5;241m=\u001b[39m \u001b[38;5;28mself\u001b[39m\u001b[38;5;241m.\u001b[39mtake(sampled_indices, axis\u001b[38;5;241m=\u001b[39maxis)\n\u001b[1;32m   5449\u001b[0m \u001b[38;5;28;01mif\u001b[39;00m ignore_index:\n",
      "File \u001b[0;32m~/anaconda3/lib/python3.9/site-packages/pandas/core/sample.py:150\u001b[0m, in \u001b[0;36msample\u001b[0;34m(obj_len, size, replace, weights, random_state)\u001b[0m\n\u001b[1;32m    147\u001b[0m     \u001b[38;5;28;01melse\u001b[39;00m:\n\u001b[1;32m    148\u001b[0m         \u001b[38;5;28;01mraise\u001b[39;00m \u001b[38;5;167;01mValueError\u001b[39;00m(\u001b[38;5;124m\"\u001b[39m\u001b[38;5;124mInvalid weights: weights sum to zero\u001b[39m\u001b[38;5;124m\"\u001b[39m)\n\u001b[0;32m--> 150\u001b[0m \u001b[38;5;28;01mreturn\u001b[39;00m \u001b[43mrandom_state\u001b[49m\u001b[38;5;241;43m.\u001b[39;49m\u001b[43mchoice\u001b[49m\u001b[43m(\u001b[49m\u001b[43mobj_len\u001b[49m\u001b[43m,\u001b[49m\u001b[43m \u001b[49m\u001b[43msize\u001b[49m\u001b[38;5;241;43m=\u001b[39;49m\u001b[43msize\u001b[49m\u001b[43m,\u001b[49m\u001b[43m \u001b[49m\u001b[43mreplace\u001b[49m\u001b[38;5;241;43m=\u001b[39;49m\u001b[43mreplace\u001b[49m\u001b[43m,\u001b[49m\u001b[43m \u001b[49m\u001b[43mp\u001b[49m\u001b[38;5;241;43m=\u001b[39;49m\u001b[43mweights\u001b[49m\u001b[43m)\u001b[49m\u001b[38;5;241m.\u001b[39mastype(\n\u001b[1;32m    151\u001b[0m     np\u001b[38;5;241m.\u001b[39mintp, copy\u001b[38;5;241m=\u001b[39m\u001b[38;5;28;01mFalse\u001b[39;00m\n\u001b[1;32m    152\u001b[0m )\n",
      "File \u001b[0;32mmtrand.pyx:909\u001b[0m, in \u001b[0;36mnumpy.random.mtrand.RandomState.choice\u001b[0;34m()\u001b[0m\n",
      "\u001b[0;31mValueError\u001b[0m: a must be greater than 0 unless no samples are taken"
     ]
    }
   ],
   "source": [
    "positives = NB_results.loc[NB_results.sentiment == 'P']\n",
    "# Print a sample of Tweets\n",
    "sample_size = 10\n",
    "for tweet in positives.tweet.sample(sample_size):\n",
    "    print(tweet)"
   ]
  },
  {
   "cell_type": "markdown",
   "metadata": {},
   "source": [
    "#### Negative Tweets:"
   ]
  },
  {
   "cell_type": "code",
   "execution_count": 57,
   "metadata": {},
   "outputs": [
    {
     "name": "stdout",
     "output_type": "stream",
     "text": [
      "('Tras su derrota, @petrogustavo reconoce el triunfo de @IvanDuque en su discurso y anuncia que hará oposición al próximo gobierno.\\n\\n#ColombiaDecide2018 🇨🇴', nan)\n",
      "('ENORME este discurso de @petrogustavo', nan)\n",
      "('8 millones de colombianos que vamos a cuidar el agua, no al fracking @petrogustavo es un compromiso. gracias por abrirle los ojos al país. #IvanDuqueNoEsMiPresidente #GraciasPetro', nan)\n",
      "('@petrogustavo Felicitaciones a los colombianos por haber evitado se repitiera la misma tragedia de Venezuela. Comunismo es hambre, miseria y atraso.', nan)\n",
      "('Oigan y el hijo de @petrogustavo que debía la platica y dijo que pagaba mañana será que se va a hacer el “no heterosexual” ?? Feo eso!! #ColombiaElige2018', nan)\n",
      "('Estoy destrozado pero este trino es de lo mejor que he leído! Perdieron nuestros hermanos los animales, nuestros recursos naturales, las comunidades ancestrales, pero @petrogustavo fue tremendo guerrero. Miren porqué @piedrahitangela @Pauliina_Mejia https://t.co/DxEr4TZsSM', nan)\n",
      "('@carlaangola @IvanDuque (te lo explico) 8 Mill Votos = Vecino populista + petroleo + Redes Sociales + Mentiras cubiertas + Piedad silente - Soberano Venezolano..', nan)\n",
      "('@petrogustavo no puede existir sin enemigo a quien combatir. Si ya no lo tiene se lo inventa. Su discurso es una declaración de guerra. Duque ya dijo que no haría minería en los paramos. Ese fue su amigo @JuanManSantos no pelee por pelear.', nan)\n",
      "('@NTN24 @petrogustavo Me da asco escuchar a ese man ... Demostrando su ego e insitando ala violencia .. así no se hace oposición', nan)\n",
      "('Hola @petrogustavo porque quiero que mi país no se destruya ni vaya por la senda equivocada no voté por usted. Soy un Ciudadano libre y quiero lo mejor para Colombia, y claramente usted no lo es.', nan)\n"
     ]
    }
   ],
   "source": [
    "negatives = NB_results.loc[NB_results.sentiment == 'N']\n",
    "# Print a sample of Tweets\n",
    "sample_size = 10\n",
    "for tweet in negatives.tweet.sample(sample_size):\n",
    "    print(tweet)"
   ]
  },
  {
   "cell_type": "markdown",
   "metadata": {},
   "source": [
    "### Results of Colombian Election Tweet Sentiment"
   ]
  },
  {
   "cell_type": "code",
   "execution_count": 58,
   "metadata": {},
   "outputs": [
    {
     "data": {
      "text/plain": [
       "<matplotlib.axes._subplots.AxesSubplot at 0x1d7f2b07550>"
      ]
     },
     "execution_count": 58,
     "metadata": {},
     "output_type": "execute_result"
    },
    {
     "data": {
      "image/png": "[encoded data removed]",
      "text/plain": [
       "<Figure size 432x432 with 1 Axes>"
      ]
     },
     "metadata": {},
     "output_type": "display_data"
    }
   ],
   "source": [
    "NB_results['sentiment'].value_counts().plot(kind='pie', title=\"Distribution of Colombian Election Twitter Sentiment\", figsize=(6,6))"
   ]
  },
  {
   "cell_type": "code",
   "execution_count": 59,
   "metadata": {
    "scrolled": false
   },
   "outputs": [
    {
     "name": "stdout",
     "output_type": "stream",
     "text": [
      "Most Informative Features\n",
      "            neg_r(felic) = 0.0                 P : N      =     30.5 : 1.0\n",
      "             has(encant) = 1                   P : N      =     27.5 : 1.0\n",
      "          has(graci,por) = 1                   P : N      =     27.5 : 1.0\n",
      "           neg_r(encant) = 0.0                 P : N      =     27.5 : 1.0\n",
      "           neg_l(encant) = 0.0                 P : N      =     26.5 : 1.0\n",
      "           has(muy,buen) = 1                   P : N      =     23.5 : 1.0\n",
      "          has(__HASH_FF) = 1                   P : N      =     20.9 : 1.0\n",
      "        neg_l(__HASH_FF) = 0.0                 P : N      =     20.9 : 1.0\n",
      "   emoji_(face-positive) = 'face-positive'      P : N      =     20.7 : 1.0\n",
      "  has(graci,__PUNC_EXCL) = 1                   P : N      =     20.4 : 1.0\n"
     ]
    }
   ],
   "source": [
    "nb_class.show_most_informative_features(10)"
   ]
  },
  {
   "cell_type": "markdown",
   "metadata": {},
   "source": [
    "### Max Entropy"
   ]
  },
  {
   "cell_type": "markdown",
   "metadata": {},
   "source": [
    "We tried with Max-entropy classifier, however better results were achieved with Naive Bayes."
   ]
  },
  {
   "cell_type": "code",
   "execution_count": 66,
   "metadata": {},
   "outputs": [],
   "source": [
    "#max_ent_classifier_0 = nltk.classify.MaxentClassifier\n",
    "#max_ent_class_0 = max_ent_classifier_0.train(v_train, algorithm='GIS', max_iter=25)"
   ]
  },
  {
   "cell_type": "code",
   "execution_count": 67,
   "metadata": {},
   "outputs": [],
   "source": [
    "#print (\"Accuracy of the model = \", nltk.classify.accuracy(max_ent_class_0, v_validation))"
   ]
  },
  {
   "cell_type": "markdown",
   "metadata": {},
   "source": [
    "# Part 2 : Tweet Text Generation "
   ]
  },
  {
   "cell_type": "markdown",
   "metadata": {},
   "source": [
    "### Preprocess Specific Column for Training"
   ]
  },
  {
   "cell_type": "code",
   "execution_count": 868,
   "metadata": {},
   "outputs": [],
   "source": [
    "#re-load the data\n",
    "df = pd.read_csv('df_politico_score.csv')"
   ]
  },
  {
   "cell_type": "code",
   "execution_count": 869,
   "metadata": {},
   "outputs": [
    {
     "data": {
      "text/html": [
       "<div>\n",
       "<style scoped>\n",
       "    .dataframe tbody tr th:only-of-type {\n",
       "        vertical-align: middle;\n",
       "    }\n",
       "\n",
       "    .dataframe tbody tr th {\n",
       "        vertical-align: top;\n",
       "    }\n",
       "\n",
       "    .dataframe thead th {\n",
       "        text-align: right;\n",
       "    }\n",
       "</style>\n",
       "<table border=\"1\" class=\"dataframe\">\n",
       "  <thead>\n",
       "    <tr style=\"text-align: right;\">\n",
       "      <th></th>\n",
       "      <th>Unnamed: 0</th>\n",
       "      <th>Unnamed: 0.1</th>\n",
       "      <th>Unnamed: 0.1.1</th>\n",
       "      <th>id</th>\n",
       "      <th>tweet</th>\n",
       "      <th>tweet_sentence</th>\n",
       "      <th>len_sentence</th>\n",
       "      <th>username</th>\n",
       "      <th>date</th>\n",
       "      <th>nlikes</th>\n",
       "      <th>tweet_word</th>\n",
       "      <th>len_word</th>\n",
       "      <th>POS</th>\n",
       "      <th>NEG</th>\n",
       "      <th>NEU</th>\n",
       "      <th>target</th>\n",
       "    </tr>\n",
       "  </thead>\n",
       "  <tbody>\n",
       "    <tr>\n",
       "      <th>0</th>\n",
       "      <td>4</td>\n",
       "      <td>4</td>\n",
       "      <td>4</td>\n",
       "      <td>1.361684e+18</td>\n",
       "      <td>Políticos como Vizcarra y su «gente de confian...</td>\n",
       "      <td>Políticos como Vizcarra y su «gente de confian...</td>\n",
       "      <td>5</td>\n",
       "      <td>PedroCastilloTe</td>\n",
       "      <td>2021-02-16 09:29:20</td>\n",
       "      <td>48</td>\n",
       "      <td>['Políticos', 'como', 'Vizcarra', 'y', 'su', '...</td>\n",
       "      <td>29</td>\n",
       "      <td>0.000422</td>\n",
       "      <td>0.995339</td>\n",
       "      <td>0.004239</td>\n",
       "      <td>NEG</td>\n",
       "    </tr>\n",
       "    <tr>\n",
       "      <th>1</th>\n",
       "      <td>5</td>\n",
       "      <td>5</td>\n",
       "      <td>5</td>\n",
       "      <td>1.361684e+18</td>\n",
       "      <td>Políticos como Vizcarra y su «gente de confian...</td>\n",
       "      <td>Por eso es su negociado con las vacunas chinas.</td>\n",
       "      <td>5</td>\n",
       "      <td>PedroCastilloTe</td>\n",
       "      <td>2021-02-16 09:29:20</td>\n",
       "      <td>48</td>\n",
       "      <td>['Por', 'eso', 'es', 'su', 'negociado', 'con',...</td>\n",
       "      <td>10</td>\n",
       "      <td>0.000422</td>\n",
       "      <td>0.995339</td>\n",
       "      <td>0.004239</td>\n",
       "      <td>NEG</td>\n",
       "    </tr>\n",
       "    <tr>\n",
       "      <th>2</th>\n",
       "      <td>6</td>\n",
       "      <td>6</td>\n",
       "      <td>6</td>\n",
       "      <td>1.361684e+18</td>\n",
       "      <td>Políticos como Vizcarra y su «gente de confian...</td>\n",
       "      <td>Las menos efectivas y más caras.</td>\n",
       "      <td>5</td>\n",
       "      <td>PedroCastilloTe</td>\n",
       "      <td>2021-02-16 09:29:20</td>\n",
       "      <td>48</td>\n",
       "      <td>['Las', 'menos', 'efectivas', 'y', 'más', 'car...</td>\n",
       "      <td>7</td>\n",
       "      <td>0.000422</td>\n",
       "      <td>0.995339</td>\n",
       "      <td>0.004239</td>\n",
       "      <td>NEG</td>\n",
       "    </tr>\n",
       "    <tr>\n",
       "      <th>3</th>\n",
       "      <td>7</td>\n",
       "      <td>7</td>\n",
       "      <td>7</td>\n",
       "      <td>1.361684e+18</td>\n",
       "      <td>Políticos como Vizcarra y su «gente de confian...</td>\n",
       "      <td>Esto debe acabar ahora.</td>\n",
       "      <td>5</td>\n",
       "      <td>PedroCastilloTe</td>\n",
       "      <td>2021-02-16 09:29:20</td>\n",
       "      <td>48</td>\n",
       "      <td>['Esto', 'debe', 'acabar', 'ahora', '.']</td>\n",
       "      <td>5</td>\n",
       "      <td>0.000422</td>\n",
       "      <td>0.995339</td>\n",
       "      <td>0.004239</td>\n",
       "      <td>NEG</td>\n",
       "    </tr>\n",
       "    <tr>\n",
       "      <th>4</th>\n",
       "      <td>8</td>\n",
       "      <td>8</td>\n",
       "      <td>8</td>\n",
       "      <td>1.361684e+18</td>\n",
       "      <td>Seamos claros: estás décadas de traición, corr...</td>\n",
       "      <td>Seamos claros: estás décadas de traición, corr...</td>\n",
       "      <td>2</td>\n",
       "      <td>PedroCastilloTe</td>\n",
       "      <td>2021-02-16 09:27:12</td>\n",
       "      <td>2</td>\n",
       "      <td>['Seamos', 'claros', ':', 'estás', 'décadas', ...</td>\n",
       "      <td>37</td>\n",
       "      <td>0.000495</td>\n",
       "      <td>0.997896</td>\n",
       "      <td>0.001609</td>\n",
       "      <td>NEG</td>\n",
       "    </tr>\n",
       "  </tbody>\n",
       "</table>\n",
       "</div>"
      ],
      "text/plain": [
       "   Unnamed: 0  Unnamed: 0.1  Unnamed: 0.1.1            id  \\\n",
       "0           4             4               4  1.361684e+18   \n",
       "1           5             5               5  1.361684e+18   \n",
       "2           6             6               6  1.361684e+18   \n",
       "3           7             7               7  1.361684e+18   \n",
       "4           8             8               8  1.361684e+18   \n",
       "\n",
       "                                               tweet  \\\n",
       "0  Políticos como Vizcarra y su «gente de confian...   \n",
       "1  Políticos como Vizcarra y su «gente de confian...   \n",
       "2  Políticos como Vizcarra y su «gente de confian...   \n",
       "3  Políticos como Vizcarra y su «gente de confian...   \n",
       "4  Seamos claros: estás décadas de traición, corr...   \n",
       "\n",
       "                                      tweet_sentence  len_sentence  \\\n",
       "0  Políticos como Vizcarra y su «gente de confian...             5   \n",
       "1    Por eso es su negociado con las vacunas chinas.             5   \n",
       "2                   Las menos efectivas y más caras.             5   \n",
       "3                            Esto debe acabar ahora.             5   \n",
       "4  Seamos claros: estás décadas de traición, corr...             2   \n",
       "\n",
       "          username                 date  nlikes  \\\n",
       "0  PedroCastilloTe  2021-02-16 09:29:20      48   \n",
       "1  PedroCastilloTe  2021-02-16 09:29:20      48   \n",
       "2  PedroCastilloTe  2021-02-16 09:29:20      48   \n",
       "3  PedroCastilloTe  2021-02-16 09:29:20      48   \n",
       "4  PedroCastilloTe  2021-02-16 09:27:12       2   \n",
       "\n",
       "                                          tweet_word  len_word       POS  \\\n",
       "0  ['Políticos', 'como', 'Vizcarra', 'y', 'su', '...        29  0.000422   \n",
       "1  ['Por', 'eso', 'es', 'su', 'negociado', 'con',...        10  0.000422   \n",
       "2  ['Las', 'menos', 'efectivas', 'y', 'más', 'car...         7  0.000422   \n",
       "3           ['Esto', 'debe', 'acabar', 'ahora', '.']         5  0.000422   \n",
       "4  ['Seamos', 'claros', ':', 'estás', 'décadas', ...        37  0.000495   \n",
       "\n",
       "        NEG       NEU target  \n",
       "0  0.995339  0.004239    NEG  \n",
       "1  0.995339  0.004239    NEG  \n",
       "2  0.995339  0.004239    NEG  \n",
       "3  0.995339  0.004239    NEG  \n",
       "4  0.997896  0.001609    NEG  "
      ]
     },
     "execution_count": 869,
     "metadata": {},
     "output_type": "execute_result"
    }
   ],
   "source": [
    "df.head()"
   ]
  },
  {
   "cell_type": "code",
   "execution_count": 870,
   "metadata": {},
   "outputs": [],
   "source": [
    "#Function defintion to preprocess data\n",
    "\n",
    "#Data Cleaning\n",
    "import re\n",
    "def cleaning(s):\n",
    "    s = str(s)\n",
    "    s = s.lower()\n",
    "    s = re.sub('\\W,\\s',' ',s)\n",
    "    s = re.sub(\"\\d+\", \"\", s)\n",
    "    s = re.sub('\\s+',' ',s)\n",
    "    s = re.sub('[!#$_]', '', s)\n",
    "    s = re.sub('[^\\\\w\\\\.\\\\s\\\\-]+', '', s)\n",
    "    s = s.replace(\"https\",\"\")\n",
    "    s = s.replace(\",\",\"\")\n",
    "    s = s.replace(\"[\\w*\",\" \")\n",
    "    return s\n",
    "\n",
    "#Extract the username\n",
    "user_regex = re.compile(r\"@(\\w+)\")\n",
    "def user_repl(match):\n",
    "\treturn '__user_'+match.group(1).upper()\n",
    "\n",
    "\n",
    "#Replace Emojicons for one word\n",
    "emoticons = \\\n",
    "\t[\t('__EMOT_SMILEY',\t[':-)', ':)', '(:', '(-:', ] )\t,\\\n",
    "\t\t('__EMOT_LAUGH',\t\t[':-D', ':D', 'X-D', 'XD', 'xD', ] )\t,\\\n",
    "\t\t('__EMOT_LOVE',\t\t['<3', ':\\*', ] )\t,\\\n",
    "\t\t('__EMOT_WINK',\t\t[';-)', ';)', ';-D', ';D', '(;', '(-;', ] )\t,\\\n",
    "\t\t('__EMOT_FROWN',\t\t[':-(', ':(', '(:', '(-:', ] )\t,\\\n",
    "\t\t('__EMOT_CRY',\t\t[':,(', ':\\'(', ':\"(', ':(('] )\t,\\\n",
    "\t]\n",
    "    \n",
    "def escape_paren(arr):\n",
    "\treturn [text.replace(')', '[)}\\]]').replace('(', '[({\\[]') for text in arr]\n",
    "\n",
    "def regex_union(arr):\n",
    "\treturn '(' + '|'.join( arr ) + ')'\n",
    "\n",
    "emoticons_regex = [ (repl, re.compile(regex_union(escape_paren(regx))) ) for (repl, regx) in emoticons ]"
   ]
  },
  {
   "cell_type": "code",
   "execution_count": 871,
   "metadata": {},
   "outputs": [],
   "source": [
    "#####Apply the functions - be mindful of the order\n",
    "\n",
    "# Clean the usernames \n",
    "df['tweetText'] = [re.sub(user_regex, user_repl, str(s)) for s in df['tweet']]\n",
    "\n",
    "# Replace emojis\n",
    "df['tweetText'] = [re.sub(user_regex, user_repl, str(s)) for s in emoticons_regex and df['tweetText']]\n",
    "\n",
    "#Clean data - only used tweetText_for_gen column because it doesn't make sense to clean the others\n",
    "df['tweetText'] = [cleaning(s) for s in df['tweetText']]"
   ]
  },
  {
   "cell_type": "markdown",
   "metadata": {},
   "source": [
    "## Exploration"
   ]
  },
  {
   "cell_type": "code",
   "execution_count": 39,
   "metadata": {},
   "outputs": [
    {
     "data": {
      "image/png": "[encoded data removed]",
      "text/plain": [
       "<Figure size 720x720 with 1 Axes>"
      ]
     },
     "metadata": {
      "needs_background": "light"
     },
     "output_type": "display_data"
    },
    {
     "name": "stdout",
     "output_type": "stream",
     "text": [
      "<wordcloud.wordcloud.WordCloud object at 0x0000011F829B4FA0>\n"
     ]
    }
   ],
   "source": [
    "from nltk.corpus import stopwords\n",
    "import string\n",
    "#Get an idea about what words are contained\n",
    "punctuation = list(string.punctuation)\n",
    "stop = stopwords.words('spanish') # + punctuation + ['rt', 'via']\n",
    "stop.append('d')\n",
    "wordcloud = WordCloud(\n",
    "                          background_color='white',\n",
    "                          stopwords=stop,\n",
    "                          max_words=100,\n",
    "                          max_font_size=50, \n",
    "                          random_state=42\n",
    "                         ).generate(str(df['tweetText']))\n",
    "plt.imshow(wordcloud)\n",
    "plt.rcParams[\"figure.figsize\"] = (10,10)\n",
    "plt.axis('off')\n",
    "plt.title(\"Frequently mentioned tweets\")\n",
    "plt.show()\n",
    "print(wordcloud)"
   ]
  },
  {
   "cell_type": "code",
   "execution_count": 878,
   "metadata": {},
   "outputs": [
    {
     "data": {
      "image/png": "[encoded data removed]",
      "text/plain": [
       "<Figure size 432x288 with 1 Axes>"
      ]
     },
     "metadata": {
      "needs_background": "light"
     },
     "output_type": "display_data"
    },
    {
     "data": {
      "text/plain": [
       "<AxesSubplot:xlabel='Samples', ylabel='Counts'>"
      ]
     },
     "execution_count": 878,
     "metadata": {},
     "output_type": "execute_result"
    }
   ],
   "source": [
    "#Frequencies\n",
    "\n",
    "#Get frequenies - ideally with more data since frequencies are low \n",
    "allWords = nltk.tokenize.word_tokenize(str(df['tweetText']))\n",
    "allWordDist = nltk.FreqDist(w.lower() for w in allWords)\n",
    "\n",
    "stopwords = nltk.corpus.stopwords.words('spanish')\n",
    "allWordExceptStopDist = nltk.FreqDist(w.lower() for w in allWords if w not in stopwords and len(w) > 3)\n",
    "allWordExceptStopDist.plot(15)"
   ]
  },
  {
   "cell_type": "markdown",
   "metadata": {},
   "source": [
    "## Text Generation"
   ]
  },
  {
   "cell_type": "code",
   "execution_count": 883,
   "metadata": {},
   "outputs": [],
   "source": [
    "# generate a sequence from the model\n",
    "def generate_seq(model, tokenizer, seed_text, n_words):\n",
    "\tin_text, result = seed_text, seed_text\n",
    "\t# generate a fixed number of words\n",
    "\tfor _ in range(n_words):\n",
    "        \n",
    "\t\t# encode the text as integer\n",
    "\t\tencoded = tokenizer.texts_to_sequences([in_text])[0]\n",
    "\t\tencoded = array(encoded)\n",
    "        \n",
    "\t\t# predict a word in the vocabulary\n",
    "\t\tyhat = model.predict_classes(encoded, verbose=0)\n",
    "        \n",
    "\t\t# map predicted word index to word\n",
    "\t\tout_word = ''\n",
    "\t\tfor word, index in tokenizer.word_index.items():\n",
    "\t\t\tif index == yhat:\n",
    "\t\t\t\tout_word = word\n",
    "\t\t\t\tbreak\n",
    "\t\t# append to input\n",
    "\t\tin_text, result = out_word, result + ' ' + out_word\n",
    "\treturn result"
   ]
  },
  {
   "cell_type": "code",
   "execution_count": 873,
   "metadata": {},
   "outputs": [],
   "source": [
    "# source text\n",
    "data = str(df['tweetText'])\n",
    "\n",
    "# integer encode text\n",
    "tokenizer = Tokenizer()\n",
    "tokenizer.fit_on_texts([data])\n",
    "encoded = tokenizer.texts_to_sequences([data])[0] #return encoded words in array"
   ]
  },
  {
   "cell_type": "code",
   "execution_count": 884,
   "metadata": {},
   "outputs": [
    {
     "name": "stdout",
     "output_type": "stream",
     "text": [
      "Vocabulary Size: 55\n",
      "Total Sequences: 90\n"
     ]
    }
   ],
   "source": [
    "# determine the vocabulary size\n",
    "vocab_size = len(tokenizer.word_index) + 1 #dictionary with frequencies of unique words\n",
    "print('Vocabulary Size: %d' % vocab_size)\n",
    "\n",
    "# create word -> word sequences\n",
    "sequences = list()\n",
    "for i in range(1, len(encoded)):\n",
    "\tsequence = encoded[i-1:i+1]\n",
    "\tsequences.append(sequence)\n",
    "print('Total Sequences: %d' % len(sequences))\n",
    "\n",
    "# split into X and y elements\n",
    "sequences = array(sequences)\n",
    "X, y = sequences[:,0],sequences[:,1]"
   ]
  },
  {
   "cell_type": "code",
   "execution_count": 885,
   "metadata": {},
   "outputs": [
    {
     "name": "stdout",
     "output_type": "stream",
     "text": [
      "Model: \"sequential_1\"\n",
      "_________________________________________________________________\n",
      " Layer (type)                Output Shape              Param #   \n",
      "=================================================================\n",
      " embedding_1 (Embedding)     (None, 1, 10)             550       \n",
      "                                                                 \n",
      " dropout_2 (Dropout)         (None, 1, 10)             0         \n",
      "                                                                 \n",
      " lstm_1 (LSTM)               (None, 50)                12200     \n",
      "                                                                 \n",
      " dropout_3 (Dropout)         (None, 50)                0         \n",
      "                                                                 \n",
      " dense_1 (Dense)             (None, 55)                2805      \n",
      "                                                                 \n",
      "=================================================================\n",
      "Total params: 15,555\n",
      "Trainable params: 15,555\n",
      "Non-trainable params: 0\n",
      "_________________________________________________________________\n",
      "None\n"
     ]
    }
   ],
   "source": [
    "from keras.layers import Dropout\n",
    "\n",
    "# one hot encode outputs\n",
    "y = to_categorical(y, num_classes=vocab_size)\n",
    "\n",
    "# define model\n",
    "model = Sequential()\n",
    "model.add(Embedding(vocab_size, 10, input_length=1))\n",
    "model.add(Dropout(0.1, input_shape=((468, 321))))\n",
    "model.add(LSTM(50))\n",
    "model.add(Dropout(0.1))\n",
    "model.add(Dense(vocab_size, activation='softmax'))\n",
    "print(model.summary())"
   ]
  },
  {
   "cell_type": "code",
   "execution_count": 886,
   "metadata": {
    "scrolled": true
   },
   "outputs": [
    {
     "name": "stdout",
     "output_type": "stream",
     "text": [
      "Epoch 1/500\n",
      "3/3 - 2s - loss: 4.0066 - accuracy: 0.0333 - 2s/epoch - 561ms/step\n",
      "Epoch 2/500\n",
      "3/3 - 0s - loss: 4.0042 - accuracy: 0.1111 - 11ms/epoch - 4ms/step\n",
      "Epoch 3/500\n",
      "3/3 - 0s - loss: 4.0025 - accuracy: 0.1889 - 12ms/epoch - 4ms/step\n",
      "Epoch 4/500\n",
      "3/3 - 0s - loss: 4.0006 - accuracy: 0.1333 - 11ms/epoch - 4ms/step\n",
      "Epoch 5/500\n",
      "3/3 - 0s - loss: 3.9989 - accuracy: 0.1000 - 12ms/epoch - 4ms/step\n",
      "Epoch 6/500\n",
      "3/3 - 0s - loss: 3.9968 - accuracy: 0.1111 - 14ms/epoch - 5ms/step\n",
      "Epoch 7/500\n",
      "3/3 - 0s - loss: 3.9948 - accuracy: 0.1111 - 12ms/epoch - 4ms/step\n",
      "Epoch 8/500\n",
      "3/3 - 0s - loss: 3.9927 - accuracy: 0.0889 - 12ms/epoch - 4ms/step\n",
      "Epoch 9/500\n",
      "3/3 - 0s - loss: 3.9907 - accuracy: 0.0889 - 12ms/epoch - 4ms/step\n",
      "Epoch 10/500\n",
      "3/3 - 0s - loss: 3.9889 - accuracy: 0.0889 - 13ms/epoch - 4ms/step\n",
      "Epoch 11/500\n",
      "3/3 - 0s - loss: 3.9859 - accuracy: 0.0889 - 13ms/epoch - 4ms/step\n",
      "Epoch 12/500\n",
      "3/3 - 0s - loss: 3.9832 - accuracy: 0.0889 - 12ms/epoch - 4ms/step\n",
      "Epoch 13/500\n",
      "3/3 - 0s - loss: 3.9799 - accuracy: 0.0889 - 12ms/epoch - 4ms/step\n",
      "Epoch 14/500\n",
      "3/3 - 0s - loss: 3.9776 - accuracy: 0.0889 - 14ms/epoch - 5ms/step\n",
      "Epoch 15/500\n",
      "3/3 - 0s - loss: 3.9747 - accuracy: 0.0889 - 12ms/epoch - 4ms/step\n",
      "Epoch 16/500\n",
      "3/3 - 0s - loss: 3.9724 - accuracy: 0.0889 - 13ms/epoch - 4ms/step\n",
      "Epoch 17/500\n",
      "3/3 - 0s - loss: 3.9678 - accuracy: 0.0889 - 13ms/epoch - 4ms/step\n",
      "Epoch 18/500\n",
      "3/3 - 0s - loss: 3.9641 - accuracy: 0.1000 - 13ms/epoch - 4ms/step\n",
      "Epoch 19/500\n",
      "3/3 - 0s - loss: 3.9611 - accuracy: 0.0889 - 12ms/epoch - 4ms/step\n",
      "Epoch 20/500\n",
      "3/3 - 0s - loss: 3.9565 - accuracy: 0.0889 - 12ms/epoch - 4ms/step\n",
      "Epoch 21/500\n",
      "3/3 - 0s - loss: 3.9516 - accuracy: 0.1111 - 12ms/epoch - 4ms/step\n",
      "Epoch 22/500\n",
      "3/3 - 0s - loss: 3.9478 - accuracy: 0.0889 - 11ms/epoch - 4ms/step\n",
      "Epoch 23/500\n",
      "3/3 - 0s - loss: 3.9423 - accuracy: 0.0889 - 11ms/epoch - 4ms/step\n",
      "Epoch 24/500\n",
      "3/3 - 0s - loss: 3.9379 - accuracy: 0.1333 - 12ms/epoch - 4ms/step\n",
      "Epoch 25/500\n",
      "3/3 - 0s - loss: 3.9329 - accuracy: 0.1111 - 12ms/epoch - 4ms/step\n",
      "Epoch 26/500\n",
      "3/3 - 0s - loss: 3.9255 - accuracy: 0.1111 - 13ms/epoch - 4ms/step\n",
      "Epoch 27/500\n",
      "3/3 - 0s - loss: 3.9191 - accuracy: 0.1111 - 14ms/epoch - 5ms/step\n",
      "Epoch 28/500\n",
      "3/3 - 0s - loss: 3.9113 - accuracy: 0.1333 - 13ms/epoch - 4ms/step\n",
      "Epoch 29/500\n",
      "3/3 - 0s - loss: 3.9014 - accuracy: 0.1444 - 12ms/epoch - 4ms/step\n",
      "Epoch 30/500\n",
      "3/3 - 0s - loss: 3.8946 - accuracy: 0.1111 - 12ms/epoch - 4ms/step\n",
      "Epoch 31/500\n",
      "3/3 - 0s - loss: 3.8861 - accuracy: 0.1444 - 12ms/epoch - 4ms/step\n",
      "Epoch 32/500\n",
      "3/3 - 0s - loss: 3.8785 - accuracy: 0.1000 - 11ms/epoch - 4ms/step\n",
      "Epoch 33/500\n",
      "3/3 - 0s - loss: 3.8667 - accuracy: 0.1222 - 11ms/epoch - 4ms/step\n",
      "Epoch 34/500\n",
      "3/3 - 0s - loss: 3.8558 - accuracy: 0.1222 - 11ms/epoch - 4ms/step\n",
      "Epoch 35/500\n",
      "3/3 - 0s - loss: 3.8443 - accuracy: 0.1111 - 12ms/epoch - 4ms/step\n",
      "Epoch 36/500\n",
      "3/3 - 0s - loss: 3.8313 - accuracy: 0.1444 - 13ms/epoch - 4ms/step\n",
      "Epoch 37/500\n",
      "3/3 - 0s - loss: 3.8169 - accuracy: 0.1333 - 13ms/epoch - 4ms/step\n",
      "Epoch 38/500\n",
      "3/3 - 0s - loss: 3.8070 - accuracy: 0.1556 - 14ms/epoch - 5ms/step\n",
      "Epoch 39/500\n",
      "3/3 - 0s - loss: 3.7916 - accuracy: 0.1778 - 17ms/epoch - 6ms/step\n",
      "Epoch 40/500\n",
      "3/3 - 0s - loss: 3.7732 - accuracy: 0.1556 - 12ms/epoch - 4ms/step\n",
      "Epoch 41/500\n",
      "3/3 - 0s - loss: 3.7585 - accuracy: 0.1444 - 14ms/epoch - 5ms/step\n",
      "Epoch 42/500\n",
      "3/3 - 0s - loss: 3.7469 - accuracy: 0.1222 - 14ms/epoch - 5ms/step\n",
      "Epoch 43/500\n",
      "3/3 - 0s - loss: 3.7197 - accuracy: 0.1556 - 12ms/epoch - 4ms/step\n",
      "Epoch 44/500\n",
      "3/3 - 0s - loss: 3.7041 - accuracy: 0.1556 - 14ms/epoch - 5ms/step\n",
      "Epoch 45/500\n",
      "3/3 - 0s - loss: 3.6817 - accuracy: 0.1444 - 13ms/epoch - 4ms/step\n",
      "Epoch 46/500\n",
      "3/3 - 0s - loss: 3.6657 - accuracy: 0.1444 - 15ms/epoch - 5ms/step\n",
      "Epoch 47/500\n",
      "3/3 - 0s - loss: 3.6401 - accuracy: 0.1667 - 13ms/epoch - 4ms/step\n",
      "Epoch 48/500\n",
      "3/3 - 0s - loss: 3.6137 - accuracy: 0.1889 - 14ms/epoch - 5ms/step\n",
      "Epoch 49/500\n",
      "3/3 - 0s - loss: 3.5826 - accuracy: 0.1444 - 16ms/epoch - 5ms/step\n",
      "Epoch 50/500\n",
      "3/3 - 0s - loss: 3.5649 - accuracy: 0.1667 - 14ms/epoch - 5ms/step\n",
      "Epoch 51/500\n",
      "3/3 - 0s - loss: 3.5310 - accuracy: 0.1333 - 12ms/epoch - 4ms/step\n",
      "Epoch 52/500\n",
      "3/3 - 0s - loss: 3.4962 - accuracy: 0.1778 - 13ms/epoch - 4ms/step\n",
      "Epoch 53/500\n",
      "3/3 - 0s - loss: 3.4814 - accuracy: 0.1222 - 13ms/epoch - 4ms/step\n",
      "Epoch 54/500\n",
      "3/3 - 0s - loss: 3.4326 - accuracy: 0.1667 - 15ms/epoch - 5ms/step\n",
      "Epoch 55/500\n",
      "3/3 - 0s - loss: 3.4151 - accuracy: 0.1444 - 13ms/epoch - 4ms/step\n",
      "Epoch 56/500\n",
      "3/3 - 0s - loss: 3.3645 - accuracy: 0.1222 - 13ms/epoch - 4ms/step\n",
      "Epoch 57/500\n",
      "3/3 - 0s - loss: 3.3560 - accuracy: 0.1556 - 13ms/epoch - 4ms/step\n",
      "Epoch 58/500\n",
      "3/3 - 0s - loss: 3.3211 - accuracy: 0.1778 - 14ms/epoch - 5ms/step\n",
      "Epoch 59/500\n",
      "3/3 - 0s - loss: 3.2825 - accuracy: 0.1889 - 14ms/epoch - 5ms/step\n",
      "Epoch 60/500\n",
      "3/3 - 0s - loss: 3.2551 - accuracy: 0.1889 - 16ms/epoch - 5ms/step\n",
      "Epoch 61/500\n",
      "3/3 - 0s - loss: 3.2164 - accuracy: 0.1556 - 14ms/epoch - 5ms/step\n",
      "Epoch 62/500\n",
      "3/3 - 0s - loss: 3.1896 - accuracy: 0.2000 - 14ms/epoch - 5ms/step\n",
      "Epoch 63/500\n",
      "3/3 - 0s - loss: 3.1701 - accuracy: 0.1667 - 12ms/epoch - 4ms/step\n",
      "Epoch 64/500\n",
      "3/3 - 0s - loss: 3.1336 - accuracy: 0.2111 - 13ms/epoch - 4ms/step\n",
      "Epoch 65/500\n",
      "3/3 - 0s - loss: 3.0896 - accuracy: 0.2333 - 13ms/epoch - 4ms/step\n",
      "Epoch 66/500\n",
      "3/3 - 0s - loss: 3.0647 - accuracy: 0.2000 - 13ms/epoch - 4ms/step\n",
      "Epoch 67/500\n",
      "3/3 - 0s - loss: 3.0383 - accuracy: 0.2000 - 11ms/epoch - 4ms/step\n",
      "Epoch 68/500\n",
      "3/3 - 0s - loss: 2.9943 - accuracy: 0.2111 - 13ms/epoch - 4ms/step\n",
      "Epoch 69/500\n",
      "3/3 - 0s - loss: 2.9704 - accuracy: 0.2444 - 13ms/epoch - 4ms/step\n",
      "Epoch 70/500\n",
      "3/3 - 0s - loss: 2.9317 - accuracy: 0.2000 - 12ms/epoch - 4ms/step\n",
      "Epoch 71/500\n",
      "3/3 - 0s - loss: 2.9351 - accuracy: 0.2667 - 12ms/epoch - 4ms/step\n",
      "Epoch 72/500\n",
      "3/3 - 0s - loss: 2.8895 - accuracy: 0.2556 - 13ms/epoch - 4ms/step\n",
      "Epoch 73/500\n",
      "3/3 - 0s - loss: 2.8673 - accuracy: 0.2222 - 13ms/epoch - 4ms/step\n",
      "Epoch 74/500\n",
      "3/3 - 0s - loss: 2.8381 - accuracy: 0.2667 - 15ms/epoch - 5ms/step\n",
      "Epoch 75/500\n",
      "3/3 - 0s - loss: 2.7885 - accuracy: 0.2778 - 12ms/epoch - 4ms/step\n",
      "Epoch 76/500\n",
      "3/3 - 0s - loss: 2.7728 - accuracy: 0.2667 - 12ms/epoch - 4ms/step\n",
      "Epoch 77/500\n",
      "3/3 - 0s - loss: 2.7499 - accuracy: 0.2889 - 12ms/epoch - 4ms/step\n",
      "Epoch 78/500\n",
      "3/3 - 0s - loss: 2.7154 - accuracy: 0.2889 - 14ms/epoch - 5ms/step\n",
      "Epoch 79/500\n",
      "3/3 - 0s - loss: 2.6926 - accuracy: 0.2778 - 11ms/epoch - 4ms/step\n",
      "Epoch 80/500\n",
      "3/3 - 0s - loss: 2.6811 - accuracy: 0.3000 - 12ms/epoch - 4ms/step\n",
      "Epoch 81/500\n",
      "3/3 - 0s - loss: 2.6725 - accuracy: 0.3222 - 13ms/epoch - 4ms/step\n",
      "Epoch 82/500\n",
      "3/3 - 0s - loss: 2.6325 - accuracy: 0.3222 - 12ms/epoch - 4ms/step\n",
      "Epoch 83/500\n",
      "3/3 - 0s - loss: 2.5948 - accuracy: 0.3333 - 14ms/epoch - 5ms/step\n",
      "Epoch 84/500\n",
      "3/3 - 0s - loss: 2.6196 - accuracy: 0.3889 - 11ms/epoch - 4ms/step\n",
      "Epoch 85/500\n",
      "3/3 - 0s - loss: 2.5384 - accuracy: 0.3556 - 28ms/epoch - 9ms/step\n",
      "Epoch 86/500\n",
      "3/3 - 0s - loss: 2.5261 - accuracy: 0.3778 - 15ms/epoch - 5ms/step\n",
      "Epoch 87/500\n",
      "3/3 - 0s - loss: 2.4985 - accuracy: 0.3778 - 12ms/epoch - 4ms/step\n",
      "Epoch 88/500\n",
      "3/3 - 0s - loss: 2.4957 - accuracy: 0.3667 - 14ms/epoch - 5ms/step\n",
      "Epoch 89/500\n",
      "3/3 - 0s - loss: 2.4807 - accuracy: 0.3556 - 13ms/epoch - 4ms/step\n",
      "Epoch 90/500\n",
      "3/3 - 0s - loss: 2.4137 - accuracy: 0.3778 - 13ms/epoch - 4ms/step\n",
      "Epoch 91/500\n",
      "3/3 - 0s - loss: 2.4108 - accuracy: 0.4000 - 13ms/epoch - 4ms/step\n",
      "Epoch 92/500\n",
      "3/3 - 0s - loss: 2.3938 - accuracy: 0.3778 - 12ms/epoch - 4ms/step\n",
      "Epoch 93/500\n",
      "3/3 - 0s - loss: 2.3940 - accuracy: 0.3778 - 12ms/epoch - 4ms/step\n",
      "Epoch 94/500\n",
      "3/3 - 0s - loss: 2.3338 - accuracy: 0.3889 - 12ms/epoch - 4ms/step\n",
      "Epoch 95/500\n",
      "3/3 - 0s - loss: 2.3316 - accuracy: 0.4000 - 13ms/epoch - 4ms/step\n",
      "Epoch 96/500\n",
      "3/3 - 0s - loss: 2.3079 - accuracy: 0.4333 - 12ms/epoch - 4ms/step\n",
      "Epoch 97/500\n",
      "3/3 - 0s - loss: 2.2828 - accuracy: 0.4333 - 12ms/epoch - 4ms/step\n",
      "Epoch 98/500\n",
      "3/3 - 0s - loss: 2.2488 - accuracy: 0.4556 - 12ms/epoch - 4ms/step\n",
      "Epoch 99/500\n",
      "3/3 - 0s - loss: 2.2585 - accuracy: 0.4444 - 12ms/epoch - 4ms/step\n",
      "Epoch 100/500\n",
      "3/3 - 0s - loss: 2.2463 - accuracy: 0.3889 - 13ms/epoch - 4ms/step\n",
      "Epoch 101/500\n",
      "3/3 - 0s - loss: 2.1930 - accuracy: 0.4778 - 11ms/epoch - 4ms/step\n",
      "Epoch 102/500\n",
      "3/3 - 0s - loss: 2.1871 - accuracy: 0.4667 - 12ms/epoch - 4ms/step\n",
      "Epoch 103/500\n",
      "3/3 - 0s - loss: 2.1468 - accuracy: 0.4889 - 12ms/epoch - 4ms/step\n"
     ]
    },
    {
     "name": "stdout",
     "output_type": "stream",
     "text": [
      "Epoch 104/500\n",
      "3/3 - 0s - loss: 2.1754 - accuracy: 0.4667 - 13ms/epoch - 4ms/step\n",
      "Epoch 105/500\n",
      "3/3 - 0s - loss: 2.1229 - accuracy: 0.4889 - 12ms/epoch - 4ms/step\n",
      "Epoch 106/500\n",
      "3/3 - 0s - loss: 2.1198 - accuracy: 0.5000 - 13ms/epoch - 4ms/step\n",
      "Epoch 107/500\n",
      "3/3 - 0s - loss: 2.0932 - accuracy: 0.5000 - 14ms/epoch - 5ms/step\n",
      "Epoch 108/500\n",
      "3/3 - 0s - loss: 2.1105 - accuracy: 0.4667 - 12ms/epoch - 4ms/step\n",
      "Epoch 109/500\n",
      "3/3 - 0s - loss: 2.0589 - accuracy: 0.5111 - 12ms/epoch - 4ms/step\n",
      "Epoch 110/500\n",
      "3/3 - 0s - loss: 2.0313 - accuracy: 0.4889 - 12ms/epoch - 4ms/step\n",
      "Epoch 111/500\n",
      "3/3 - 0s - loss: 2.0690 - accuracy: 0.5000 - 11ms/epoch - 4ms/step\n",
      "Epoch 112/500\n",
      "3/3 - 0s - loss: 2.0387 - accuracy: 0.5222 - 12ms/epoch - 4ms/step\n",
      "Epoch 113/500\n",
      "3/3 - 0s - loss: 2.0121 - accuracy: 0.5333 - 14ms/epoch - 5ms/step\n",
      "Epoch 114/500\n",
      "3/3 - 0s - loss: 1.9935 - accuracy: 0.5556 - 12ms/epoch - 4ms/step\n",
      "Epoch 115/500\n",
      "3/3 - 0s - loss: 1.9989 - accuracy: 0.5556 - 13ms/epoch - 4ms/step\n",
      "Epoch 116/500\n",
      "3/3 - 0s - loss: 1.9745 - accuracy: 0.5444 - 12ms/epoch - 4ms/step\n",
      "Epoch 117/500\n",
      "3/3 - 0s - loss: 1.9704 - accuracy: 0.5444 - 12ms/epoch - 4ms/step\n",
      "Epoch 118/500\n",
      "3/3 - 0s - loss: 1.9293 - accuracy: 0.5556 - 13ms/epoch - 4ms/step\n",
      "Epoch 119/500\n",
      "3/3 - 0s - loss: 1.9040 - accuracy: 0.5667 - 14ms/epoch - 5ms/step\n",
      "Epoch 120/500\n",
      "3/3 - 0s - loss: 1.9081 - accuracy: 0.5778 - 13ms/epoch - 4ms/step\n",
      "Epoch 121/500\n",
      "3/3 - 0s - loss: 1.8839 - accuracy: 0.5222 - 12ms/epoch - 4ms/step\n",
      "Epoch 122/500\n",
      "3/3 - 0s - loss: 1.8573 - accuracy: 0.5667 - 13ms/epoch - 4ms/step\n",
      "Epoch 123/500\n",
      "3/3 - 0s - loss: 1.8680 - accuracy: 0.5778 - 12ms/epoch - 4ms/step\n",
      "Epoch 124/500\n",
      "3/3 - 0s - loss: 1.8119 - accuracy: 0.5556 - 13ms/epoch - 4ms/step\n",
      "Epoch 125/500\n",
      "3/3 - 0s - loss: 1.8056 - accuracy: 0.6333 - 11ms/epoch - 4ms/step\n",
      "Epoch 126/500\n",
      "3/3 - 0s - loss: 1.7809 - accuracy: 0.5556 - 12ms/epoch - 4ms/step\n",
      "Epoch 127/500\n",
      "3/3 - 0s - loss: 1.8107 - accuracy: 0.6000 - 11ms/epoch - 4ms/step\n",
      "Epoch 128/500\n",
      "3/3 - 0s - loss: 1.7699 - accuracy: 0.6000 - 13ms/epoch - 4ms/step\n",
      "Epoch 129/500\n",
      "3/3 - 0s - loss: 1.7468 - accuracy: 0.6444 - 12ms/epoch - 4ms/step\n",
      "Epoch 130/500\n",
      "3/3 - 0s - loss: 1.7493 - accuracy: 0.6222 - 13ms/epoch - 4ms/step\n",
      "Epoch 131/500\n",
      "3/3 - 0s - loss: 1.7325 - accuracy: 0.6000 - 12ms/epoch - 4ms/step\n",
      "Epoch 132/500\n",
      "3/3 - 0s - loss: 1.7028 - accuracy: 0.6333 - 13ms/epoch - 4ms/step\n",
      "Epoch 133/500\n",
      "3/3 - 0s - loss: 1.7389 - accuracy: 0.6000 - 12ms/epoch - 4ms/step\n",
      "Epoch 134/500\n",
      "3/3 - 0s - loss: 1.6802 - accuracy: 0.6444 - 13ms/epoch - 4ms/step\n",
      "Epoch 135/500\n",
      "3/3 - 0s - loss: 1.7073 - accuracy: 0.6000 - 14ms/epoch - 5ms/step\n",
      "Epoch 136/500\n",
      "3/3 - 0s - loss: 1.6225 - accuracy: 0.6556 - 14ms/epoch - 5ms/step\n",
      "Epoch 137/500\n",
      "3/3 - 0s - loss: 1.6056 - accuracy: 0.6222 - 14ms/epoch - 5ms/step\n",
      "Epoch 138/500\n",
      "3/3 - 0s - loss: 1.6301 - accuracy: 0.6778 - 15ms/epoch - 5ms/step\n",
      "Epoch 139/500\n",
      "3/3 - 0s - loss: 1.5619 - accuracy: 0.6778 - 14ms/epoch - 5ms/step\n",
      "Epoch 140/500\n",
      "3/3 - 0s - loss: 1.5891 - accuracy: 0.6222 - 14ms/epoch - 5ms/step\n",
      "Epoch 141/500\n",
      "3/3 - 0s - loss: 1.5429 - accuracy: 0.7000 - 16ms/epoch - 5ms/step\n",
      "Epoch 142/500\n",
      "3/3 - 0s - loss: 1.5761 - accuracy: 0.6333 - 14ms/epoch - 5ms/step\n",
      "Epoch 143/500\n",
      "3/3 - 0s - loss: 1.5529 - accuracy: 0.6556 - 12ms/epoch - 4ms/step\n",
      "Epoch 144/500\n",
      "3/3 - 0s - loss: 1.5234 - accuracy: 0.6556 - 14ms/epoch - 5ms/step\n",
      "Epoch 145/500\n",
      "3/3 - 0s - loss: 1.5443 - accuracy: 0.6778 - 13ms/epoch - 4ms/step\n",
      "Epoch 146/500\n",
      "3/3 - 0s - loss: 1.5248 - accuracy: 0.6444 - 14ms/epoch - 5ms/step\n",
      "Epoch 147/500\n",
      "3/3 - 0s - loss: 1.4769 - accuracy: 0.7333 - 14ms/epoch - 5ms/step\n",
      "Epoch 148/500\n",
      "3/3 - 0s - loss: 1.4814 - accuracy: 0.6778 - 19ms/epoch - 6ms/step\n",
      "Epoch 149/500\n",
      "3/3 - 0s - loss: 1.4490 - accuracy: 0.6556 - 13ms/epoch - 4ms/step\n",
      "Epoch 150/500\n",
      "3/3 - 0s - loss: 1.4662 - accuracy: 0.7222 - 13ms/epoch - 4ms/step\n",
      "Epoch 151/500\n",
      "3/3 - 0s - loss: 1.4586 - accuracy: 0.7000 - 15ms/epoch - 5ms/step\n",
      "Epoch 152/500\n",
      "3/3 - 0s - loss: 1.4108 - accuracy: 0.7000 - 12ms/epoch - 4ms/step\n",
      "Epoch 153/500\n",
      "3/3 - 0s - loss: 1.4308 - accuracy: 0.6778 - 11ms/epoch - 4ms/step\n",
      "Epoch 154/500\n",
      "3/3 - 0s - loss: 1.4113 - accuracy: 0.7000 - 12ms/epoch - 4ms/step\n",
      "Epoch 155/500\n",
      "3/3 - 0s - loss: 1.3768 - accuracy: 0.7000 - 12ms/epoch - 4ms/step\n",
      "Epoch 156/500\n",
      "3/3 - 0s - loss: 1.3825 - accuracy: 0.7000 - 12ms/epoch - 4ms/step\n",
      "Epoch 157/500\n",
      "3/3 - 0s - loss: 1.3931 - accuracy: 0.7000 - 13ms/epoch - 4ms/step\n",
      "Epoch 158/500\n",
      "3/3 - 0s - loss: 1.3356 - accuracy: 0.7556 - 12ms/epoch - 4ms/step\n",
      "Epoch 159/500\n",
      "3/3 - 0s - loss: 1.3358 - accuracy: 0.6778 - 14ms/epoch - 5ms/step\n",
      "Epoch 160/500\n",
      "3/3 - 0s - loss: 1.3191 - accuracy: 0.7444 - 13ms/epoch - 4ms/step\n",
      "Epoch 161/500\n",
      "3/3 - 0s - loss: 1.3255 - accuracy: 0.7889 - 14ms/epoch - 5ms/step\n",
      "Epoch 162/500\n",
      "3/3 - 0s - loss: 1.3291 - accuracy: 0.6778 - 16ms/epoch - 5ms/step\n",
      "Epoch 163/500\n",
      "3/3 - 0s - loss: 1.3222 - accuracy: 0.7222 - 14ms/epoch - 5ms/step\n",
      "Epoch 164/500\n",
      "3/3 - 0s - loss: 1.2626 - accuracy: 0.7444 - 14ms/epoch - 5ms/step\n",
      "Epoch 165/500\n",
      "3/3 - 0s - loss: 1.2529 - accuracy: 0.7556 - 13ms/epoch - 4ms/step\n",
      "Epoch 166/500\n",
      "3/3 - 0s - loss: 1.2852 - accuracy: 0.7000 - 13ms/epoch - 4ms/step\n",
      "Epoch 167/500\n",
      "3/3 - 0s - loss: 1.2302 - accuracy: 0.7556 - 13ms/epoch - 4ms/step\n",
      "Epoch 168/500\n",
      "3/3 - 0s - loss: 1.2533 - accuracy: 0.7444 - 13ms/epoch - 4ms/step\n",
      "Epoch 169/500\n",
      "3/3 - 0s - loss: 1.2212 - accuracy: 0.7667 - 12ms/epoch - 4ms/step\n",
      "Epoch 170/500\n",
      "3/3 - 0s - loss: 1.2029 - accuracy: 0.7444 - 12ms/epoch - 4ms/step\n",
      "Epoch 171/500\n",
      "3/3 - 0s - loss: 1.2055 - accuracy: 0.7444 - 12ms/epoch - 4ms/step\n",
      "Epoch 172/500\n",
      "3/3 - 0s - loss: 1.1997 - accuracy: 0.7889 - 12ms/epoch - 4ms/step\n",
      "Epoch 173/500\n",
      "3/3 - 0s - loss: 1.1721 - accuracy: 0.7556 - 13ms/epoch - 4ms/step\n",
      "Epoch 174/500\n",
      "3/3 - 0s - loss: 1.1624 - accuracy: 0.8000 - 15ms/epoch - 5ms/step\n",
      "Epoch 175/500\n",
      "3/3 - 0s - loss: 1.1707 - accuracy: 0.7778 - 12ms/epoch - 4ms/step\n",
      "Epoch 176/500\n",
      "3/3 - 0s - loss: 1.1796 - accuracy: 0.7444 - 11ms/epoch - 4ms/step\n",
      "Epoch 177/500\n",
      "3/3 - 0s - loss: 1.1652 - accuracy: 0.7222 - 11ms/epoch - 4ms/step\n",
      "Epoch 178/500\n",
      "3/3 - 0s - loss: 1.1621 - accuracy: 0.7667 - 12ms/epoch - 4ms/step\n",
      "Epoch 179/500\n",
      "3/3 - 0s - loss: 1.0970 - accuracy: 0.7667 - 12ms/epoch - 4ms/step\n",
      "Epoch 180/500\n",
      "3/3 - 0s - loss: 1.0739 - accuracy: 0.7667 - 11ms/epoch - 4ms/step\n",
      "Epoch 181/500\n",
      "3/3 - 0s - loss: 1.1346 - accuracy: 0.7778 - 12ms/epoch - 4ms/step\n",
      "Epoch 182/500\n",
      "3/3 - 0s - loss: 1.0997 - accuracy: 0.7889 - 13ms/epoch - 4ms/step\n",
      "Epoch 183/500\n",
      "3/3 - 0s - loss: 1.0694 - accuracy: 0.7444 - 13ms/epoch - 4ms/step\n",
      "Epoch 184/500\n",
      "3/3 - 0s - loss: 1.0701 - accuracy: 0.7778 - 12ms/epoch - 4ms/step\n",
      "Epoch 185/500\n",
      "3/3 - 0s - loss: 1.0484 - accuracy: 0.7556 - 14ms/epoch - 5ms/step\n",
      "Epoch 186/500\n",
      "3/3 - 0s - loss: 1.0741 - accuracy: 0.7778 - 13ms/epoch - 4ms/step\n",
      "Epoch 187/500\n",
      "3/3 - 0s - loss: 1.0311 - accuracy: 0.7667 - 12ms/epoch - 4ms/step\n",
      "Epoch 188/500\n",
      "3/3 - 0s - loss: 1.0604 - accuracy: 0.7667 - 12ms/epoch - 4ms/step\n",
      "Epoch 189/500\n",
      "3/3 - 0s - loss: 1.0308 - accuracy: 0.7778 - 11ms/epoch - 4ms/step\n",
      "Epoch 190/500\n",
      "3/3 - 0s - loss: 1.0011 - accuracy: 0.7778 - 12ms/epoch - 4ms/step\n",
      "Epoch 191/500\n",
      "3/3 - 0s - loss: 1.0131 - accuracy: 0.8000 - 24ms/epoch - 8ms/step\n",
      "Epoch 192/500\n",
      "3/3 - 0s - loss: 0.9750 - accuracy: 0.7889 - 13ms/epoch - 4ms/step\n",
      "Epoch 193/500\n",
      "3/3 - 0s - loss: 1.0330 - accuracy: 0.7667 - 15ms/epoch - 5ms/step\n",
      "Epoch 194/500\n",
      "3/3 - 0s - loss: 0.9658 - accuracy: 0.8111 - 13ms/epoch - 4ms/step\n",
      "Epoch 195/500\n",
      "3/3 - 0s - loss: 0.9693 - accuracy: 0.8111 - 12ms/epoch - 4ms/step\n",
      "Epoch 196/500\n",
      "3/3 - 0s - loss: 0.9592 - accuracy: 0.8111 - 13ms/epoch - 4ms/step\n",
      "Epoch 197/500\n",
      "3/3 - 0s - loss: 0.9741 - accuracy: 0.8222 - 14ms/epoch - 5ms/step\n",
      "Epoch 198/500\n",
      "3/3 - 0s - loss: 0.9348 - accuracy: 0.8333 - 12ms/epoch - 4ms/step\n",
      "Epoch 199/500\n",
      "3/3 - 0s - loss: 0.9331 - accuracy: 0.8111 - 12ms/epoch - 4ms/step\n",
      "Epoch 200/500\n",
      "3/3 - 0s - loss: 0.9009 - accuracy: 0.8333 - 13ms/epoch - 4ms/step\n",
      "Epoch 201/500\n",
      "3/3 - 0s - loss: 0.9116 - accuracy: 0.8111 - 13ms/epoch - 4ms/step\n",
      "Epoch 202/500\n",
      "3/3 - 0s - loss: 0.9005 - accuracy: 0.8000 - 12ms/epoch - 4ms/step\n",
      "Epoch 203/500\n",
      "3/3 - 0s - loss: 0.9440 - accuracy: 0.8444 - 12ms/epoch - 4ms/step\n",
      "Epoch 204/500\n",
      "3/3 - 0s - loss: 0.9522 - accuracy: 0.8000 - 12ms/epoch - 4ms/step\n",
      "Epoch 205/500\n"
     ]
    },
    {
     "name": "stdout",
     "output_type": "stream",
     "text": [
      "3/3 - 0s - loss: 0.8546 - accuracy: 0.8222 - 11ms/epoch - 4ms/step\n",
      "Epoch 206/500\n",
      "3/3 - 0s - loss: 0.8895 - accuracy: 0.8444 - 12ms/epoch - 4ms/step\n",
      "Epoch 207/500\n",
      "3/3 - 0s - loss: 0.8712 - accuracy: 0.8000 - 12ms/epoch - 4ms/step\n",
      "Epoch 208/500\n",
      "3/3 - 0s - loss: 0.8952 - accuracy: 0.8222 - 11ms/epoch - 4ms/step\n",
      "Epoch 209/500\n",
      "3/3 - 0s - loss: 0.8829 - accuracy: 0.8222 - 12ms/epoch - 4ms/step\n",
      "Epoch 210/500\n",
      "3/3 - 0s - loss: 0.8182 - accuracy: 0.8556 - 11ms/epoch - 4ms/step\n",
      "Epoch 211/500\n",
      "3/3 - 0s - loss: 0.8435 - accuracy: 0.8444 - 11ms/epoch - 4ms/step\n",
      "Epoch 212/500\n",
      "3/3 - 0s - loss: 0.8257 - accuracy: 0.8222 - 12ms/epoch - 4ms/step\n",
      "Epoch 213/500\n",
      "3/3 - 0s - loss: 0.8071 - accuracy: 0.8222 - 11ms/epoch - 4ms/step\n",
      "Epoch 214/500\n",
      "3/3 - 0s - loss: 0.8367 - accuracy: 0.8333 - 13ms/epoch - 4ms/step\n",
      "Epoch 215/500\n",
      "3/3 - 0s - loss: 0.8515 - accuracy: 0.8222 - 12ms/epoch - 4ms/step\n",
      "Epoch 216/500\n",
      "3/3 - 0s - loss: 0.8138 - accuracy: 0.8778 - 12ms/epoch - 4ms/step\n",
      "Epoch 217/500\n",
      "3/3 - 0s - loss: 0.8144 - accuracy: 0.8222 - 11ms/epoch - 4ms/step\n",
      "Epoch 218/500\n",
      "3/3 - 0s - loss: 0.8012 - accuracy: 0.8111 - 13ms/epoch - 4ms/step\n",
      "Epoch 219/500\n",
      "3/3 - 0s - loss: 0.8221 - accuracy: 0.8333 - 12ms/epoch - 4ms/step\n",
      "Epoch 220/500\n",
      "3/3 - 0s - loss: 0.7652 - accuracy: 0.8222 - 11ms/epoch - 4ms/step\n",
      "Epoch 221/500\n",
      "3/3 - 0s - loss: 0.7586 - accuracy: 0.8444 - 12ms/epoch - 4ms/step\n",
      "Epoch 222/500\n",
      "3/3 - 0s - loss: 0.7692 - accuracy: 0.8444 - 11ms/epoch - 4ms/step\n",
      "Epoch 223/500\n",
      "3/3 - 0s - loss: 0.7640 - accuracy: 0.8222 - 13ms/epoch - 4ms/step\n",
      "Epoch 224/500\n",
      "3/3 - 0s - loss: 0.7734 - accuracy: 0.8222 - 12ms/epoch - 4ms/step\n",
      "Epoch 225/500\n",
      "3/3 - 0s - loss: 0.7597 - accuracy: 0.8556 - 12ms/epoch - 4ms/step\n",
      "Epoch 226/500\n",
      "3/3 - 0s - loss: 0.7696 - accuracy: 0.8556 - 12ms/epoch - 4ms/step\n",
      "Epoch 227/500\n",
      "3/3 - 0s - loss: 0.7522 - accuracy: 0.8556 - 11ms/epoch - 4ms/step\n",
      "Epoch 228/500\n",
      "3/3 - 0s - loss: 0.7750 - accuracy: 0.8111 - 11ms/epoch - 4ms/step\n",
      "Epoch 229/500\n",
      "3/3 - 0s - loss: 0.6966 - accuracy: 0.8556 - 11ms/epoch - 4ms/step\n",
      "Epoch 230/500\n",
      "3/3 - 0s - loss: 0.7542 - accuracy: 0.8000 - 12ms/epoch - 4ms/step\n",
      "Epoch 231/500\n",
      "3/3 - 0s - loss: 0.6802 - accuracy: 0.8667 - 12ms/epoch - 4ms/step\n",
      "Epoch 232/500\n",
      "3/3 - 0s - loss: 0.6958 - accuracy: 0.8444 - 12ms/epoch - 4ms/step\n",
      "Epoch 233/500\n",
      "3/3 - 0s - loss: 0.7180 - accuracy: 0.8111 - 12ms/epoch - 4ms/step\n",
      "Epoch 234/500\n",
      "3/3 - 0s - loss: 0.7568 - accuracy: 0.8444 - 12ms/epoch - 4ms/step\n",
      "Epoch 235/500\n",
      "3/3 - 0s - loss: 0.7301 - accuracy: 0.8556 - 11ms/epoch - 4ms/step\n",
      "Epoch 236/500\n",
      "3/3 - 0s - loss: 0.6818 - accuracy: 0.8667 - 13ms/epoch - 4ms/step\n",
      "Epoch 237/500\n",
      "3/3 - 0s - loss: 0.7336 - accuracy: 0.8222 - 13ms/epoch - 4ms/step\n",
      "Epoch 238/500\n",
      "3/3 - 0s - loss: 0.6652 - accuracy: 0.8778 - 12ms/epoch - 4ms/step\n",
      "Epoch 239/500\n",
      "3/3 - 0s - loss: 0.6843 - accuracy: 0.8778 - 12ms/epoch - 4ms/step\n",
      "Epoch 240/500\n",
      "3/3 - 0s - loss: 0.7156 - accuracy: 0.8222 - 11ms/epoch - 4ms/step\n",
      "Epoch 241/500\n",
      "3/3 - 0s - loss: 0.6522 - accuracy: 0.8444 - 13ms/epoch - 4ms/step\n",
      "Epoch 242/500\n",
      "3/3 - 0s - loss: 0.6696 - accuracy: 0.8667 - 11ms/epoch - 4ms/step\n",
      "Epoch 243/500\n",
      "3/3 - 0s - loss: 0.7073 - accuracy: 0.8556 - 12ms/epoch - 4ms/step\n",
      "Epoch 244/500\n",
      "3/3 - 0s - loss: 0.6432 - accuracy: 0.8444 - 12ms/epoch - 4ms/step\n",
      "Epoch 245/500\n",
      "3/3 - 0s - loss: 0.6364 - accuracy: 0.8444 - 12ms/epoch - 4ms/step\n",
      "Epoch 246/500\n",
      "3/3 - 0s - loss: 0.6534 - accuracy: 0.8111 - 11ms/epoch - 4ms/step\n",
      "Epoch 247/500\n",
      "3/3 - 0s - loss: 0.6258 - accuracy: 0.8444 - 12ms/epoch - 4ms/step\n",
      "Epoch 248/500\n",
      "3/3 - 0s - loss: 0.6190 - accuracy: 0.8556 - 13ms/epoch - 4ms/step\n",
      "Epoch 249/500\n",
      "3/3 - 0s - loss: 0.6531 - accuracy: 0.8778 - 13ms/epoch - 4ms/step\n",
      "Epoch 250/500\n",
      "3/3 - 0s - loss: 0.6510 - accuracy: 0.8889 - 18ms/epoch - 6ms/step\n",
      "Epoch 251/500\n",
      "3/3 - 0s - loss: 0.6411 - accuracy: 0.8667 - 12ms/epoch - 4ms/step\n",
      "Epoch 252/500\n",
      "3/3 - 0s - loss: 0.6022 - accuracy: 0.8667 - 12ms/epoch - 4ms/step\n",
      "Epoch 253/500\n",
      "3/3 - 0s - loss: 0.5972 - accuracy: 0.8333 - 12ms/epoch - 4ms/step\n",
      "Epoch 254/500\n",
      "3/3 - 0s - loss: 0.5874 - accuracy: 0.8778 - 13ms/epoch - 4ms/step\n",
      "Epoch 255/500\n",
      "3/3 - 0s - loss: 0.5995 - accuracy: 0.8778 - 13ms/epoch - 4ms/step\n",
      "Epoch 256/500\n",
      "3/3 - 0s - loss: 0.6222 - accuracy: 0.8889 - 13ms/epoch - 4ms/step\n",
      "Epoch 257/500\n",
      "3/3 - 0s - loss: 0.6086 - accuracy: 0.8444 - 13ms/epoch - 4ms/step\n",
      "Epoch 258/500\n",
      "3/3 - 0s - loss: 0.5810 - accuracy: 0.8556 - 13ms/epoch - 4ms/step\n",
      "Epoch 259/500\n",
      "3/3 - 0s - loss: 0.6095 - accuracy: 0.8556 - 12ms/epoch - 4ms/step\n",
      "Epoch 260/500\n",
      "3/3 - 0s - loss: 0.6443 - accuracy: 0.8222 - 12ms/epoch - 4ms/step\n",
      "Epoch 261/500\n",
      "3/3 - 0s - loss: 0.5873 - accuracy: 0.8444 - 15ms/epoch - 5ms/step\n",
      "Epoch 262/500\n",
      "3/3 - 0s - loss: 0.6006 - accuracy: 0.8444 - 13ms/epoch - 4ms/step\n",
      "Epoch 263/500\n",
      "3/3 - 0s - loss: 0.5656 - accuracy: 0.8556 - 13ms/epoch - 4ms/step\n",
      "Epoch 264/500\n",
      "3/3 - 0s - loss: 0.6004 - accuracy: 0.9000 - 11ms/epoch - 4ms/step\n",
      "Epoch 265/500\n",
      "3/3 - 0s - loss: 0.5614 - accuracy: 0.9000 - 12ms/epoch - 4ms/step\n",
      "Epoch 266/500\n",
      "3/3 - 0s - loss: 0.5704 - accuracy: 0.8556 - 13ms/epoch - 4ms/step\n",
      "Epoch 267/500\n",
      "3/3 - 0s - loss: 0.5977 - accuracy: 0.8444 - 13ms/epoch - 4ms/step\n",
      "Epoch 268/500\n",
      "3/3 - 0s - loss: 0.5891 - accuracy: 0.8444 - 12ms/epoch - 4ms/step\n",
      "Epoch 269/500\n",
      "3/3 - 0s - loss: 0.5619 - accuracy: 0.8889 - 12ms/epoch - 4ms/step\n",
      "Epoch 270/500\n",
      "3/3 - 0s - loss: 0.5251 - accuracy: 0.8778 - 12ms/epoch - 4ms/step\n",
      "Epoch 271/500\n",
      "3/3 - 0s - loss: 0.5232 - accuracy: 0.8778 - 12ms/epoch - 4ms/step\n",
      "Epoch 272/500\n",
      "3/3 - 0s - loss: 0.5346 - accuracy: 0.9000 - 13ms/epoch - 4ms/step\n",
      "Epoch 273/500\n",
      "3/3 - 0s - loss: 0.6211 - accuracy: 0.8667 - 12ms/epoch - 4ms/step\n",
      "Epoch 274/500\n",
      "3/3 - 0s - loss: 0.5757 - accuracy: 0.8778 - 13ms/epoch - 4ms/step\n",
      "Epoch 275/500\n",
      "3/3 - 0s - loss: 0.5812 - accuracy: 0.8556 - 13ms/epoch - 4ms/step\n",
      "Epoch 276/500\n",
      "3/3 - 0s - loss: 0.5081 - accuracy: 0.8889 - 13ms/epoch - 4ms/step\n",
      "Epoch 277/500\n",
      "3/3 - 0s - loss: 0.5704 - accuracy: 0.8667 - 13ms/epoch - 4ms/step\n",
      "Epoch 278/500\n",
      "3/3 - 0s - loss: 0.5312 - accuracy: 0.8667 - 12ms/epoch - 4ms/step\n",
      "Epoch 279/500\n",
      "3/3 - 0s - loss: 0.5499 - accuracy: 0.8778 - 11ms/epoch - 4ms/step\n",
      "Epoch 280/500\n",
      "3/3 - 0s - loss: 0.4990 - accuracy: 0.8889 - 11ms/epoch - 4ms/step\n",
      "Epoch 281/500\n",
      "3/3 - 0s - loss: 0.5610 - accuracy: 0.8667 - 12ms/epoch - 4ms/step\n",
      "Epoch 282/500\n",
      "3/3 - 0s - loss: 0.5204 - accuracy: 0.8778 - 11ms/epoch - 4ms/step\n",
      "Epoch 283/500\n",
      "3/3 - 0s - loss: 0.6119 - accuracy: 0.8111 - 12ms/epoch - 4ms/step\n",
      "Epoch 284/500\n",
      "3/3 - 0s - loss: 0.5075 - accuracy: 0.9111 - 12ms/epoch - 4ms/step\n",
      "Epoch 285/500\n",
      "3/3 - 0s - loss: 0.4652 - accuracy: 0.8889 - 12ms/epoch - 4ms/step\n",
      "Epoch 286/500\n",
      "3/3 - 0s - loss: 0.4717 - accuracy: 0.8778 - 12ms/epoch - 4ms/step\n",
      "Epoch 287/500\n",
      "3/3 - 0s - loss: 0.5563 - accuracy: 0.8667 - 12ms/epoch - 4ms/step\n",
      "Epoch 288/500\n",
      "3/3 - 0s - loss: 0.4648 - accuracy: 0.8889 - 11ms/epoch - 4ms/step\n",
      "Epoch 289/500\n",
      "3/3 - 0s - loss: 0.5225 - accuracy: 0.8778 - 17ms/epoch - 6ms/step\n",
      "Epoch 290/500\n",
      "3/3 - 0s - loss: 0.4872 - accuracy: 0.8556 - 11ms/epoch - 4ms/step\n",
      "Epoch 291/500\n",
      "3/3 - 0s - loss: 0.5027 - accuracy: 0.8667 - 12ms/epoch - 4ms/step\n",
      "Epoch 292/500\n",
      "3/3 - 0s - loss: 0.4942 - accuracy: 0.8444 - 12ms/epoch - 4ms/step\n",
      "Epoch 293/500\n",
      "3/3 - 0s - loss: 0.5067 - accuracy: 0.8667 - 12ms/epoch - 4ms/step\n",
      "Epoch 294/500\n",
      "3/3 - 0s - loss: 0.5073 - accuracy: 0.8444 - 11ms/epoch - 4ms/step\n",
      "Epoch 295/500\n",
      "3/3 - 0s - loss: 0.4886 - accuracy: 0.8778 - 15ms/epoch - 5ms/step\n",
      "Epoch 296/500\n",
      "3/3 - 0s - loss: 0.4760 - accuracy: 0.8667 - 12ms/epoch - 4ms/step\n",
      "Epoch 297/500\n",
      "3/3 - 0s - loss: 0.4744 - accuracy: 0.8444 - 13ms/epoch - 4ms/step\n",
      "Epoch 298/500\n",
      "3/3 - 0s - loss: 0.4964 - accuracy: 0.8556 - 12ms/epoch - 4ms/step\n",
      "Epoch 299/500\n",
      "3/3 - 0s - loss: 0.4639 - accuracy: 0.8556 - 11ms/epoch - 4ms/step\n",
      "Epoch 300/500\n",
      "3/3 - 0s - loss: 0.4621 - accuracy: 0.9000 - 12ms/epoch - 4ms/step\n",
      "Epoch 301/500\n",
      "3/3 - 0s - loss: 0.4925 - accuracy: 0.8889 - 13ms/epoch - 4ms/step\n",
      "Epoch 302/500\n",
      "3/3 - 0s - loss: 0.5209 - accuracy: 0.8556 - 13ms/epoch - 4ms/step\n",
      "Epoch 303/500\n",
      "3/3 - 0s - loss: 0.4969 - accuracy: 0.8667 - 13ms/epoch - 4ms/step\n",
      "Epoch 304/500\n",
      "3/3 - 0s - loss: 0.4614 - accuracy: 0.8778 - 13ms/epoch - 4ms/step\n",
      "Epoch 305/500\n",
      "3/3 - 0s - loss: 0.4779 - accuracy: 0.8444 - 13ms/epoch - 4ms/step\n",
      "Epoch 306/500\n",
      "3/3 - 0s - loss: 0.5006 - accuracy: 0.8778 - 14ms/epoch - 5ms/step\n"
     ]
    },
    {
     "name": "stdout",
     "output_type": "stream",
     "text": [
      "Epoch 307/500\n",
      "3/3 - 0s - loss: 0.4771 - accuracy: 0.9000 - 13ms/epoch - 4ms/step\n",
      "Epoch 308/500\n",
      "3/3 - 0s - loss: 0.4137 - accuracy: 0.8889 - 14ms/epoch - 5ms/step\n",
      "Epoch 309/500\n",
      "3/3 - 0s - loss: 0.4455 - accuracy: 0.8667 - 13ms/epoch - 4ms/step\n",
      "Epoch 310/500\n",
      "3/3 - 0s - loss: 0.4530 - accuracy: 0.9000 - 14ms/epoch - 5ms/step\n",
      "Epoch 311/500\n",
      "3/3 - 0s - loss: 0.4526 - accuracy: 0.8667 - 12ms/epoch - 4ms/step\n",
      "Epoch 312/500\n",
      "3/3 - 0s - loss: 0.4949 - accuracy: 0.8667 - 14ms/epoch - 5ms/step\n",
      "Epoch 313/500\n",
      "3/3 - 0s - loss: 0.4319 - accuracy: 0.8889 - 13ms/epoch - 4ms/step\n",
      "Epoch 314/500\n",
      "3/3 - 0s - loss: 0.4391 - accuracy: 0.9000 - 14ms/epoch - 5ms/step\n",
      "Epoch 315/500\n",
      "3/3 - 0s - loss: 0.4737 - accuracy: 0.8667 - 14ms/epoch - 5ms/step\n",
      "Epoch 316/500\n",
      "3/3 - 0s - loss: 0.4465 - accuracy: 0.8778 - 13ms/epoch - 4ms/step\n",
      "Epoch 317/500\n",
      "3/3 - 0s - loss: 0.5015 - accuracy: 0.8556 - 15ms/epoch - 5ms/step\n",
      "Epoch 318/500\n",
      "3/3 - 0s - loss: 0.4684 - accuracy: 0.8444 - 13ms/epoch - 4ms/step\n",
      "Epoch 319/500\n",
      "3/3 - 0s - loss: 0.4393 - accuracy: 0.8778 - 14ms/epoch - 5ms/step\n",
      "Epoch 320/500\n",
      "3/3 - 0s - loss: 0.3999 - accuracy: 0.8889 - 15ms/epoch - 5ms/step\n",
      "Epoch 321/500\n",
      "3/3 - 0s - loss: 0.4220 - accuracy: 0.9000 - 13ms/epoch - 4ms/step\n",
      "Epoch 322/500\n",
      "3/3 - 0s - loss: 0.4169 - accuracy: 0.8667 - 14ms/epoch - 5ms/step\n",
      "Epoch 323/500\n",
      "3/3 - 0s - loss: 0.4606 - accuracy: 0.8778 - 13ms/epoch - 4ms/step\n",
      "Epoch 324/500\n",
      "3/3 - 0s - loss: 0.4499 - accuracy: 0.8778 - 14ms/epoch - 5ms/step\n",
      "Epoch 325/500\n",
      "3/3 - 0s - loss: 0.4352 - accuracy: 0.8889 - 13ms/epoch - 4ms/step\n",
      "Epoch 326/500\n",
      "3/3 - 0s - loss: 0.4057 - accuracy: 0.8667 - 13ms/epoch - 4ms/step\n",
      "Epoch 327/500\n",
      "3/3 - 0s - loss: 0.4288 - accuracy: 0.8667 - 13ms/epoch - 4ms/step\n",
      "Epoch 328/500\n",
      "3/3 - 0s - loss: 0.4064 - accuracy: 0.8778 - 13ms/epoch - 4ms/step\n",
      "Epoch 329/500\n",
      "3/3 - 0s - loss: 0.4635 - accuracy: 0.8444 - 12ms/epoch - 4ms/step\n",
      "Epoch 330/500\n",
      "3/3 - 0s - loss: 0.4965 - accuracy: 0.8667 - 12ms/epoch - 4ms/step\n",
      "Epoch 331/500\n",
      "3/3 - 0s - loss: 0.4152 - accuracy: 0.8778 - 12ms/epoch - 4ms/step\n",
      "Epoch 332/500\n",
      "3/3 - 0s - loss: 0.3872 - accuracy: 0.8889 - 12ms/epoch - 4ms/step\n",
      "Epoch 333/500\n",
      "3/3 - 0s - loss: 0.4341 - accuracy: 0.8778 - 12ms/epoch - 4ms/step\n",
      "Epoch 334/500\n",
      "3/3 - 0s - loss: 0.4440 - accuracy: 0.8667 - 12ms/epoch - 4ms/step\n",
      "Epoch 335/500\n",
      "3/3 - 0s - loss: 0.4238 - accuracy: 0.8667 - 12ms/epoch - 4ms/step\n",
      "Epoch 336/500\n",
      "3/3 - 0s - loss: 0.5081 - accuracy: 0.8111 - 12ms/epoch - 4ms/step\n",
      "Epoch 337/500\n",
      "3/3 - 0s - loss: 0.3945 - accuracy: 0.9111 - 12ms/epoch - 4ms/step\n",
      "Epoch 338/500\n",
      "3/3 - 0s - loss: 0.3985 - accuracy: 0.8778 - 13ms/epoch - 4ms/step\n",
      "Epoch 339/500\n",
      "3/3 - 0s - loss: 0.3699 - accuracy: 0.8667 - 12ms/epoch - 4ms/step\n",
      "Epoch 340/500\n",
      "3/3 - 0s - loss: 0.4083 - accuracy: 0.8667 - 12ms/epoch - 4ms/step\n",
      "Epoch 341/500\n",
      "3/3 - 0s - loss: 0.4266 - accuracy: 0.8667 - 12ms/epoch - 4ms/step\n",
      "Epoch 342/500\n",
      "3/3 - 0s - loss: 0.4089 - accuracy: 0.8778 - 12ms/epoch - 4ms/step\n",
      "Epoch 343/500\n",
      "3/3 - 0s - loss: 0.4312 - accuracy: 0.8556 - 12ms/epoch - 4ms/step\n",
      "Epoch 344/500\n",
      "3/3 - 0s - loss: 0.3928 - accuracy: 0.8556 - 12ms/epoch - 4ms/step\n",
      "Epoch 345/500\n",
      "3/3 - 0s - loss: 0.4184 - accuracy: 0.8667 - 13ms/epoch - 4ms/step\n",
      "Epoch 346/500\n",
      "3/3 - 0s - loss: 0.3657 - accuracy: 0.8778 - 12ms/epoch - 4ms/step\n",
      "Epoch 347/500\n",
      "3/3 - 0s - loss: 0.3922 - accuracy: 0.9111 - 12ms/epoch - 4ms/step\n",
      "Epoch 348/500\n",
      "3/3 - 0s - loss: 0.3845 - accuracy: 0.8889 - 12ms/epoch - 4ms/step\n",
      "Epoch 349/500\n",
      "3/3 - 0s - loss: 0.3959 - accuracy: 0.8889 - 12ms/epoch - 4ms/step\n",
      "Epoch 350/500\n",
      "3/3 - 0s - loss: 0.4553 - accuracy: 0.8889 - 12ms/epoch - 4ms/step\n",
      "Epoch 351/500\n",
      "3/3 - 0s - loss: 0.3918 - accuracy: 0.8667 - 12ms/epoch - 4ms/step\n",
      "Epoch 352/500\n",
      "3/3 - 0s - loss: 0.3875 - accuracy: 0.8889 - 11ms/epoch - 4ms/step\n",
      "Epoch 353/500\n",
      "3/3 - 0s - loss: 0.3927 - accuracy: 0.9000 - 12ms/epoch - 4ms/step\n",
      "Epoch 354/500\n",
      "3/3 - 0s - loss: 0.3935 - accuracy: 0.9111 - 13ms/epoch - 4ms/step\n",
      "Epoch 355/500\n",
      "3/3 - 0s - loss: 0.3751 - accuracy: 0.8778 - 12ms/epoch - 4ms/step\n",
      "Epoch 356/500\n",
      "3/3 - 0s - loss: 0.3880 - accuracy: 0.8889 - 12ms/epoch - 4ms/step\n",
      "Epoch 357/500\n",
      "3/3 - 0s - loss: 0.4211 - accuracy: 0.8667 - 12ms/epoch - 4ms/step\n",
      "Epoch 358/500\n",
      "3/3 - 0s - loss: 0.4571 - accuracy: 0.8444 - 12ms/epoch - 4ms/step\n",
      "Epoch 359/500\n",
      "3/3 - 0s - loss: 0.3999 - accuracy: 0.8667 - 12ms/epoch - 4ms/step\n",
      "Epoch 360/500\n",
      "3/3 - 0s - loss: 0.4168 - accuracy: 0.8556 - 12ms/epoch - 4ms/step\n",
      "Epoch 361/500\n",
      "3/3 - 0s - loss: 0.3928 - accuracy: 0.8778 - 12ms/epoch - 4ms/step\n",
      "Epoch 362/500\n",
      "3/3 - 0s - loss: 0.3964 - accuracy: 0.8556 - 13ms/epoch - 4ms/step\n",
      "Epoch 363/500\n",
      "3/3 - 0s - loss: 0.4214 - accuracy: 0.8444 - 13ms/epoch - 4ms/step\n",
      "Epoch 364/500\n",
      "3/3 - 0s - loss: 0.3746 - accuracy: 0.9000 - 12ms/epoch - 4ms/step\n",
      "Epoch 365/500\n",
      "3/3 - 0s - loss: 0.3784 - accuracy: 0.8889 - 14ms/epoch - 5ms/step\n",
      "Epoch 366/500\n",
      "3/3 - 0s - loss: 0.4102 - accuracy: 0.8889 - 12ms/epoch - 4ms/step\n",
      "Epoch 367/500\n",
      "3/3 - 0s - loss: 0.3692 - accuracy: 0.8667 - 12ms/epoch - 4ms/step\n",
      "Epoch 368/500\n",
      "3/3 - 0s - loss: 0.3929 - accuracy: 0.8778 - 13ms/epoch - 4ms/step\n",
      "Epoch 369/500\n",
      "3/3 - 0s - loss: 0.3712 - accuracy: 0.8778 - 12ms/epoch - 4ms/step\n",
      "Epoch 370/500\n",
      "3/3 - 0s - loss: 0.3913 - accuracy: 0.8889 - 13ms/epoch - 4ms/step\n",
      "Epoch 371/500\n",
      "3/3 - 0s - loss: 0.3579 - accuracy: 0.9000 - 13ms/epoch - 4ms/step\n",
      "Epoch 372/500\n",
      "3/3 - 0s - loss: 0.3557 - accuracy: 0.8778 - 12ms/epoch - 4ms/step\n",
      "Epoch 373/500\n",
      "3/3 - 0s - loss: 0.3799 - accuracy: 0.8889 - 12ms/epoch - 4ms/step\n",
      "Epoch 374/500\n",
      "3/3 - 0s - loss: 0.3527 - accuracy: 0.8889 - 13ms/epoch - 4ms/step\n",
      "Epoch 375/500\n",
      "3/3 - 0s - loss: 0.3398 - accuracy: 0.8667 - 12ms/epoch - 4ms/step\n",
      "Epoch 376/500\n",
      "3/3 - 0s - loss: 0.3702 - accuracy: 0.8556 - 13ms/epoch - 4ms/step\n",
      "Epoch 377/500\n",
      "3/3 - 0s - loss: 0.3941 - accuracy: 0.8667 - 12ms/epoch - 4ms/step\n",
      "Epoch 378/500\n",
      "3/3 - 0s - loss: 0.3869 - accuracy: 0.8556 - 13ms/epoch - 4ms/step\n",
      "Epoch 379/500\n",
      "3/3 - 0s - loss: 0.3418 - accuracy: 0.9111 - 12ms/epoch - 4ms/step\n",
      "Epoch 380/500\n",
      "3/3 - 0s - loss: 0.3908 - accuracy: 0.8667 - 12ms/epoch - 4ms/step\n",
      "Epoch 381/500\n",
      "3/3 - 0s - loss: 0.3560 - accuracy: 0.8778 - 13ms/epoch - 4ms/step\n",
      "Epoch 382/500\n",
      "3/3 - 0s - loss: 0.4053 - accuracy: 0.8556 - 13ms/epoch - 4ms/step\n",
      "Epoch 383/500\n",
      "3/3 - 0s - loss: 0.3619 - accuracy: 0.8667 - 12ms/epoch - 4ms/step\n",
      "Epoch 384/500\n",
      "3/3 - 0s - loss: 0.3775 - accuracy: 0.8778 - 12ms/epoch - 4ms/step\n",
      "Epoch 385/500\n",
      "3/3 - 0s - loss: 0.3610 - accuracy: 0.8889 - 13ms/epoch - 4ms/step\n",
      "Epoch 386/500\n",
      "3/3 - 0s - loss: 0.3816 - accuracy: 0.8667 - 14ms/epoch - 5ms/step\n",
      "Epoch 387/500\n",
      "3/3 - 0s - loss: 0.3488 - accuracy: 0.9222 - 12ms/epoch - 4ms/step\n",
      "Epoch 388/500\n",
      "3/3 - 0s - loss: 0.3454 - accuracy: 0.8889 - 12ms/epoch - 4ms/step\n",
      "Epoch 389/500\n",
      "3/3 - 0s - loss: 0.3889 - accuracy: 0.8667 - 13ms/epoch - 4ms/step\n",
      "Epoch 390/500\n",
      "3/3 - 0s - loss: 0.3605 - accuracy: 0.8667 - 14ms/epoch - 5ms/step\n",
      "Epoch 391/500\n",
      "3/3 - 0s - loss: 0.3549 - accuracy: 0.8556 - 12ms/epoch - 4ms/step\n",
      "Epoch 392/500\n",
      "3/3 - 0s - loss: 0.3328 - accuracy: 0.8889 - 12ms/epoch - 4ms/step\n",
      "Epoch 393/500\n",
      "3/3 - 0s - loss: 0.3806 - accuracy: 0.8667 - 14ms/epoch - 5ms/step\n",
      "Epoch 394/500\n",
      "3/3 - 0s - loss: 0.3902 - accuracy: 0.8667 - 13ms/epoch - 4ms/step\n",
      "Epoch 395/500\n",
      "3/3 - 0s - loss: 0.3606 - accuracy: 0.8889 - 14ms/epoch - 5ms/step\n",
      "Epoch 396/500\n",
      "3/3 - 0s - loss: 0.3291 - accuracy: 0.9111 - 13ms/epoch - 4ms/step\n",
      "Epoch 397/500\n",
      "3/3 - 0s - loss: 0.4005 - accuracy: 0.8667 - 26ms/epoch - 9ms/step\n",
      "Epoch 398/500\n",
      "3/3 - 0s - loss: 0.3170 - accuracy: 0.8889 - 19ms/epoch - 6ms/step\n",
      "Epoch 399/500\n",
      "3/3 - 0s - loss: 0.3382 - accuracy: 0.8889 - 12ms/epoch - 4ms/step\n",
      "Epoch 400/500\n",
      "3/3 - 0s - loss: 0.3225 - accuracy: 0.8778 - 13ms/epoch - 4ms/step\n",
      "Epoch 401/500\n",
      "3/3 - 0s - loss: 0.3383 - accuracy: 0.8778 - 12ms/epoch - 4ms/step\n",
      "Epoch 402/500\n",
      "3/3 - 0s - loss: 0.3574 - accuracy: 0.8778 - 14ms/epoch - 5ms/step\n",
      "Epoch 403/500\n",
      "3/3 - 0s - loss: 0.3402 - accuracy: 0.9000 - 13ms/epoch - 4ms/step\n",
      "Epoch 404/500\n",
      "3/3 - 0s - loss: 0.3794 - accuracy: 0.8667 - 12ms/epoch - 4ms/step\n",
      "Epoch 405/500\n",
      "3/3 - 0s - loss: 0.3738 - accuracy: 0.9000 - 12ms/epoch - 4ms/step\n",
      "Epoch 406/500\n",
      "3/3 - 0s - loss: 0.3396 - accuracy: 0.9000 - 13ms/epoch - 4ms/step\n",
      "Epoch 407/500\n",
      "3/3 - 0s - loss: 0.3265 - accuracy: 0.8778 - 13ms/epoch - 4ms/step\n",
      "Epoch 408/500\n"
     ]
    },
    {
     "name": "stdout",
     "output_type": "stream",
     "text": [
      "3/3 - 0s - loss: 0.3891 - accuracy: 0.8667 - 12ms/epoch - 4ms/step\n",
      "Epoch 409/500\n",
      "3/3 - 0s - loss: 0.3634 - accuracy: 0.8889 - 14ms/epoch - 5ms/step\n",
      "Epoch 410/500\n",
      "3/3 - 0s - loss: 0.3819 - accuracy: 0.8556 - 14ms/epoch - 5ms/step\n",
      "Epoch 411/500\n",
      "3/3 - 0s - loss: 0.3720 - accuracy: 0.8333 - 12ms/epoch - 4ms/step\n",
      "Epoch 412/500\n",
      "3/3 - 0s - loss: 0.3179 - accuracy: 0.8556 - 13ms/epoch - 4ms/step\n",
      "Epoch 413/500\n",
      "3/3 - 0s - loss: 0.3103 - accuracy: 0.9000 - 15ms/epoch - 5ms/step\n",
      "Epoch 414/500\n",
      "3/3 - 0s - loss: 0.3197 - accuracy: 0.8889 - 14ms/epoch - 5ms/step\n",
      "Epoch 415/500\n",
      "3/3 - 0s - loss: 0.3385 - accuracy: 0.8889 - 14ms/epoch - 5ms/step\n",
      "Epoch 416/500\n",
      "3/3 - 0s - loss: 0.3439 - accuracy: 0.9111 - 13ms/epoch - 4ms/step\n",
      "Epoch 417/500\n",
      "3/3 - 0s - loss: 0.3262 - accuracy: 0.8778 - 14ms/epoch - 5ms/step\n",
      "Epoch 418/500\n",
      "3/3 - 0s - loss: 0.3359 - accuracy: 0.8778 - 14ms/epoch - 5ms/step\n",
      "Epoch 419/500\n",
      "3/3 - 0s - loss: 0.3062 - accuracy: 0.9222 - 14ms/epoch - 5ms/step\n",
      "Epoch 420/500\n",
      "3/3 - 0s - loss: 0.3256 - accuracy: 0.8778 - 14ms/epoch - 5ms/step\n",
      "Epoch 421/500\n",
      "3/3 - 0s - loss: 0.3626 - accuracy: 0.8444 - 13ms/epoch - 4ms/step\n",
      "Epoch 422/500\n",
      "3/3 - 0s - loss: 0.3266 - accuracy: 0.9000 - 13ms/epoch - 4ms/step\n",
      "Epoch 423/500\n",
      "3/3 - 0s - loss: 0.3379 - accuracy: 0.9000 - 13ms/epoch - 4ms/step\n",
      "Epoch 424/500\n",
      "3/3 - 0s - loss: 0.3546 - accuracy: 0.8778 - 13ms/epoch - 4ms/step\n",
      "Epoch 425/500\n",
      "3/3 - 0s - loss: 0.3468 - accuracy: 0.8889 - 12ms/epoch - 4ms/step\n",
      "Epoch 426/500\n",
      "3/3 - 0s - loss: 0.3153 - accuracy: 0.8889 - 12ms/epoch - 4ms/step\n",
      "Epoch 427/500\n",
      "3/3 - 0s - loss: 0.3468 - accuracy: 0.8778 - 12ms/epoch - 4ms/step\n",
      "Epoch 428/500\n",
      "3/3 - 0s - loss: 0.3435 - accuracy: 0.8667 - 13ms/epoch - 4ms/step\n",
      "Epoch 429/500\n",
      "3/3 - 0s - loss: 0.3404 - accuracy: 0.8778 - 13ms/epoch - 4ms/step\n",
      "Epoch 430/500\n",
      "3/3 - 0s - loss: 0.3804 - accuracy: 0.8556 - 12ms/epoch - 4ms/step\n",
      "Epoch 431/500\n",
      "3/3 - 0s - loss: 0.3497 - accuracy: 0.8778 - 12ms/epoch - 4ms/step\n",
      "Epoch 432/500\n",
      "3/3 - 0s - loss: 0.3664 - accuracy: 0.9000 - 12ms/epoch - 4ms/step\n",
      "Epoch 433/500\n",
      "3/3 - 0s - loss: 0.3634 - accuracy: 0.9000 - 12ms/epoch - 4ms/step\n",
      "Epoch 434/500\n",
      "3/3 - 0s - loss: 0.3373 - accuracy: 0.8556 - 12ms/epoch - 4ms/step\n",
      "Epoch 435/500\n",
      "3/3 - 0s - loss: 0.3234 - accuracy: 0.8778 - 12ms/epoch - 4ms/step\n",
      "Epoch 436/500\n",
      "3/3 - 0s - loss: 0.3491 - accuracy: 0.8778 - 13ms/epoch - 4ms/step\n",
      "Epoch 437/500\n",
      "3/3 - 0s - loss: 0.3692 - accuracy: 0.8667 - 13ms/epoch - 4ms/step\n",
      "Epoch 438/500\n",
      "3/3 - 0s - loss: 0.4038 - accuracy: 0.8667 - 12ms/epoch - 4ms/step\n",
      "Epoch 439/500\n",
      "3/3 - 0s - loss: 0.3164 - accuracy: 0.8778 - 13ms/epoch - 4ms/step\n",
      "Epoch 440/500\n",
      "3/3 - 0s - loss: 0.2949 - accuracy: 0.9111 - 14ms/epoch - 5ms/step\n",
      "Epoch 441/500\n",
      "3/3 - 0s - loss: 0.3416 - accuracy: 0.8889 - 13ms/epoch - 4ms/step\n",
      "Epoch 442/500\n",
      "3/3 - 0s - loss: 0.3476 - accuracy: 0.9000 - 13ms/epoch - 4ms/step\n",
      "Epoch 443/500\n",
      "3/3 - 0s - loss: 0.3150 - accuracy: 0.9111 - 12ms/epoch - 4ms/step\n",
      "Epoch 444/500\n",
      "3/3 - 0s - loss: 0.3215 - accuracy: 0.8667 - 13ms/epoch - 4ms/step\n",
      "Epoch 445/500\n",
      "3/3 - 0s - loss: 0.3360 - accuracy: 0.8778 - 14ms/epoch - 5ms/step\n",
      "Epoch 446/500\n",
      "3/3 - 0s - loss: 0.3491 - accuracy: 0.8556 - 14ms/epoch - 5ms/step\n",
      "Epoch 447/500\n",
      "3/3 - 0s - loss: 0.3475 - accuracy: 0.8556 - 13ms/epoch - 4ms/step\n",
      "Epoch 448/500\n",
      "3/3 - 0s - loss: 0.3147 - accuracy: 0.8778 - 13ms/epoch - 4ms/step\n",
      "Epoch 449/500\n",
      "3/3 - 0s - loss: 0.3495 - accuracy: 0.8667 - 12ms/epoch - 4ms/step\n",
      "Epoch 450/500\n",
      "3/3 - 0s - loss: 0.3212 - accuracy: 0.8889 - 12ms/epoch - 4ms/step\n",
      "Epoch 451/500\n",
      "3/3 - 0s - loss: 0.3401 - accuracy: 0.8889 - 12ms/epoch - 4ms/step\n",
      "Epoch 452/500\n",
      "3/3 - 0s - loss: 0.3100 - accuracy: 0.8778 - 13ms/epoch - 4ms/step\n",
      "Epoch 453/500\n",
      "3/3 - 0s - loss: 0.3153 - accuracy: 0.8778 - 14ms/epoch - 5ms/step\n",
      "Epoch 454/500\n",
      "3/3 - 0s - loss: 0.3382 - accuracy: 0.9000 - 13ms/epoch - 4ms/step\n",
      "Epoch 455/500\n",
      "3/3 - 0s - loss: 0.3087 - accuracy: 0.8778 - 12ms/epoch - 4ms/step\n",
      "Epoch 456/500\n",
      "3/3 - 0s - loss: 0.3375 - accuracy: 0.8889 - 13ms/epoch - 4ms/step\n",
      "Epoch 457/500\n",
      "3/3 - 0s - loss: 0.3631 - accuracy: 0.8889 - 12ms/epoch - 4ms/step\n",
      "Epoch 458/500\n",
      "3/3 - 0s - loss: 0.3522 - accuracy: 0.8444 - 13ms/epoch - 4ms/step\n",
      "Epoch 459/500\n",
      "3/3 - 0s - loss: 0.3548 - accuracy: 0.8778 - 13ms/epoch - 4ms/step\n",
      "Epoch 460/500\n",
      "3/3 - 0s - loss: 0.3160 - accuracy: 0.8778 - 12ms/epoch - 4ms/step\n",
      "Epoch 461/500\n",
      "3/3 - 0s - loss: 0.3523 - accuracy: 0.8556 - 13ms/epoch - 4ms/step\n",
      "Epoch 462/500\n",
      "3/3 - 0s - loss: 0.2884 - accuracy: 0.8778 - 19ms/epoch - 6ms/step\n",
      "Epoch 463/500\n",
      "3/3 - 0s - loss: 0.2986 - accuracy: 0.9111 - 12ms/epoch - 4ms/step\n",
      "Epoch 464/500\n",
      "3/3 - 0s - loss: 0.3424 - accuracy: 0.8667 - 13ms/epoch - 4ms/step\n",
      "Epoch 465/500\n",
      "3/3 - 0s - loss: 0.3284 - accuracy: 0.9000 - 13ms/epoch - 4ms/step\n",
      "Epoch 466/500\n",
      "3/3 - 0s - loss: 0.3605 - accuracy: 0.8778 - 13ms/epoch - 4ms/step\n",
      "Epoch 467/500\n",
      "3/3 - 0s - loss: 0.3435 - accuracy: 0.8889 - 12ms/epoch - 4ms/step\n",
      "Epoch 468/500\n",
      "3/3 - 0s - loss: 0.3121 - accuracy: 0.8889 - 12ms/epoch - 4ms/step\n",
      "Epoch 469/500\n",
      "3/3 - 0s - loss: 0.3188 - accuracy: 0.8667 - 15ms/epoch - 5ms/step\n",
      "Epoch 470/500\n",
      "3/3 - 0s - loss: 0.3173 - accuracy: 0.8778 - 13ms/epoch - 4ms/step\n",
      "Epoch 471/500\n",
      "3/3 - 0s - loss: 0.3288 - accuracy: 0.8667 - 12ms/epoch - 4ms/step\n",
      "Epoch 472/500\n",
      "3/3 - 0s - loss: 0.3425 - accuracy: 0.8667 - 12ms/epoch - 4ms/step\n",
      "Epoch 473/500\n",
      "3/3 - 0s - loss: 0.3282 - accuracy: 0.9000 - 12ms/epoch - 4ms/step\n",
      "Epoch 474/500\n",
      "3/3 - 0s - loss: 0.3226 - accuracy: 0.8778 - 12ms/epoch - 4ms/step\n",
      "Epoch 475/500\n",
      "3/3 - 0s - loss: 0.3387 - accuracy: 0.8667 - 12ms/epoch - 4ms/step\n",
      "Epoch 476/500\n",
      "3/3 - 0s - loss: 0.3049 - accuracy: 0.8889 - 14ms/epoch - 5ms/step\n",
      "Epoch 477/500\n",
      "3/3 - 0s - loss: 0.2953 - accuracy: 0.8889 - 13ms/epoch - 4ms/step\n",
      "Epoch 478/500\n",
      "3/3 - 0s - loss: 0.3367 - accuracy: 0.8778 - 12ms/epoch - 4ms/step\n",
      "Epoch 479/500\n",
      "3/3 - 0s - loss: 0.3149 - accuracy: 0.8778 - 13ms/epoch - 4ms/step\n",
      "Epoch 480/500\n",
      "3/3 - 0s - loss: 0.3081 - accuracy: 0.9000 - 12ms/epoch - 4ms/step\n",
      "Epoch 481/500\n",
      "3/3 - 0s - loss: 0.3078 - accuracy: 0.8667 - 13ms/epoch - 4ms/step\n",
      "Epoch 482/500\n",
      "3/3 - 0s - loss: 0.3596 - accuracy: 0.8778 - 14ms/epoch - 5ms/step\n",
      "Epoch 483/500\n",
      "3/3 - 0s - loss: 0.3335 - accuracy: 0.8889 - 12ms/epoch - 4ms/step\n",
      "Epoch 484/500\n",
      "3/3 - 0s - loss: 0.3439 - accuracy: 0.8556 - 13ms/epoch - 4ms/step\n",
      "Epoch 485/500\n",
      "3/3 - 0s - loss: 0.3133 - accuracy: 0.8667 - 12ms/epoch - 4ms/step\n",
      "Epoch 486/500\n",
      "3/3 - 0s - loss: 0.3020 - accuracy: 0.8667 - 12ms/epoch - 4ms/step\n",
      "Epoch 487/500\n",
      "3/3 - 0s - loss: 0.3582 - accuracy: 0.8778 - 13ms/epoch - 4ms/step\n",
      "Epoch 488/500\n",
      "3/3 - 0s - loss: 0.3191 - accuracy: 0.8778 - 14ms/epoch - 5ms/step\n",
      "Epoch 489/500\n",
      "3/3 - 0s - loss: 0.3220 - accuracy: 0.8778 - 14ms/epoch - 5ms/step\n",
      "Epoch 490/500\n",
      "3/3 - 0s - loss: 0.3100 - accuracy: 0.8778 - 13ms/epoch - 4ms/step\n",
      "Epoch 491/500\n",
      "3/3 - 0s - loss: 0.2927 - accuracy: 0.8889 - 14ms/epoch - 5ms/step\n",
      "Epoch 492/500\n",
      "3/3 - 0s - loss: 0.3141 - accuracy: 0.8778 - 12ms/epoch - 4ms/step\n",
      "Epoch 493/500\n",
      "3/3 - 0s - loss: 0.3022 - accuracy: 0.8778 - 13ms/epoch - 4ms/step\n",
      "Epoch 494/500\n",
      "3/3 - 0s - loss: 0.3005 - accuracy: 0.8556 - 13ms/epoch - 4ms/step\n",
      "Epoch 495/500\n",
      "3/3 - 0s - loss: 0.3327 - accuracy: 0.8667 - 14ms/epoch - 5ms/step\n",
      "Epoch 496/500\n",
      "3/3 - 0s - loss: 0.3766 - accuracy: 0.8556 - 13ms/epoch - 4ms/step\n",
      "Epoch 497/500\n",
      "3/3 - 0s - loss: 0.3131 - accuracy: 0.8667 - 14ms/epoch - 5ms/step\n",
      "Epoch 498/500\n",
      "3/3 - 0s - loss: 0.2877 - accuracy: 0.9000 - 13ms/epoch - 4ms/step\n",
      "Epoch 499/500\n",
      "3/3 - 0s - loss: 0.2848 - accuracy: 0.9000 - 13ms/epoch - 4ms/step\n",
      "Epoch 500/500\n",
      "3/3 - 0s - loss: 0.3774 - accuracy: 0.8556 - 14ms/epoch - 5ms/step\n"
     ]
    },
    {
     "data": {
      "text/plain": [
       "<keras.callbacks.History at 0x213c0aef340>"
      ]
     },
     "execution_count": 886,
     "metadata": {},
     "output_type": "execute_result"
    }
   ],
   "source": [
    "# compile network\n",
    "model.compile(loss='categorical_crossentropy', optimizer='adam', metrics=['accuracy'])\n",
    "\n",
    "# fit network\n",
    "model.fit(X, y, epochs=500, verbose=2)"
   ]
  },
  {
   "cell_type": "markdown",
   "metadata": {},
   "source": [
    "**Accuracy is not so high but enough for our purposes!**"
   ]
  },
  {
   "cell_type": "markdown",
   "metadata": {},
   "source": [
    "# Generate your text here!\n",
    "\n",
    "**It is only able to generate the sequence for the words that are part of the vocabulary. We are currently testing in Beta! **"
   ]
  },
  {
   "cell_type": "code",
   "execution_count": 887,
   "metadata": {},
   "outputs": [
    {
     "data": {
      "text/plain": [
       "[('políticos', 4),\n",
       " ('vizcarra', 4),\n",
       " ('gente', 4),\n",
       " ('confianz', 4),\n",
       " ('idoneidad', 2),\n",
       " ('candidatos', 2),\n",
       " ('determina', 2),\n",
       " ('claros', 1),\n",
       " ('décadas', 1),\n",
       " ('traición', 1)]"
      ]
     },
     "execution_count": 887,
     "metadata": {},
     "output_type": "execute_result"
    }
   ],
   "source": [
    "#pull some frequent words from the vocabulary\n",
    "allWordExceptStopDist.most_common(10)"
   ]
  },
  {
   "cell_type": "code",
   "execution_count": 889,
   "metadata": {},
   "outputs": [
    {
     "name": "stdout",
     "output_type": "stream",
     "text": [
      "What do you want to test? presidente\n"
     ]
    },
    {
     "ename": "AttributeError",
     "evalue": "'Sequential' object has no attribute 'predict_classes'",
     "output_type": "error",
     "traceback": [
      "\u001b[1;31m---------------------------------------------------------------------------\u001b[0m",
      "\u001b[1;31mAttributeError\u001b[0m                            Traceback (most recent call last)",
      "\u001b[1;32m~\\AppData\\Local\\Temp/ipykernel_1556/2204421814.py\u001b[0m in \u001b[0;36m<module>\u001b[1;34m\u001b[0m\n\u001b[0;32m      1\u001b[0m \u001b[0mstring\u001b[0m \u001b[1;33m=\u001b[0m \u001b[0minput\u001b[0m\u001b[1;33m(\u001b[0m\u001b[1;34m\"What do you want to test? \"\u001b[0m\u001b[1;33m)\u001b[0m\u001b[1;33m\u001b[0m\u001b[1;33m\u001b[0m\u001b[0m\n\u001b[1;32m----> 2\u001b[1;33m \u001b[0mprint\u001b[0m\u001b[1;33m(\u001b[0m\u001b[0mgenerate_seq\u001b[0m\u001b[1;33m(\u001b[0m\u001b[0mmodel\u001b[0m\u001b[1;33m,\u001b[0m \u001b[0mtokenizer\u001b[0m\u001b[1;33m,\u001b[0m \u001b[0mstring\u001b[0m \u001b[1;33m,\u001b[0m \u001b[1;36m5\u001b[0m\u001b[1;33m)\u001b[0m\u001b[1;33m)\u001b[0m \u001b[1;31m#give me 5 words in a sequence\u001b[0m\u001b[1;33m\u001b[0m\u001b[1;33m\u001b[0m\u001b[0m\n\u001b[0m",
      "\u001b[1;32m~\\AppData\\Local\\Temp/ipykernel_1556/1258116445.py\u001b[0m in \u001b[0;36mgenerate_seq\u001b[1;34m(model, tokenizer, seed_text, n_words)\u001b[0m\n\u001b[0;32m     10\u001b[0m \u001b[1;33m\u001b[0m\u001b[0m\n\u001b[0;32m     11\u001b[0m                 \u001b[1;31m# predict a word in the vocabulary\u001b[0m\u001b[1;33m\u001b[0m\u001b[1;33m\u001b[0m\u001b[0m\n\u001b[1;32m---> 12\u001b[1;33m                 \u001b[0myhat\u001b[0m \u001b[1;33m=\u001b[0m \u001b[0mmodel\u001b[0m\u001b[1;33m.\u001b[0m\u001b[0mpredict_classes\u001b[0m\u001b[1;33m(\u001b[0m\u001b[0mencoded\u001b[0m\u001b[1;33m,\u001b[0m \u001b[0mverbose\u001b[0m\u001b[1;33m=\u001b[0m\u001b[1;36m0\u001b[0m\u001b[1;33m)\u001b[0m\u001b[1;33m\u001b[0m\u001b[1;33m\u001b[0m\u001b[0m\n\u001b[0m\u001b[0;32m     13\u001b[0m \u001b[1;33m\u001b[0m\u001b[0m\n\u001b[0;32m     14\u001b[0m                 \u001b[1;31m# map predicted word index to word\u001b[0m\u001b[1;33m\u001b[0m\u001b[1;33m\u001b[0m\u001b[0m\n",
      "\u001b[1;31mAttributeError\u001b[0m: 'Sequential' object has no attribute 'predict_classes'"
     ]
    }
   ],
   "source": [
    "string = input(\"What do you want to test? \")\n",
    "print(generate_seq(model, tokenizer, string , 5)) #give me 5 words in a sequence"
   ]
  },
  {
   "cell_type": "markdown",
   "metadata": {},
   "source": [
    "\n",
    "\n",
    "While sentence does not follow correct syntactic rules it serves as an indicator what topics are sourrounding the presidential candidate Duque. It is related to the lack of jornalism for some years. A news agency could pick this hint up and investigate further. \n",
    "\n",
    "### Thank you for reading!"
   ]
  }
 ],
 "metadata": {
  "kernelspec": {
   "display_name": "Python 3 (ipykernel)",
   "language": "python",
   "name": "python3"
  },
  "language_info": {
   "codemirror_mode": {
    "name": "ipython",
    "version": 3
   },
   "file_extension": ".py",
   "mimetype": "text/x-python",
   "name": "python",
   "nbconvert_exporter": "python",
   "pygments_lexer": "ipython3",
   "version": "3.9.7"
  }
 },
 "nbformat": 4,
 "nbformat_minor": 2
}
