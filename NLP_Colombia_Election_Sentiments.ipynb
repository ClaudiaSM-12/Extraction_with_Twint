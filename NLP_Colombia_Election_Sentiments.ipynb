{
 "cells": [
  {
   "cell_type": "markdown",
   "metadata": {},
   "source": [
    "## ANALISIS DE SENTIMIENTOS CONTEXTO PERU"
   ]
  },
  {
   "cell_type": "markdown",
   "metadata": {},
   "source": [
    "## Librerias"
   ]
  },
  {
   "cell_type": "code",
   "execution_count": 1,
   "metadata": {},
   "outputs": [
    {
     "name": "stderr",
     "output_type": "stream",
     "text": [
      "C:\\Users\\claud\\Anaconda3\\lib\\site-packages\\scipy\\__init__.py:146: UserWarning: A NumPy version >=1.16.5 and <1.23.0 is required for this version of SciPy (detected version 1.23.2\n",
      "  warnings.warn(f\"A NumPy version >={np_minversion} and <{np_maxversion}\"\n"
     ]
    }
   ],
   "source": [
    "#import warnings\n",
    "#warnings.filterwarnings(\"ignore\")\n",
    "\n",
    "import pandas as pd\n",
    "import numpy as np\n",
    "\n",
    "#NLTK\n",
    "import nltk\n",
    "from nltk import word_tokenize, WordPunctTokenizer, regexp_tokenize\n",
    "from nltk import word_tokenize, WordPunctTokenizer, regexp_tokenize\n",
    "\n",
    "#Plotting \n",
    "import matplotlib.pyplot as plt\n",
    "from wordcloud import WordCloud, STOPWORDS\n",
    "\n",
    "#Keras\n",
    "from numpy import array\n",
    "from keras.preprocessing.text import Tokenizer\n",
    "from keras.utils import to_categorical\n",
    "from keras.models import Sequential\n",
    "from keras.layers import Dense\n",
    "from keras.layers import LSTM\n",
    "from keras.layers import Embedding"
   ]
  },
  {
   "cell_type": "code",
   "execution_count": 2,
   "metadata": {},
   "outputs": [],
   "source": [
    "#Funcion para cambiar valores de polaridad\n",
    "def Cambiar_valor_polaridad(x):\n",
    "    result = 0\n",
    "    if x == 'POS':\n",
    "        result = 1\n",
    "    elif x == 'NEG':\n",
    "        result = 0\n",
    "    elif x == 'NEU':\n",
    "        result =  -1\n",
    "    return result"
   ]
  },
  {
   "cell_type": "markdown",
   "metadata": {},
   "source": [
    "# DATASET PROPIO"
   ]
  },
  {
   "cell_type": "code",
   "execution_count": 104,
   "metadata": {},
   "outputs": [
    {
     "name": "stdout",
     "output_type": "stream",
     "text": [
      "2819\n",
      "2019\n"
     ]
    }
   ],
   "source": [
    "from sklearn.model_selection import train_test_split\n",
    "df = pd.read_csv(\"DF_pandemiaE.csv\")\n",
    "df = df[['id','tweet','target']]\n",
    "print(len(df))\n",
    "df = df[df['target'].isin(['POS','NEG'])]\n",
    "print(len(df))\n",
    "#df['polarity_value'] = df['target'].apply(lambda x: Cambiar_valor_polaridad(x))\n",
    "#df = df[df['target'].isin(['POS','NEG','NEU'])]\n",
    "#X_train, X_test, y_train, y_test = train_test_split(df[['id','tweet','target']], df['target'], stratify=df['target'], test_size=0.30)"
   ]
  },
  {
   "cell_type": "code",
   "execution_count": 4,
   "metadata": {},
   "outputs": [],
   "source": [
    "#X_train, X_test, y_train, y_test = cross_validation.train_test_split(Data, Target, test_size=0.3, random_state=0, stratify=Target)"
   ]
  },
  {
   "cell_type": "code",
   "execution_count": 105,
   "metadata": {},
   "outputs": [
    {
     "data": {
      "text/plain": [
       "NEG    1302\n",
       "POS     717\n",
       "Name: target, dtype: int64"
      ]
     },
     "execution_count": 105,
     "metadata": {},
     "output_type": "execute_result"
    }
   ],
   "source": [
    "df['target'].value_counts()"
   ]
  },
  {
   "cell_type": "markdown",
   "metadata": {},
   "source": [
    "# Processing Tweets"
   ]
  },
  {
   "cell_type": "markdown",
   "metadata": {},
   "source": [
    "Merge both datasets for pre-processing."
   ]
  },
  {
   "cell_type": "code",
   "execution_count": 107,
   "metadata": {
    "scrolled": true
   },
   "outputs": [
    {
     "data": {
      "text/html": [
       "<div>\n",
       "<style scoped>\n",
       "    .dataframe tbody tr th:only-of-type {\n",
       "        vertical-align: middle;\n",
       "    }\n",
       "\n",
       "    .dataframe tbody tr th {\n",
       "        vertical-align: top;\n",
       "    }\n",
       "\n",
       "    .dataframe thead th {\n",
       "        text-align: right;\n",
       "    }\n",
       "</style>\n",
       "<table border=\"1\" class=\"dataframe\">\n",
       "  <thead>\n",
       "    <tr style=\"text-align: right;\">\n",
       "      <th></th>\n",
       "      <th>id</th>\n",
       "      <th>tweet</th>\n",
       "      <th>target</th>\n",
       "      <th>processed_tweet</th>\n",
       "    </tr>\n",
       "  </thead>\n",
       "  <tbody>\n",
       "    <tr>\n",
       "      <th>2079</th>\n",
       "      <td>1489751199700115459</td>\n",
       "      <td>@PedroCastilloTe no comprende que la expectati...</td>\n",
       "      <td>NEG</td>\n",
       "      <td>@PedroCastilloTe no comprende que la expectati...</td>\n",
       "    </tr>\n",
       "    <tr>\n",
       "      <th>2128</th>\n",
       "      <td>1537161967818919936</td>\n",
       "      <td>Grave amenaza del ministro @FelixCheroM contra...</td>\n",
       "      <td>NEG</td>\n",
       "      <td>Grave amenaza del ministro @FelixCheroM contra...</td>\n",
       "    </tr>\n",
       "    <tr>\n",
       "      <th>2498</th>\n",
       "      <td>1300074380697927681</td>\n",
       "      <td>@ToniAlvaL @congresoperu Ministra, llama la at...</td>\n",
       "      <td>NEG</td>\n",
       "      <td>@ToniAlvaL @congresoperu Ministra, llama la at...</td>\n",
       "    </tr>\n",
       "    <tr>\n",
       "      <th>872</th>\n",
       "      <td>1233242985107730437</td>\n",
       "      <td>@jevedel @RPPNoticias Muchas gracias mi querid...</td>\n",
       "      <td>POS</td>\n",
       "      <td>@jevedel @RPPNoticias Muchas gracias mi querid...</td>\n",
       "    </tr>\n",
       "  </tbody>\n",
       "</table>\n",
       "</div>"
      ],
      "text/plain": [
       "                       id                                              tweet  \\\n",
       "2079  1489751199700115459  @PedroCastilloTe no comprende que la expectati...   \n",
       "2128  1537161967818919936  Grave amenaza del ministro @FelixCheroM contra...   \n",
       "2498  1300074380697927681  @ToniAlvaL @congresoperu Ministra, llama la at...   \n",
       "872   1233242985107730437  @jevedel @RPPNoticias Muchas gracias mi querid...   \n",
       "\n",
       "     target                                    processed_tweet  \n",
       "2079    NEG  @PedroCastilloTe no comprende que la expectati...  \n",
       "2128    NEG  Grave amenaza del ministro @FelixCheroM contra...  \n",
       "2498    NEG  @ToniAlvaL @congresoperu Ministra, llama la at...  \n",
       "872     POS  @jevedel @RPPNoticias Muchas gracias mi querid...  "
      ]
     },
     "execution_count": 107,
     "metadata": {},
     "output_type": "execute_result"
    }
   ],
   "source": [
    "#processed_tweets= pd.concat([pd.DataFrame({'tweetID':tweets.id, 'tweetText':tweets.tweet,'polarity_value':tweets.target, 'set':tweets.set}), \n",
    "#                             pd.DataFrame({'tweetID':train_set.tweet_id, 'tweetText':train_set.tweetText, 'polarity_value':train_set.polarity_value,'set':train_set.set})], ignore_index=True)\n",
    "#processed_tweets= pd.concat([pd.DataFrame({'tweetID':df_pandemia_train.id, 'tweetText':df_pandemia_train.tweet,'polarity_value':df_pandemia_train.target, 'set':df_pandemia_train.set}),\n",
    "#                             pd.DataFrame({'tweetID':df_pandemia_test.id, 'tweetText': df_pandemia_test.tweet, 'polarity_value':df_pandemia_test.target,'set':df_pandemia_test.set})], ignore_index=True)\n",
    "processed_tweets = df.copy()\n",
    "processed_tweets['processed_tweet'] = df.tweet\n",
    "#processed_tweets['processed_tweet'] = processed_tweets.tweetText\n",
    "processed_tweets.sample(4)"
   ]
  },
  {
   "cell_type": "markdown",
   "metadata": {},
   "source": [
    "### Hashtags"
   ]
  },
  {
   "cell_type": "code",
   "execution_count": 108,
   "metadata": {},
   "outputs": [],
   "source": [
    "import re\n",
    "hash_regex = re.compile(r\"#(\\w+)\")\n",
    "hstgs = [] # To store the hashtags so we can exclude them from some parts of the analysis\n",
    "def hash_repl(match):\n",
    "    _ = '__HASH_'+match.group(1).upper()\n",
    "    hstgs.append(_)\n",
    "    return _"
   ]
  },
  {
   "cell_type": "markdown",
   "metadata": {},
   "source": [
    "### User names"
   ]
  },
  {
   "cell_type": "code",
   "execution_count": 109,
   "metadata": {},
   "outputs": [],
   "source": [
    "user_regex = re.compile(r\"@(\\w+)\")\n",
    "usr_names = [] # To store the user names so we can exclude them from some parts of the analysis\n",
    "def user_repl(match):\n",
    "    _ = '__user_'+match.group(1).upper()\n",
    "    usr_names.append(_)\n",
    "    return _"
   ]
  },
  {
   "cell_type": "markdown",
   "metadata": {},
   "source": [
    "### URLs"
   ]
  },
  {
   "cell_type": "code",
   "execution_count": 151,
   "metadata": {},
   "outputs": [],
   "source": [
    "url_regex = re.compile(r\"(http|https|ftp)://[a-zA-Z0-9\\./]+\")\n",
    "def url_repl(match):\n",
    "    return '__URL_'"
   ]
  },
  {
   "cell_type": "code",
   "execution_count": 152,
   "metadata": {},
   "outputs": [
    {
     "data": {
      "text/html": [
       "<div>\n",
       "<style scoped>\n",
       "    .dataframe tbody tr th:only-of-type {\n",
       "        vertical-align: middle;\n",
       "    }\n",
       "\n",
       "    .dataframe tbody tr th {\n",
       "        vertical-align: top;\n",
       "    }\n",
       "\n",
       "    .dataframe thead th {\n",
       "        text-align: right;\n",
       "    }\n",
       "</style>\n",
       "<table border=\"1\" class=\"dataframe\">\n",
       "  <thead>\n",
       "    <tr style=\"text-align: right;\">\n",
       "      <th></th>\n",
       "      <th>id</th>\n",
       "      <th>tweet</th>\n",
       "      <th>target</th>\n",
       "      <th>processed_tweet</th>\n",
       "      <th>emojis_unicode</th>\n",
       "      <th>emojis_categories</th>\n",
       "      <th>processed_tweet_features</th>\n",
       "    </tr>\n",
       "  </thead>\n",
       "  <tbody>\n",
       "    <tr>\n",
       "      <th>0</th>\n",
       "      <td>1222241238092582914</td>\n",
       "      <td>Ministra @EHinostrozaP: \"Trabajamos en brindar...</td>\n",
       "      <td>POS</td>\n",
       "      <td>['ministr', '__user_EHINOSTROZAP', 'trabaj', '...</td>\n",
       "      <td>[U+1F923]</td>\n",
       "      <td>[face-positive]</td>\n",
       "      <td>{'has(ministr)': 1, 'has(__user_EHINOSTROZAP)'...</td>\n",
       "    </tr>\n",
       "    <tr>\n",
       "      <th>1</th>\n",
       "      <td>1222241227548045316</td>\n",
       "      <td>Desde #Independencia │ Mejoramos los servicios...</td>\n",
       "      <td>POS</td>\n",
       "      <td>['desd', '__HASH_INDEPENDENCIA', 'mejor', 'los...</td>\n",
       "      <td>[]</td>\n",
       "      <td>[no_emojis]</td>\n",
       "      <td>{'has(desd)': 1, 'has(__HASH_INDEPENDENCIA)': ...</td>\n",
       "    </tr>\n",
       "    <tr>\n",
       "      <th>2</th>\n",
       "      <td>1233130926697304064</td>\n",
       "      <td>También constató la operatividad del servicio ...</td>\n",
       "      <td>POS</td>\n",
       "      <td>['tambien', 'constat', 'operat', 'del', 'servi...</td>\n",
       "      <td>[]</td>\n",
       "      <td>[no_emojis]</td>\n",
       "      <td>{'has(tambien)': 1, 'has(constat)': 1, 'has(op...</td>\n",
       "    </tr>\n",
       "    <tr>\n",
       "      <th>3</th>\n",
       "      <td>1233100540827049987</td>\n",
       "      <td>En el Día del Tecnólogo Médico saludamos a los...</td>\n",
       "      <td>POS</td>\n",
       "      <td>['dia', 'del', 'tecnolog', 'medic', 'salud', '...</td>\n",
       "      <td>[U+1F44F]</td>\n",
       "      <td>[body]</td>\n",
       "      <td>{'has(dia)': 1, 'has(del)': 1, 'has(tecnolog)'...</td>\n",
       "    </tr>\n",
       "    <tr>\n",
       "      <th>4</th>\n",
       "      <td>1255271689119846401</td>\n",
       "      <td>#LaSaludNosUne Un total de 1.2 toneladas de eq...</td>\n",
       "      <td>POS</td>\n",
       "      <td>['__HASH_LASALUDNOSUNE', 'total', 'tonel', 'eq...</td>\n",
       "      <td>[U+1F4F2]</td>\n",
       "      <td>[phone]</td>\n",
       "      <td>{'has(__HASH_LASALUDNOSUNE)': 1, 'has(total)':...</td>\n",
       "    </tr>\n",
       "    <tr>\n",
       "      <th>...</th>\n",
       "      <td>...</td>\n",
       "      <td>...</td>\n",
       "      <td>...</td>\n",
       "      <td>...</td>\n",
       "      <td>...</td>\n",
       "      <td>...</td>\n",
       "      <td>...</td>\n",
       "    </tr>\n",
       "    <tr>\n",
       "      <th>2814</th>\n",
       "      <td>1554675632306470912</td>\n",
       "      <td>Tampoco se pasen, pues!  https://t.co/DJukDmuRyT</td>\n",
       "      <td>NEG</td>\n",
       "      <td>['tampoc', 'pas', 'pues', '__PUNC_EXCL', '__UR...</td>\n",
       "      <td>[]</td>\n",
       "      <td>[no_emojis]</td>\n",
       "      <td>{'has(tampoc)': 1, 'has(pas)': 1, 'has(pues)':...</td>\n",
       "    </tr>\n",
       "    <tr>\n",
       "      <th>2815</th>\n",
       "      <td>1554555115259961347</td>\n",
       "      <td>Qué bandido</td>\n",
       "      <td>NEG</td>\n",
       "      <td>['que', 'band']</td>\n",
       "      <td>[]</td>\n",
       "      <td>[no_emojis]</td>\n",
       "      <td>{'has(que)': 1, 'has(band)': 1, 'has(que,band)...</td>\n",
       "    </tr>\n",
       "    <tr>\n",
       "      <th>2816</th>\n",
       "      <td>1554509240613703685</td>\n",
       "      <td>Ahí vamos nuevamente…</td>\n",
       "      <td>POS</td>\n",
       "      <td>['ahi', 'vam', 'nuev', '__PUNC_ELLP']</td>\n",
       "      <td>[]</td>\n",
       "      <td>[no_emojis]</td>\n",
       "      <td>{'has(ahi)': 1, 'has(vam)': 1, 'has(nuev)': 1,...</td>\n",
       "    </tr>\n",
       "    <tr>\n",
       "      <th>2817</th>\n",
       "      <td>1554241053107953664</td>\n",
       "      <td>@ReloadPalza @BlackDeMenta Recontra falso ese ...</td>\n",
       "      <td>NEG</td>\n",
       "      <td>['__user_RELOADPALZA', '__user_BLACKDEMENTA', ...</td>\n",
       "      <td>[]</td>\n",
       "      <td>[no_emojis]</td>\n",
       "      <td>{'has(__user_RELOADPALZA)': 1, 'has(__user_BLA...</td>\n",
       "    </tr>\n",
       "    <tr>\n",
       "      <th>2818</th>\n",
       "      <td>1554155370469269505</td>\n",
       "      <td>@DiegoAcuOficial No hay duda sobre las infracc...</td>\n",
       "      <td>NEG</td>\n",
       "      <td>['__user_DIEGOACUOFICIAL', 'hay', 'dud', 'sobr...</td>\n",
       "      <td>[]</td>\n",
       "      <td>[no_emojis]</td>\n",
       "      <td>{'has(__user_DIEGOACUOFICIAL)': 1, 'has(hay)':...</td>\n",
       "    </tr>\n",
       "  </tbody>\n",
       "</table>\n",
       "<p>2019 rows × 7 columns</p>\n",
       "</div>"
      ],
      "text/plain": [
       "                       id                                              tweet  \\\n",
       "0     1222241238092582914  Ministra @EHinostrozaP: \"Trabajamos en brindar...   \n",
       "1     1222241227548045316  Desde #Independencia │ Mejoramos los servicios...   \n",
       "2     1233130926697304064  También constató la operatividad del servicio ...   \n",
       "3     1233100540827049987  En el Día del Tecnólogo Médico saludamos a los...   \n",
       "4     1255271689119846401  #LaSaludNosUne Un total de 1.2 toneladas de eq...   \n",
       "...                   ...                                                ...   \n",
       "2814  1554675632306470912   Tampoco se pasen, pues!  https://t.co/DJukDmuRyT   \n",
       "2815  1554555115259961347                                        Qué bandido   \n",
       "2816  1554509240613703685                              Ahí vamos nuevamente…   \n",
       "2817  1554241053107953664  @ReloadPalza @BlackDeMenta Recontra falso ese ...   \n",
       "2818  1554155370469269505  @DiegoAcuOficial No hay duda sobre las infracc...   \n",
       "\n",
       "     target                                    processed_tweet emojis_unicode  \\\n",
       "0       POS  ['ministr', '__user_EHINOSTROZAP', 'trabaj', '...      [U+1F923]   \n",
       "1       POS  ['desd', '__HASH_INDEPENDENCIA', 'mejor', 'los...             []   \n",
       "2       POS  ['tambien', 'constat', 'operat', 'del', 'servi...             []   \n",
       "3       POS  ['dia', 'del', 'tecnolog', 'medic', 'salud', '...      [U+1F44F]   \n",
       "4       POS  ['__HASH_LASALUDNOSUNE', 'total', 'tonel', 'eq...      [U+1F4F2]   \n",
       "...     ...                                                ...            ...   \n",
       "2814    NEG  ['tampoc', 'pas', 'pues', '__PUNC_EXCL', '__UR...             []   \n",
       "2815    NEG                                    ['que', 'band']             []   \n",
       "2816    POS              ['ahi', 'vam', 'nuev', '__PUNC_ELLP']             []   \n",
       "2817    NEG  ['__user_RELOADPALZA', '__user_BLACKDEMENTA', ...             []   \n",
       "2818    NEG  ['__user_DIEGOACUOFICIAL', 'hay', 'dud', 'sobr...             []   \n",
       "\n",
       "     emojis_categories                           processed_tweet_features  \n",
       "0      [face-positive]  {'has(ministr)': 1, 'has(__user_EHINOSTROZAP)'...  \n",
       "1          [no_emojis]  {'has(desd)': 1, 'has(__HASH_INDEPENDENCIA)': ...  \n",
       "2          [no_emojis]  {'has(tambien)': 1, 'has(constat)': 1, 'has(op...  \n",
       "3               [body]  {'has(dia)': 1, 'has(del)': 1, 'has(tecnolog)'...  \n",
       "4              [phone]  {'has(__HASH_LASALUDNOSUNE)': 1, 'has(total)':...  \n",
       "...                ...                                                ...  \n",
       "2814       [no_emojis]  {'has(tampoc)': 1, 'has(pas)': 1, 'has(pues)':...  \n",
       "2815       [no_emojis]  {'has(que)': 1, 'has(band)': 1, 'has(que,band)...  \n",
       "2816       [no_emojis]  {'has(ahi)': 1, 'has(vam)': 1, 'has(nuev)': 1,...  \n",
       "2817       [no_emojis]  {'has(__user_RELOADPALZA)': 1, 'has(__user_BLA...  \n",
       "2818       [no_emojis]  {'has(__user_DIEGOACUOFICIAL)': 1, 'has(hay)':...  \n",
       "\n",
       "[2019 rows x 7 columns]"
      ]
     },
     "execution_count": 152,
     "metadata": {},
     "output_type": "execute_result"
    }
   ],
   "source": [
    "#processed_tweets['processed_tweet'] = [re.sub(url_regex, url_repl, str(s)) for s in processed_tweets.processed_tweet]\n",
    "#processed_tweets"
   ]
  },
  {
   "cell_type": "markdown",
   "metadata": {},
   "source": [
    "### Reppppppppetitions"
   ]
  },
  {
   "cell_type": "code",
   "execution_count": 112,
   "metadata": {},
   "outputs": [],
   "source": [
    "# Repeating words like hurrrryyyyyy\n",
    "rpt_regex = re.compile(r\"(.)\\1{1,}\", re.IGNORECASE);\n",
    "def rpt_repl(match):\n",
    "    return match.group(1)+match.group(1)"
   ]
  },
  {
   "cell_type": "code",
   "execution_count": 113,
   "metadata": {},
   "outputs": [
    {
     "data": {
      "text/plain": [
       "'Reppeated characters in wordss'"
      ]
     },
     "execution_count": 113,
     "metadata": {},
     "output_type": "execute_result"
    }
   ],
   "source": [
    "# Test\n",
    "re.sub(rpt_regex, rpt_repl, \"Reppppeated characters in wordsssssssss\" )"
   ]
  },
  {
   "cell_type": "markdown",
   "metadata": {},
   "source": [
    "### Punctuation"
   ]
  },
  {
   "cell_type": "code",
   "execution_count": 114,
   "metadata": {},
   "outputs": [],
   "source": [
    "# Spliting by word boundaries\n",
    "word_bound_regex = re.compile(r\"\\W+\")\n",
    "\n",
    "# Punctuations\n",
    "punctuations = \\\n",
    "\t[\t#('',\t\t['.', ] )\t,\\\n",
    "\t\t#('',\t\t[',', ] )\t,\\\n",
    "\t\t#('',\t\t['\\'', '\\\"', ] )\t,\\\n",
    "\t\t('__PUNC_EXCL',\t\t['!', '¡', ] )\t,\\\n",
    "\t\t('__PUNC_QUES',\t\t['?', '¿', ] )\t,\\\n",
    "\t\t('__PUNC_ELLP',\t\t['...', '…', ] )\t,\\\n",
    "\t]\n",
    "\n",
    "#For punctuation replacement\n",
    "def punctuations_repl(match):\n",
    "\ttext = match.group(0)\n",
    "\trepl = []\n",
    "\tfor (key, parr) in punctuations :\n",
    "\t\tfor punc in parr :\n",
    "\t\t\tif punc in text:\n",
    "\t\t\t\trepl.append(key)\n",
    "\tif( len(repl)>0 ) :\n",
    "\t\treturn ' '+' '.join(repl)+' '\n",
    "\telse :\n",
    "\t\treturn ' '"
   ]
  },
  {
   "cell_type": "code",
   "execution_count": 115,
   "metadata": {},
   "outputs": [],
   "source": [
    "processed_tweets['processed_tweet'] = [re.sub(word_bound_regex, punctuations_repl, str(s)) for s in processed_tweets.processed_tweet]"
   ]
  },
  {
   "cell_type": "markdown",
   "metadata": {},
   "source": [
    "### Stemming\n",
    "As there is no spanish language for PorterStemmer, go with snowball!"
   ]
  },
  {
   "cell_type": "code",
   "execution_count": 116,
   "metadata": {},
   "outputs": [],
   "source": [
    "from nltk.stem import SnowballStemmer\n",
    "stemmer = SnowballStemmer('spanish')"
   ]
  },
  {
   "cell_type": "code",
   "execution_count": 117,
   "metadata": {},
   "outputs": [
    {
     "name": "stdout",
     "output_type": "stream",
     "text": [
      "En el frente están primeros Su espada el conocimiento Blanco y rojo sentimiento de la salud sus guerreros Hoy en el DíaMundialDeLaSalud mi reconocimiento y respaldo a ustedes nuestros HéroesDeLaSalud https t co 6HjCAcw2on\n",
      "------------------\n",
      "frent estan primer espad conoc blanc roj sentimient salud sus guerrer hoy diamundialdelasalud reconoc respald usted nuestr heroesdelasalud https 6hjcacw2on\n"
     ]
    }
   ],
   "source": [
    "# Test\n",
    "text = processed_tweets.processed_tweet[245]\n",
    "print(text)\n",
    "text = [word if(word[0:2]=='__') else word.lower() for word in text.split() if ((len(word) >= 3) and (word not in usr_names))]\n",
    "text = [stemmer.stem(w) for w in text]                \n",
    "text = \" \".join(text)\n",
    "print('------------------')\n",
    "print(text)"
   ]
  },
  {
   "cell_type": "code",
   "execution_count": 118,
   "metadata": {},
   "outputs": [],
   "source": [
    "def sb_stem(text, only_first=0):\n",
    "    text = [word if(word[0:2]=='__') else word.lower() for word in text.split() if ((len(word) >= 3) or (word in ['no','si', 'sí', 'ni']))] #   If we are doing negation analysis, maybe is a better idea to keep the small words (like 'no')\n",
    "    text = [stemmer.stem(w) if w[0:2]!='__' else w for w in text ]\n",
    "    \n",
    "    return(text)"
   ]
  },
  {
   "cell_type": "code",
   "execution_count": 119,
   "metadata": {},
   "outputs": [],
   "source": [
    "processed_tweets['processed_tweet'] = processed_tweets.processed_tweet.apply(sb_stem)"
   ]
  },
  {
   "cell_type": "code",
   "execution_count": 120,
   "metadata": {},
   "outputs": [],
   "source": [
    "def processAll(text):\n",
    "    text = re.sub( hash_regex, hash_repl, text )\n",
    "    text = re.sub( user_regex, user_repl, text)\n",
    "    text = re.sub( url_regex, url_repl, text )\n",
    "    \n",
    "    text = text.replace('\\'','')\n",
    "    \n",
    "    text = re.sub( word_bound_regex , punctuations_repl, text )\n",
    "    text = re.sub( rpt_regex, rpt_repl, text )\n",
    "    \n",
    "    text = sb_stem(text)    \n",
    "    return text"
   ]
  },
  {
   "cell_type": "markdown",
   "metadata": {},
   "source": [
    "### Process tweets"
   ]
  },
  {
   "cell_type": "markdown",
   "metadata": {},
   "source": [
    "Now we can process the tweets with the recently created functions"
   ]
  },
  {
   "cell_type": "code",
   "execution_count": 121,
   "metadata": {},
   "outputs": [],
   "source": [
    "processed_tweets['processed_tweet'] = processed_tweets.tweet.apply(processAll)"
   ]
  },
  {
   "cell_type": "code",
   "execution_count": 122,
   "metadata": {},
   "outputs": [],
   "source": [
    "#check\n",
    "#processed_tweets.sample(4)"
   ]
  },
  {
   "cell_type": "markdown",
   "metadata": {},
   "source": [
    "## Feature Creation"
   ]
  },
  {
   "cell_type": "markdown",
   "metadata": {},
   "source": [
    "### Emoticons"
   ]
  },
  {
   "cell_type": "markdown",
   "metadata": {},
   "source": [
    "Emojis on the Spanish tweets, unlike on the Colombian ones, are stored as combinations of characters, such as :) . We will try to put them all on the same page for the feature engineering. That is, we will translate them to their Unicode value. Let's begin with the spanish ones."
   ]
  },
  {
   "cell_type": "code",
   "execution_count": 123,
   "metadata": {},
   "outputs": [],
   "source": [
    "# Emoticons\n",
    "emoticons = \\\n",
    "\t[\t# For __EMOT_SMILEY\n",
    "        (' __emoji: U+1F601',\t[':-)', ':)', '(:', '(-:', ] )\t,\\\n",
    "        # for __EMOT_LAUGH\n",
    "\t\t(' __emoji: U+1F923',\t\t[':-D', ':D', 'X-D', 'XD', 'xD', ] )\t,\\\n",
    "        # For __EMOT_LOVE\n",
    "\t\t(' __emoji: U+2764',\t\t['<3', ':\\*', ] )\t,\\\n",
    "        # For __EMOT_WINK\n",
    "\t\t('__emoji: U+1F609',\t\t[';-)', ';)', ';-D', ';D', '(;', '(-;', ] )\t,\\\n",
    "        # For __EMOT_FROWN\n",
    "\t\t(' __emoji: U+2639',\t\t[':-(', ':(', '(:', '(-:', ] )\t,\\\n",
    "        # For __EMOT_CRY\n",
    "\t\t(' __emoji: U+1F622',\t\t[':,(', ':\\'(', ':\"(', ':(('] )\t,\\\n",
    "\t]\n",
    "    \n",
    "def escape_paren(arr):\n",
    "\treturn [text.replace(')', '[)}\\]]').replace('(', '[({\\[]') for text in arr]\n",
    "\n",
    "def regex_union(arr):\n",
    "\treturn '(' + '|'.join( arr ) + ')'\n",
    "\n",
    "emoticons_regex = [ (repl, re.compile(regex_union(escape_paren(regx))) ) for (repl, regx) in emoticons ]"
   ]
  },
  {
   "cell_type": "code",
   "execution_count": 124,
   "metadata": {},
   "outputs": [
    {
     "name": "stdout",
     "output_type": "stream",
     "text": [
      "This is a text with one emoticon   __emoji: U+1F601  and another   __emoji: U+2639 \n"
     ]
    }
   ],
   "source": [
    "# Test\n",
    "text = \"This is a text with one emoticon :) and another :(\"\n",
    "for (repl, regx) in emoticons_regex :\n",
    "    text = re.sub(regx, ' '+repl+' ', text)\n",
    "    \n",
    "print(text)"
   ]
  },
  {
   "cell_type": "markdown",
   "metadata": {},
   "source": [
    "Now we can do something similar for the Colombian tweets, we will translate them to their respective  unicode values:"
   ]
  },
  {
   "cell_type": "code",
   "execution_count": 125,
   "metadata": {},
   "outputs": [
    {
     "data": {
      "text/html": [
       "<div>\n",
       "<style scoped>\n",
       "    .dataframe tbody tr th:only-of-type {\n",
       "        vertical-align: middle;\n",
       "    }\n",
       "\n",
       "    .dataframe tbody tr th {\n",
       "        vertical-align: top;\n",
       "    }\n",
       "\n",
       "    .dataframe thead th {\n",
       "        text-align: right;\n",
       "    }\n",
       "</style>\n",
       "<table border=\"1\" class=\"dataframe\">\n",
       "  <thead>\n",
       "    <tr style=\"text-align: right;\">\n",
       "      <th></th>\n",
       "      <th>emoji_category</th>\n",
       "      <th>number</th>\n",
       "      <th>code</th>\n",
       "      <th>CLDR_Short_Name</th>\n",
       "    </tr>\n",
       "  </thead>\n",
       "  <tbody>\n",
       "    <tr>\n",
       "      <th>0</th>\n",
       "      <td>face-positive</td>\n",
       "      <td>1</td>\n",
       "      <td>U+1F600</td>\n",
       "      <td>grinning face</td>\n",
       "    </tr>\n",
       "    <tr>\n",
       "      <th>1</th>\n",
       "      <td>face-positive</td>\n",
       "      <td>2</td>\n",
       "      <td>U+1F601</td>\n",
       "      <td>beaming face with smiling eyes</td>\n",
       "    </tr>\n",
       "    <tr>\n",
       "      <th>2</th>\n",
       "      <td>face-positive</td>\n",
       "      <td>3</td>\n",
       "      <td>U+1F602</td>\n",
       "      <td>face with tears of joy</td>\n",
       "    </tr>\n",
       "    <tr>\n",
       "      <th>3</th>\n",
       "      <td>face-positive</td>\n",
       "      <td>4</td>\n",
       "      <td>U+1F923</td>\n",
       "      <td>rolling on the floor laughing</td>\n",
       "    </tr>\n",
       "    <tr>\n",
       "      <th>4</th>\n",
       "      <td>face-positive</td>\n",
       "      <td>5</td>\n",
       "      <td>U+1F603</td>\n",
       "      <td>grinning face with big eyes</td>\n",
       "    </tr>\n",
       "  </tbody>\n",
       "</table>\n",
       "</div>"
      ],
      "text/plain": [
       "  emoji_category  number     code                 CLDR_Short_Name\n",
       "0  face-positive       1  U+1F600                   grinning face\n",
       "1  face-positive       2  U+1F601  beaming face with smiling eyes\n",
       "2  face-positive       3  U+1F602          face with tears of joy\n",
       "3  face-positive       4  U+1F923   rolling on the floor laughing\n",
       "4  face-positive       5  U+1F603     grinning face with big eyes"
      ]
     },
     "execution_count": 125,
     "metadata": {},
     "output_type": "execute_result"
    }
   ],
   "source": [
    "# data scraped from http://www.unicode.org/emoji/charts/full-emoji-list.html\n",
    "emojis_db=pd.read_csv('emojis_db_csv.csv')\n",
    "emojis_db.head()"
   ]
  },
  {
   "cell_type": "code",
   "execution_count": 126,
   "metadata": {},
   "outputs": [
    {
     "data": {
      "text/plain": [
       "array(['face-positive', 'face-neutral', 'face-negative', 'face-sick',\n",
       "       'face-role', 'face-fantasy', 'cat-face', 'monkey-face', 'person',\n",
       "       'person-role', 'person-fantasy', 'person-gesture',\n",
       "       'person-activity', 'person-sport', 'family', 'body', 'hair-style',\n",
       "       'emotion', 'clothing', 'animal-mammal', 'animal-bird',\n",
       "       'animal-amphibian', 'animal-reptile', 'animal-marine',\n",
       "       'animal-bug', 'plant-flower', 'plant-other', 'food-fruit',\n",
       "       'food-vegetable', 'food-prepared', 'food-asian', 'food-sweet',\n",
       "       'drink', 'dishware', 'place-map', 'place-geographic',\n",
       "       'place-building', 'place-religious', 'place-other',\n",
       "       'transport-ground', 'transport-water', 'transport-air', 'hotel',\n",
       "       'time', 'sky & weather', 'event', 'award-medal', 'sport', 'game',\n",
       "       'arts & crafts', 'sound', 'music', 'musical-instrument', 'phone',\n",
       "       'computer', 'light & video', 'book-paper', 'money', 'mail',\n",
       "       'writing', 'office', 'lock', 'tool', 'science', 'medical',\n",
       "       'household', 'other-object', 'transport-sign', 'warning', 'arrow',\n",
       "       'religion', 'zodiac', 'av-symbol', 'other-symbol', 'keycap',\n",
       "       'alphanum', 'geometric', 'flag', 'country-flag',\n",
       "       'subdivision-flag'], dtype=object)"
      ]
     },
     "execution_count": 126,
     "metadata": {},
     "output_type": "execute_result"
    }
   ],
   "source": [
    "emojis_db.emoji_category.unique()"
   ]
  },
  {
   "cell_type": "markdown",
   "metadata": {},
   "source": [
    "Emojis present on tweets on the colombian dataset are encoded as the actual emoji image, the following function will extract the unicode from each emoji so we can use it as a feature."
   ]
  },
  {
   "cell_type": "code",
   "execution_count": 127,
   "metadata": {},
   "outputs": [],
   "source": [
    "def emojis_unicode(tweet):\n",
    "    ''' Extracts the emojis on the tweet on Unicode format, also tries to match those in regular format, such as \";)\" '''\n",
    "    for (repl, regx) in emoticons_regex :\n",
    "        tweet = re.sub(regx, ' '+repl+' ', tweet)\n",
    "#     print(tweet)\n",
    "\n",
    "    tweet_unicode = str(tweet.encode('unicode-escape'))\n",
    "    tweet_unicode = tweet_unicode.replace('\\\\\\\\U000',' __emoji: U+')\n",
    "#     print(tweet_unicode)\n",
    "    \n",
    "    emoji_list = []\n",
    "#     print(tweet)\n",
    "    for emoji in range(tweet_unicode.count(' __emoji: ')):\n",
    "        em = tweet_unicode.split('__emoji: ')[emoji+1].split()[0]\n",
    "        em = em[:7] # the len of the emoji in unicode is between 6 and 7\n",
    "        emoji_list.append(em.upper())\n",
    "    return emoji_list"
   ]
  },
  {
   "cell_type": "code",
   "execution_count": 128,
   "metadata": {},
   "outputs": [
    {
     "data": {
      "text/plain": [
       "['U+1F601', 'U+2639', 'U+1F621', 'U+1F923', 'U+1F602']"
      ]
     },
     "execution_count": 128,
     "metadata": {},
     "output_type": "execute_result"
    }
   ],
   "source": [
    "# Test\n",
    "text = \"This is a text with one emoticon :) and another :( and some others: 😡 🤣😂\"\n",
    "emojis_unicode(text)"
   ]
  },
  {
   "cell_type": "code",
   "execution_count": 129,
   "metadata": {},
   "outputs": [],
   "source": [
    "processed_tweets['emojis_unicode'] = processed_tweets.tweet.apply(emojis_unicode) # np.vectorize(emojis_unicode)(processed_tweets['tweetText'])"
   ]
  },
  {
   "cell_type": "markdown",
   "metadata": {},
   "source": [
    "Now we can get the category of the extracted emojis"
   ]
  },
  {
   "cell_type": "code",
   "execution_count": 130,
   "metadata": {
    "scrolled": true
   },
   "outputs": [
    {
     "data": {
      "text/plain": [
       "['face-positive',\n",
       " 'face-negative',\n",
       " 'face-negative',\n",
       " 'face-positive',\n",
       " 'face-positive']"
      ]
     },
     "execution_count": 130,
     "metadata": {},
     "output_type": "execute_result"
    }
   ],
   "source": [
    "def emoji_category(emojis):\n",
    "    categories = []\n",
    "    for i in range(len(emojis)):\n",
    "        # print(emojis[i])\n",
    "        try:\n",
    "            categories.append(emojis_db.loc[emojis_db.code == emojis[i]].emoji_category.values[0])\n",
    "        except:\n",
    "            try:\n",
    "                _ = emojis[i].split('+')[1] + '+'\n",
    "                categories.append(emojis_db[emojis_db.code.str.contains(_)].emoji_category.values[0])\n",
    "            except:\n",
    "                categories.append('other')\n",
    "    if len(categories) < 1:\n",
    "        categories.append('no_emojis')\n",
    "    return categories\n",
    "\n",
    "emoji_category(emojis_unicode(text))"
   ]
  },
  {
   "cell_type": "code",
   "execution_count": 131,
   "metadata": {},
   "outputs": [],
   "source": [
    "processed_tweets['emojis_categories'] = processed_tweets.emojis_unicode.apply(emoji_category)"
   ]
  },
  {
   "cell_type": "code",
   "execution_count": 132,
   "metadata": {
    "scrolled": false
   },
   "outputs": [
    {
     "data": {
      "text/html": [
       "<div>\n",
       "<style scoped>\n",
       "    .dataframe tbody tr th:only-of-type {\n",
       "        vertical-align: middle;\n",
       "    }\n",
       "\n",
       "    .dataframe tbody tr th {\n",
       "        vertical-align: top;\n",
       "    }\n",
       "\n",
       "    .dataframe thead th {\n",
       "        text-align: right;\n",
       "    }\n",
       "</style>\n",
       "<table border=\"1\" class=\"dataframe\">\n",
       "  <thead>\n",
       "    <tr style=\"text-align: right;\">\n",
       "      <th></th>\n",
       "      <th>id</th>\n",
       "      <th>tweet</th>\n",
       "      <th>target</th>\n",
       "      <th>processed_tweet</th>\n",
       "      <th>emojis_unicode</th>\n",
       "      <th>emojis_categories</th>\n",
       "    </tr>\n",
       "  </thead>\n",
       "  <tbody>\n",
       "    <tr>\n",
       "      <th>0</th>\n",
       "      <td>1222241238092582914</td>\n",
       "      <td>Ministra @EHinostrozaP: \"Trabajamos en brindar...</td>\n",
       "      <td>POS</td>\n",
       "      <td>[ministr, __user_EHINOSTROZAP, trabaj, brind, ...</td>\n",
       "      <td>[U+1F923]</td>\n",
       "      <td>[face-positive]</td>\n",
       "    </tr>\n",
       "    <tr>\n",
       "      <th>1</th>\n",
       "      <td>1222241227548045316</td>\n",
       "      <td>Desde #Independencia │ Mejoramos los servicios...</td>\n",
       "      <td>POS</td>\n",
       "      <td>[desd, __HASH_INDEPENDENCIA, mejor, los, servi...</td>\n",
       "      <td>[]</td>\n",
       "      <td>[no_emojis]</td>\n",
       "    </tr>\n",
       "    <tr>\n",
       "      <th>2</th>\n",
       "      <td>1233130926697304064</td>\n",
       "      <td>También constató la operatividad del servicio ...</td>\n",
       "      <td>POS</td>\n",
       "      <td>[tambien, constat, operat, del, servici, teles...</td>\n",
       "      <td>[]</td>\n",
       "      <td>[no_emojis]</td>\n",
       "    </tr>\n",
       "    <tr>\n",
       "      <th>3</th>\n",
       "      <td>1233100540827049987</td>\n",
       "      <td>En el Día del Tecnólogo Médico saludamos a los...</td>\n",
       "      <td>POS</td>\n",
       "      <td>[dia, del, tecnolog, medic, salud, los, profes...</td>\n",
       "      <td>[U+1F44F]</td>\n",
       "      <td>[body]</td>\n",
       "    </tr>\n",
       "    <tr>\n",
       "      <th>4</th>\n",
       "      <td>1255271689119846401</td>\n",
       "      <td>#LaSaludNosUne Un total de 1.2 toneladas de eq...</td>\n",
       "      <td>POS</td>\n",
       "      <td>[__HASH_LASALUDNOSUNE, total, tonel, equip, pr...</td>\n",
       "      <td>[U+1F4F2]</td>\n",
       "      <td>[phone]</td>\n",
       "    </tr>\n",
       "  </tbody>\n",
       "</table>\n",
       "</div>"
      ],
      "text/plain": [
       "                    id                                              tweet  \\\n",
       "0  1222241238092582914  Ministra @EHinostrozaP: \"Trabajamos en brindar...   \n",
       "1  1222241227548045316  Desde #Independencia │ Mejoramos los servicios...   \n",
       "2  1233130926697304064  También constató la operatividad del servicio ...   \n",
       "3  1233100540827049987  En el Día del Tecnólogo Médico saludamos a los...   \n",
       "4  1255271689119846401  #LaSaludNosUne Un total de 1.2 toneladas de eq...   \n",
       "\n",
       "  target                                    processed_tweet emojis_unicode  \\\n",
       "0    POS  [ministr, __user_EHINOSTROZAP, trabaj, brind, ...      [U+1F923]   \n",
       "1    POS  [desd, __HASH_INDEPENDENCIA, mejor, los, servi...             []   \n",
       "2    POS  [tambien, constat, operat, del, servici, teles...             []   \n",
       "3    POS  [dia, del, tecnolog, medic, salud, los, profes...      [U+1F44F]   \n",
       "4    POS  [__HASH_LASALUDNOSUNE, total, tonel, equip, pr...      [U+1F4F2]   \n",
       "\n",
       "  emojis_categories  \n",
       "0   [face-positive]  \n",
       "1       [no_emojis]  \n",
       "2       [no_emojis]  \n",
       "3            [body]  \n",
       "4           [phone]  "
      ]
     },
     "execution_count": 132,
     "metadata": {},
     "output_type": "execute_result"
    }
   ],
   "source": [
    "processed_tweets.head()"
   ]
  },
  {
   "cell_type": "markdown",
   "metadata": {},
   "source": [
    "### N-grams"
   ]
  },
  {
   "cell_type": "code",
   "execution_count": 133,
   "metadata": {
    "scrolled": true
   },
   "outputs": [],
   "source": [
    "# Unigrams\n",
    "unigrams_fd = nltk.FreqDist()\n",
    "# unigrams_fd.update(text)\n",
    "# unigrams_fd\n",
    "\n",
    "# Bigrams\n",
    "# words_bi  = [ ','.join(map(str,bg)) for bg in nltk.bigrams(text) ]\n",
    "bi_grams_fd = nltk.FreqDist()\n",
    "# bi_grams_fd.update( words_bi )\n",
    "# bi_grams_fd\n",
    "\n",
    "# Trigrams\n",
    "# words_tri  = [ ','.join(map(str,tg)) for tg in nltk.trigrams(text) ]\n",
    "tri_grams_fd = nltk.FreqDist()\n",
    "# tri_grams_fd.update( words_tri )\n",
    "# tri_grams_fd"
   ]
  },
  {
   "cell_type": "code",
   "execution_count": 134,
   "metadata": {},
   "outputs": [],
   "source": [
    "# Wrapper function that encloses all the n-grams procedures\n",
    "def get_word_features(words):\n",
    "    bag = {}\n",
    "    words_uni = [ 'has(%s)'% ug for ug in words ]\n",
    "    words_bi  = [ 'has(%s)'% ','.join(map(str,bg)) for bg in nltk.bigrams(words) ]\n",
    "    words_tri = [ 'has(%s)'% ','.join(map(str,tg)) for tg in nltk.trigrams(words) ]\n",
    "    \n",
    "    for f in words_uni+words_bi+words_tri:\n",
    "        bag[f] = 1\n",
    "\n",
    "    return bag"
   ]
  },
  {
   "cell_type": "markdown",
   "metadata": {},
   "source": [
    "### Negation"
   ]
  },
  {
   "cell_type": "code",
   "execution_count": 135,
   "metadata": {},
   "outputs": [
    {
     "data": {
      "text/plain": [
       "['nunc', 'no', 'nad', 'ningun', 'ningun', 'ningun', 'tampoc']"
      ]
     },
     "execution_count": 135,
     "metadata": {},
     "output_type": "execute_result"
    }
   ],
   "source": [
    "sb_stem('nunca no nada ningún ninguno ninguna tampoco')"
   ]
  },
  {
   "cell_type": "code",
   "execution_count": 136,
   "metadata": {},
   "outputs": [],
   "source": [
    "negtn_regex = re.compile( r\"\"\"(?:\n",
    "    ^(?:nunca|no|nada|ningún|ninguno|ninguna|tampoco|\n",
    "        nunc|nad|ningun|tampoc\n",
    "    )$\n",
    ")\n",
    "|\n",
    "n't\n",
    "\"\"\", re.X)\n",
    "\n",
    "def get_negation_features(words):\n",
    "    INF = 0.0\n",
    "    negtn = [ bool(negtn_regex.search(w)) for w in words ]\n",
    "\n",
    "    left = [0.0] * len(words)\n",
    "    prev = 0.0\n",
    "    for i in range(0,len(words)):\n",
    "        if( negtn[i] ):\n",
    "            prev = 1.0\n",
    "        left[i] = prev\n",
    "        prev = max( 0.0, prev-0.1)\n",
    "\n",
    "    right = [0.0] * len(words)\n",
    "    prev = 0.0\n",
    "    for i in reversed(range(0,len(words))):\n",
    "        if( negtn[i] ):\n",
    "            prev = 1.0\n",
    "        right[i] = prev\n",
    "        prev = max( 0.0, prev-0.1)\n",
    "\n",
    "    return dict( zip(\n",
    "                    ['neg_l('+w+')' for w in  words] + ['neg_r('+w+')' for w in  words],\n",
    "                    left + right ) )"
   ]
  },
  {
   "cell_type": "code",
   "execution_count": 137,
   "metadata": {},
   "outputs": [
    {
     "data": {
      "text/plain": [
       "{'neg_l(Este)': 0.0,\n",
       " 'neg_l(tweet)': 0.0,\n",
       " 'neg_l(no)': 1.0,\n",
       " 'neg_l(es)': 0.9,\n",
       " 'neg_l(positivo)': 0.8,\n",
       " 'neg_r(Este)': 0.8,\n",
       " 'neg_r(tweet)': 0.9,\n",
       " 'neg_r(no)': 1.0,\n",
       " 'neg_r(es)': 0.0,\n",
       " 'neg_r(positivo)': 0.0}"
      ]
     },
     "execution_count": 137,
     "metadata": {},
     "output_type": "execute_result"
    }
   ],
   "source": [
    "# Test\n",
    "text = [\"Este\",\"tweet\", \"no\", \"es\", \"positivo\"]\n",
    "get_negation_features(text)"
   ]
  },
  {
   "cell_type": "markdown",
   "metadata": {},
   "source": [
    "### Polarity"
   ]
  },
  {
   "cell_type": "markdown",
   "metadata": {},
   "source": [
    "We tried using the spanish sentiment lexicon from http://www.opener-project.eu/ but it didn't improve the results on any of the algorithms. Maybe due to the fact that spanish from Spain is different from the spanish spoken in Colombia."
   ]
  },
  {
   "cell_type": "code",
   "execution_count": 138,
   "metadata": {},
   "outputs": [
    {
     "data": {
      "text/html": [
       "<div>\n",
       "<style scoped>\n",
       "    .dataframe tbody tr th:only-of-type {\n",
       "        vertical-align: middle;\n",
       "    }\n",
       "\n",
       "    .dataframe tbody tr th {\n",
       "        vertical-align: top;\n",
       "    }\n",
       "\n",
       "    .dataframe thead th {\n",
       "        text-align: right;\n",
       "    }\n",
       "</style>\n",
       "<table border=\"1\" class=\"dataframe\">\n",
       "  <thead>\n",
       "    <tr style=\"text-align: right;\">\n",
       "      <th></th>\n",
       "      <th>x</th>\n",
       "      <th>pos</th>\n",
       "      <th>polarity</th>\n",
       "      <th>xx</th>\n",
       "      <th>word</th>\n",
       "      <th>xxx</th>\n",
       "    </tr>\n",
       "  </thead>\n",
       "  <tbody>\n",
       "    <tr>\n",
       "      <th>0</th>\n",
       "      <td>unknown</td>\n",
       "      <td>n</td>\n",
       "      <td>positive</td>\n",
       "      <td>1.0</td>\n",
       "      <td>felicitación</td>\n",
       "      <td>1</td>\n",
       "    </tr>\n",
       "    <tr>\n",
       "      <th>1</th>\n",
       "      <td>unknown</td>\n",
       "      <td>a</td>\n",
       "      <td>negative</td>\n",
       "      <td>1.0</td>\n",
       "      <td>inconsciente</td>\n",
       "      <td>1</td>\n",
       "    </tr>\n",
       "    <tr>\n",
       "      <th>2</th>\n",
       "      <td>unknown</td>\n",
       "      <td>n</td>\n",
       "      <td>neutral</td>\n",
       "      <td>1.0</td>\n",
       "      <td>soporte</td>\n",
       "      <td>1</td>\n",
       "    </tr>\n",
       "    <tr>\n",
       "      <th>3</th>\n",
       "      <td>unknown</td>\n",
       "      <td>n</td>\n",
       "      <td>neutral</td>\n",
       "      <td>1.0</td>\n",
       "      <td>proceso_matemático</td>\n",
       "      <td>1</td>\n",
       "    </tr>\n",
       "    <tr>\n",
       "      <th>4</th>\n",
       "      <td>unknown</td>\n",
       "      <td>v</td>\n",
       "      <td>positive</td>\n",
       "      <td>1.0</td>\n",
       "      <td>manifestar</td>\n",
       "      <td>1</td>\n",
       "    </tr>\n",
       "  </tbody>\n",
       "</table>\n",
       "</div>"
      ],
      "text/plain": [
       "         x pos  polarity   xx                word  xxx\n",
       "0  unknown   n  positive  1.0        felicitación    1\n",
       "1  unknown   a  negative  1.0        inconsciente    1\n",
       "2  unknown   n   neutral  1.0             soporte    1\n",
       "3  unknown   n   neutral  1.0  proceso_matemático    1\n",
       "4  unknown   v  positive  1.0          manifestar    1"
      ]
     },
     "execution_count": 138,
     "metadata": {},
     "output_type": "execute_result"
    }
   ],
   "source": [
    "opener_lexicon = pd.read_csv('https://raw.githubusercontent.com/opener-project/public-sentiment-lexicons/master/propagation_lexicons/es/es.lemma.sy.an.hypo.rels.maxdepth5.seed500.maj.gold.csv', sep=';', header=None)\n",
    "opener_lexicon.columns = ['x','pos', 'polarity', 'xx','word','xxx']\n",
    "opener_lexicon.head()"
   ]
  },
  {
   "cell_type": "markdown",
   "metadata": {},
   "source": [
    "As the meaning of columns 4 and 6 is not known by us at the moment, they won't be included on the analysis."
   ]
  },
  {
   "cell_type": "code",
   "execution_count": 139,
   "metadata": {},
   "outputs": [],
   "source": [
    "def get_sent(polarity):\n",
    "    if polarity == 'neutral':\n",
    "        return 0\n",
    "    if polarity == 'negative':\n",
    "        return -1\n",
    "    if polarity == 'positive':\n",
    "        return 1\n",
    "opener_lexicon['sentiment'] = opener_lexicon.polarity.apply(get_sent)"
   ]
  },
  {
   "cell_type": "code",
   "execution_count": 140,
   "metadata": {},
   "outputs": [
    {
     "data": {
      "text/html": [
       "<div>\n",
       "<style scoped>\n",
       "    .dataframe tbody tr th:only-of-type {\n",
       "        vertical-align: middle;\n",
       "    }\n",
       "\n",
       "    .dataframe tbody tr th {\n",
       "        vertical-align: top;\n",
       "    }\n",
       "\n",
       "    .dataframe thead th {\n",
       "        text-align: right;\n",
       "    }\n",
       "</style>\n",
       "<table border=\"1\" class=\"dataframe\">\n",
       "  <thead>\n",
       "    <tr style=\"text-align: right;\">\n",
       "      <th></th>\n",
       "      <th>word</th>\n",
       "      <th>stmd_word</th>\n",
       "      <th>sentiment</th>\n",
       "    </tr>\n",
       "  </thead>\n",
       "  <tbody>\n",
       "    <tr>\n",
       "      <th>6803</th>\n",
       "      <td>insensato</td>\n",
       "      <td>insensat</td>\n",
       "      <td>-1.0</td>\n",
       "    </tr>\n",
       "    <tr>\n",
       "      <th>178</th>\n",
       "      <td>vano</td>\n",
       "      <td>van</td>\n",
       "      <td>-1.0</td>\n",
       "    </tr>\n",
       "    <tr>\n",
       "      <th>3026</th>\n",
       "      <td>robacarteras</td>\n",
       "      <td>robacarter</td>\n",
       "      <td>-1.0</td>\n",
       "    </tr>\n",
       "    <tr>\n",
       "      <th>5146</th>\n",
       "      <td>ovaritis</td>\n",
       "      <td>ovaritis</td>\n",
       "      <td>-1.0</td>\n",
       "    </tr>\n",
       "  </tbody>\n",
       "</table>\n",
       "</div>"
      ],
      "text/plain": [
       "              word   stmd_word  sentiment\n",
       "6803     insensato    insensat       -1.0\n",
       "178           vano         van       -1.0\n",
       "3026  robacarteras  robacarter       -1.0\n",
       "5146      ovaritis    ovaritis       -1.0"
      ]
     },
     "execution_count": 140,
     "metadata": {},
     "output_type": "execute_result"
    }
   ],
   "source": [
    "opener_lexicon['stmd_word'] = opener_lexicon['word'].apply(sb_stem)\n",
    "opener_lexicon['stmd_word'] = opener_lexicon.stmd_word.apply(lambda x: str(x).replace('[','').replace(']','').replace(\"'\",''))\n",
    "opener_lexicon = opener_lexicon[['word','stmd_word','sentiment']]\n",
    "opener_lexicon = opener_lexicon.loc[opener_lexicon.sentiment != 0]\n",
    "opener_lexicon = opener_lexicon.drop_duplicates()\n",
    "opener_lexicon.sample(4)"
   ]
  },
  {
   "cell_type": "code",
   "execution_count": 141,
   "metadata": {},
   "outputs": [
    {
     "name": "stdout",
     "output_type": "stream",
     "text": [
      "Tweet  Ministro @victorzamora: Vivimos una epidemia de características que no se veían en muchos años. Una de gran magnitud fue la del cólera en 1991 cuando se registraron cerca de 300 000 casos. Las dimensiones de la actual epidemia son mayores porque son globales.  https://t.co/LwtijqpuXQ\n",
      "Would have the following words and sentiments associated:\n",
      "{'sent(viv)': 1.0, 'sent(gran)': -1.0, 'sent(porqu)': 1.0}\n"
     ]
    }
   ],
   "source": [
    "def get_polarity_features(text):\n",
    "    pol = {}\n",
    "    text = sb_stem(text)\n",
    "    for word in text:\n",
    "        try:\n",
    "            pol[\"sent(\"+word+\")\"] = opener_lexicon.loc[opener_lexicon.stmd_word == word].sentiment.values[0]\n",
    "        except:\n",
    "            continue\n",
    "            \n",
    "    return pol\n",
    "\n",
    "_ = processed_tweets.tweet[15]\n",
    "print('Tweet ',_)\n",
    "print('Would have the following words and sentiments associated:')\n",
    "print(get_polarity_features(_))"
   ]
  },
  {
   "cell_type": "markdown",
   "metadata": {},
   "source": [
    "### Apply Features"
   ]
  },
  {
   "cell_type": "code",
   "execution_count": 142,
   "metadata": {},
   "outputs": [],
   "source": [
    "# Wrapper function for the extraction of features\n",
    "def extract_features(text):\n",
    "    global usr_names, hstgs\n",
    "    features = {}\n",
    "    words = text\n",
    "    words = processAll(text)\n",
    "\n",
    "    word_features = get_word_features(words)\n",
    "    features.update( word_features )\n",
    "\n",
    "    negation_features = get_negation_features(words)\n",
    "    features.update( negation_features )\n",
    "    \n",
    "    # Sentiment features are not included on the final deliverabe as did not improve results\n",
    "#     sentiment_features = get_polarity_features(text)\n",
    "#     features.update(sentiment_features )\n",
    "    \n",
    "    emoji_features = emoji_category(emojis_unicode(text))\n",
    "    emoji_features_dic = dict( zip(['emoji_('+w+')' for w in  emoji_features], emoji_features))\n",
    "    features.update( emoji_features_dic )\n",
    "    \n",
    "    usr_names = list(set(usr_names))\n",
    "    hstgs = list(set(hstgs))\n",
    "    return features"
   ]
  },
  {
   "cell_type": "code",
   "execution_count": 143,
   "metadata": {},
   "outputs": [],
   "source": [
    "processed_tweets['processed_tweet_features'] = processed_tweets.tweet.apply(extract_features)"
   ]
  },
  {
   "cell_type": "code",
   "execution_count": 144,
   "metadata": {},
   "outputs": [],
   "source": [
    "#processed_tweets.head()"
   ]
  },
  {
   "cell_type": "code",
   "execution_count": 145,
   "metadata": {
    "scrolled": true
   },
   "outputs": [
    {
     "data": {
      "text/plain": [
       "{'has(estam)': 1,\n",
       " 'has(super)': 1,\n",
       " 'has(nuestr)': 1,\n",
       " 'has(propi)': 1,\n",
       " 'has(expect)': 1,\n",
       " 'has(per)': 1,\n",
       " 'has(vam)': 1,\n",
       " 'has(por)': 1,\n",
       " 'has(mas)': 1,\n",
       " 'has(216)': 1,\n",
       " 'has(mil)': 1,\n",
       " 'has(337)': 1,\n",
       " 'has(vacun)': 1,\n",
       " 'has(aplic)': 1,\n",
       " 'has(esta)': 1,\n",
       " 'has(segund)': 1,\n",
       " 'has(vacunaton)': 1,\n",
       " 'has(satisfaccion)': 1,\n",
       " 'has(tambien)': 1,\n",
       " 'has(region)': 1,\n",
       " 'has(cusc)': 1,\n",
       " 'has(que)': 1,\n",
       " 'has(met)': 1,\n",
       " 'has(logr)': 1,\n",
       " 'has(este)': 1,\n",
       " 'has(fin)': 1,\n",
       " 'has(seman)': 1,\n",
       " 'has(481)': 1,\n",
       " 'has(__user_MINSA_PERU)': 1,\n",
       " 'has(estam,super)': 1,\n",
       " 'has(super,nuestr)': 1,\n",
       " 'has(nuestr,propi)': 1,\n",
       " 'has(propi,expect)': 1,\n",
       " 'has(expect,per)': 1,\n",
       " 'has(per,vam)': 1,\n",
       " 'has(vam,por)': 1,\n",
       " 'has(por,mas)': 1,\n",
       " 'has(mas,216)': 1,\n",
       " 'has(216,mil)': 1,\n",
       " 'has(mil,337)': 1,\n",
       " 'has(337,vacun)': 1,\n",
       " 'has(vacun,aplic)': 1,\n",
       " 'has(aplic,esta)': 1,\n",
       " 'has(esta,segund)': 1,\n",
       " 'has(segund,vacunaton)': 1,\n",
       " 'has(vacunaton,nuestr)': 1,\n",
       " 'has(nuestr,satisfaccion)': 1,\n",
       " 'has(satisfaccion,tambien)': 1,\n",
       " 'has(tambien,por)': 1,\n",
       " 'has(por,region)': 1,\n",
       " 'has(region,cusc)': 1,\n",
       " 'has(cusc,que)': 1,\n",
       " 'has(que,super)': 1,\n",
       " 'has(super,met)': 1,\n",
       " 'has(met,mil)': 1,\n",
       " 'has(mil,logr)': 1,\n",
       " 'has(logr,aplic)': 1,\n",
       " 'has(aplic,este)': 1,\n",
       " 'has(este,fin)': 1,\n",
       " 'has(fin,seman)': 1,\n",
       " 'has(seman,mil)': 1,\n",
       " 'has(mil,481)': 1,\n",
       " 'has(481,vacun)': 1,\n",
       " 'has(vacun,__user_MINSA_PERU)': 1,\n",
       " 'has(estam,super,nuestr)': 1,\n",
       " 'has(super,nuestr,propi)': 1,\n",
       " 'has(nuestr,propi,expect)': 1,\n",
       " 'has(propi,expect,per)': 1,\n",
       " 'has(expect,per,vam)': 1,\n",
       " 'has(per,vam,por)': 1,\n",
       " 'has(vam,por,mas)': 1,\n",
       " 'has(por,mas,216)': 1,\n",
       " 'has(mas,216,mil)': 1,\n",
       " 'has(216,mil,337)': 1,\n",
       " 'has(mil,337,vacun)': 1,\n",
       " 'has(337,vacun,aplic)': 1,\n",
       " 'has(vacun,aplic,esta)': 1,\n",
       " 'has(aplic,esta,segund)': 1,\n",
       " 'has(esta,segund,vacunaton)': 1,\n",
       " 'has(segund,vacunaton,nuestr)': 1,\n",
       " 'has(vacunaton,nuestr,satisfaccion)': 1,\n",
       " 'has(nuestr,satisfaccion,tambien)': 1,\n",
       " 'has(satisfaccion,tambien,por)': 1,\n",
       " 'has(tambien,por,region)': 1,\n",
       " 'has(por,region,cusc)': 1,\n",
       " 'has(region,cusc,que)': 1,\n",
       " 'has(cusc,que,super)': 1,\n",
       " 'has(que,super,met)': 1,\n",
       " 'has(super,met,mil)': 1,\n",
       " 'has(met,mil,logr)': 1,\n",
       " 'has(mil,logr,aplic)': 1,\n",
       " 'has(logr,aplic,este)': 1,\n",
       " 'has(aplic,este,fin)': 1,\n",
       " 'has(este,fin,seman)': 1,\n",
       " 'has(fin,seman,mil)': 1,\n",
       " 'has(seman,mil,481)': 1,\n",
       " 'has(mil,481,vacun)': 1,\n",
       " 'has(481,vacun,__user_MINSA_PERU)': 1,\n",
       " 'neg_l(estam)': 0.0,\n",
       " 'neg_l(super)': 0.0,\n",
       " 'neg_l(nuestr)': 0.0,\n",
       " 'neg_l(propi)': 0.0,\n",
       " 'neg_l(expect)': 0.0,\n",
       " 'neg_l(per)': 0.0,\n",
       " 'neg_l(vam)': 0.0,\n",
       " 'neg_l(por)': 0.0,\n",
       " 'neg_l(mas)': 0.0,\n",
       " 'neg_l(216)': 0.0,\n",
       " 'neg_l(mil)': 0.0,\n",
       " 'neg_l(337)': 0.0,\n",
       " 'neg_l(vacun)': 0.0,\n",
       " 'neg_l(aplic)': 0.0,\n",
       " 'neg_l(esta)': 0.0,\n",
       " 'neg_l(segund)': 0.0,\n",
       " 'neg_l(vacunaton)': 0.0,\n",
       " 'neg_l(satisfaccion)': 0.0,\n",
       " 'neg_l(tambien)': 0.0,\n",
       " 'neg_l(region)': 0.0,\n",
       " 'neg_l(cusc)': 0.0,\n",
       " 'neg_l(que)': 0.0,\n",
       " 'neg_l(met)': 0.0,\n",
       " 'neg_l(logr)': 0.0,\n",
       " 'neg_l(este)': 0.0,\n",
       " 'neg_l(fin)': 0.0,\n",
       " 'neg_l(seman)': 0.0,\n",
       " 'neg_l(481)': 0.0,\n",
       " 'neg_l(__user_MINSA_PERU)': 0.0,\n",
       " 'neg_r(estam)': 0.0,\n",
       " 'neg_r(super)': 0.0,\n",
       " 'neg_r(nuestr)': 0.0,\n",
       " 'neg_r(propi)': 0.0,\n",
       " 'neg_r(expect)': 0.0,\n",
       " 'neg_r(per)': 0.0,\n",
       " 'neg_r(vam)': 0.0,\n",
       " 'neg_r(por)': 0.0,\n",
       " 'neg_r(mas)': 0.0,\n",
       " 'neg_r(216)': 0.0,\n",
       " 'neg_r(mil)': 0.0,\n",
       " 'neg_r(337)': 0.0,\n",
       " 'neg_r(vacun)': 0.0,\n",
       " 'neg_r(aplic)': 0.0,\n",
       " 'neg_r(esta)': 0.0,\n",
       " 'neg_r(segund)': 0.0,\n",
       " 'neg_r(vacunaton)': 0.0,\n",
       " 'neg_r(satisfaccion)': 0.0,\n",
       " 'neg_r(tambien)': 0.0,\n",
       " 'neg_r(region)': 0.0,\n",
       " 'neg_r(cusc)': 0.0,\n",
       " 'neg_r(que)': 0.0,\n",
       " 'neg_r(met)': 0.0,\n",
       " 'neg_r(logr)': 0.0,\n",
       " 'neg_r(este)': 0.0,\n",
       " 'neg_r(fin)': 0.0,\n",
       " 'neg_r(seman)': 0.0,\n",
       " 'neg_r(481)': 0.0,\n",
       " 'neg_r(__user_MINSA_PERU)': 0.0,\n",
       " 'emoji_(no_emojis)': 'no_emojis'}"
      ]
     },
     "execution_count": 145,
     "metadata": {},
     "output_type": "execute_result"
    }
   ],
   "source": [
    "processed_tweets.processed_tweet_features[150]"
   ]
  },
  {
   "cell_type": "code",
   "execution_count": 146,
   "metadata": {},
   "outputs": [],
   "source": [
    "#processed_tweets.set.value_counts()"
   ]
  },
  {
   "cell_type": "code",
   "execution_count": 147,
   "metadata": {},
   "outputs": [
    {
     "data": {
      "text/html": [
       "<div>\n",
       "<style scoped>\n",
       "    .dataframe tbody tr th:only-of-type {\n",
       "        vertical-align: middle;\n",
       "    }\n",
       "\n",
       "    .dataframe tbody tr th {\n",
       "        vertical-align: top;\n",
       "    }\n",
       "\n",
       "    .dataframe thead th {\n",
       "        text-align: right;\n",
       "    }\n",
       "</style>\n",
       "<table border=\"1\" class=\"dataframe\">\n",
       "  <thead>\n",
       "    <tr style=\"text-align: right;\">\n",
       "      <th></th>\n",
       "      <th>id</th>\n",
       "      <th>tweet</th>\n",
       "      <th>target</th>\n",
       "      <th>processed_tweet</th>\n",
       "      <th>emojis_unicode</th>\n",
       "      <th>emojis_categories</th>\n",
       "      <th>processed_tweet_features</th>\n",
       "    </tr>\n",
       "  </thead>\n",
       "  <tbody>\n",
       "    <tr>\n",
       "      <th>0</th>\n",
       "      <td>1222241238092582914</td>\n",
       "      <td>Ministra @EHinostrozaP: \"Trabajamos en brindar...</td>\n",
       "      <td>POS</td>\n",
       "      <td>[ministr, __user_EHINOSTROZAP, trabaj, brind, ...</td>\n",
       "      <td>[U+1F923]</td>\n",
       "      <td>[face-positive]</td>\n",
       "      <td>{'has(ministr)': 1, 'has(__user_EHINOSTROZAP)'...</td>\n",
       "    </tr>\n",
       "    <tr>\n",
       "      <th>1</th>\n",
       "      <td>1222241227548045316</td>\n",
       "      <td>Desde #Independencia │ Mejoramos los servicios...</td>\n",
       "      <td>POS</td>\n",
       "      <td>[desd, __HASH_INDEPENDENCIA, mejor, los, servi...</td>\n",
       "      <td>[]</td>\n",
       "      <td>[no_emojis]</td>\n",
       "      <td>{'has(desd)': 1, 'has(__HASH_INDEPENDENCIA)': ...</td>\n",
       "    </tr>\n",
       "    <tr>\n",
       "      <th>2</th>\n",
       "      <td>1233130926697304064</td>\n",
       "      <td>También constató la operatividad del servicio ...</td>\n",
       "      <td>POS</td>\n",
       "      <td>[tambien, constat, operat, del, servici, teles...</td>\n",
       "      <td>[]</td>\n",
       "      <td>[no_emojis]</td>\n",
       "      <td>{'has(tambien)': 1, 'has(constat)': 1, 'has(op...</td>\n",
       "    </tr>\n",
       "    <tr>\n",
       "      <th>3</th>\n",
       "      <td>1233100540827049987</td>\n",
       "      <td>En el Día del Tecnólogo Médico saludamos a los...</td>\n",
       "      <td>POS</td>\n",
       "      <td>[dia, del, tecnolog, medic, salud, los, profes...</td>\n",
       "      <td>[U+1F44F]</td>\n",
       "      <td>[body]</td>\n",
       "      <td>{'has(dia)': 1, 'has(del)': 1, 'has(tecnolog)'...</td>\n",
       "    </tr>\n",
       "    <tr>\n",
       "      <th>4</th>\n",
       "      <td>1255271689119846401</td>\n",
       "      <td>#LaSaludNosUne Un total de 1.2 toneladas de eq...</td>\n",
       "      <td>POS</td>\n",
       "      <td>[__HASH_LASALUDNOSUNE, total, tonel, equip, pr...</td>\n",
       "      <td>[U+1F4F2]</td>\n",
       "      <td>[phone]</td>\n",
       "      <td>{'has(__HASH_LASALUDNOSUNE)': 1, 'has(total)':...</td>\n",
       "    </tr>\n",
       "    <tr>\n",
       "      <th>...</th>\n",
       "      <td>...</td>\n",
       "      <td>...</td>\n",
       "      <td>...</td>\n",
       "      <td>...</td>\n",
       "      <td>...</td>\n",
       "      <td>...</td>\n",
       "      <td>...</td>\n",
       "    </tr>\n",
       "    <tr>\n",
       "      <th>2814</th>\n",
       "      <td>1554675632306470912</td>\n",
       "      <td>Tampoco se pasen, pues!  https://t.co/DJukDmuRyT</td>\n",
       "      <td>NEG</td>\n",
       "      <td>[tampoc, pas, pues, __PUNC_EXCL, __URL_]</td>\n",
       "      <td>[]</td>\n",
       "      <td>[no_emojis]</td>\n",
       "      <td>{'has(tampoc)': 1, 'has(pas)': 1, 'has(pues)':...</td>\n",
       "    </tr>\n",
       "    <tr>\n",
       "      <th>2815</th>\n",
       "      <td>1554555115259961347</td>\n",
       "      <td>Qué bandido</td>\n",
       "      <td>NEG</td>\n",
       "      <td>[que, band]</td>\n",
       "      <td>[]</td>\n",
       "      <td>[no_emojis]</td>\n",
       "      <td>{'has(que)': 1, 'has(band)': 1, 'has(que,band)...</td>\n",
       "    </tr>\n",
       "    <tr>\n",
       "      <th>2816</th>\n",
       "      <td>1554509240613703685</td>\n",
       "      <td>Ahí vamos nuevamente…</td>\n",
       "      <td>POS</td>\n",
       "      <td>[ahi, vam, nuev, __PUNC_ELLP]</td>\n",
       "      <td>[]</td>\n",
       "      <td>[no_emojis]</td>\n",
       "      <td>{'has(ahi)': 1, 'has(vam)': 1, 'has(nuev)': 1,...</td>\n",
       "    </tr>\n",
       "    <tr>\n",
       "      <th>2817</th>\n",
       "      <td>1554241053107953664</td>\n",
       "      <td>@ReloadPalza @BlackDeMenta Recontra falso ese ...</td>\n",
       "      <td>NEG</td>\n",
       "      <td>[__user_RELOADPALZA, __user_BLACKDEMENTA, reco...</td>\n",
       "      <td>[]</td>\n",
       "      <td>[no_emojis]</td>\n",
       "      <td>{'has(__user_RELOADPALZA)': 1, 'has(__user_BLA...</td>\n",
       "    </tr>\n",
       "    <tr>\n",
       "      <th>2818</th>\n",
       "      <td>1554155370469269505</td>\n",
       "      <td>@DiegoAcuOficial No hay duda sobre las infracc...</td>\n",
       "      <td>NEG</td>\n",
       "      <td>[__user_DIEGOACUOFICIAL, hay, dud, sobr, las, ...</td>\n",
       "      <td>[]</td>\n",
       "      <td>[no_emojis]</td>\n",
       "      <td>{'has(__user_DIEGOACUOFICIAL)': 1, 'has(hay)':...</td>\n",
       "    </tr>\n",
       "  </tbody>\n",
       "</table>\n",
       "<p>2019 rows × 7 columns</p>\n",
       "</div>"
      ],
      "text/plain": [
       "                       id                                              tweet  \\\n",
       "0     1222241238092582914  Ministra @EHinostrozaP: \"Trabajamos en brindar...   \n",
       "1     1222241227548045316  Desde #Independencia │ Mejoramos los servicios...   \n",
       "2     1233130926697304064  También constató la operatividad del servicio ...   \n",
       "3     1233100540827049987  En el Día del Tecnólogo Médico saludamos a los...   \n",
       "4     1255271689119846401  #LaSaludNosUne Un total de 1.2 toneladas de eq...   \n",
       "...                   ...                                                ...   \n",
       "2814  1554675632306470912   Tampoco se pasen, pues!  https://t.co/DJukDmuRyT   \n",
       "2815  1554555115259961347                                        Qué bandido   \n",
       "2816  1554509240613703685                              Ahí vamos nuevamente…   \n",
       "2817  1554241053107953664  @ReloadPalza @BlackDeMenta Recontra falso ese ...   \n",
       "2818  1554155370469269505  @DiegoAcuOficial No hay duda sobre las infracc...   \n",
       "\n",
       "     target                                    processed_tweet emojis_unicode  \\\n",
       "0       POS  [ministr, __user_EHINOSTROZAP, trabaj, brind, ...      [U+1F923]   \n",
       "1       POS  [desd, __HASH_INDEPENDENCIA, mejor, los, servi...             []   \n",
       "2       POS  [tambien, constat, operat, del, servici, teles...             []   \n",
       "3       POS  [dia, del, tecnolog, medic, salud, los, profes...      [U+1F44F]   \n",
       "4       POS  [__HASH_LASALUDNOSUNE, total, tonel, equip, pr...      [U+1F4F2]   \n",
       "...     ...                                                ...            ...   \n",
       "2814    NEG           [tampoc, pas, pues, __PUNC_EXCL, __URL_]             []   \n",
       "2815    NEG                                        [que, band]             []   \n",
       "2816    POS                      [ahi, vam, nuev, __PUNC_ELLP]             []   \n",
       "2817    NEG  [__user_RELOADPALZA, __user_BLACKDEMENTA, reco...             []   \n",
       "2818    NEG  [__user_DIEGOACUOFICIAL, hay, dud, sobr, las, ...             []   \n",
       "\n",
       "     emojis_categories                           processed_tweet_features  \n",
       "0      [face-positive]  {'has(ministr)': 1, 'has(__user_EHINOSTROZAP)'...  \n",
       "1          [no_emojis]  {'has(desd)': 1, 'has(__HASH_INDEPENDENCIA)': ...  \n",
       "2          [no_emojis]  {'has(tambien)': 1, 'has(constat)': 1, 'has(op...  \n",
       "3               [body]  {'has(dia)': 1, 'has(del)': 1, 'has(tecnolog)'...  \n",
       "4              [phone]  {'has(__HASH_LASALUDNOSUNE)': 1, 'has(total)':...  \n",
       "...                ...                                                ...  \n",
       "2814       [no_emojis]  {'has(tampoc)': 1, 'has(pas)': 1, 'has(pues)':...  \n",
       "2815       [no_emojis]  {'has(que)': 1, 'has(band)': 1, 'has(que,band)...  \n",
       "2816       [no_emojis]  {'has(ahi)': 1, 'has(vam)': 1, 'has(nuev)': 1,...  \n",
       "2817       [no_emojis]  {'has(__user_RELOADPALZA)': 1, 'has(__user_BLA...  \n",
       "2818       [no_emojis]  {'has(__user_DIEGOACUOFICIAL)': 1, 'has(hay)':...  \n",
       "\n",
       "[2019 rows x 7 columns]"
      ]
     },
     "execution_count": 147,
     "metadata": {},
     "output_type": "execute_result"
    }
   ],
   "source": [
    "processed_tweets"
   ]
  },
  {
   "cell_type": "code",
   "execution_count": 148,
   "metadata": {},
   "outputs": [
    {
     "name": "stdout",
     "output_type": "stream",
     "text": [
      "Results Fold  287\n",
      "Accuracy of the model =  0.9257950530035336\n",
      "accuracia 0.8943894389438944\n",
      "Results Fold  1104\n",
      "Accuracy of the model =  0.9151943462897526\n",
      "accuracia 0.9174917491749175\n",
      "Results Fold  143\n",
      "Accuracy of the model =  0.9045936395759717\n",
      "accuracia 0.8960396039603961\n",
      "Results Fold  1454\n",
      "Accuracy of the model =  0.9045936395759717\n",
      "accuracia 0.9026402640264026\n",
      "Results Fold  401\n",
      "Accuracy of the model =  0.9222614840989399\n",
      "accuracia 0.9075907590759076\n",
      "0.9036303630363036\n"
     ]
    }
   ],
   "source": [
    "import random\n",
    "import statistics\n",
    "from sklearn.naive_bayes import MultinomialNB\n",
    "from sklearn.naive_bayes import GaussianNB\n",
    "from sklearn.neighbors import KNeighborsClassifier\n",
    "from sklearn.linear_model import LogisticRegression\n",
    "from sklearn.naive_bayes import BernoulliNB\n",
    "\n",
    "fold = 5\n",
    "index = list(range(0,len(processed_tweets) - 1))\n",
    "list_index = random.sample(index, fold)\n",
    "\n",
    "list_acur = []\n",
    "for i in list_index:\n",
    "    X_train, X_test, y_train, y_test = train_test_split(processed_tweets[['id','tweet','processed_tweet','processed_tweet_features']], \n",
    "                                                    processed_tweets['target'], stratify=processed_tweets['target'], random_state= i, test_size=0.30)\n",
    "    \n",
    "    train_ = X_train\n",
    "    train_['target'] = y_train\n",
    "    \n",
    "    test_ = X_test\n",
    "    test_['target'] = y_test\n",
    "    \n",
    "    train_size = int(train_.shape[0]*0.8)\n",
    "    sentiment_train_tweets = [(tweet, sentiment) for tweet, sentiment in train_[['tweet', 'target']].values[:train_size]]\n",
    "    sentiment_train_tweets_full = [(tweet, sentiment) for tweet, sentiment in train_[['tweet', 'target']].values[:train_size]]\n",
    "    sentiment_validation_tweets = [(tweet, sentiment) for tweet, sentiment in train_[['tweet', 'target']].values[train_size:]]\n",
    "    sentiment_test_tweets  = [(tweet, sentiment) for tweet, sentiment in test_[['tweet', 'target']].values]\n",
    "    \n",
    "    v_train = nltk.classify.apply_features(extract_features,sentiment_train_tweets)\n",
    "    v_train_full = nltk.classify.apply_features(extract_features,sentiment_train_tweets_full)\n",
    "    v_validation = nltk.classify.apply_features(extract_features,sentiment_validation_tweets)\n",
    "    v_test  = nltk.classify.apply_features(extract_features,sentiment_test_tweets)\n",
    "    \n",
    "    print('Results Fold ', i)\n",
    "    nb_classifier = nltk.classify.NaiveBayesClassifier\n",
    "    #nb_classifier = nltk.classify.SklearnClassifier(MultinomialNB())\n",
    "    nb_class = nb_classifier.train(v_train)\n",
    "    #print(v_validation)\n",
    "    print (\"Accuracy of the model = \", nltk.classify.accuracy(nb_class, v_validation))\n",
    "    \n",
    "    test_predict = [nb_class.classify(t) for (t,s) in v_test]\n",
    "    acuracia = accuracy_score(y_test, test_predict)\n",
    "    print('accuracia', acuracia)\n",
    "    list_acur.append(acuracia)\n",
    "\n",
    "print(statistics.mean(list_acur))"
   ]
  },
  {
   "cell_type": "markdown",
   "metadata": {},
   "source": [
    "# Part 1: Classification - Sentiment Analysis"
   ]
  },
  {
   "cell_type": "code",
   "execution_count": 149,
   "metadata": {},
   "outputs": [],
   "source": [
    "X_train, X_test, y_train, y_test = train_test_split(processed_tweets[['id','tweet','processed_tweet','processed_tweet_features']], \n",
    "                                                    processed_tweets['target'], stratify=processed_tweets['target'], test_size=0.30)"
   ]
  },
  {
   "cell_type": "code",
   "execution_count": 150,
   "metadata": {},
   "outputs": [
    {
     "name": "stdout",
     "output_type": "stream",
     "text": [
      "1413 606\n"
     ]
    }
   ],
   "source": [
    "#train_ = processed_tweets.loc[processed_tweets.set == 'train']\n",
    "#test_ = processed_tweets.loc[processed_tweets.set == 'test']\n",
    "print(len(X_train),len(X_test))"
   ]
  },
  {
   "cell_type": "code",
   "execution_count": 49,
   "metadata": {},
   "outputs": [],
   "source": [
    "train_ = X_train\n",
    "train_['target'] = y_train"
   ]
  },
  {
   "cell_type": "code",
   "execution_count": 50,
   "metadata": {},
   "outputs": [],
   "source": [
    "test_ = X_test\n",
    "test_['target'] = y_test"
   ]
  },
  {
   "cell_type": "code",
   "execution_count": 51,
   "metadata": {},
   "outputs": [
    {
     "data": {
      "text/plain": [
       "1973"
      ]
     },
     "execution_count": 51,
     "metadata": {},
     "output_type": "execute_result"
    }
   ],
   "source": [
    "len(train_)"
   ]
  },
  {
   "cell_type": "code",
   "execution_count": 52,
   "metadata": {},
   "outputs": [
    {
     "data": {
      "text/plain": [
       "846"
      ]
     },
     "execution_count": 52,
     "metadata": {},
     "output_type": "execute_result"
    }
   ],
   "source": [
    "len(test_)"
   ]
  },
  {
   "cell_type": "code",
   "execution_count": 53,
   "metadata": {},
   "outputs": [],
   "source": [
    "train_size = int(train_.shape[0]*0.8)\n",
    "sentiment_train_tweets = [(tweet, sentiment) for tweet, sentiment in train_[['tweet', 'target']].values[:train_size]]\n",
    "sentiment_train_tweets_full = [(tweet, sentiment) for tweet, sentiment in train_[['tweet', 'target']].values[:train_size]]\n",
    "sentiment_validation_tweets = [(tweet, sentiment) for tweet, sentiment in train_[['tweet', 'target']].values[train_size:]]\n",
    "sentiment_test_tweets  = [(tweet, sentiment) for tweet, sentiment in test_[['tweet', 'target']].values]\n",
    "#sentiment_train_tweets"
   ]
  },
  {
   "cell_type": "markdown",
   "metadata": {},
   "source": [
    "## Data Preparation"
   ]
  },
  {
   "cell_type": "code",
   "execution_count": 54,
   "metadata": {},
   "outputs": [],
   "source": [
    "# Apply the data processing and cleaning extraction methodologies\n",
    "v_train = nltk.classify.apply_features(extract_features,sentiment_train_tweets)\n",
    "v_train_full = nltk.classify.apply_features(extract_features,sentiment_train_tweets_full)\n",
    "v_validation = nltk.classify.apply_features(extract_features,sentiment_validation_tweets)\n",
    "v_test  = nltk.classify.apply_features(extract_features,sentiment_test_tweets)\n",
    "#type(v_train)"
   ]
  },
  {
   "cell_type": "code",
   "execution_count": 55,
   "metadata": {},
   "outputs": [
    {
     "data": {
      "text/plain": [
       "846"
      ]
     },
     "execution_count": 55,
     "metadata": {},
     "output_type": "execute_result"
    }
   ],
   "source": [
    "len(v_test)"
   ]
  },
  {
   "cell_type": "code",
   "execution_count": 56,
   "metadata": {},
   "outputs": [
    {
     "name": "stdout",
     "output_type": "stream",
     "text": [
      "For the tweet =  @Hcoya @DeltaMdelta Qué desagradable, realmente\n",
      " \n",
      "The following features has been created:\n",
      " \n",
      "{'has(interesantisim)': 1, 'has(que)': 1, 'has(aclar)': 1, 'has(med)': 1, 'has(conoc)': 1, 'has(mejor)': 1, 'has(virus)': 1, 'has(enfermed)': 1, 'has(confirm)': 1, 'has(esto)': 1, 'has(necesit)': 1, 'has(vacun)': 1, 'has(poblacion)': 1, 'has(par)': 1, 'has(logr)': 1, 'has(inmun)': 1, 'has(rebañ)': 1, 'has(cov)': 1, 'has(deten)': 1, 'has(pandemi)': 1, 'has(nuev)': 1, 'has(ret)': 1, 'has(dic)': 1, 'has(__user_MINSA_PERU)': 1, 'has(__PUNC_QUES)': 1, 'has(interesantisim,que)': 1, 'has(que,aclar)': 1, 'has(aclar,med)': 1, 'has(med,que)': 1, 'has(que,conoc)': 1, 'has(conoc,mejor)': 1, 'has(mejor,virus)': 1, 'has(virus,enfermed)': 1, 'has(enfermed,confirm)': 1, 'has(confirm,esto)': 1, 'has(esto,necesit)': 1, 'has(necesit,vacun)': 1, 'has(vacun,poblacion)': 1, 'has(poblacion,par)': 1, 'has(par,logr)': 1, 'has(logr,inmun)': 1, 'has(inmun,rebañ)': 1, 'has(rebañ,cov)': 1, 'has(cov,deten)': 1, 'has(deten,pandemi)': 1, 'has(pandemi,nuev)': 1, 'has(nuev,ret)': 1, 'has(ret,que)': 1, 'has(que,dic)': 1, 'has(dic,__user_MINSA_PERU)': 1, 'has(__user_MINSA_PERU,__PUNC_QUES)': 1, 'has(interesantisim,que,aclar)': 1, 'has(que,aclar,med)': 1, 'has(aclar,med,que)': 1, 'has(med,que,conoc)': 1, 'has(que,conoc,mejor)': 1, 'has(conoc,mejor,virus)': 1, 'has(mejor,virus,enfermed)': 1, 'has(virus,enfermed,confirm)': 1, 'has(enfermed,confirm,esto)': 1, 'has(confirm,esto,necesit)': 1, 'has(esto,necesit,vacun)': 1, 'has(necesit,vacun,poblacion)': 1, 'has(vacun,poblacion,par)': 1, 'has(poblacion,par,logr)': 1, 'has(par,logr,inmun)': 1, 'has(logr,inmun,rebañ)': 1, 'has(inmun,rebañ,cov)': 1, 'has(rebañ,cov,deten)': 1, 'has(cov,deten,pandemi)': 1, 'has(deten,pandemi,nuev)': 1, 'has(pandemi,nuev,ret)': 1, 'has(nuev,ret,que)': 1, 'has(ret,que,dic)': 1, 'has(que,dic,__user_MINSA_PERU)': 1, 'has(dic,__user_MINSA_PERU,__PUNC_QUES)': 1, 'neg_l(interesantisim)': 0.0, 'neg_l(que)': 0.0, 'neg_l(aclar)': 0.0, 'neg_l(med)': 0.0, 'neg_l(conoc)': 0.0, 'neg_l(mejor)': 0.0, 'neg_l(virus)': 0.0, 'neg_l(enfermed)': 0.0, 'neg_l(confirm)': 0.0, 'neg_l(esto)': 0.0, 'neg_l(necesit)': 0.0, 'neg_l(vacun)': 0.0, 'neg_l(poblacion)': 0.0, 'neg_l(par)': 0.0, 'neg_l(logr)': 0.0, 'neg_l(inmun)': 0.0, 'neg_l(rebañ)': 0.0, 'neg_l(cov)': 0.0, 'neg_l(deten)': 0.0, 'neg_l(pandemi)': 0.0, 'neg_l(nuev)': 0.0, 'neg_l(ret)': 0.0, 'neg_l(dic)': 0.0, 'neg_l(__user_MINSA_PERU)': 0.0, 'neg_l(__PUNC_QUES)': 0.0, 'neg_r(interesantisim)': 0.0, 'neg_r(que)': 0.0, 'neg_r(aclar)': 0.0, 'neg_r(med)': 0.0, 'neg_r(conoc)': 0.0, 'neg_r(mejor)': 0.0, 'neg_r(virus)': 0.0, 'neg_r(enfermed)': 0.0, 'neg_r(confirm)': 0.0, 'neg_r(esto)': 0.0, 'neg_r(necesit)': 0.0, 'neg_r(vacun)': 0.0, 'neg_r(poblacion)': 0.0, 'neg_r(par)': 0.0, 'neg_r(logr)': 0.0, 'neg_r(inmun)': 0.0, 'neg_r(rebañ)': 0.0, 'neg_r(cov)': 0.0, 'neg_r(deten)': 0.0, 'neg_r(pandemi)': 0.0, 'neg_r(nuev)': 0.0, 'neg_r(ret)': 0.0, 'neg_r(dic)': 0.0, 'neg_r(__user_MINSA_PERU)': 0.0, 'neg_r(__PUNC_QUES)': 0.0, 'emoji_(no_emojis)': 'no_emojis'}\n"
     ]
    }
   ],
   "source": [
    "print (\"For the tweet = \", train_.tweet.values[10] )\n",
    "print (\" \")\n",
    "print (\"The following features has been created:\")\n",
    "print (\" \")\n",
    "#print (v_train[0][0])"
   ]
  },
  {
   "cell_type": "markdown",
   "metadata": {},
   "source": [
    "## Naive Bayes"
   ]
  },
  {
   "cell_type": "code",
   "execution_count": 57,
   "metadata": {},
   "outputs": [
    {
     "name": "stdout",
     "output_type": "stream",
     "text": [
      "Accuracy of the model =  0.6911392405063291\n"
     ]
    }
   ],
   "source": [
    "nb_classifier = nltk.classify.NaiveBayesClassifier\n",
    "nb_class = nb_classifier.train(v_train)\n",
    "#print(v_validation)\n",
    "print (\"Accuracy of the model = \", nltk.classify.accuracy(nb_class, v_validation))"
   ]
  },
  {
   "cell_type": "markdown",
   "metadata": {},
   "source": [
    "Accuracy looks good enough, we can try now to train on the whole set and run on the Colombian tweets"
   ]
  },
  {
   "cell_type": "code",
   "execution_count": 58,
   "metadata": {},
   "outputs": [
    {
     "name": "stdout",
     "output_type": "stream",
     "text": [
      "846 846\n"
     ]
    }
   ],
   "source": [
    "#nb_class = nb_classifier.train(v_train_full) \n",
    "test_predict = [nb_class.classify(t) for (t,s) in v_test]\n",
    "#print (\"Accuracy of the model = \", nltk.classify.accuracy(nb_class, v_test))\n",
    "#print(len(test_predict),len(y_test))"
   ]
  },
  {
   "cell_type": "code",
   "execution_count": 59,
   "metadata": {},
   "outputs": [
    {
     "data": {
      "text/plain": [
       "0.7021276595744681"
      ]
     },
     "execution_count": 59,
     "metadata": {},
     "output_type": "execute_result"
    }
   ],
   "source": [
    "from sklearn.metrics import accuracy_score\n",
    "accuracy_score(y_test, test_predict)"
   ]
  },
  {
   "cell_type": "markdown",
   "metadata": {},
   "source": [
    "## SVM"
   ]
  },
  {
   "cell_type": "code",
   "execution_count": 143,
   "metadata": {},
   "outputs": [
    {
     "name": "stdout",
     "output_type": "stream",
     "text": [
      "Accuracy of the model =  0.6886075949367089\n"
     ]
    }
   ],
   "source": [
    "from sklearn.svm import LinearSVC\n",
    "svm_classifier = nltk.classify.SklearnClassifier(LinearSVC())\n",
    "svm_class = svm_classifier.train(v_train)\n",
    "#print(v_validation)\n",
    "print (\"Accuracy of the model = \", nltk.classify.accuracy(svm_class, v_validation))"
   ]
  },
  {
   "cell_type": "code",
   "execution_count": 144,
   "metadata": {},
   "outputs": [],
   "source": [
    "#nb_class = nb_classifier.train(v_train_full) \n",
    "test_predict = [svm_class.classify(t) for (t,s) in v_test]\n",
    "#print (\"Accuracy of the model = \", nltk.classify.accuracy(nb_class, v_test))"
   ]
  },
  {
   "cell_type": "code",
   "execution_count": 145,
   "metadata": {},
   "outputs": [
    {
     "data": {
      "text/plain": [
       "0.6891252955082743"
      ]
     },
     "execution_count": 145,
     "metadata": {},
     "output_type": "execute_result"
    }
   ],
   "source": [
    "from sklearn.metrics import accuracy_score\n",
    "accuracy_score(y_test, test_predict)"
   ]
  },
  {
   "cell_type": "markdown",
   "metadata": {},
   "source": [
    "## Random Forest"
   ]
  },
  {
   "cell_type": "code",
   "execution_count": 146,
   "metadata": {},
   "outputs": [
    {
     "name": "stdout",
     "output_type": "stream",
     "text": [
      "Accuracy of the model =  0.6531645569620254\n"
     ]
    }
   ],
   "source": [
    "from sklearn.ensemble import RandomForestClassifier\n",
    "dt_classifier = nltk.classify.SklearnClassifier(RandomForestClassifier())\n",
    "dt_class = dt_classifier.train(v_train)\n",
    "#print(v_validation)\n",
    "print (\"Accuracy of the model = \", nltk.classify.accuracy(dt_class, v_validation))"
   ]
  },
  {
   "cell_type": "code",
   "execution_count": 147,
   "metadata": {},
   "outputs": [],
   "source": [
    "#nb_class = nb_classifier.train(v_train_full) \n",
    "test_predict = [dt_class.classify(t) for (t,s) in v_test]\n",
    "#print (\"Accuracy of the model = \", nltk.classify.accuracy(nb_class, v_test))"
   ]
  },
  {
   "cell_type": "code",
   "execution_count": 148,
   "metadata": {},
   "outputs": [
    {
     "data": {
      "text/plain": [
       "0.6572104018912529"
      ]
     },
     "execution_count": 148,
     "metadata": {},
     "output_type": "execute_result"
    }
   ],
   "source": [
    "from sklearn.metrics import accuracy_score\n",
    "accuracy_score(y_test, test_predict)"
   ]
  },
  {
   "cell_type": "markdown",
   "metadata": {},
   "source": [
    "# Redes"
   ]
  },
  {
   "cell_type": "code",
   "execution_count": 149,
   "metadata": {},
   "outputs": [
    {
     "name": "stderr",
     "output_type": "stream",
     "text": [
      "C:\\Users\\claud\\Anaconda3\\lib\\site-packages\\sklearn\\neural_network\\_multilayer_perceptron.py:619: UserWarning: Training interrupted by user.\n",
      "  warnings.warn(\"Training interrupted by user.\")\n"
     ]
    },
    {
     "name": "stdout",
     "output_type": "stream",
     "text": [
      "Accuracy of the model =  0.7189873417721518\n"
     ]
    }
   ],
   "source": [
    "from sklearn.neural_network import MLPClassifier\n",
    "dt_classifier = nltk.classify.SklearnClassifier(MLPClassifier())\n",
    "dt_class = dt_classifier.train(v_train)\n",
    "#print(v_validation)\n",
    "print (\"Accuracy of the model = \", nltk.classify.accuracy(dt_class, v_validation))"
   ]
  },
  {
   "cell_type": "code",
   "execution_count": 150,
   "metadata": {},
   "outputs": [],
   "source": [
    "#nb_class = nb_classifier.train(v_train_full) \n",
    "test_predict = [dt_class.classify(t) for (t,s) in v_test]\n",
    "#print (\"Accuracy of the model = \", nltk.classify.accuracy(nb_class, v_test))"
   ]
  },
  {
   "cell_type": "code",
   "execution_count": 151,
   "metadata": {},
   "outputs": [
    {
     "data": {
      "text/plain": [
       "0.7115839243498818"
      ]
     },
     "execution_count": 151,
     "metadata": {},
     "output_type": "execute_result"
    }
   ],
   "source": [
    "from sklearn.metrics import accuracy_score\n",
    "accuracy_score(y_test, test_predict)"
   ]
  },
  {
   "cell_type": "markdown",
   "metadata": {},
   "source": [
    "There is no way to measure test accuracy as the colombian tweets are not labeled. Clearly, as our production set is a different kind of Spanish (Colombia Vs. Spain on the test set), classification score shouldn't be expected to be as high on this proof of concept, but here is a random sample for each label:"
   ]
  },
  {
   "cell_type": "code",
   "execution_count": null,
   "metadata": {},
   "outputs": [],
   "source": []
  },
  {
   "cell_type": "code",
   "execution_count": 223,
   "metadata": {},
   "outputs": [
    {
     "data": {
      "text/html": [
       "<div>\n",
       "<style scoped>\n",
       "    .dataframe tbody tr th:only-of-type {\n",
       "        vertical-align: middle;\n",
       "    }\n",
       "\n",
       "    .dataframe tbody tr th {\n",
       "        vertical-align: top;\n",
       "    }\n",
       "\n",
       "    .dataframe thead th {\n",
       "        text-align: right;\n",
       "    }\n",
       "</style>\n",
       "<table border=\"1\" class=\"dataframe\">\n",
       "  <thead>\n",
       "    <tr style=\"text-align: right;\">\n",
       "      <th></th>\n",
       "      <th>tweet</th>\n",
       "      <th>sentiment</th>\n",
       "    </tr>\n",
       "  </thead>\n",
       "  <tbody>\n",
       "    <tr>\n",
       "      <th>0</th>\n",
       "      <td>(@CIDH @CorteIDH #Peru En investigaciones, el ...</td>\n",
       "      <td>1.0</td>\n",
       "    </tr>\n",
       "    <tr>\n",
       "      <th>1</th>\n",
       "      <td>(@GuilleBermejo01 el ex-presidente Sagasti es,...</td>\n",
       "      <td>1.0</td>\n",
       "    </tr>\n",
       "    <tr>\n",
       "      <th>2</th>\n",
       "      <td>(Perú siempre peleando la misma batalla contra...</td>\n",
       "      <td>1.0</td>\n",
       "    </tr>\n",
       "    <tr>\n",
       "      <th>3</th>\n",
       "      <td>(Vote x Castillo en la segunda vuelta ante la ...</td>\n",
       "      <td>1.0</td>\n",
       "    </tr>\n",
       "    <tr>\n",
       "      <th>4</th>\n",
       "      <td>(@willaxtv Ese es el pensamiento fujimorista y...</td>\n",
       "      <td>0.0</td>\n",
       "    </tr>\n",
       "    <tr>\n",
       "      <th>...</th>\n",
       "      <td>...</td>\n",
       "      <td>...</td>\n",
       "    </tr>\n",
       "    <tr>\n",
       "      <th>1711</th>\n",
       "      <td>(El Perú necesita dejar atrás la Constitución ...</td>\n",
       "      <td>1.0</td>\n",
       "    </tr>\n",
       "    <tr>\n",
       "      <th>1712</th>\n",
       "      <td>(@VLADIMIR_CERRON Perú esta primero económicam...</td>\n",
       "      <td>0.0</td>\n",
       "    </tr>\n",
       "    <tr>\n",
       "      <th>1713</th>\n",
       "      <td>(Sobre #AsambleaConstituyente, la razón porque...</td>\n",
       "      <td>1.0</td>\n",
       "    </tr>\n",
       "    <tr>\n",
       "      <th>1714</th>\n",
       "      <td>(@GuilleBermejo01 Qué tal imbecil eres y bruto...</td>\n",
       "      <td>1.0</td>\n",
       "    </tr>\n",
       "    <tr>\n",
       "      <th>1715</th>\n",
       "      <td>(@GuilleBermejo01 Maldito Comunista!! CHILE ES...</td>\n",
       "      <td>0.0</td>\n",
       "    </tr>\n",
       "  </tbody>\n",
       "</table>\n",
       "<p>1716 rows × 2 columns</p>\n",
       "</div>"
      ],
      "text/plain": [
       "                                                  tweet  sentiment\n",
       "0     (@CIDH @CorteIDH #Peru En investigaciones, el ...        1.0\n",
       "1     (@GuilleBermejo01 el ex-presidente Sagasti es,...        1.0\n",
       "2     (Perú siempre peleando la misma batalla contra...        1.0\n",
       "3     (Vote x Castillo en la segunda vuelta ante la ...        1.0\n",
       "4     (@willaxtv Ese es el pensamiento fujimorista y...        0.0\n",
       "...                                                 ...        ...\n",
       "1711  (El Perú necesita dejar atrás la Constitución ...        1.0\n",
       "1712  (@VLADIMIR_CERRON Perú esta primero económicam...        0.0\n",
       "1713  (Sobre #AsambleaConstituyente, la razón porque...        1.0\n",
       "1714  (@GuilleBermejo01 Qué tal imbecil eres y bruto...        1.0\n",
       "1715  (@GuilleBermejo01 Maldito Comunista!! CHILE ES...        0.0\n",
       "\n",
       "[1716 rows x 2 columns]"
      ]
     },
     "execution_count": 223,
     "metadata": {},
     "output_type": "execute_result"
    }
   ],
   "source": [
    "NB_results"
   ]
  },
  {
   "cell_type": "markdown",
   "metadata": {},
   "source": [
    "#### Positive Tweets:"
   ]
  },
  {
   "cell_type": "code",
   "execution_count": 222,
   "metadata": {},
   "outputs": [
    {
     "ename": "ValueError",
     "evalue": "a must be greater than 0 unless no samples are taken",
     "output_type": "error",
     "traceback": [
      "\u001b[0;31m---------------------------------------------------------------------------\u001b[0m",
      "\u001b[0;31mValueError\u001b[0m                                Traceback (most recent call last)",
      "Input \u001b[0;32mIn [222]\u001b[0m, in \u001b[0;36m<cell line: 4>\u001b[0;34m()\u001b[0m\n\u001b[1;32m      2\u001b[0m \u001b[38;5;66;03m# Print a sample of Tweets\u001b[39;00m\n\u001b[1;32m      3\u001b[0m sample_size \u001b[38;5;241m=\u001b[39m \u001b[38;5;241m10\u001b[39m\n\u001b[0;32m----> 4\u001b[0m \u001b[38;5;28;01mfor\u001b[39;00m tweet \u001b[38;5;129;01min\u001b[39;00m \u001b[43mpositives\u001b[49m\u001b[38;5;241;43m.\u001b[39;49m\u001b[43mtweet\u001b[49m\u001b[38;5;241;43m.\u001b[39;49m\u001b[43msample\u001b[49m\u001b[43m(\u001b[49m\u001b[43msample_size\u001b[49m\u001b[43m)\u001b[49m:\n\u001b[1;32m      5\u001b[0m     \u001b[38;5;28mprint\u001b[39m(tweet)\n",
      "File \u001b[0;32m~/anaconda3/lib/python3.9/site-packages/pandas/core/generic.py:5446\u001b[0m, in \u001b[0;36mNDFrame.sample\u001b[0;34m(self, n, frac, replace, weights, random_state, axis, ignore_index)\u001b[0m\n\u001b[1;32m   5443\u001b[0m \u001b[38;5;28;01mif\u001b[39;00m weights \u001b[38;5;129;01mis\u001b[39;00m \u001b[38;5;129;01mnot\u001b[39;00m \u001b[38;5;28;01mNone\u001b[39;00m:\n\u001b[1;32m   5444\u001b[0m     weights \u001b[38;5;241m=\u001b[39m sample\u001b[38;5;241m.\u001b[39mpreprocess_weights(\u001b[38;5;28mself\u001b[39m, weights, axis)\n\u001b[0;32m-> 5446\u001b[0m sampled_indices \u001b[38;5;241m=\u001b[39m \u001b[43msample\u001b[49m\u001b[38;5;241;43m.\u001b[39;49m\u001b[43msample\u001b[49m\u001b[43m(\u001b[49m\u001b[43mobj_len\u001b[49m\u001b[43m,\u001b[49m\u001b[43m \u001b[49m\u001b[43msize\u001b[49m\u001b[43m,\u001b[49m\u001b[43m \u001b[49m\u001b[43mreplace\u001b[49m\u001b[43m,\u001b[49m\u001b[43m \u001b[49m\u001b[43mweights\u001b[49m\u001b[43m,\u001b[49m\u001b[43m \u001b[49m\u001b[43mrs\u001b[49m\u001b[43m)\u001b[49m\n\u001b[1;32m   5447\u001b[0m result \u001b[38;5;241m=\u001b[39m \u001b[38;5;28mself\u001b[39m\u001b[38;5;241m.\u001b[39mtake(sampled_indices, axis\u001b[38;5;241m=\u001b[39maxis)\n\u001b[1;32m   5449\u001b[0m \u001b[38;5;28;01mif\u001b[39;00m ignore_index:\n",
      "File \u001b[0;32m~/anaconda3/lib/python3.9/site-packages/pandas/core/sample.py:150\u001b[0m, in \u001b[0;36msample\u001b[0;34m(obj_len, size, replace, weights, random_state)\u001b[0m\n\u001b[1;32m    147\u001b[0m     \u001b[38;5;28;01melse\u001b[39;00m:\n\u001b[1;32m    148\u001b[0m         \u001b[38;5;28;01mraise\u001b[39;00m \u001b[38;5;167;01mValueError\u001b[39;00m(\u001b[38;5;124m\"\u001b[39m\u001b[38;5;124mInvalid weights: weights sum to zero\u001b[39m\u001b[38;5;124m\"\u001b[39m)\n\u001b[0;32m--> 150\u001b[0m \u001b[38;5;28;01mreturn\u001b[39;00m \u001b[43mrandom_state\u001b[49m\u001b[38;5;241;43m.\u001b[39;49m\u001b[43mchoice\u001b[49m\u001b[43m(\u001b[49m\u001b[43mobj_len\u001b[49m\u001b[43m,\u001b[49m\u001b[43m \u001b[49m\u001b[43msize\u001b[49m\u001b[38;5;241;43m=\u001b[39;49m\u001b[43msize\u001b[49m\u001b[43m,\u001b[49m\u001b[43m \u001b[49m\u001b[43mreplace\u001b[49m\u001b[38;5;241;43m=\u001b[39;49m\u001b[43mreplace\u001b[49m\u001b[43m,\u001b[49m\u001b[43m \u001b[49m\u001b[43mp\u001b[49m\u001b[38;5;241;43m=\u001b[39;49m\u001b[43mweights\u001b[49m\u001b[43m)\u001b[49m\u001b[38;5;241m.\u001b[39mastype(\n\u001b[1;32m    151\u001b[0m     np\u001b[38;5;241m.\u001b[39mintp, copy\u001b[38;5;241m=\u001b[39m\u001b[38;5;28;01mFalse\u001b[39;00m\n\u001b[1;32m    152\u001b[0m )\n",
      "File \u001b[0;32mmtrand.pyx:909\u001b[0m, in \u001b[0;36mnumpy.random.mtrand.RandomState.choice\u001b[0;34m()\u001b[0m\n",
      "\u001b[0;31mValueError\u001b[0m: a must be greater than 0 unless no samples are taken"
     ]
    }
   ],
   "source": [
    "positives = NB_results.loc[NB_results.sentiment == 'P']\n",
    "# Print a sample of Tweets\n",
    "sample_size = 10\n",
    "for tweet in positives.tweet.sample(sample_size):\n",
    "    print(tweet)"
   ]
  },
  {
   "cell_type": "markdown",
   "metadata": {},
   "source": [
    "#### Negative Tweets:"
   ]
  },
  {
   "cell_type": "code",
   "execution_count": 57,
   "metadata": {},
   "outputs": [
    {
     "name": "stdout",
     "output_type": "stream",
     "text": [
      "('Tras su derrota, @petrogustavo reconoce el triunfo de @IvanDuque en su discurso y anuncia que hará oposición al próximo gobierno.\\n\\n#ColombiaDecide2018 🇨🇴', nan)\n",
      "('ENORME este discurso de @petrogustavo', nan)\n",
      "('8 millones de colombianos que vamos a cuidar el agua, no al fracking @petrogustavo es un compromiso. gracias por abrirle los ojos al país. #IvanDuqueNoEsMiPresidente #GraciasPetro', nan)\n",
      "('@petrogustavo Felicitaciones a los colombianos por haber evitado se repitiera la misma tragedia de Venezuela. Comunismo es hambre, miseria y atraso.', nan)\n",
      "('Oigan y el hijo de @petrogustavo que debía la platica y dijo que pagaba mañana será que se va a hacer el “no heterosexual” ?? Feo eso!! #ColombiaElige2018', nan)\n",
      "('Estoy destrozado pero este trino es de lo mejor que he leído! Perdieron nuestros hermanos los animales, nuestros recursos naturales, las comunidades ancestrales, pero @petrogustavo fue tremendo guerrero. Miren porqué @piedrahitangela @Pauliina_Mejia https://t.co/DxEr4TZsSM', nan)\n",
      "('@carlaangola @IvanDuque (te lo explico) 8 Mill Votos = Vecino populista + petroleo + Redes Sociales + Mentiras cubiertas + Piedad silente - Soberano Venezolano..', nan)\n",
      "('@petrogustavo no puede existir sin enemigo a quien combatir. Si ya no lo tiene se lo inventa. Su discurso es una declaración de guerra. Duque ya dijo que no haría minería en los paramos. Ese fue su amigo @JuanManSantos no pelee por pelear.', nan)\n",
      "('@NTN24 @petrogustavo Me da asco escuchar a ese man ... Demostrando su ego e insitando ala violencia .. así no se hace oposición', nan)\n",
      "('Hola @petrogustavo porque quiero que mi país no se destruya ni vaya por la senda equivocada no voté por usted. Soy un Ciudadano libre y quiero lo mejor para Colombia, y claramente usted no lo es.', nan)\n"
     ]
    }
   ],
   "source": [
    "negatives = NB_results.loc[NB_results.sentiment == 'N']\n",
    "# Print a sample of Tweets\n",
    "sample_size = 10\n",
    "for tweet in negatives.tweet.sample(sample_size):\n",
    "    print(tweet)"
   ]
  },
  {
   "cell_type": "markdown",
   "metadata": {},
   "source": [
    "### Results of Colombian Election Tweet Sentiment"
   ]
  },
  {
   "cell_type": "code",
   "execution_count": 58,
   "metadata": {},
   "outputs": [
    {
     "data": {
      "text/plain": [
       "<matplotlib.axes._subplots.AxesSubplot at 0x1d7f2b07550>"
      ]
     },
     "execution_count": 58,
     "metadata": {},
     "output_type": "execute_result"
    },
    {
     "data": {
      "image/png": "[encoded data removed]",
      "text/plain": [
       "<Figure size 432x432 with 1 Axes>"
      ]
     },
     "metadata": {},
     "output_type": "display_data"
    }
   ],
   "source": [
    "NB_results['sentiment'].value_counts().plot(kind='pie', title=\"Distribution of Colombian Election Twitter Sentiment\", figsize=(6,6))"
   ]
  },
  {
   "cell_type": "code",
   "execution_count": 59,
   "metadata": {
    "scrolled": false
   },
   "outputs": [
    {
     "name": "stdout",
     "output_type": "stream",
     "text": [
      "Most Informative Features\n",
      "            neg_r(felic) = 0.0                 P : N      =     30.5 : 1.0\n",
      "             has(encant) = 1                   P : N      =     27.5 : 1.0\n",
      "          has(graci,por) = 1                   P : N      =     27.5 : 1.0\n",
      "           neg_r(encant) = 0.0                 P : N      =     27.5 : 1.0\n",
      "           neg_l(encant) = 0.0                 P : N      =     26.5 : 1.0\n",
      "           has(muy,buen) = 1                   P : N      =     23.5 : 1.0\n",
      "          has(__HASH_FF) = 1                   P : N      =     20.9 : 1.0\n",
      "        neg_l(__HASH_FF) = 0.0                 P : N      =     20.9 : 1.0\n",
      "   emoji_(face-positive) = 'face-positive'      P : N      =     20.7 : 1.0\n",
      "  has(graci,__PUNC_EXCL) = 1                   P : N      =     20.4 : 1.0\n"
     ]
    }
   ],
   "source": [
    "nb_class.show_most_informative_features(10)"
   ]
  },
  {
   "cell_type": "markdown",
   "metadata": {},
   "source": [
    "### Max Entropy"
   ]
  },
  {
   "cell_type": "markdown",
   "metadata": {},
   "source": [
    "We tried with Max-entropy classifier, however better results were achieved with Naive Bayes."
   ]
  },
  {
   "cell_type": "code",
   "execution_count": 66,
   "metadata": {},
   "outputs": [],
   "source": [
    "#max_ent_classifier_0 = nltk.classify.MaxentClassifier\n",
    "#max_ent_class_0 = max_ent_classifier_0.train(v_train, algorithm='GIS', max_iter=25)"
   ]
  },
  {
   "cell_type": "code",
   "execution_count": 67,
   "metadata": {},
   "outputs": [],
   "source": [
    "#print (\"Accuracy of the model = \", nltk.classify.accuracy(max_ent_class_0, v_validation))"
   ]
  },
  {
   "cell_type": "markdown",
   "metadata": {},
   "source": [
    "# Part 2 : Tweet Text Generation "
   ]
  },
  {
   "cell_type": "markdown",
   "metadata": {},
   "source": [
    "### Preprocess Specific Column for Training"
   ]
  },
  {
   "cell_type": "code",
   "execution_count": 60,
   "metadata": {},
   "outputs": [],
   "source": [
    "#re-load the data\n",
    "df = pd.read_csv('tweets_mentioning_candidates.csv')"
   ]
  },
  {
   "cell_type": "code",
   "execution_count": 61,
   "metadata": {},
   "outputs": [
    {
     "data": {
      "text/html": [
       "<div>\n",
       "<style scoped>\n",
       "    .dataframe tbody tr th:only-of-type {\n",
       "        vertical-align: middle;\n",
       "    }\n",
       "\n",
       "    .dataframe tbody tr th {\n",
       "        vertical-align: top;\n",
       "    }\n",
       "\n",
       "    .dataframe thead th {\n",
       "        text-align: right;\n",
       "    }\n",
       "</style>\n",
       "<table border=\"1\" class=\"dataframe\">\n",
       "  <thead>\n",
       "    <tr style=\"text-align: right;\">\n",
       "      <th></th>\n",
       "      <th>tweetID</th>\n",
       "      <th>tweetText</th>\n",
       "      <th>urls</th>\n",
       "      <th>tweetRetweetCt</th>\n",
       "      <th>tweetFavoriteCt</th>\n",
       "      <th>tweetSource</th>\n",
       "      <th>tweetCreated</th>\n",
       "      <th>userID</th>\n",
       "      <th>userScreen</th>\n",
       "      <th>userName</th>\n",
       "      <th>userCreateDt</th>\n",
       "      <th>userDesc</th>\n",
       "      <th>userFollowerCt</th>\n",
       "      <th>userFriendsCt</th>\n",
       "      <th>userLocation</th>\n",
       "      <th>userTimezone</th>\n",
       "    </tr>\n",
       "  </thead>\n",
       "  <tbody>\n",
       "    <tr>\n",
       "      <th>0</th>\n",
       "      <td>ID:1008504539916455936</td>\n",
       "      <td>Lo mejor del discurso de @IvanDuque es cuando ...</td>\n",
       "      <td>[]</td>\n",
       "      <td>0</td>\n",
       "      <td>0</td>\n",
       "      <td>Twitter Web Client</td>\n",
       "      <td>2018-06-18 00:19:54</td>\n",
       "      <td>ID:533450497</td>\n",
       "      <td>Will_Perz</td>\n",
       "      <td>William PC</td>\n",
       "      <td>2012-03-22 20:05:30</td>\n",
       "      <td>NaN</td>\n",
       "      <td>29</td>\n",
       "      <td>234</td>\n",
       "      <td>NaN</td>\n",
       "      <td>NaN</td>\n",
       "    </tr>\n",
       "    <tr>\n",
       "      <th>1</th>\n",
       "      <td>ID:1008504538981191680</td>\n",
       "      <td>@manuelrosalesg @IvanDuque @mluciaramirez Los ...</td>\n",
       "      <td>[]</td>\n",
       "      <td>0</td>\n",
       "      <td>0</td>\n",
       "      <td>Twitter for Android</td>\n",
       "      <td>2018-06-18 00:19:53</td>\n",
       "      <td>ID:1732923980</td>\n",
       "      <td>pablovillasmil1</td>\n",
       "      <td>Pablo L Villasmil</td>\n",
       "      <td>2013-09-05 19:44:21</td>\n",
       "      <td>Tecnico Electronico, Opositor hasta la pata</td>\n",
       "      <td>172</td>\n",
       "      <td>412</td>\n",
       "      <td>Maracaibo, Venezuela</td>\n",
       "      <td>NaN</td>\n",
       "    </tr>\n",
       "    <tr>\n",
       "      <th>2</th>\n",
       "      <td>ID:1008504538242977792</td>\n",
       "      <td>@gloserna @fransupelano @icolombianoo @AlvaroU...</td>\n",
       "      <td>[]</td>\n",
       "      <td>0</td>\n",
       "      <td>0</td>\n",
       "      <td>Twitter for iPhone</td>\n",
       "      <td>2018-06-18 00:19:53</td>\n",
       "      <td>ID:965163103</td>\n",
       "      <td>carevalolc87</td>\n",
       "      <td>Christian Arevalo</td>\n",
       "      <td>2012-11-22 23:35:40</td>\n",
       "      <td>Empieza una nueva historia... cambio de trabaj...</td>\n",
       "      <td>54</td>\n",
       "      <td>88</td>\n",
       "      <td>NaN</td>\n",
       "      <td>NaN</td>\n",
       "    </tr>\n",
       "    <tr>\n",
       "      <th>3</th>\n",
       "      <td>ID:1008504536208683013</td>\n",
       "      <td>@_El_Patriota @petrogustavo @JSantrich_FARC Pa...</td>\n",
       "      <td>[]</td>\n",
       "      <td>0</td>\n",
       "      <td>0</td>\n",
       "      <td>Twitter for Android</td>\n",
       "      <td>2018-06-18 00:19:53</td>\n",
       "      <td>ID:952356028263354368</td>\n",
       "      <td>de_gamin</td>\n",
       "      <td>Calentao De Gamín</td>\n",
       "      <td>2018-01-14 01:45:45</td>\n",
       "      <td>NaN</td>\n",
       "      <td>26</td>\n",
       "      <td>96</td>\n",
       "      <td>NaN</td>\n",
       "      <td>NaN</td>\n",
       "    </tr>\n",
       "    <tr>\n",
       "      <th>4</th>\n",
       "      <td>ID:1008504534371635201</td>\n",
       "      <td>Que diferencia de discursos! Gracias @IvanDuque</td>\n",
       "      <td>[]</td>\n",
       "      <td>0</td>\n",
       "      <td>0</td>\n",
       "      <td>Twitter for iPhone</td>\n",
       "      <td>2018-06-18 00:19:52</td>\n",
       "      <td>ID:187162735</td>\n",
       "      <td>camiloparadag</td>\n",
       "      <td>Camilo Parada Gómez</td>\n",
       "      <td>2010-09-05 13:01:58</td>\n",
       "      <td>Ortopedista y Traumatólogo. Especialista en Ci...</td>\n",
       "      <td>1618</td>\n",
       "      <td>633</td>\n",
       "      <td>Bogotá - Colombia</td>\n",
       "      <td>NaN</td>\n",
       "    </tr>\n",
       "  </tbody>\n",
       "</table>\n",
       "</div>"
      ],
      "text/plain": [
       "                  tweetID                                          tweetText  \\\n",
       "0  ID:1008504539916455936  Lo mejor del discurso de @IvanDuque es cuando ...   \n",
       "1  ID:1008504538981191680  @manuelrosalesg @IvanDuque @mluciaramirez Los ...   \n",
       "2  ID:1008504538242977792  @gloserna @fransupelano @icolombianoo @AlvaroU...   \n",
       "3  ID:1008504536208683013  @_El_Patriota @petrogustavo @JSantrich_FARC Pa...   \n",
       "4  ID:1008504534371635201    Que diferencia de discursos! Gracias @IvanDuque   \n",
       "\n",
       "  urls  tweetRetweetCt  tweetFavoriteCt          tweetSource  \\\n",
       "0   []               0                0   Twitter Web Client   \n",
       "1   []               0                0  Twitter for Android   \n",
       "2   []               0                0   Twitter for iPhone   \n",
       "3   []               0                0  Twitter for Android   \n",
       "4   []               0                0   Twitter for iPhone   \n",
       "\n",
       "          tweetCreated                 userID       userScreen  \\\n",
       "0  2018-06-18 00:19:54           ID:533450497        Will_Perz   \n",
       "1  2018-06-18 00:19:53          ID:1732923980  pablovillasmil1   \n",
       "2  2018-06-18 00:19:53           ID:965163103     carevalolc87   \n",
       "3  2018-06-18 00:19:53  ID:952356028263354368         de_gamin   \n",
       "4  2018-06-18 00:19:52           ID:187162735    camiloparadag   \n",
       "\n",
       "              userName         userCreateDt  \\\n",
       "0           William PC  2012-03-22 20:05:30   \n",
       "1    Pablo L Villasmil  2013-09-05 19:44:21   \n",
       "2    Christian Arevalo  2012-11-22 23:35:40   \n",
       "3    Calentao De Gamín  2018-01-14 01:45:45   \n",
       "4  Camilo Parada Gómez  2010-09-05 13:01:58   \n",
       "\n",
       "                                            userDesc  userFollowerCt  \\\n",
       "0                                                NaN              29   \n",
       "1        Tecnico Electronico, Opositor hasta la pata             172   \n",
       "2  Empieza una nueva historia... cambio de trabaj...              54   \n",
       "3                                                NaN              26   \n",
       "4  Ortopedista y Traumatólogo. Especialista en Ci...            1618   \n",
       "\n",
       "   userFriendsCt          userLocation  userTimezone  \n",
       "0            234                   NaN           NaN  \n",
       "1            412  Maracaibo, Venezuela           NaN  \n",
       "2             88                   NaN           NaN  \n",
       "3             96                   NaN           NaN  \n",
       "4            633     Bogotá - Colombia           NaN  "
      ]
     },
     "execution_count": 61,
     "metadata": {},
     "output_type": "execute_result"
    }
   ],
   "source": [
    "df.head()"
   ]
  },
  {
   "cell_type": "code",
   "execution_count": 62,
   "metadata": {},
   "outputs": [],
   "source": [
    "#Function defintion to preprocess data\n",
    "\n",
    "#Data Cleaning\n",
    "import re\n",
    "def cleaning(s):\n",
    "    s = str(s)\n",
    "    s = s.lower()\n",
    "    s = re.sub('\\W,\\s',' ',s)\n",
    "    s = re.sub(\"\\d+\", \"\", s)\n",
    "    s = re.sub('\\s+',' ',s)\n",
    "    s = re.sub('[!#$_]', '', s)\n",
    "    s = re.sub('[^\\\\w\\\\.\\\\s\\\\-]+', '', s)\n",
    "    s = s.replace(\"https\",\"\")\n",
    "    s = s.replace(\",\",\"\")\n",
    "    s = s.replace(\"[\\w*\",\" \")\n",
    "    return s\n",
    "\n",
    "#Extract the username\n",
    "user_regex = re.compile(r\"@(\\w+)\")\n",
    "def user_repl(match):\n",
    "\treturn '__user_'+match.group(1).upper()\n",
    "\n",
    "\n",
    "#Replace Emojicons for one word\n",
    "emoticons = \\\n",
    "\t[\t('__EMOT_SMILEY',\t[':-)', ':)', '(:', '(-:', ] )\t,\\\n",
    "\t\t('__EMOT_LAUGH',\t\t[':-D', ':D', 'X-D', 'XD', 'xD', ] )\t,\\\n",
    "\t\t('__EMOT_LOVE',\t\t['<3', ':\\*', ] )\t,\\\n",
    "\t\t('__EMOT_WINK',\t\t[';-)', ';)', ';-D', ';D', '(;', '(-;', ] )\t,\\\n",
    "\t\t('__EMOT_FROWN',\t\t[':-(', ':(', '(:', '(-:', ] )\t,\\\n",
    "\t\t('__EMOT_CRY',\t\t[':,(', ':\\'(', ':\"(', ':(('] )\t,\\\n",
    "\t]\n",
    "    \n",
    "def escape_paren(arr):\n",
    "\treturn [text.replace(')', '[)}\\]]').replace('(', '[({\\[]') for text in arr]\n",
    "\n",
    "def regex_union(arr):\n",
    "\treturn '(' + '|'.join( arr ) + ')'\n",
    "\n",
    "emoticons_regex = [ (repl, re.compile(regex_union(escape_paren(regx))) ) for (repl, regx) in emoticons ]"
   ]
  },
  {
   "cell_type": "code",
   "execution_count": 63,
   "metadata": {},
   "outputs": [],
   "source": [
    "#####Apply the functions - be mindful of the order\n",
    "\n",
    "# Clean the usernames \n",
    "df['tweetText'] = [re.sub(user_regex, user_repl, str(s)) for s in df['tweetText']]\n",
    "\n",
    "# Replace emojis\n",
    "df['tweetText'] = [re.sub(user_regex, user_repl, str(s)) for s in emoticons_regex and df['tweetText']]\n",
    "\n",
    "#Clean data - only used tweetText_for_gen column because it doesn't make sense to clean the others\n",
    "df['tweetText'] = [cleaning(s) for s in df['tweetText']]"
   ]
  },
  {
   "cell_type": "markdown",
   "metadata": {},
   "source": [
    "## Exploration"
   ]
  },
  {
   "cell_type": "code",
   "execution_count": 12,
   "metadata": {},
   "outputs": [
    {
     "data": {
      "image/png": "[encoded data removed]",
      "text/plain": [
       "<matplotlib.figure.Figure at 0x11cfcb048>"
      ]
     },
     "metadata": {},
     "output_type": "display_data"
    }
   ],
   "source": [
    "from nltk.corpus import stopwords\n",
    "import string\n",
    "#Get an idea about what words are contained\n",
    "punctuation = list(string.punctuation)\n",
    "stop = stopwords.words('spanish') + punctuation + ['rt', 'via']\n",
    "wordcloud = WordCloud(\n",
    "                          background_color='white',\n",
    "                          stopwords=stop,\n",
    "                          max_words=150,\n",
    "                          max_font_size=50, \n",
    "                          random_state=42\n",
    "                         ).generate(str(df['tweetText']))\n",
    "plt.imshow(wordcloud)\n",
    "plt.rcParams[\"figure.figsize\"] = (10,10)\n",
    "plt.axis('off')\n",
    "plt.title(\"Frequently mentioned tweets\")\n",
    "plt.show()"
   ]
  },
  {
   "cell_type": "code",
   "execution_count": 64,
   "metadata": {},
   "outputs": [
    {
     "data": {
      "image/png": "[encoded data removed]",
      "text/plain": [
       "<Figure size 432x288 with 1 Axes>"
      ]
     },
     "metadata": {},
     "output_type": "display_data"
    }
   ],
   "source": [
    "#Frequencies\n",
    "\n",
    "#Get frequenies - ideally with more data since frequencies are low \n",
    "allWords = nltk.tokenize.word_tokenize(str(df['tweetText']))\n",
    "allWordDist = nltk.FreqDist(w.lower() for w in allWords)\n",
    "\n",
    "stopwords = nltk.corpus.stopwords.words('spanish')\n",
    "allWordExceptStopDist = nltk.FreqDist(w.lower() for w in allWords if w not in stopwords and len(w) > 3)\n",
    "allWordExceptStopDist.plot(15)"
   ]
  },
  {
   "cell_type": "markdown",
   "metadata": {},
   "source": [
    "## Text Generation"
   ]
  },
  {
   "cell_type": "code",
   "execution_count": 91,
   "metadata": {},
   "outputs": [],
   "source": [
    "# generate a sequence from the model\n",
    "def generate_seq(model, tokenizer, seed_text, n_words):\n",
    "\tin_text, result = seed_text, seed_text\n",
    "\t# generate a fixed number of words\n",
    "\tfor _ in range(n_words):\n",
    "        \n",
    "\t\t# encode the text as integer\n",
    "\t\tencoded = tokenizer.texts_to_sequences([in_text])[0]\n",
    "\t\tencoded = array(encoded)\n",
    "        \n",
    "\t\t# predict a word in the vocabulary\n",
    "\t\tyhat = model.predict_classes(encoded, verbose=0)\n",
    "        \n",
    "\t\t# map predicted word index to word\n",
    "\t\tout_word = ''\n",
    "\t\tfor word, index in tokenizer.word_index.items():\n",
    "\t\t\tif index == yhat:\n",
    "\t\t\t\tout_word = word\n",
    "\t\t\t\tbreak\n",
    "\t\t# append to input\n",
    "\t\tin_text, result = out_word, result + ' ' + out_word\n",
    "\treturn result"
   ]
  },
  {
   "cell_type": "code",
   "execution_count": 92,
   "metadata": {},
   "outputs": [],
   "source": [
    "# source text\n",
    "data = str(df['tweetText'])\n",
    "\n",
    "# integer encode text\n",
    "tokenizer = Tokenizer()\n",
    "tokenizer.fit_on_texts([data])\n",
    "encoded = tokenizer.texts_to_sequences([data])[0] #return encoded words in array"
   ]
  },
  {
   "cell_type": "code",
   "execution_count": 93,
   "metadata": {},
   "outputs": [
    {
     "name": "stdout",
     "output_type": "stream",
     "text": [
      "Vocabulary Size: 262\n",
      "Total Sequences: 378\n"
     ]
    }
   ],
   "source": [
    "# determine the vocabulary size\n",
    "vocab_size = len(tokenizer.word_index) + 1 #dictionary with frequencies of unique words\n",
    "print('Vocabulary Size: %d' % vocab_size)\n",
    "\n",
    "# create word -> word sequences\n",
    "sequences = list()\n",
    "for i in range(1, len(encoded)):\n",
    "\tsequence = encoded[i-1:i+1]\n",
    "\tsequences.append(sequence)\n",
    "print('Total Sequences: %d' % len(sequences))\n",
    "\n",
    "# split into X and y elements\n",
    "sequences = array(sequences)\n",
    "X, y = sequences[:,0],sequences[:,1]"
   ]
  },
  {
   "cell_type": "code",
   "execution_count": 94,
   "metadata": {},
   "outputs": [
    {
     "name": "stdout",
     "output_type": "stream",
     "text": [
      "_________________________________________________________________\n",
      "Layer (type)                 Output Shape              Param #   \n",
      "=================================================================\n",
      "embedding_3 (Embedding)      (None, 1, 10)             2620      \n",
      "_________________________________________________________________\n",
      "dropout_5 (Dropout)          (None, 1, 10)             0         \n",
      "_________________________________________________________________\n",
      "lstm_3 (LSTM)                (None, 50)                12200     \n",
      "_________________________________________________________________\n",
      "dropout_6 (Dropout)          (None, 50)                0         \n",
      "_________________________________________________________________\n",
      "dense_3 (Dense)              (None, 262)               13362     \n",
      "=================================================================\n",
      "Total params: 28,182\n",
      "Trainable params: 28,182\n",
      "Non-trainable params: 0\n",
      "_________________________________________________________________\n",
      "None\n"
     ]
    }
   ],
   "source": [
    "from keras.layers import Dropout\n",
    "\n",
    "# one hot encode outputs\n",
    "y = to_categorical(y, num_classes=vocab_size)\n",
    "\n",
    "# define model\n",
    "model = Sequential()\n",
    "model.add(Embedding(vocab_size, 10, input_length=1))\n",
    "model.add(Dropout(0.1, input_shape=((468, 321))))\n",
    "model.add(LSTM(50))\n",
    "model.add(Dropout(0.1))\n",
    "model.add(Dense(vocab_size, activation='softmax'))\n",
    "print(model.summary())"
   ]
  },
  {
   "cell_type": "code",
   "execution_count": 101,
   "metadata": {
    "scrolled": true
   },
   "outputs": [
    {
     "name": "stdout",
     "output_type": "stream",
     "text": [
      "Epoch 1/500\n",
      " - 1s - loss: 0.8400 - acc: 0.7037\n",
      "Epoch 2/500\n",
      " - 0s - loss: 0.8305 - acc: 0.6825\n",
      "Epoch 3/500\n",
      " - 0s - loss: 0.8329 - acc: 0.6852\n",
      "Epoch 4/500\n",
      " - 0s - loss: 0.7788 - acc: 0.6931\n",
      "Epoch 5/500\n",
      " - 0s - loss: 0.7975 - acc: 0.6958\n",
      "Epoch 6/500\n",
      " - 0s - loss: 0.8161 - acc: 0.6799\n",
      "Epoch 7/500\n",
      " - 0s - loss: 0.8003 - acc: 0.6878\n",
      "Epoch 8/500\n",
      " - 0s - loss: 0.8384 - acc: 0.6534\n",
      "Epoch 9/500\n",
      " - 0s - loss: 0.7829 - acc: 0.7063\n",
      "Epoch 10/500\n",
      " - 0s - loss: 0.7952 - acc: 0.6931\n",
      "Epoch 11/500\n",
      " - 0s - loss: 0.8329 - acc: 0.6905\n",
      "Epoch 12/500\n",
      " - 0s - loss: 0.7892 - acc: 0.7196\n",
      "Epoch 13/500\n",
      " - 0s - loss: 0.8206 - acc: 0.6772\n",
      "Epoch 14/500\n",
      " - 0s - loss: 0.8333 - acc: 0.7011\n",
      "Epoch 15/500\n",
      " - 0s - loss: 0.8035 - acc: 0.7011\n",
      "Epoch 16/500\n",
      " - 0s - loss: 0.8253 - acc: 0.6878\n",
      "Epoch 17/500\n",
      " - 0s - loss: 0.7829 - acc: 0.7037\n",
      "Epoch 18/500\n",
      " - 0s - loss: 0.8115 - acc: 0.6905\n",
      "Epoch 19/500\n",
      " - 0s - loss: 0.8244 - acc: 0.6958\n",
      "Epoch 20/500\n",
      " - 0s - loss: 0.8616 - acc: 0.6667\n",
      "Epoch 21/500\n",
      " - 0s - loss: 0.8192 - acc: 0.6984\n",
      "Epoch 22/500\n",
      " - 0s - loss: 0.8650 - acc: 0.6667\n",
      "Epoch 23/500\n",
      " - 0s - loss: 0.7894 - acc: 0.7116\n",
      "Epoch 24/500\n",
      " - 0s - loss: 0.7872 - acc: 0.6931\n",
      "Epoch 25/500\n",
      " - 0s - loss: 0.8186 - acc: 0.6931\n",
      "Epoch 26/500\n",
      " - 0s - loss: 0.8016 - acc: 0.7222\n",
      "Epoch 27/500\n",
      " - 0s - loss: 0.8388 - acc: 0.6984\n",
      "Epoch 28/500\n",
      " - 0s - loss: 0.8220 - acc: 0.6958\n",
      "Epoch 29/500\n",
      " - 0s - loss: 0.8285 - acc: 0.6984\n",
      "Epoch 30/500\n",
      " - 0s - loss: 0.8378 - acc: 0.6825\n",
      "Epoch 31/500\n",
      " - 0s - loss: 0.7937 - acc: 0.7037\n",
      "Epoch 32/500\n",
      " - 0s - loss: 0.7963 - acc: 0.7037\n",
      "Epoch 33/500\n",
      " - 0s - loss: 0.8259 - acc: 0.6905\n",
      "Epoch 34/500\n",
      " - 0s - loss: 0.8234 - acc: 0.6720\n",
      "Epoch 35/500\n",
      " - 0s - loss: 0.8305 - acc: 0.7011\n",
      "Epoch 36/500\n",
      " - 0s - loss: 0.8232 - acc: 0.6825\n",
      "Epoch 37/500\n",
      " - 0s - loss: 0.7761 - acc: 0.7090\n",
      "Epoch 38/500\n",
      " - 0s - loss: 0.8381 - acc: 0.7011\n",
      "Epoch 39/500\n",
      " - 0s - loss: 0.7755 - acc: 0.6984\n",
      "Epoch 40/500\n",
      " - 0s - loss: 0.7960 - acc: 0.6958\n",
      "Epoch 41/500\n",
      " - 0s - loss: 0.8032 - acc: 0.6905\n",
      "Epoch 42/500\n",
      " - 0s - loss: 0.8261 - acc: 0.6799\n",
      "Epoch 43/500\n",
      " - 0s - loss: 0.8010 - acc: 0.7011\n",
      "Epoch 44/500\n",
      " - 0s - loss: 0.8004 - acc: 0.7090\n",
      "Epoch 45/500\n",
      " - 0s - loss: 0.8185 - acc: 0.6958\n",
      "Epoch 46/500\n",
      " - 0s - loss: 0.8357 - acc: 0.7063\n",
      "Epoch 47/500\n",
      " - 0s - loss: 0.8339 - acc: 0.6746\n",
      "Epoch 48/500\n",
      " - 0s - loss: 0.8408 - acc: 0.6799\n",
      "Epoch 49/500\n",
      " - 0s - loss: 0.8061 - acc: 0.7037\n",
      "Epoch 50/500\n",
      " - 0s - loss: 0.8272 - acc: 0.6931\n",
      "Epoch 51/500\n",
      " - 0s - loss: 0.8119 - acc: 0.6852\n",
      "Epoch 52/500\n",
      " - 0s - loss: 0.8171 - acc: 0.6905\n",
      "Epoch 53/500\n",
      " - 0s - loss: 0.8145 - acc: 0.7037\n",
      "Epoch 54/500\n",
      " - 0s - loss: 0.8452 - acc: 0.6878\n",
      "Epoch 55/500\n",
      " - 0s - loss: 0.8078 - acc: 0.6905\n",
      "Epoch 56/500\n",
      " - 0s - loss: 0.7856 - acc: 0.6958\n",
      "Epoch 57/500\n",
      " - 0s - loss: 0.8028 - acc: 0.6984\n",
      "Epoch 58/500\n",
      " - 0s - loss: 0.8470 - acc: 0.6772\n",
      "Epoch 59/500\n",
      " - 0s - loss: 0.8075 - acc: 0.6799\n",
      "Epoch 60/500\n",
      " - 0s - loss: 0.8304 - acc: 0.7011\n",
      "Epoch 61/500\n",
      " - 0s - loss: 0.8192 - acc: 0.6878\n",
      "Epoch 62/500\n",
      " - 0s - loss: 0.8282 - acc: 0.6905\n",
      "Epoch 63/500\n",
      " - 0s - loss: 0.8161 - acc: 0.6772\n",
      "Epoch 64/500\n",
      " - 0s - loss: 0.8121 - acc: 0.6958\n",
      "Epoch 65/500\n",
      " - 0s - loss: 0.8267 - acc: 0.6720\n",
      "Epoch 66/500\n",
      " - 0s - loss: 0.8096 - acc: 0.6746\n",
      "Epoch 67/500\n",
      " - 0s - loss: 0.8224 - acc: 0.6799\n",
      "Epoch 68/500\n",
      " - 0s - loss: 0.7986 - acc: 0.6931\n",
      "Epoch 69/500\n",
      " - 0s - loss: 0.8265 - acc: 0.6772\n",
      "Epoch 70/500\n",
      " - 0s - loss: 0.8400 - acc: 0.6799\n",
      "Epoch 71/500\n",
      " - 0s - loss: 0.8171 - acc: 0.6984\n",
      "Epoch 72/500\n",
      " - 0s - loss: 0.7835 - acc: 0.7222\n",
      "Epoch 73/500\n",
      " - 0s - loss: 0.8009 - acc: 0.6931\n",
      "Epoch 74/500\n",
      " - 0s - loss: 0.8106 - acc: 0.7063\n",
      "Epoch 75/500\n",
      " - 0s - loss: 0.8027 - acc: 0.6931\n",
      "Epoch 76/500\n",
      " - 0s - loss: 0.7951 - acc: 0.6984\n",
      "Epoch 77/500\n",
      " - 0s - loss: 0.8330 - acc: 0.6799\n",
      "Epoch 78/500\n",
      " - 0s - loss: 0.8118 - acc: 0.6984\n",
      "Epoch 79/500\n",
      " - 0s - loss: 0.7897 - acc: 0.6905\n",
      "Epoch 80/500\n",
      " - 0s - loss: 0.8092 - acc: 0.6905\n",
      "Epoch 81/500\n",
      " - 0s - loss: 0.8056 - acc: 0.6852\n",
      "Epoch 82/500\n",
      " - 0s - loss: 0.7871 - acc: 0.6852\n",
      "Epoch 83/500\n",
      " - 0s - loss: 0.8329 - acc: 0.6852\n",
      "Epoch 84/500\n",
      " - 0s - loss: 0.8383 - acc: 0.6587\n",
      "Epoch 85/500\n",
      " - 0s - loss: 0.8275 - acc: 0.6825\n",
      "Epoch 86/500\n",
      " - 0s - loss: 0.8077 - acc: 0.6984\n",
      "Epoch 87/500\n",
      " - 0s - loss: 0.8108 - acc: 0.7063\n",
      "Epoch 88/500\n",
      " - 0s - loss: 0.8609 - acc: 0.6772\n",
      "Epoch 89/500\n",
      " - 0s - loss: 0.8144 - acc: 0.6852\n",
      "Epoch 90/500\n",
      " - 0s - loss: 0.7992 - acc: 0.6852\n",
      "Epoch 91/500\n",
      " - 0s - loss: 0.8251 - acc: 0.6931\n",
      "Epoch 92/500\n",
      " - 0s - loss: 0.8337 - acc: 0.6931\n",
      "Epoch 93/500\n",
      " - 0s - loss: 0.8074 - acc: 0.6878\n",
      "Epoch 94/500\n",
      " - 0s - loss: 0.8050 - acc: 0.6931\n",
      "Epoch 95/500\n",
      " - 0s - loss: 0.7998 - acc: 0.7116\n",
      "Epoch 96/500\n",
      " - 0s - loss: 0.8247 - acc: 0.6772\n",
      "Epoch 97/500\n",
      " - 0s - loss: 0.7977 - acc: 0.7090\n",
      "Epoch 98/500\n",
      " - 0s - loss: 0.8149 - acc: 0.6905\n",
      "Epoch 99/500\n",
      " - 0s - loss: 0.8061 - acc: 0.6772\n",
      "Epoch 100/500\n",
      " - 0s - loss: 0.8069 - acc: 0.6984\n",
      "Epoch 101/500\n",
      " - 0s - loss: 0.8136 - acc: 0.6878\n",
      "Epoch 102/500\n",
      " - 0s - loss: 0.8071 - acc: 0.6958\n",
      "Epoch 103/500\n",
      " - 0s - loss: 0.8189 - acc: 0.6852\n",
      "Epoch 104/500\n",
      " - 0s - loss: 0.8360 - acc: 0.6931\n",
      "Epoch 105/500\n",
      " - 0s - loss: 0.7881 - acc: 0.7222\n",
      "Epoch 106/500\n",
      " - 0s - loss: 0.8009 - acc: 0.6984\n",
      "Epoch 107/500\n",
      " - 0s - loss: 0.7994 - acc: 0.6799\n",
      "Epoch 108/500\n",
      " - 0s - loss: 0.7992 - acc: 0.6984\n",
      "Epoch 109/500\n",
      " - 0s - loss: 0.8089 - acc: 0.6905\n",
      "Epoch 110/500\n",
      " - 0s - loss: 0.7811 - acc: 0.6852\n",
      "Epoch 111/500\n",
      " - 0s - loss: 0.8119 - acc: 0.6878\n",
      "Epoch 112/500\n",
      " - 0s - loss: 0.8401 - acc: 0.6746\n",
      "Epoch 113/500\n",
      " - 0s - loss: 0.8563 - acc: 0.6746\n",
      "Epoch 114/500\n",
      " - 0s - loss: 0.8359 - acc: 0.7143\n",
      "Epoch 115/500\n",
      " - 0s - loss: 0.8429 - acc: 0.6852\n",
      "Epoch 116/500\n",
      " - 0s - loss: 0.7740 - acc: 0.7037\n",
      "Epoch 117/500\n",
      " - 0s - loss: 0.8243 - acc: 0.6825\n",
      "Epoch 118/500\n",
      " - 0s - loss: 0.8252 - acc: 0.6958\n",
      "Epoch 119/500\n",
      " - 0s - loss: 0.8051 - acc: 0.7196\n",
      "Epoch 120/500\n",
      " - 0s - loss: 0.8060 - acc: 0.6984\n",
      "Epoch 121/500\n",
      " - 0s - loss: 0.8089 - acc: 0.6720\n",
      "Epoch 122/500\n",
      " - 0s - loss: 0.8215 - acc: 0.6878\n",
      "Epoch 123/500\n",
      " - 0s - loss: 0.8245 - acc: 0.6772\n",
      "Epoch 124/500\n",
      " - 0s - loss: 0.7901 - acc: 0.6984\n",
      "Epoch 125/500\n",
      " - 0s - loss: 0.8072 - acc: 0.6852\n",
      "Epoch 126/500\n",
      " - 0s - loss: 0.8197 - acc: 0.6693\n",
      "Epoch 127/500\n",
      " - 0s - loss: 0.8201 - acc: 0.6878\n",
      "Epoch 128/500\n",
      " - 0s - loss: 0.8160 - acc: 0.6825\n",
      "Epoch 129/500\n",
      " - 0s - loss: 0.8148 - acc: 0.6825\n",
      "Epoch 130/500\n",
      " - 0s - loss: 0.8096 - acc: 0.6905\n",
      "Epoch 131/500\n",
      " - 0s - loss: 0.8152 - acc: 0.6878\n",
      "Epoch 132/500\n",
      " - 0s - loss: 0.8218 - acc: 0.6878\n",
      "Epoch 133/500\n",
      " - 0s - loss: 0.7927 - acc: 0.6878\n",
      "Epoch 134/500\n",
      " - 0s - loss: 0.7941 - acc: 0.7037\n",
      "Epoch 135/500\n",
      " - 0s - loss: 0.8184 - acc: 0.6984\n",
      "Epoch 136/500\n",
      " - 0s - loss: 0.7947 - acc: 0.7063\n",
      "Epoch 137/500\n",
      " - 0s - loss: 0.7935 - acc: 0.6931\n",
      "Epoch 138/500\n",
      " - 0s - loss: 0.8033 - acc: 0.7011\n",
      "Epoch 139/500\n",
      " - 0s - loss: 0.8208 - acc: 0.6799\n",
      "Epoch 140/500\n",
      " - 0s - loss: 0.8087 - acc: 0.6931\n",
      "Epoch 141/500\n",
      " - 0s - loss: 0.8658 - acc: 0.6746\n",
      "Epoch 142/500\n",
      " - 0s - loss: 0.8125 - acc: 0.6931\n",
      "Epoch 143/500\n",
      " - 0s - loss: 0.8137 - acc: 0.6852\n",
      "Epoch 144/500\n",
      " - 0s - loss: 0.8160 - acc: 0.6852\n",
      "Epoch 145/500\n",
      " - 0s - loss: 0.8114 - acc: 0.7116\n",
      "Epoch 146/500\n",
      " - 0s - loss: 0.7928 - acc: 0.7037\n",
      "Epoch 147/500\n",
      " - 0s - loss: 0.8197 - acc: 0.6931\n",
      "Epoch 148/500\n",
      " - 0s - loss: 0.8072 - acc: 0.6772\n",
      "Epoch 149/500\n",
      " - 0s - loss: 0.8105 - acc: 0.6878\n",
      "Epoch 150/500\n",
      " - 0s - loss: 0.8614 - acc: 0.6746\n",
      "Epoch 151/500\n",
      " - 0s - loss: 0.8102 - acc: 0.6825\n",
      "Epoch 152/500\n",
      " - 0s - loss: 0.8099 - acc: 0.7011\n",
      "Epoch 153/500\n",
      " - 0s - loss: 0.8315 - acc: 0.6720\n",
      "Epoch 154/500\n",
      " - 0s - loss: 0.8131 - acc: 0.6799\n",
      "Epoch 155/500\n",
      " - 0s - loss: 0.8021 - acc: 0.7037\n",
      "Epoch 156/500\n",
      " - 0s - loss: 0.7904 - acc: 0.6958\n",
      "Epoch 157/500\n",
      " - 0s - loss: 0.8046 - acc: 0.6746\n",
      "Epoch 158/500\n",
      " - 0s - loss: 0.8114 - acc: 0.6958\n",
      "Epoch 159/500\n",
      " - 0s - loss: 0.7816 - acc: 0.7037\n",
      "Epoch 160/500\n",
      " - 0s - loss: 0.8393 - acc: 0.6958\n",
      "Epoch 161/500\n",
      " - 0s - loss: 0.8319 - acc: 0.6878\n",
      "Epoch 162/500\n",
      " - 0s - loss: 0.8256 - acc: 0.6746\n",
      "Epoch 163/500\n",
      " - 0s - loss: 0.7949 - acc: 0.6931\n",
      "Epoch 164/500\n",
      " - 0s - loss: 0.8193 - acc: 0.6799\n",
      "Epoch 165/500\n",
      " - 0s - loss: 0.8073 - acc: 0.7037\n",
      "Epoch 166/500\n",
      " - 0s - loss: 0.8371 - acc: 0.6852\n",
      "Epoch 167/500\n",
      " - 0s - loss: 0.8066 - acc: 0.7090\n",
      "Epoch 168/500\n",
      " - 0s - loss: 0.8041 - acc: 0.7011\n",
      "Epoch 169/500\n",
      " - 0s - loss: 0.8002 - acc: 0.6931\n",
      "Epoch 170/500\n",
      " - 0s - loss: 0.8225 - acc: 0.6905\n",
      "Epoch 171/500\n",
      " - 0s - loss: 0.8030 - acc: 0.7011\n",
      "Epoch 172/500\n",
      " - 0s - loss: 0.8196 - acc: 0.6878\n",
      "Epoch 173/500\n",
      " - 0s - loss: 0.7887 - acc: 0.7063\n",
      "Epoch 174/500\n",
      " - 0s - loss: 0.8225 - acc: 0.6852\n",
      "Epoch 175/500\n",
      " - 0s - loss: 0.7940 - acc: 0.7116\n",
      "Epoch 176/500\n",
      " - 0s - loss: 0.8147 - acc: 0.6878\n",
      "Epoch 177/500\n",
      " - 0s - loss: 0.8486 - acc: 0.6720\n",
      "Epoch 178/500\n",
      " - 0s - loss: 0.8101 - acc: 0.6799\n",
      "Epoch 179/500\n",
      " - 0s - loss: 0.8473 - acc: 0.6746\n",
      "Epoch 180/500\n",
      " - 0s - loss: 0.7962 - acc: 0.6825\n",
      "Epoch 181/500\n",
      " - 0s - loss: 0.7961 - acc: 0.7090\n",
      "Epoch 182/500\n",
      " - 0s - loss: 0.7906 - acc: 0.7063\n",
      "Epoch 183/500\n",
      " - 0s - loss: 0.7993 - acc: 0.7090\n",
      "Epoch 184/500\n",
      " - 0s - loss: 0.7893 - acc: 0.7063\n",
      "Epoch 185/500\n",
      " - 0s - loss: 0.8195 - acc: 0.6720\n",
      "Epoch 186/500\n",
      " - 0s - loss: 0.8028 - acc: 0.6878\n",
      "Epoch 187/500\n",
      " - 0s - loss: 0.8254 - acc: 0.6852\n",
      "Epoch 188/500\n",
      " - 0s - loss: 0.8322 - acc: 0.6905\n",
      "Epoch 189/500\n",
      " - 0s - loss: 0.7940 - acc: 0.6958\n",
      "Epoch 190/500\n",
      " - 0s - loss: 0.8019 - acc: 0.7037\n",
      "Epoch 191/500\n",
      " - 0s - loss: 0.8215 - acc: 0.6799\n",
      "Epoch 192/500\n",
      " - 0s - loss: 0.8211 - acc: 0.6720\n",
      "Epoch 193/500\n",
      " - 0s - loss: 0.7961 - acc: 0.7090\n",
      "Epoch 194/500\n",
      " - 0s - loss: 0.8091 - acc: 0.6825\n",
      "Epoch 195/500\n",
      " - 0s - loss: 0.8398 - acc: 0.6825\n",
      "Epoch 196/500\n",
      " - 0s - loss: 0.8098 - acc: 0.6799\n",
      "Epoch 197/500\n",
      " - 0s - loss: 0.7975 - acc: 0.6931\n",
      "Epoch 198/500\n",
      " - 0s - loss: 0.8351 - acc: 0.6878\n",
      "Epoch 199/500\n",
      " - 0s - loss: 0.8146 - acc: 0.7116\n",
      "Epoch 200/500\n",
      " - 0s - loss: 0.8044 - acc: 0.7196\n",
      "Epoch 201/500\n",
      " - 0s - loss: 0.8144 - acc: 0.6746\n",
      "Epoch 202/500\n",
      " - 0s - loss: 0.7850 - acc: 0.6931\n",
      "Epoch 203/500\n",
      " - 0s - loss: 0.8160 - acc: 0.6746\n",
      "Epoch 204/500\n",
      " - 0s - loss: 0.8206 - acc: 0.7011\n",
      "Epoch 205/500\n",
      " - 0s - loss: 0.8131 - acc: 0.7169\n",
      "Epoch 206/500\n",
      " - 0s - loss: 0.7982 - acc: 0.7222\n",
      "Epoch 207/500\n",
      " - 0s - loss: 0.8031 - acc: 0.6799\n",
      "Epoch 208/500\n",
      " - 0s - loss: 0.8221 - acc: 0.6614\n",
      "Epoch 209/500\n",
      " - 0s - loss: 0.8327 - acc: 0.6905\n",
      "Epoch 210/500\n",
      " - 0s - loss: 0.8178 - acc: 0.6799\n",
      "Epoch 211/500\n",
      " - 0s - loss: 0.8085 - acc: 0.6825\n",
      "Epoch 212/500\n",
      " - 0s - loss: 0.8173 - acc: 0.6931\n",
      "Epoch 213/500\n",
      " - 0s - loss: 0.8348 - acc: 0.6984\n",
      "Epoch 214/500\n",
      " - 0s - loss: 0.8069 - acc: 0.6958\n",
      "Epoch 215/500\n",
      " - 0s - loss: 0.8255 - acc: 0.7063\n",
      "Epoch 216/500\n",
      " - 0s - loss: 0.8243 - acc: 0.6825\n",
      "Epoch 217/500\n",
      " - 0s - loss: 0.8134 - acc: 0.6905\n",
      "Epoch 218/500\n",
      " - 0s - loss: 0.8397 - acc: 0.7011\n",
      "Epoch 219/500\n",
      " - 0s - loss: 0.7923 - acc: 0.6852\n",
      "Epoch 220/500\n",
      " - 0s - loss: 0.7968 - acc: 0.6720\n",
      "Epoch 221/500\n",
      " - 0s - loss: 0.7975 - acc: 0.6878\n",
      "Epoch 222/500\n",
      " - 0s - loss: 0.8432 - acc: 0.6720\n",
      "Epoch 223/500\n",
      " - 0s - loss: 0.8278 - acc: 0.6825\n",
      "Epoch 224/500\n",
      " - 0s - loss: 0.8084 - acc: 0.6852\n",
      "Epoch 225/500\n",
      " - 0s - loss: 0.8138 - acc: 0.6958\n",
      "Epoch 226/500\n",
      " - 0s - loss: 0.8006 - acc: 0.6931\n",
      "Epoch 227/500\n",
      " - 0s - loss: 0.8367 - acc: 0.7090\n",
      "Epoch 228/500\n",
      " - 0s - loss: 0.8126 - acc: 0.6958\n",
      "Epoch 229/500\n",
      " - 0s - loss: 0.8002 - acc: 0.6720\n",
      "Epoch 230/500\n",
      " - 0s - loss: 0.8080 - acc: 0.6958\n",
      "Epoch 231/500\n",
      " - 0s - loss: 0.8219 - acc: 0.6852\n",
      "Epoch 232/500\n",
      " - 0s - loss: 0.7780 - acc: 0.6905\n",
      "Epoch 233/500\n",
      " - 0s - loss: 0.8274 - acc: 0.6905\n",
      "Epoch 234/500\n",
      " - 0s - loss: 0.7935 - acc: 0.6772\n",
      "Epoch 235/500\n",
      " - 0s - loss: 0.8270 - acc: 0.6878\n",
      "Epoch 236/500\n",
      " - 0s - loss: 0.8342 - acc: 0.6958\n",
      "Epoch 237/500\n",
      " - 0s - loss: 0.8274 - acc: 0.6720\n",
      "Epoch 238/500\n",
      " - 0s - loss: 0.8396 - acc: 0.6878\n",
      "Epoch 239/500\n",
      " - 0s - loss: 0.8350 - acc: 0.6772\n",
      "Epoch 240/500\n",
      " - 0s - loss: 0.8123 - acc: 0.6878\n",
      "Epoch 241/500\n",
      " - 0s - loss: 0.8297 - acc: 0.6667\n",
      "Epoch 242/500\n",
      " - 0s - loss: 0.8097 - acc: 0.6984\n",
      "Epoch 243/500\n",
      " - 0s - loss: 0.7978 - acc: 0.7011\n",
      "Epoch 244/500\n",
      " - 0s - loss: 0.7724 - acc: 0.7011\n",
      "Epoch 245/500\n",
      " - 0s - loss: 0.8063 - acc: 0.7090\n",
      "Epoch 246/500\n",
      " - 0s - loss: 0.8099 - acc: 0.6958\n",
      "Epoch 247/500\n",
      " - 0s - loss: 0.8038 - acc: 0.6799\n",
      "Epoch 248/500\n",
      " - 0s - loss: 0.8106 - acc: 0.6905\n",
      "Epoch 249/500\n",
      " - 0s - loss: 0.8252 - acc: 0.6720\n",
      "Epoch 250/500\n",
      " - 0s - loss: 0.7873 - acc: 0.7011\n",
      "Epoch 251/500\n",
      " - 0s - loss: 0.8029 - acc: 0.7011\n",
      "Epoch 252/500\n",
      " - 0s - loss: 0.8043 - acc: 0.6772\n",
      "Epoch 253/500\n",
      " - 0s - loss: 0.8304 - acc: 0.6905\n",
      "Epoch 254/500\n",
      " - 0s - loss: 0.8023 - acc: 0.6931\n",
      "Epoch 255/500\n",
      " - 0s - loss: 0.7925 - acc: 0.7063\n",
      "Epoch 256/500\n",
      " - 0s - loss: 0.8182 - acc: 0.6693\n",
      "Epoch 257/500\n",
      " - 0s - loss: 0.8113 - acc: 0.6958\n",
      "Epoch 258/500\n",
      " - 0s - loss: 0.8038 - acc: 0.6984\n",
      "Epoch 259/500\n",
      " - 0s - loss: 0.7974 - acc: 0.6878\n",
      "Epoch 260/500\n",
      " - 0s - loss: 0.8019 - acc: 0.6905\n",
      "Epoch 261/500\n",
      " - 0s - loss: 0.8089 - acc: 0.6905\n",
      "Epoch 262/500\n",
      " - 0s - loss: 0.8112 - acc: 0.6825\n",
      "Epoch 263/500\n",
      " - 0s - loss: 0.8032 - acc: 0.6984\n",
      "Epoch 264/500\n",
      " - 0s - loss: 0.8003 - acc: 0.6640\n",
      "Epoch 265/500\n",
      " - 0s - loss: 0.8589 - acc: 0.6746\n",
      "Epoch 266/500\n",
      " - 0s - loss: 0.8360 - acc: 0.6640\n",
      "Epoch 267/500\n",
      " - 0s - loss: 0.8199 - acc: 0.6931\n",
      "Epoch 268/500\n",
      " - 0s - loss: 0.8143 - acc: 0.6799\n",
      "Epoch 269/500\n",
      " - 0s - loss: 0.8111 - acc: 0.6878\n",
      "Epoch 270/500\n",
      " - 0s - loss: 0.8028 - acc: 0.7011\n",
      "Epoch 271/500\n",
      " - 0s - loss: 0.7836 - acc: 0.7037\n",
      "Epoch 272/500\n",
      " - 0s - loss: 0.7829 - acc: 0.6984\n",
      "Epoch 273/500\n",
      " - 0s - loss: 0.8475 - acc: 0.6640\n",
      "Epoch 274/500\n",
      " - 0s - loss: 0.7827 - acc: 0.6693\n",
      "Epoch 275/500\n",
      " - 0s - loss: 0.8105 - acc: 0.6905\n",
      "Epoch 276/500\n",
      " - 0s - loss: 0.8134 - acc: 0.6958\n",
      "Epoch 277/500\n",
      " - 0s - loss: 0.8297 - acc: 0.6878\n",
      "Epoch 278/500\n",
      " - 0s - loss: 0.8073 - acc: 0.6905\n",
      "Epoch 279/500\n",
      " - 0s - loss: 0.7721 - acc: 0.7222\n",
      "Epoch 280/500\n",
      " - 0s - loss: 0.8240 - acc: 0.6878\n",
      "Epoch 281/500\n",
      " - 0s - loss: 0.7685 - acc: 0.7116\n",
      "Epoch 282/500\n",
      " - 0s - loss: 0.7894 - acc: 0.7116\n",
      "Epoch 283/500\n",
      " - 0s - loss: 0.7743 - acc: 0.6958\n",
      "Epoch 284/500\n",
      " - 0s - loss: 0.7833 - acc: 0.7063\n",
      "Epoch 285/500\n",
      " - 0s - loss: 0.7840 - acc: 0.6984\n",
      "Epoch 286/500\n",
      " - 0s - loss: 0.8135 - acc: 0.6772\n",
      "Epoch 287/500\n",
      " - 0s - loss: 0.8367 - acc: 0.7090\n",
      "Epoch 288/500\n",
      " - 0s - loss: 0.7895 - acc: 0.6825\n",
      "Epoch 289/500\n",
      " - 0s - loss: 0.8247 - acc: 0.6852\n",
      "Epoch 290/500\n",
      " - 0s - loss: 0.7892 - acc: 0.6825\n",
      "Epoch 291/500\n",
      " - 0s - loss: 0.8270 - acc: 0.6878\n",
      "Epoch 292/500\n",
      " - 0s - loss: 0.7955 - acc: 0.6984\n",
      "Epoch 293/500\n",
      " - 0s - loss: 0.8013 - acc: 0.6958\n",
      "Epoch 294/500\n",
      " - 0s - loss: 0.7958 - acc: 0.6984\n",
      "Epoch 295/500\n",
      " - 0s - loss: 0.8317 - acc: 0.6905\n",
      "Epoch 296/500\n",
      " - 0s - loss: 0.8121 - acc: 0.6931\n",
      "Epoch 297/500\n",
      " - 0s - loss: 0.7877 - acc: 0.7090\n",
      "Epoch 298/500\n",
      " - 0s - loss: 0.8072 - acc: 0.6746\n",
      "Epoch 299/500\n",
      " - 0s - loss: 0.7797 - acc: 0.7116\n",
      "Epoch 300/500\n",
      " - 0s - loss: 0.8066 - acc: 0.7011\n",
      "Epoch 301/500\n",
      " - 0s - loss: 0.7676 - acc: 0.7222\n",
      "Epoch 302/500\n",
      " - 0s - loss: 0.8107 - acc: 0.6852\n",
      "Epoch 303/500\n",
      " - 0s - loss: 0.8367 - acc: 0.6852\n",
      "Epoch 304/500\n",
      " - 0s - loss: 0.8063 - acc: 0.6852\n",
      "Epoch 305/500\n",
      " - 0s - loss: 0.8039 - acc: 0.6799\n",
      "Epoch 306/500\n",
      " - 0s - loss: 0.8260 - acc: 0.6772\n",
      "Epoch 307/500\n",
      " - 0s - loss: 0.8348 - acc: 0.6852\n",
      "Epoch 308/500\n",
      " - 0s - loss: 0.8085 - acc: 0.7090\n",
      "Epoch 309/500\n",
      " - 0s - loss: 0.7961 - acc: 0.6878\n",
      "Epoch 310/500\n",
      " - 0s - loss: 0.7881 - acc: 0.6905\n",
      "Epoch 311/500\n",
      " - 0s - loss: 0.8109 - acc: 0.6958\n",
      "Epoch 312/500\n",
      " - 0s - loss: 0.7876 - acc: 0.6931\n",
      "Epoch 313/500\n",
      " - 0s - loss: 0.7892 - acc: 0.6852\n",
      "Epoch 314/500\n",
      " - 0s - loss: 0.7813 - acc: 0.7090\n",
      "Epoch 315/500\n",
      " - 0s - loss: 0.8038 - acc: 0.6852\n",
      "Epoch 316/500\n",
      " - 0s - loss: 0.7762 - acc: 0.6640\n",
      "Epoch 317/500\n",
      " - 0s - loss: 0.8239 - acc: 0.6746\n",
      "Epoch 318/500\n",
      " - 0s - loss: 0.7850 - acc: 0.6825\n",
      "Epoch 319/500\n",
      " - 0s - loss: 0.8191 - acc: 0.6746\n",
      "Epoch 320/500\n",
      " - 0s - loss: 0.8073 - acc: 0.6825\n",
      "Epoch 321/500\n",
      " - 0s - loss: 0.8259 - acc: 0.6799\n",
      "Epoch 322/500\n",
      " - 0s - loss: 0.8131 - acc: 0.6878\n",
      "Epoch 323/500\n",
      " - 0s - loss: 0.8061 - acc: 0.6878\n",
      "Epoch 324/500\n",
      " - 0s - loss: 0.7932 - acc: 0.6958\n",
      "Epoch 325/500\n",
      " - 0s - loss: 0.8102 - acc: 0.6825\n",
      "Epoch 326/500\n",
      " - 0s - loss: 0.7871 - acc: 0.6931\n",
      "Epoch 327/500\n",
      " - 0s - loss: 0.7796 - acc: 0.7063\n",
      "Epoch 328/500\n",
      " - 0s - loss: 0.8236 - acc: 0.6958\n",
      "Epoch 329/500\n",
      " - 0s - loss: 0.8012 - acc: 0.6958\n",
      "Epoch 330/500\n",
      " - 0s - loss: 0.8172 - acc: 0.6772\n",
      "Epoch 331/500\n",
      " - 0s - loss: 0.8096 - acc: 0.7063\n",
      "Epoch 332/500\n",
      " - 0s - loss: 0.8003 - acc: 0.6931\n",
      "Epoch 333/500\n",
      " - 0s - loss: 0.8168 - acc: 0.6852\n",
      "Epoch 334/500\n",
      " - 0s - loss: 0.8222 - acc: 0.6825\n",
      "Epoch 335/500\n",
      " - 0s - loss: 0.7953 - acc: 0.7011\n",
      "Epoch 336/500\n",
      " - 0s - loss: 0.8210 - acc: 0.6825\n",
      "Epoch 337/500\n",
      " - 0s - loss: 0.8022 - acc: 0.6931\n",
      "Epoch 338/500\n",
      " - 0s - loss: 0.8140 - acc: 0.6958\n",
      "Epoch 339/500\n",
      " - 0s - loss: 0.8043 - acc: 0.6905\n",
      "Epoch 340/500\n",
      " - 0s - loss: 0.7959 - acc: 0.7037\n",
      "Epoch 341/500\n",
      " - 0s - loss: 0.7973 - acc: 0.6772\n",
      "Epoch 342/500\n",
      " - 0s - loss: 0.7923 - acc: 0.6984\n",
      "Epoch 343/500\n",
      " - 0s - loss: 0.7928 - acc: 0.6878\n",
      "Epoch 344/500\n",
      " - 0s - loss: 0.7852 - acc: 0.6878\n",
      "Epoch 345/500\n",
      " - 0s - loss: 0.8089 - acc: 0.7090\n",
      "Epoch 346/500\n",
      " - 0s - loss: 0.7834 - acc: 0.6958\n",
      "Epoch 347/500\n",
      " - 0s - loss: 0.7842 - acc: 0.7011\n",
      "Epoch 348/500\n",
      " - 0s - loss: 0.7959 - acc: 0.7116\n",
      "Epoch 349/500\n",
      " - 0s - loss: 0.8219 - acc: 0.6667\n",
      "Epoch 350/500\n",
      " - 0s - loss: 0.7946 - acc: 0.6852\n",
      "Epoch 351/500\n",
      " - 0s - loss: 0.8073 - acc: 0.7169\n",
      "Epoch 352/500\n",
      " - 0s - loss: 0.8244 - acc: 0.7037\n",
      "Epoch 353/500\n",
      " - 0s - loss: 0.7975 - acc: 0.7011\n",
      "Epoch 354/500\n",
      " - 0s - loss: 0.8297 - acc: 0.6984\n",
      "Epoch 355/500\n",
      " - 0s - loss: 0.7910 - acc: 0.7037\n",
      "Epoch 356/500\n",
      " - 0s - loss: 0.8061 - acc: 0.6931\n",
      "Epoch 357/500\n",
      " - 0s - loss: 0.8424 - acc: 0.6534\n",
      "Epoch 358/500\n",
      " - 0s - loss: 0.7934 - acc: 0.6878\n",
      "Epoch 359/500\n",
      " - 0s - loss: 0.7785 - acc: 0.7011\n",
      "Epoch 360/500\n",
      " - 0s - loss: 0.8242 - acc: 0.6720\n",
      "Epoch 361/500\n",
      " - 0s - loss: 0.7914 - acc: 0.7116\n",
      "Epoch 362/500\n",
      " - 0s - loss: 0.7984 - acc: 0.6825\n",
      "Epoch 363/500\n",
      " - 0s - loss: 0.8026 - acc: 0.6931\n",
      "Epoch 364/500\n",
      " - 0s - loss: 0.7917 - acc: 0.7381\n",
      "Epoch 365/500\n",
      " - 0s - loss: 0.7975 - acc: 0.7063\n",
      "Epoch 366/500\n",
      " - 0s - loss: 0.8122 - acc: 0.6958\n",
      "Epoch 367/500\n",
      " - 0s - loss: 0.7994 - acc: 0.7090\n",
      "Epoch 368/500\n",
      " - 0s - loss: 0.8287 - acc: 0.6799\n",
      "Epoch 369/500\n",
      " - 0s - loss: 0.8259 - acc: 0.6825\n",
      "Epoch 370/500\n",
      " - 0s - loss: 0.8138 - acc: 0.6931\n",
      "Epoch 371/500\n",
      " - 0s - loss: 0.8113 - acc: 0.6799\n",
      "Epoch 372/500\n",
      " - 0s - loss: 0.7882 - acc: 0.6878\n",
      "Epoch 373/500\n",
      " - 0s - loss: 0.7782 - acc: 0.6984\n",
      "Epoch 374/500\n",
      " - 0s - loss: 0.7919 - acc: 0.7090\n",
      "Epoch 375/500\n",
      " - 0s - loss: 0.7811 - acc: 0.7011\n",
      "Epoch 376/500\n",
      " - 0s - loss: 0.7917 - acc: 0.7011\n",
      "Epoch 377/500\n",
      " - 0s - loss: 0.8337 - acc: 0.6693\n",
      "Epoch 378/500\n",
      " - 0s - loss: 0.8017 - acc: 0.6984\n",
      "Epoch 379/500\n",
      " - 0s - loss: 0.8131 - acc: 0.7037\n",
      "Epoch 380/500\n",
      " - 0s - loss: 0.8191 - acc: 0.6667\n",
      "Epoch 381/500\n",
      " - 0s - loss: 0.7802 - acc: 0.7063\n",
      "Epoch 382/500\n",
      " - 0s - loss: 0.7791 - acc: 0.7011\n",
      "Epoch 383/500\n",
      " - 0s - loss: 0.7920 - acc: 0.7196\n",
      "Epoch 384/500\n",
      " - 0s - loss: 0.8110 - acc: 0.6878\n",
      "Epoch 385/500\n",
      " - 0s - loss: 0.7819 - acc: 0.7143\n",
      "Epoch 386/500\n",
      " - 0s - loss: 0.8069 - acc: 0.6878\n",
      "Epoch 387/500\n",
      " - 0s - loss: 0.8070 - acc: 0.6878\n",
      "Epoch 388/500\n",
      " - 0s - loss: 0.8188 - acc: 0.6905\n",
      "Epoch 389/500\n",
      " - 0s - loss: 0.8063 - acc: 0.6958\n",
      "Epoch 390/500\n",
      " - 0s - loss: 0.8056 - acc: 0.6905\n",
      "Epoch 391/500\n",
      " - 0s - loss: 0.8098 - acc: 0.6746\n",
      "Epoch 392/500\n",
      " - 0s - loss: 0.7912 - acc: 0.6799\n",
      "Epoch 393/500\n",
      " - 0s - loss: 0.7986 - acc: 0.6852\n",
      "Epoch 394/500\n",
      " - 0s - loss: 0.8038 - acc: 0.7011\n",
      "Epoch 395/500\n",
      " - 0s - loss: 0.8182 - acc: 0.6852\n",
      "Epoch 396/500\n",
      " - 0s - loss: 0.8064 - acc: 0.7090\n",
      "Epoch 397/500\n",
      " - 0s - loss: 0.8391 - acc: 0.6825\n",
      "Epoch 398/500\n",
      " - 0s - loss: 0.7979 - acc: 0.7037\n",
      "Epoch 399/500\n",
      " - 0s - loss: 0.7745 - acc: 0.7090\n",
      "Epoch 400/500\n",
      " - 0s - loss: 0.8008 - acc: 0.6958\n",
      "Epoch 401/500\n",
      " - 0s - loss: 0.8084 - acc: 0.6984\n",
      "Epoch 402/500\n",
      " - 0s - loss: 0.8047 - acc: 0.6931\n",
      "Epoch 403/500\n",
      " - 0s - loss: 0.8049 - acc: 0.6984\n",
      "Epoch 404/500\n",
      " - 0s - loss: 0.7944 - acc: 0.6958\n",
      "Epoch 405/500\n",
      " - 0s - loss: 0.8280 - acc: 0.6746\n",
      "Epoch 406/500\n",
      " - 0s - loss: 0.8458 - acc: 0.6799\n",
      "Epoch 407/500\n",
      " - 0s - loss: 0.8102 - acc: 0.6905\n",
      "Epoch 408/500\n",
      " - 0s - loss: 0.7909 - acc: 0.7011\n",
      "Epoch 409/500\n",
      " - 0s - loss: 0.8148 - acc: 0.6667\n",
      "Epoch 410/500\n",
      " - 0s - loss: 0.8007 - acc: 0.6905\n",
      "Epoch 411/500\n",
      " - 0s - loss: 0.7998 - acc: 0.6799\n",
      "Epoch 412/500\n",
      " - 0s - loss: 0.8055 - acc: 0.6905\n",
      "Epoch 413/500\n",
      " - 0s - loss: 0.8216 - acc: 0.7011\n",
      "Epoch 414/500\n",
      " - 0s - loss: 0.8110 - acc: 0.6640\n",
      "Epoch 415/500\n",
      " - 0s - loss: 0.7606 - acc: 0.7222\n",
      "Epoch 416/500\n",
      " - 0s - loss: 0.7818 - acc: 0.7169\n",
      "Epoch 417/500\n",
      " - 0s - loss: 0.7805 - acc: 0.7063\n",
      "Epoch 418/500\n",
      " - 0s - loss: 0.7762 - acc: 0.6958\n",
      "Epoch 419/500\n",
      " - 0s - loss: 0.8214 - acc: 0.6852\n",
      "Epoch 420/500\n",
      " - 0s - loss: 0.7862 - acc: 0.7037\n",
      "Epoch 421/500\n",
      " - 0s - loss: 0.7959 - acc: 0.6720\n",
      "Epoch 422/500\n",
      " - 0s - loss: 0.8023 - acc: 0.7090\n",
      "Epoch 423/500\n",
      " - 0s - loss: 0.7777 - acc: 0.7037\n",
      "Epoch 424/500\n",
      " - 0s - loss: 0.8259 - acc: 0.6799\n",
      "Epoch 425/500\n",
      " - 0s - loss: 0.7928 - acc: 0.7090\n",
      "Epoch 426/500\n",
      " - 0s - loss: 0.7962 - acc: 0.6905\n",
      "Epoch 427/500\n",
      " - 0s - loss: 0.7984 - acc: 0.7011\n",
      "Epoch 428/500\n",
      " - 0s - loss: 0.8029 - acc: 0.6825\n",
      "Epoch 429/500\n",
      " - 0s - loss: 0.7995 - acc: 0.6878\n",
      "Epoch 430/500\n",
      " - 0s - loss: 0.7939 - acc: 0.6878\n",
      "Epoch 431/500\n",
      " - 0s - loss: 0.7825 - acc: 0.7090\n",
      "Epoch 432/500\n",
      " - 0s - loss: 0.7851 - acc: 0.6984\n",
      "Epoch 433/500\n",
      " - 0s - loss: 0.8276 - acc: 0.6825\n",
      "Epoch 434/500\n",
      " - 0s - loss: 0.7940 - acc: 0.7143\n",
      "Epoch 435/500\n",
      " - 0s - loss: 0.7857 - acc: 0.6878\n",
      "Epoch 436/500\n",
      " - 0s - loss: 0.8054 - acc: 0.6984\n",
      "Epoch 437/500\n",
      " - 0s - loss: 0.8016 - acc: 0.6958\n",
      "Epoch 438/500\n",
      " - 0s - loss: 0.8322 - acc: 0.6878\n",
      "Epoch 439/500\n",
      " - 0s - loss: 0.8141 - acc: 0.6799\n",
      "Epoch 440/500\n",
      " - 0s - loss: 0.8041 - acc: 0.6878\n",
      "Epoch 441/500\n",
      " - 0s - loss: 0.7969 - acc: 0.6772\n",
      "Epoch 442/500\n",
      " - 0s - loss: 0.8182 - acc: 0.6746\n",
      "Epoch 443/500\n",
      " - 0s - loss: 0.7999 - acc: 0.6905\n",
      "Epoch 444/500\n",
      " - 0s - loss: 0.8171 - acc: 0.7090\n",
      "Epoch 445/500\n",
      " - 0s - loss: 0.8358 - acc: 0.6799\n",
      "Epoch 446/500\n",
      " - 0s - loss: 0.7909 - acc: 0.7196\n",
      "Epoch 447/500\n",
      " - 0s - loss: 0.8092 - acc: 0.6958\n",
      "Epoch 448/500\n",
      " - 0s - loss: 0.8123 - acc: 0.6746\n",
      "Epoch 449/500\n",
      " - 0s - loss: 0.8041 - acc: 0.6984\n",
      "Epoch 450/500\n",
      " - 0s - loss: 0.7960 - acc: 0.7037\n",
      "Epoch 451/500\n",
      " - 0s - loss: 0.8213 - acc: 0.6958\n",
      "Epoch 452/500\n",
      " - 0s - loss: 0.8303 - acc: 0.6852\n",
      "Epoch 453/500\n",
      " - 0s - loss: 0.8140 - acc: 0.7011\n",
      "Epoch 454/500\n",
      " - 0s - loss: 0.7972 - acc: 0.7011\n",
      "Epoch 455/500\n",
      " - 0s - loss: 0.8274 - acc: 0.6958\n",
      "Epoch 456/500\n",
      " - 0s - loss: 0.8177 - acc: 0.6614\n",
      "Epoch 457/500\n",
      " - 0s - loss: 0.7790 - acc: 0.6984\n",
      "Epoch 458/500\n",
      " - 0s - loss: 0.7813 - acc: 0.7063\n",
      "Epoch 459/500\n",
      " - 0s - loss: 0.8145 - acc: 0.6984\n",
      "Epoch 460/500\n",
      " - 0s - loss: 0.8090 - acc: 0.6746\n",
      "Epoch 461/500\n",
      " - 0s - loss: 0.8107 - acc: 0.6720\n",
      "Epoch 462/500\n",
      " - 0s - loss: 0.8085 - acc: 0.6825\n",
      "Epoch 463/500\n",
      " - 0s - loss: 0.8033 - acc: 0.6931\n",
      "Epoch 464/500\n",
      " - 0s - loss: 0.7872 - acc: 0.7116\n",
      "Epoch 465/500\n",
      " - 0s - loss: 0.7970 - acc: 0.7011\n",
      "Epoch 466/500\n",
      " - 0s - loss: 0.7882 - acc: 0.7090\n",
      "Epoch 467/500\n",
      " - 0s - loss: 0.8247 - acc: 0.6799\n",
      "Epoch 468/500\n",
      " - 0s - loss: 0.7911 - acc: 0.7063\n",
      "Epoch 469/500\n",
      " - 0s - loss: 0.7914 - acc: 0.6984\n",
      "Epoch 470/500\n",
      " - 0s - loss: 0.8000 - acc: 0.6984\n",
      "Epoch 471/500\n",
      " - 0s - loss: 0.7825 - acc: 0.7011\n",
      "Epoch 472/500\n",
      " - 0s - loss: 0.8194 - acc: 0.6984\n",
      "Epoch 473/500\n",
      " - 0s - loss: 0.7923 - acc: 0.6799\n",
      "Epoch 474/500\n",
      " - 0s - loss: 0.7952 - acc: 0.6878\n",
      "Epoch 475/500\n",
      " - 0s - loss: 0.7972 - acc: 0.6878\n",
      "Epoch 476/500\n",
      " - 0s - loss: 0.8071 - acc: 0.6772\n",
      "Epoch 477/500\n",
      " - 0s - loss: 0.8129 - acc: 0.6931\n",
      "Epoch 478/500\n",
      " - 0s - loss: 0.8109 - acc: 0.6931\n",
      "Epoch 479/500\n",
      " - 0s - loss: 0.7977 - acc: 0.6878\n",
      "Epoch 480/500\n",
      " - 0s - loss: 0.8422 - acc: 0.7037\n",
      "Epoch 481/500\n",
      " - 0s - loss: 0.8110 - acc: 0.6878\n",
      "Epoch 482/500\n",
      " - 0s - loss: 0.7977 - acc: 0.7011\n",
      "Epoch 483/500\n",
      " - 0s - loss: 0.7923 - acc: 0.7222\n",
      "Epoch 484/500\n",
      " - 0s - loss: 0.8046 - acc: 0.6720\n",
      "Epoch 485/500\n",
      " - 0s - loss: 0.7953 - acc: 0.6878\n",
      "Epoch 486/500\n",
      " - 0s - loss: 0.8481 - acc: 0.6931\n",
      "Epoch 487/500\n",
      " - 0s - loss: 0.8116 - acc: 0.6825\n",
      "Epoch 488/500\n",
      " - 0s - loss: 0.7961 - acc: 0.6931\n",
      "Epoch 489/500\n",
      " - 0s - loss: 0.7864 - acc: 0.6905\n",
      "Epoch 490/500\n",
      " - 0s - loss: 0.7864 - acc: 0.7222\n",
      "Epoch 491/500\n",
      " - 0s - loss: 0.8067 - acc: 0.6905\n",
      "Epoch 492/500\n",
      " - 0s - loss: 0.7893 - acc: 0.7011\n",
      "Epoch 493/500\n",
      " - 0s - loss: 0.7815 - acc: 0.7037\n",
      "Epoch 494/500\n",
      " - 0s - loss: 0.8265 - acc: 0.6799\n",
      "Epoch 495/500\n",
      " - 0s - loss: 0.8364 - acc: 0.7063\n",
      "Epoch 496/500\n",
      " - 0s - loss: 0.8214 - acc: 0.6878\n",
      "Epoch 497/500\n",
      " - 0s - loss: 0.7803 - acc: 0.6852\n",
      "Epoch 498/500\n",
      " - 0s - loss: 0.8329 - acc: 0.6825\n",
      "Epoch 499/500\n",
      " - 0s - loss: 0.8101 - acc: 0.6905\n",
      "Epoch 500/500\n",
      " - 0s - loss: 0.7949 - acc: 0.6958\n"
     ]
    },
    {
     "data": {
      "text/plain": [
       "<keras.callbacks.History at 0x1d7f75a7a20>"
      ]
     },
     "execution_count": 101,
     "metadata": {},
     "output_type": "execute_result"
    }
   ],
   "source": [
    "# compile network\n",
    "model.compile(loss='categorical_crossentropy', optimizer='adam', metrics=['accuracy'])\n",
    "\n",
    "# fit network\n",
    "model.fit(X, y, epochs=500, verbose=2)"
   ]
  },
  {
   "cell_type": "markdown",
   "metadata": {},
   "source": [
    "**Accuracy is not so high but enough for our purposes!**"
   ]
  },
  {
   "cell_type": "markdown",
   "metadata": {},
   "source": [
    "# Generate your text here!\n",
    "\n",
    "**It is only able to generate the sequence for the words that are part of the vocabulary. We are currently testing in Beta! **"
   ]
  },
  {
   "cell_type": "code",
   "execution_count": 102,
   "metadata": {},
   "outputs": [
    {
     "data": {
      "text/plain": [
       "[('userivanduque', 31),\n",
       " ('userpetrogustavo', 16),\n",
       " ('gracias', 4),\n",
       " ('felicidades', 3),\n",
       " ('userelpatriota', 2),\n",
       " ('diferencia', 2),\n",
       " ('discursos', 2),\n",
       " ('nuevo', 2),\n",
       " ('presidente', 2),\n",
       " ('colombia', 2)]"
      ]
     },
     "execution_count": 102,
     "metadata": {},
     "output_type": "execute_result"
    }
   ],
   "source": [
    "#pull some frequent words from the vocabulary\n",
    "allWordExceptStopDist.most_common(10)"
   ]
  },
  {
   "cell_type": "code",
   "execution_count": 119,
   "metadata": {},
   "outputs": [
    {
     "name": "stdout",
     "output_type": "stream",
     "text": [
      "What do you want to test? diferencia\n",
      "diferencia en los discursos definiti 24\n"
     ]
    }
   ],
   "source": [
    "string = input(\"What do you want to test? \")\n",
    "print(generate_seq(model, tokenizer, string , 5)) #give me 5 words in a sequence"
   ]
  },
  {
   "cell_type": "markdown",
   "metadata": {},
   "source": [
    "\n",
    "\n",
    "While sentence does not follow correct syntactic rules it serves as an indicator what topics are sourrounding the presidential candidate Duque. It is related to the lack of jornalism for some years. A news agency could pick this hint up and investigate further. \n",
    "\n",
    "### Thank you for reading!"
   ]
  }
 ],
 "metadata": {
  "kernelspec": {
   "display_name": "Python 3 (ipykernel)",
   "language": "python",
   "name": "python3"
  },
  "language_info": {
   "codemirror_mode": {
    "name": "ipython",
    "version": 3
   },
   "file_extension": ".py",
   "mimetype": "text/x-python",
   "name": "python",
   "nbconvert_exporter": "python",
   "pygments_lexer": "ipython3",
   "version": "3.9.7"
  }
 },
 "nbformat": 4,
 "nbformat_minor": 2
}
