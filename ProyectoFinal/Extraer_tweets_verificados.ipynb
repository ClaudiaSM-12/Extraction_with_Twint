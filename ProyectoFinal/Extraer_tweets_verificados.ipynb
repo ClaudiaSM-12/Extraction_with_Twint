{
 "cells": [
  {
   "cell_type": "markdown",
   "id": "79040978",
   "metadata": {},
   "source": [
    "## ANALISIS DE LA VERIFICACION MANUAL ##"
   ]
  },
  {
   "cell_type": "code",
   "execution_count": null,
   "id": "0cc502ef",
   "metadata": {},
   "outputs": [],
   "source": [
    "#pip install pysentimiento\n",
    "import pandas as pd\n",
    "import numpy as np\n",
    "import matplotlib.pyplot as plt\n",
    "from collections import Counter"
   ]
  },
  {
   "cell_type": "code",
   "execution_count": 74,
   "id": "1428a16d",
   "metadata": {},
   "outputs": [
    {
     "data": {
      "text/plain": [
       "Index(['id', 'tweet_sentence', 'target_PY', 'target_E1', 'I_V1', 'target_E2',\n",
       "       'I_V2', 'target_E3', 'I_V3'],\n",
       "      dtype='object')"
      ]
     },
     "execution_count": 74,
     "metadata": {},
     "output_type": "execute_result"
    }
   ],
   "source": [
    "import datetime\n",
    "df_pol = pd.read_excel('POLITICO_VM.xlsx')\n",
    "df_pand = pd.read_excel('PANDEMIA_VM.xlsx')\n",
    "#df = df.iloc[:100,:]\n",
    "#df_final.info()\n",
    "df_pand.columns"
   ]
  },
  {
   "cell_type": "code",
   "execution_count": 83,
   "id": "ddd97f3e",
   "metadata": {},
   "outputs": [
    {
     "data": {
      "text/plain": [
       "801"
      ]
     },
     "execution_count": 83,
     "metadata": {},
     "output_type": "execute_result"
    }
   ],
   "source": [
    "len(df_pol)"
   ]
  },
  {
   "cell_type": "markdown",
   "id": "5bbec88c",
   "metadata": {},
   "source": [
    "*El formato de llenado fue en excel, por lo cual podrian producirse algunas imperfecciones al momomento de etiquedo manual. El siguiente pedazo de codigo genera una limpieza de aquellos espacios.*"
   ]
  },
  {
   "cell_type": "code",
   "execution_count": 66,
   "id": "c93d75fa",
   "metadata": {},
   "outputs": [],
   "source": [
    "def Limpiar_columna(df_, label):\n",
    "    #df_[[label]] = df_[[label]].astype(str)\n",
    "    #print(df_[[label]].info())\n",
    "    df_[label] = df_[label].apply(lambda x: x.replace(\" \", \"\"))\n",
    "    #df_[label] = df_[label].apply(lambda x: print(type(x)))\n",
    "    return df_"
   ]
  },
  {
   "cell_type": "markdown",
   "id": "d7f39dbc",
   "metadata": {},
   "source": [
    "*Para la revision comparamos los tres etiquetas producidas por cada etiquetador a partir de las siguientes condiciones:*\n",
    "1. Si de las tres etiquetas obtenidas, basta que el número de ocurrencias de una de las categorias supere 2, el target final correspondera a esa categoria.\n",
    "2. Si de las tres etiquetas obtenidas, basta que el numero de ocurrencias de una de las categorıas es igual a 1, el target final es ambiguo por lo que el tweet es descartado.\n"
   ]
  },
  {
   "cell_type": "code",
   "execution_count": 87,
   "id": "0b42ca5d",
   "metadata": {},
   "outputs": [],
   "source": [
    "def procesar_revision(df, name_archivo):\n",
    "    #df_original = df.copy()\n",
    "    #df_original = df.reset_index(drop = True)\n",
    "    indice_eliminado = []\n",
    "    target_final = []\n",
    "    for i, row in df.iterrows():\n",
    "        if row['I_V1'] +  row['I_V2'] +  row['I_V3'] > 1:\n",
    "            indice_eliminado.append(i)\n",
    "        else:\n",
    "            sub_list = [row['target_E1'], row['target_E2'], row['target_E3']]\n",
    "            conteo = Counter(sub_list)\n",
    "            #print(conteo)\n",
    "            if sub_list.count('POS') > 1 or sub_list.count('NEG') > 1 or sub_list.count('NEU') > 1:\n",
    "                max_value = conteo.most_common()[0][0]\n",
    "                target_final.append(max_value)                \n",
    "            else:\n",
    "                indice_eliminado.append(i)\n",
    "            #print(max(conteo.most_common(1)))\n",
    "            #if (row['target_E1'] and row['target_E1']) & (row['target_E2'] and row['target_E3']) & (row['target_E1'] and row['target_E3']):\n",
    "        \n",
    "        \n",
    "    #print(len(df_original))\n",
    "    #df_eliminar= df.iloc[indice_eliminado]\n",
    "    df_VM = df.drop(indice_eliminado)\n",
    "    print('Se han eliminado', len(indice_eliminado),' tweets por ambiguedad')\n",
    "    df_VM = df_VM.reset_index(drop = True)\n",
    "    df_VM['target_final'] = target_final\n",
    "    \n",
    "    count_cambio = 0\n",
    "    for i, row in df_VM.iterrows():\n",
    "         if row['target_PY'] !=  row['target_final']:\n",
    "                count_cambio = count_cambio + 1\n",
    "    print('Se han modificado el sentimiento de', count_cambio,' tweets mediante la verificacion manual de', len(df))\n",
    "    print(len(df_VM))\n",
    "    return df_VM[['id','tweet_sentence','target_final']].to_csv(name_archivo)\n",
    "    #return df_revision, df_original"
   ]
  },
  {
   "cell_type": "code",
   "execution_count": 88,
   "id": "296c44f8",
   "metadata": {
    "scrolled": false
   },
   "outputs": [
    {
     "name": "stdout",
     "output_type": "stream",
     "text": [
      "Se han eliminado 49  tweets por ambiguedad\n",
      "Se han modificado el sentimiento de 330  tweets mediante la verificacion manual de 801\n",
      "752\n"
     ]
    }
   ],
   "source": [
    "procesar_revision(df_pol,'pol_VM_final.csv')"
   ]
  },
  {
   "cell_type": "code",
   "execution_count": 97,
   "id": "d35ba18e",
   "metadata": {},
   "outputs": [
    {
     "data": {
      "text/plain": [
       "POS    337\n",
       "NEU    260\n",
       "NEG    218\n",
       "Name: target_final, dtype: int64"
      ]
     },
     "execution_count": 97,
     "metadata": {},
     "output_type": "execute_result"
    }
   ],
   "source": [
    "df = pd.read_csv('pand_VM_final.csv', delimiter = ',')\n",
    "df.target_final.value_counts()"
   ]
  },
  {
   "cell_type": "code",
   "execution_count": 90,
   "id": "adffe930",
   "metadata": {},
   "outputs": [
    {
     "name": "stdout",
     "output_type": "stream",
     "text": [
      "Se han eliminado 91  tweets por ambiguedad\n",
      "Se han modificado el sentimiento de 362  tweets mediante la verificacion manual de 906\n",
      "815\n"
     ]
    }
   ],
   "source": [
    "procesar_revision(df_pand,'pand_VM_final.csv')"
   ]
  },
  {
   "cell_type": "code",
   "execution_count": null,
   "id": "5e2c7ab7",
   "metadata": {},
   "outputs": [],
   "source": []
  }
 ],
 "metadata": {
  "kernelspec": {
   "display_name": "Python 3 (ipykernel)",
   "language": "python",
   "name": "python3"
  },
  "language_info": {
   "codemirror_mode": {
    "name": "ipython",
    "version": 3
   },
   "file_extension": ".py",
   "mimetype": "text/x-python",
   "name": "python",
   "nbconvert_exporter": "python",
   "pygments_lexer": "ipython3",
   "version": "3.9.7"
  }
 },
 "nbformat": 4,
 "nbformat_minor": 5
}
