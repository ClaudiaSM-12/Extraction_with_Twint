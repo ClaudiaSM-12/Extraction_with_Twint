{
 "cells": [
  {
   "cell_type": "markdown",
   "id": "2c9da097",
   "metadata": {},
   "source": [
    "## Construccion dataset ##"
   ]
  },
  {
   "cell_type": "code",
   "execution_count": 1,
   "id": "131faef8",
   "metadata": {},
   "outputs": [],
   "source": [
    "import pandas as pd\n",
    "import numpy as np\n",
    "from nltk.tokenize import sent_tokenize, word_tokenize\n",
    "from sklearn.feature_extraction.text import TfidfVectorizer\n",
    "from nltk.corpus import stopwords\n",
    "from sklearn.metrics.pairwise import linear_kernel\n",
    "import matplotlib.pyplot as plot\n",
    "import seaborn as sb"
   ]
  },
  {
   "cell_type": "markdown",
   "id": "0f303f3e",
   "metadata": {},
   "source": [
    "**Recoleccion de datos:** *Para realizar un adecuado analisis, todas las fuentes de informacion deben ser agrupadas(tweets obtenidos mediante hashtags y/o usernames)*"
   ]
  },
  {
   "cell_type": "code",
   "execution_count": 2,
   "id": "0d90084e",
   "metadata": {},
   "outputs": [
    {
     "name": "stdout",
     "output_type": "stream",
     "text": [
      "6795\n"
     ]
    },
    {
     "data": {
      "text/plain": [
       "JNE_Peru           926\n",
       "ONPE_oficial       892\n",
       "DanielUrresti1     870\n",
       "Vero_Mendoza_F     747\n",
       "rlopezaliaga1      526\n",
       "CesarAcunaP        525\n",
       "yonhy_lescano      462\n",
       "PedroCastilloTe    355\n",
       "MerinoDeLama       344\n",
       "KeikoFujimori      306\n",
       "FSagasti           302\n",
       "HDeSotoPeru        186\n",
       "MartinVizcarraC    184\n",
       "George_Forsyth     170\n",
       "Name: username, dtype: int64"
      ]
     },
     "execution_count": 2,
     "metadata": {},
     "output_type": "execute_result"
    }
   ],
   "source": [
    "#Para dataset politico solo consideramos tweets obtenidos mediante la busqueda con usernames\n",
    "df_tweets = pd.read_csv('df_eleccionesLimpio.csv')\n",
    "print(len(df_tweets))\n",
    "df_tweets = df_tweets[['id','tweet','username','date','nlikes']]\n",
    "df_tweets.username.value_counts()"
   ]
  },
  {
   "cell_type": "code",
   "execution_count": null,
   "id": "60f6547a",
   "metadata": {},
   "outputs": [],
   "source": [
    "#Para dataset pandemia consideramos tweets obtenidos mediante la busqueda con usernames y hashtags\n",
    "df_tweets_1 = pd.read_csv('df_pandemia_hashv2Limpio.csv')\n",
    "df_tweets_2 = pd.read_csv('DF_pandemiaE.csv')\n",
    "df_tweets_user = pd.read_csv('df_pandemia_hashLimpio.csv')\n",
    "df_tweets = pd.concat([df_tweets_1, df_tweets_2, df_tweets_user],ignore_index=False)\n",
    "#df_tweets = pd.concat([df_tweets_1, df_tweets_user],ignore_index=False)\n",
    "df_tweets[['id','tweet','username','date','nlikes']].to_csv('df_pand_tweet_C.csv')"
   ]
  },
  {
   "cell_type": "code",
   "execution_count": 11,
   "id": "f1966667",
   "metadata": {},
   "outputs": [],
   "source": [
    "def Recuperar_Indice(lista_indices):\n",
    "    index = []\n",
    "    for i in lista_indices:\n",
    "        index.append(i[1])\n",
    "    index = pd.unique(index)\n",
    "    index = list(index)\n",
    "    return index\n",
    "\n",
    "def Eliminar_Repetidos(df, label, language, threshold):\n",
    "    print('Analizando ' + str(len(df)) + ' iniciales...')\n",
    "    tfidf = TfidfVectorizer(stop_words = stopwords.words(language))\n",
    "    # Construct the TF-IDF matrix\n",
    "    tfidf_matrix = tfidf.fit_transform(df[label])\n",
    "    #print(shape(tfidf_matrix))\n",
    "    # Generate the cosine similarity matrix\n",
    "    cosine_sim = linear_kernel(tfidf_matrix, tfidf_matrix)\n",
    "    #print(cosine_sim)\n",
    "    #Lista que recupera los tweets\n",
    "    A = []\n",
    "    for i in range(0,len(cosine_sim)):\n",
    "        for k in range(0,len(cosine_sim)):\n",
    "            if ((k>i) and (cosine_sim[i][k] >= threshold)):\n",
    "                #print(i,k)\n",
    "                A.append([i,k])\n",
    "                \n",
    "    indices_tweets = Recuperar_Indice(A)\n",
    "    df = df.drop(indices_tweets)\n",
    "    #print(df)\n",
    "    df = df.reset_index(drop = True)\n",
    "    print('Se han recuperado ' + str(len(df)) + ' tweets')\n",
    "    return df\n",
    "\n",
    "# La eliminacion de espacios mediante re nos garantiza que al utilizar **sent_tokenize** no se\n",
    "# considere espacios de los caracteres especiales como en el caso de los hastags o URLS\n",
    "import re\n",
    "def Eliminar_espacios(text):\n",
    "    pattern = re.compile(r'\\s+')\n",
    "    text = re.sub(pattern, ' ', text)\n",
    "    text = text.replace(\". #\",\"#\")\n",
    "    text = text.replace(\" #\",\"#\")\n",
    "    text = text.replace(\". @\",\"@\")\n",
    "    text = text.replace(\" @\",\"@\")\n",
    "    return text\n",
    "\n",
    "# Mediante el metodo **obtener_oraciones**, las oraciones que pertenecen a un tweets son desglosadas.\n",
    "def obtener_oraciones(df):\n",
    "    new_df = pd.DataFrame()\n",
    "    dist_sentences = []\n",
    "    df['tweet_sentence'] = df['tweet_process'].copy()\n",
    "    count_len = len(df)\n",
    "    for i, row in df.iterrows():\n",
    "        #print(i)\n",
    "        row['tweet_sentence'] = sent_tokenize(row['tweet_process'])\n",
    "        #row['tweet_sentence'] = row['tweet'].split('.')\n",
    "        dist_sentences.append(len(row['tweet_sentence']))\n",
    "        if len(row['tweet_sentence']) > 1:\n",
    "            #print(len(row['tweet_sentence'])\n",
    "            for j in row['tweet_sentence']:\n",
    "                nueva_fila = {'id': row['id'], 'tweet':row['tweet'], 'tweet_sentence': j,'len_sentence': len(row['tweet_sentence']),\n",
    "                              'username':row['username'], 'date': row['date'],'nlikes':row['nlikes'] } \n",
    "                new_df = new_df.append(nueva_fila, ignore_index=True)\n",
    "        else:\n",
    "            nueva_fila = {'id': row['id'], 'tweet':row['tweet'], 'tweet_sentence': row['tweet_process'],\n",
    "                          'len_sentence': len(row['tweet_sentence']), 'username':row['username'], 'date': row['date'],'nlikes':row['nlikes']}\n",
    "            new_df = new_df.append(nueva_fila, ignore_index=True)\n",
    "    #new_df['len_sentence'] = df['tweet_sentence'].apply(lambda x: len(x))      \n",
    "    #new_df.to_excel('tweetS.xlsx')\n",
    "    return new_df, dist_sentences\n",
    "\n",
    "#Mediante **verificar_oraciones** eliminamos aquellas oraciones que puden generar ruido en nuestro analisis de acuerdo\n",
    "# a las condiciones establecidas.\n",
    "def verificar_oraciones(df):\n",
    "    indice_eliminados = []\n",
    "    for i, row in df.iterrows():\n",
    "        if row['len_word'] < 3:\n",
    "            indice_eliminados.append(i) \n",
    "        #print(type(row['tweet_sentence']), row['tweet_sentence'])\n",
    "        if row['tweet_sentence'].startswith('https') or row['tweet_sentence'].startswith('(') and row['len_word'] < 4:\n",
    "            indice_eliminados.append(i)\n",
    "        \n",
    "        if 'https' in row['tweet_sentence'] or '(' in row['tweet_sentence'] or 'Vía' in row['tweet_sentence']  and row['len_word'] < 9 :\n",
    "            indice_eliminados.append(i)\n",
    "        \n",
    "        if 'PD' in row['tweet_sentence'] or 'sra' in row['tweet_sentence'] and row['len_word'] < 4:\n",
    "            indice_eliminados.append(i) \n",
    "            \n",
    "        if bool(re.search(r'\\d', row['tweet_sentence'])) and row['len_word'] < 4:\n",
    "            indice_eliminados.append(i) \n",
    "        \n",
    "        if  'Hola' in row['tweet_sentence'] or 'abrazo' in row['tweet_sentence'] or 'Gracias' in row['tweet_sentence'] or 'dia' in row['tweet_sentence'] or 'Dia' in row['tweet_sentence'] and row['len_word'] < 6 :\n",
    "            indice_eliminados.append(i)\n",
    "        \n",
    "    unique_index = np.unique(indice_eliminados)\n",
    "    df = df.drop(unique_index) \n",
    "    df.reset_index(drop=True, inplace=True)\n",
    "    \n",
    "    df = Eliminar_Repetidos(df, 'tweet_sentence', 'spanish', 0.9)\n",
    "    df.to_csv('tweetS.csv')\n",
    "    print(len(df))\n",
    "    return df"
   ]
  },
  {
   "cell_type": "code",
   "execution_count": 14,
   "id": "cff6e5b7",
   "metadata": {},
   "outputs": [],
   "source": [
    "df_tweets['tweet_process'] = df_tweets['tweet'].apply(lambda x: Eliminar_espacios(x))\n",
    "de_sentences, dist_oraciones = obtener_oraciones(df_tweets)\n",
    "#df_tweets.to_excel('tweets_esp.xlsx')\n",
    "de_sentences_clean = de_sentences.copy()\n",
    "#de_sentences_clean.columns"
   ]
  },
  {
   "cell_type": "markdown",
   "id": "977e0a12",
   "metadata": {},
   "source": [
    "*Utilizamos **word_tokenize** para conocer la distribucion de palabras en cada oracion, ya que las oraciones pueden ser de diferente tamaño. Por otro lado **word_tokenize** y **len_word** para realizar un analisis del contenido de los caracteres de la oracion y poder determinar cuales son las que realmente contiene significado.*"
   ]
  },
  {
   "cell_type": "code",
   "execution_count": 15,
   "id": "b31df3b6",
   "metadata": {},
   "outputs": [],
   "source": [
    "#Atributos necesarios para conocer la distribucion  de praciones por tweets y palabras por oracion. \n",
    "de_sentences_clean['tweet_word'] = de_sentences_clean['tweet_sentence'].apply(lambda x: word_tokenize(x))\n",
    "de_sentences_clean['len_word'] = de_sentences_clean['tweet_word'].apply(lambda x: len(x))\n",
    "#de_sentences_clean.to_excel('tweetH.xlsx')"
   ]
  },
  {
   "cell_type": "code",
   "execution_count": 16,
   "id": "983d0f75",
   "metadata": {},
   "outputs": [
    {
     "name": "stdout",
     "output_type": "stream",
     "text": [
      "Analizando10665 iniciales...\n",
      "Se han recuperado 10424 tweets\n",
      "10424\n"
     ]
    },
    {
     "data": {
      "text/html": [
       "<div>\n",
       "<style scoped>\n",
       "    .dataframe tbody tr th:only-of-type {\n",
       "        vertical-align: middle;\n",
       "    }\n",
       "\n",
       "    .dataframe tbody tr th {\n",
       "        vertical-align: top;\n",
       "    }\n",
       "\n",
       "    .dataframe thead th {\n",
       "        text-align: right;\n",
       "    }\n",
       "</style>\n",
       "<table border=\"1\" class=\"dataframe\">\n",
       "  <thead>\n",
       "    <tr style=\"text-align: right;\">\n",
       "      <th></th>\n",
       "      <th>id</th>\n",
       "      <th>tweet</th>\n",
       "      <th>tweet_sentence</th>\n",
       "      <th>len_sentence</th>\n",
       "      <th>username</th>\n",
       "      <th>date</th>\n",
       "      <th>nlikes</th>\n",
       "      <th>tweet_word</th>\n",
       "      <th>len_word</th>\n",
       "    </tr>\n",
       "  </thead>\n",
       "  <tbody>\n",
       "    <tr>\n",
       "      <th>0</th>\n",
       "      <td>1.361684e+18</td>\n",
       "      <td>Por ello, en nuestro Gobierno, sin duda ni mur...</td>\n",
       "      <td>Por ello, en nuestro Gobierno, sin duda ni mur...</td>\n",
       "      <td>4.0</td>\n",
       "      <td>PedroCastilloTe</td>\n",
       "      <td>2021-02-16 09:30:56</td>\n",
       "      <td>46.0</td>\n",
       "      <td>[Por, ello, ,, en, nuestro, Gobierno, ,, sin, ...</td>\n",
       "      <td>31</td>\n",
       "    </tr>\n",
       "    <tr>\n",
       "      <th>1</th>\n",
       "      <td>1.361684e+18</td>\n",
       "      <td>Por ello, en nuestro Gobierno, sin duda ni mur...</td>\n",
       "      <td>Llegó la hora de cambiar de raíz esté problema.</td>\n",
       "      <td>4.0</td>\n",
       "      <td>PedroCastilloTe</td>\n",
       "      <td>2021-02-16 09:30:56</td>\n",
       "      <td>46.0</td>\n",
       "      <td>[Llegó, la, hora, de, cambiar, de, raíz, esté,...</td>\n",
       "      <td>10</td>\n",
       "    </tr>\n",
       "    <tr>\n",
       "      <th>2</th>\n",
       "      <td>1.361684e+18</td>\n",
       "      <td>Por ello, en nuestro Gobierno, sin duda ni mur...</td>\n",
       "      <td>Tú y yo, podemos hacerlo.</td>\n",
       "      <td>4.0</td>\n",
       "      <td>PedroCastilloTe</td>\n",
       "      <td>2021-02-16 09:30:56</td>\n",
       "      <td>46.0</td>\n",
       "      <td>[Tú, y, yo, ,, podemos, hacerlo, .]</td>\n",
       "      <td>7</td>\n",
       "    </tr>\n",
       "    <tr>\n",
       "      <th>3</th>\n",
       "      <td>1.361684e+18</td>\n",
       "      <td>Por ello, en nuestro Gobierno, sin duda ni mur...</td>\n",
       "      <td>Palabra de Maestro</td>\n",
       "      <td>4.0</td>\n",
       "      <td>PedroCastilloTe</td>\n",
       "      <td>2021-02-16 09:30:56</td>\n",
       "      <td>46.0</td>\n",
       "      <td>[Palabra, de, Maestro]</td>\n",
       "      <td>3</td>\n",
       "    </tr>\n",
       "    <tr>\n",
       "      <th>4</th>\n",
       "      <td>1.361684e+18</td>\n",
       "      <td>Políticos como Vizcarra y su «gente de confian...</td>\n",
       "      <td>Políticos como Vizcarra y su «gente de confian...</td>\n",
       "      <td>5.0</td>\n",
       "      <td>PedroCastilloTe</td>\n",
       "      <td>2021-02-16 09:29:20</td>\n",
       "      <td>48.0</td>\n",
       "      <td>[Políticos, como, Vizcarra, y, su, «, gente, d...</td>\n",
       "      <td>29</td>\n",
       "    </tr>\n",
       "    <tr>\n",
       "      <th>...</th>\n",
       "      <td>...</td>\n",
       "      <td>...</td>\n",
       "      <td>...</td>\n",
       "      <td>...</td>\n",
       "      <td>...</td>\n",
       "      <td>...</td>\n",
       "      <td>...</td>\n",
       "      <td>...</td>\n",
       "      <td>...</td>\n",
       "    </tr>\n",
       "    <tr>\n",
       "      <th>10419</th>\n",
       "      <td>1.554257e+18</td>\n",
       "      <td>#JNEFactChecking | Falso. En ninguna parte de ...</td>\n",
       "      <td>En ninguna parte de la entrevista se habla de ...</td>\n",
       "      <td>3.0</td>\n",
       "      <td>JNE_Peru</td>\n",
       "      <td>2022-08-01 19:04:10</td>\n",
       "      <td>128.0</td>\n",
       "      <td>[En, ninguna, parte, de, la, entrevista, se, h...</td>\n",
       "      <td>16</td>\n",
       "    </tr>\n",
       "    <tr>\n",
       "      <th>10420</th>\n",
       "      <td>1.554257e+18</td>\n",
       "      <td>#JNEFactChecking | Falso. Zamir Villaverde no ...</td>\n",
       "      <td>Zamir Villaverde no ha \"confirmado\" tener un a...</td>\n",
       "      <td>3.0</td>\n",
       "      <td>JNE_Peru</td>\n",
       "      <td>2022-08-01 19:04:08</td>\n",
       "      <td>529.0</td>\n",
       "      <td>[Zamir, Villaverde, no, ha, ``, confirmado, ''...</td>\n",
       "      <td>18</td>\n",
       "    </tr>\n",
       "    <tr>\n",
       "      <th>10421</th>\n",
       "      <td>1.554230e+18</td>\n",
       "      <td>La Resolución precisa que una eventual declara...</td>\n",
       "      <td>La Resolución precisa que una eventual declara...</td>\n",
       "      <td>1.0</td>\n",
       "      <td>JNE_Peru</td>\n",
       "      <td>2022-08-01 17:18:49</td>\n",
       "      <td>3.0</td>\n",
       "      <td>[La, Resolución, precisa, que, una, eventual, ...</td>\n",
       "      <td>37</td>\n",
       "    </tr>\n",
       "    <tr>\n",
       "      <th>10422</th>\n",
       "      <td>1.554230e+18</td>\n",
       "      <td>El Pleno del JNE ha declarado nulo el fallo em...</td>\n",
       "      <td>El Pleno del JNE ha declarado nulo el fallo em...</td>\n",
       "      <td>2.0</td>\n",
       "      <td>JNE_Peru</td>\n",
       "      <td>2022-08-01 17:18:49</td>\n",
       "      <td>3.0</td>\n",
       "      <td>[El, Pleno, del, JNE, ha, declarado, nulo, el,...</td>\n",
       "      <td>42</td>\n",
       "    </tr>\n",
       "    <tr>\n",
       "      <th>10423</th>\n",
       "      <td>1.554230e+18</td>\n",
       "      <td>Respecto a la Resolución N° 1507-2022-JNE, el ...</td>\n",
       "      <td>Respecto a la Resolución N° 1507-2022-JNE, el ...</td>\n",
       "      <td>2.0</td>\n",
       "      <td>JNE_Peru</td>\n",
       "      <td>2022-08-01 17:18:47</td>\n",
       "      <td>20.0</td>\n",
       "      <td>[Respecto, a, la, Resolución, N°, 1507-2022-JN...</td>\n",
       "      <td>50</td>\n",
       "    </tr>\n",
       "  </tbody>\n",
       "</table>\n",
       "<p>10424 rows × 9 columns</p>\n",
       "</div>"
      ],
      "text/plain": [
       "                 id                                              tweet  \\\n",
       "0      1.361684e+18  Por ello, en nuestro Gobierno, sin duda ni mur...   \n",
       "1      1.361684e+18  Por ello, en nuestro Gobierno, sin duda ni mur...   \n",
       "2      1.361684e+18  Por ello, en nuestro Gobierno, sin duda ni mur...   \n",
       "3      1.361684e+18  Por ello, en nuestro Gobierno, sin duda ni mur...   \n",
       "4      1.361684e+18  Políticos como Vizcarra y su «gente de confian...   \n",
       "...             ...                                                ...   \n",
       "10419  1.554257e+18  #JNEFactChecking | Falso. En ninguna parte de ...   \n",
       "10420  1.554257e+18  #JNEFactChecking | Falso. Zamir Villaverde no ...   \n",
       "10421  1.554230e+18  La Resolución precisa que una eventual declara...   \n",
       "10422  1.554230e+18  El Pleno del JNE ha declarado nulo el fallo em...   \n",
       "10423  1.554230e+18  Respecto a la Resolución N° 1507-2022-JNE, el ...   \n",
       "\n",
       "                                          tweet_sentence  len_sentence  \\\n",
       "0      Por ello, en nuestro Gobierno, sin duda ni mur...           4.0   \n",
       "1        Llegó la hora de cambiar de raíz esté problema.           4.0   \n",
       "2                              Tú y yo, podemos hacerlo.           4.0   \n",
       "3                                     Palabra de Maestro           4.0   \n",
       "4      Políticos como Vizcarra y su «gente de confian...           5.0   \n",
       "...                                                  ...           ...   \n",
       "10419  En ninguna parte de la entrevista se habla de ...           3.0   \n",
       "10420  Zamir Villaverde no ha \"confirmado\" tener un a...           3.0   \n",
       "10421  La Resolución precisa que una eventual declara...           1.0   \n",
       "10422  El Pleno del JNE ha declarado nulo el fallo em...           2.0   \n",
       "10423  Respecto a la Resolución N° 1507-2022-JNE, el ...           2.0   \n",
       "\n",
       "              username                 date  nlikes  \\\n",
       "0      PedroCastilloTe  2021-02-16 09:30:56    46.0   \n",
       "1      PedroCastilloTe  2021-02-16 09:30:56    46.0   \n",
       "2      PedroCastilloTe  2021-02-16 09:30:56    46.0   \n",
       "3      PedroCastilloTe  2021-02-16 09:30:56    46.0   \n",
       "4      PedroCastilloTe  2021-02-16 09:29:20    48.0   \n",
       "...                ...                  ...     ...   \n",
       "10419         JNE_Peru  2022-08-01 19:04:10   128.0   \n",
       "10420         JNE_Peru  2022-08-01 19:04:08   529.0   \n",
       "10421         JNE_Peru  2022-08-01 17:18:49     3.0   \n",
       "10422         JNE_Peru  2022-08-01 17:18:49     3.0   \n",
       "10423         JNE_Peru  2022-08-01 17:18:47    20.0   \n",
       "\n",
       "                                              tweet_word  len_word  \n",
       "0      [Por, ello, ,, en, nuestro, Gobierno, ,, sin, ...        31  \n",
       "1      [Llegó, la, hora, de, cambiar, de, raíz, esté,...        10  \n",
       "2                    [Tú, y, yo, ,, podemos, hacerlo, .]         7  \n",
       "3                                 [Palabra, de, Maestro]         3  \n",
       "4      [Políticos, como, Vizcarra, y, su, «, gente, d...        29  \n",
       "...                                                  ...       ...  \n",
       "10419  [En, ninguna, parte, de, la, entrevista, se, h...        16  \n",
       "10420  [Zamir, Villaverde, no, ha, ``, confirmado, ''...        18  \n",
       "10421  [La, Resolución, precisa, que, una, eventual, ...        37  \n",
       "10422  [El, Pleno, del, JNE, ha, declarado, nulo, el,...        42  \n",
       "10423  [Respecto, a, la, Resolución, N°, 1507-2022-JN...        50  \n",
       "\n",
       "[10424 rows x 9 columns]"
      ]
     },
     "execution_count": 16,
     "metadata": {},
     "output_type": "execute_result"
    }
   ],
   "source": [
    "de_sentences_clean = verificar_oraciones(de_sentences_clean)\n",
    "de_sentences_clean"
   ]
  },
  {
   "cell_type": "markdown",
   "id": "8bb7e733",
   "metadata": {},
   "source": [
    "## Distribucion de datos ##\n",
    "Construimos graficos de distribucion de oraciones en cada tweeet, asi como la distribucion de palabras por oracion."
   ]
  },
  {
   "cell_type": "code",
   "execution_count": 19,
   "id": "46558510",
   "metadata": {},
   "outputs": [],
   "source": [
    "def grafico_distribucion(lista, xlabel, name, rango):\n",
    "    intervalos = range(min(lista), max(lista) + rango) #calculamos los extremos de los intervalos\n",
    "    plot.figure(figsize=(20, 6))\n",
    "    plot.hist(x=lista, bins=intervalos, color='#F2AB6D', rwidth=0.85)\n",
    "    #plot.title('Histograma de edades - matplotlib - codigopiton.com')\n",
    "    \n",
    "    plot.xlabel(xlabel)\n",
    "    plot.ylabel('Frecuencia')\n",
    "    #plot.xticks(intervalos)\n",
    "    plot.savefig(name)\n",
    "    plot.show() #dibujamos el histograma\n",
    "#grafico_distribucion(dist_oraciones, 'Oraciones','dist_ora.eps', 2)\n",
    "# copy the data\n",
    "def normalizar_columna(df, column):\n",
    "    df_min_max_scaled = df.copy()\n",
    "    # apply normalization techniques by Column 1\n",
    "    #column = 'Column 1'\n",
    "    df_min_max_scaled[column] = df_min_max_scaled[column] - df_min_max_scaled[column].min() / df_min_max_scaled[column].max() - df_min_max_scaled[column].min()    \n",
    "    return df_min_max_scaled\n",
    "\n",
    "def plot_hist(df, columna, name):\n",
    "    plot.figure(figsize=(10, 8))\n",
    "    histogram = df_plot[columna].plot.hist()\n",
    "    #print(histogram)\n",
    "    #plot.xlabel()\n",
    "    plot.ylabel('Frecuencia', size=22)\n",
    "    plot.xticks(size = 20)\n",
    "    plot.yticks(size = 20)\n",
    "    plot.savefig(name)\n",
    "    plot.show()\n",
    "\n",
    "#plot_hist(df_plot, 'len_word', 'hist_pol_word.pdf')"
   ]
  },
  {
   "cell_type": "code",
   "execution_count": 20,
   "id": "076410c6",
   "metadata": {},
   "outputs": [
    {
     "name": "stdout",
     "output_type": "stream",
     "text": [
      "<class 'pandas.core.frame.DataFrame'>\n",
      "RangeIndex: 10424 entries, 0 to 10423\n",
      "Data columns (total 9 columns):\n",
      " #   Column          Non-Null Count  Dtype  \n",
      "---  ------          --------------  -----  \n",
      " 0   id              10424 non-null  float64\n",
      " 1   tweet           10424 non-null  object \n",
      " 2   tweet_sentence  10424 non-null  object \n",
      " 3   len_sentence    10424 non-null  int32  \n",
      " 4   username        10424 non-null  object \n",
      " 5   date            10424 non-null  object \n",
      " 6   nlikes          10424 non-null  int32  \n",
      " 7   tweet_word      10424 non-null  object \n",
      " 8   len_word        10424 non-null  int64  \n",
      "dtypes: float64(1), int32(2), int64(1), object(5)\n",
      "memory usage: 651.6+ KB\n"
     ]
    }
   ],
   "source": [
    "de_sentences_clean['len_sentence'] = de_sentences_clean['len_sentence'].astype(int)\n",
    "de_sentences_clean['nlikes'] = de_sentences_clean['nlikes'].astype(int)\n",
    "de_sentences_clean.info()\n",
    "#print(de_sentences_clean)"
   ]
  },
  {
   "cell_type": "code",
   "execution_count": null,
   "id": "4b3f3839",
   "metadata": {},
   "outputs": [],
   "source": [
    "# view normalized data\n",
    "df_plot = normalizar_columna(de_sentences_clean,'len_sentence')"
   ]
  },
  {
   "cell_type": "code",
   "execution_count": 15,
   "id": "b84e96a2",
   "metadata": {},
   "outputs": [
    {
     "data": {
      "image/png": "[encoded data removed]",
      "text/plain": [
       "<Figure size 720x576 with 1 Axes>"
      ]
     },
     "metadata": {
      "needs_background": "light"
     },
     "output_type": "display_data"
    },
    {
     "data": {
      "image/png": "[encoded data removed]",
      "text/plain": [
       "<Figure size 720x576 with 1 Axes>"
      ]
     },
     "metadata": {
      "needs_background": "light"
     },
     "output_type": "display_data"
    }
   ],
   "source": [
    "plot_hist(df_plot, 'len_word', 'hist_pol_word.pdf')\n",
    "plot_hist(df_plot, 'len_sentence', 'hist_pol_sentence.pdf')"
   ]
  },
  {
   "cell_type": "code",
   "execution_count": 816,
   "id": "e6f2af33",
   "metadata": {},
   "outputs": [],
   "source": [
    "from scipy import stats\n",
    "def normalidad_variable_numerica(columna, name):\n",
    "    plt.figure(figsize=(10, 6))\n",
    "    stats.probplot(columna, plot=plt)\n",
    "    #plt.xlabel('Diagrama de Probabilidad(normal) de la variable {}'.format(columna))\n",
    "    plt.savefig(name)\n",
    "    plt.show()"
   ]
  },
  {
   "cell_type": "code",
   "execution_count": 817,
   "id": "87e21ad9",
   "metadata": {},
   "outputs": [
    {
     "data": {
      "image/png": "[encoded data removed]",
      "text/plain": [
       "<Figure size 720x432 with 1 Axes>"
      ]
     },
     "metadata": {
      "needs_background": "light"
     },
     "output_type": "display_data"
    }
   ],
   "source": [
    "normalidad_variable_numerica(de_sentences_clean['len_word'].to_list(),'dist_normalidad.eps')"
   ]
  }
 ],
 "metadata": {
  "kernelspec": {
   "display_name": "Python 3 (ipykernel)",
   "language": "python",
   "name": "python3"
  },
  "language_info": {
   "codemirror_mode": {
    "name": "ipython",
    "version": 3
   },
   "file_extension": ".py",
   "mimetype": "text/x-python",
   "name": "python",
   "nbconvert_exporter": "python",
   "pygments_lexer": "ipython3",
   "version": "3.9.7"
  }
 },
 "nbformat": 4,
 "nbformat_minor": 5
}
