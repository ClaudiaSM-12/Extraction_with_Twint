{
 "cells": [
  {
   "cell_type": "markdown",
   "metadata": {},
   "source": [
    "# ANALISIS DE SENTIMIENTOS CONTEXTO PERU ##"
   ]
  },
  {
   "cell_type": "markdown",
   "metadata": {},
   "source": [
    "### Librerias"
   ]
  },
  {
   "cell_type": "code",
   "execution_count": 1,
   "metadata": {},
   "outputs": [],
   "source": [
    "#import warnings\n",
    "#warnings.filterwarnings(\"ignore\")\n",
    "\n",
    "import pandas as pd\n",
    "import numpy as np\n",
    "\n",
    "#NLTK\n",
    "import nltk\n",
    "from nltk import word_tokenize, WordPunctTokenizer, regexp_tokenize\n",
    "from nltk import word_tokenize, WordPunctTokenizer, regexp_tokenize\n",
    "\n",
    "#Plotting \n",
    "import matplotlib.pyplot as plt\n",
    "from wordcloud import WordCloud, STOPWORDS\n",
    "\n",
    "#Keras\n",
    "from numpy import array\n",
    "from keras.preprocessing.text import Tokenizer\n",
    "from keras.utils import to_categorical\n",
    "from keras.models import Sequential\n",
    "from keras.layers import Dense\n",
    "from keras.layers import LSTM\n",
    "from keras.layers import Embedding\n",
    "from sklearn.model_selection import train_test_split\n",
    "from sklearn.metrics import accuracy_score, precision_score, recall_score"
   ]
  },
  {
   "cell_type": "code",
   "execution_count": 2,
   "metadata": {},
   "outputs": [],
   "source": [
    "#Funcion para cambiar valores de polaridad\n",
    "def Cambiar_valor_polaridad(x):\n",
    "    result = 0\n",
    "    if x == 'POS':\n",
    "        result = 1\n",
    "    elif x == 'NEG':\n",
    "        result = 0\n",
    "    elif x == 'NEU':\n",
    "        result =  -1\n",
    "    return result\n",
    "\n",
    "def Cambiar_formato(x):\n",
    "    #print(x)\n",
    "    result = ''\n",
    "    if x == '0.0' or x == '0' :\n",
    "        result = 'NEG'\n",
    "    elif x == '1.0' or x == '1':\n",
    "        result = 'POS'\n",
    "    elif x == '-':\n",
    "        result = 'NEU'\n",
    "        \n",
    "    return result"
   ]
  },
  {
   "cell_type": "markdown",
   "metadata": {},
   "source": [
    "## DATASET PROPIO\n",
    "* Leer dataset de cada contexto"
   ]
  },
  {
   "cell_type": "code",
   "execution_count": 135,
   "metadata": {},
   "outputs": [],
   "source": [
    "#contexto pandemia \n",
    "df_pand = pd.read_csv(\"df_pandemiaF.csv\")\n",
    "#contexto politico\n",
    "#df_pand = pd.read_csv(\"df_politicoF.csv\")\n",
    "#contexto pandemia con VM\n",
    "#df_1 = pd.read_csv(\"df_pandemiafinalVM.csv\")\n",
    "#contexto politico con VM\n",
    "#df_2 = pd.read_csv(\"df_politicofinalVM.csv\")\n",
    "#len(df)\n",
    "#print(df.target.value_counts())\n",
    "\n",
    "#df = df[(df['target'] == 'POS') | (df['target'] == 'NEG')]\n",
    "#print(df.target.value_counts())\n",
    "#df = df[['id','tweet','target_final']]\n",
    "#df = df[(df['target'] == 'POS') | (df['target'] == 'NEG')]\n",
    "#df = df[['id','tweet_sentence','target']]\n",
    "#print(df.columns)"
   ]
  },
  {
   "cell_type": "code",
   "execution_count": 695,
   "metadata": {},
   "outputs": [
    {
     "name": "stdout",
     "output_type": "stream",
     "text": [
      "Index(['Unnamed: 0', 'Unnamed: 0.1', 'Unnamed: 0.1.1', 'id', 'tweet',\n",
      "       'tweet_sentence', 'len_sentence', 'username', 'date', 'nlikes',\n",
      "       'tweet_word', 'len_word', 'POS', 'NEG', 'NEU', 'target'],\n",
      "      dtype='object')\n",
      "NEU    2025\n",
      "NEG    1785\n",
      "POS    1347\n",
      "Name: target, dtype: int64\n"
     ]
    }
   ],
   "source": [
    "df_pand = pd.read_csv(\"df_pandemiaF.csv\")\n",
    "df_pand_rev = pd.read_csv(\"pand_VM_final.csv\")\n",
    "df_pand_rev = df_pand_rev[['id','tweet_sentence', 'target_final']]\n",
    "df_pand_rev.columns = ['id','tweet_sentence', 'target']\n",
    "#print(df_pand_rev.columns)\n",
    "df_final = pd.concat([df_pand, df_pand_rev], ignore_index=False)\n",
    "#df_final['target'].value_counts()\n",
    "#print(df.target.value_counts())\n",
    "#df_pol = pd.read_csv(\"df_politicoF.csv\")\n",
    "#print(df_rev.target.value_counts())\n",
    "df_final.to_csv('df_pandemiafinalVM.csv')\n",
    "print(df_final.columns)\n",
    "print(df_final['target'].value_counts())"
   ]
  },
  {
   "cell_type": "code",
   "execution_count": 4,
   "metadata": {},
   "outputs": [
    {
     "name": "stdout",
     "output_type": "stream",
     "text": [
      "815\n"
     ]
    }
   ],
   "source": [
    "df_VM = pd.read_csv(\"pand_VM_final.csv\")\n",
    "print(len(df_VM))\n",
    "df_pand_VM = df_VM[['id','tweet_sentence', 'target_final']]\n",
    "df_pand_VM.columns = ['id','tweet_sentence', 'target']\n"
   ]
  },
  {
   "cell_type": "code",
   "execution_count": 5,
   "metadata": {},
   "outputs": [
    {
     "name": "stdout",
     "output_type": "stream",
     "text": [
      "752\n"
     ]
    }
   ],
   "source": [
    "df_VM = pd.read_csv(\"pol_VM_final.csv\")\n",
    "print(len(df_VM))\n",
    "df_pol_VM = df_VM[['id','tweet_sentence', 'target_final']]\n",
    "df_pol_VM.columns = ['id','tweet_sentence', 'target']\n"
   ]
  },
  {
   "cell_type": "code",
   "execution_count": 760,
   "metadata": {},
   "outputs": [
    {
     "data": {
      "text/plain": [
       "Index(['Unnamed: 0', 'Unnamed: 0.1', 'Unnamed: 0.1.1', 'Unnamed: 0.1.1.1',\n",
       "       'id', 'tweet', 'tweet_sentence', 'len_sentence', 'username', 'date',\n",
       "       'nlikes', 'tweet_word', 'len_word', 'POS', 'NEG', 'NEU', 'target'],\n",
       "      dtype='object')"
      ]
     },
     "execution_count": 760,
     "metadata": {},
     "output_type": "execute_result"
    }
   ],
   "source": [
    "df_final = pd.read_csv(\"df_pandemiafinalVM.csv\")\n",
    "#df_final = pd.concat([df_pand, df_pol], ignore_index=False)\n",
    "#df_final['target'].value_counts()\n",
    "df_final.columns"
   ]
  },
  {
   "cell_type": "code",
   "execution_count": 136,
   "metadata": {},
   "outputs": [],
   "source": [
    "df_final = pd.concat([df_1, df_2], ignore_index=False)"
   ]
  },
  {
   "cell_type": "code",
   "execution_count": 137,
   "metadata": {},
   "outputs": [
    {
     "data": {
      "text/plain": [
       "NEG    4288\n",
       "POS    3110\n",
       "Name: target, dtype: int64"
      ]
     },
     "execution_count": 137,
     "metadata": {},
     "output_type": "execute_result"
    }
   ],
   "source": [
    "#df_final = pd.read_csv(\"df_pandemiaF.csv\")\n",
    "df_final = df_final[(df_final['target'] == 'POS') | (df_final['target'] == 'NEG')]\n",
    "df_final['target'].value_counts()"
   ]
  },
  {
   "cell_type": "markdown",
   "metadata": {},
   "source": [
    "## Pre procesamiento de tweets"
   ]
  },
  {
   "cell_type": "code",
   "execution_count": 138,
   "metadata": {
    "scrolled": true
   },
   "outputs": [],
   "source": [
    "processed_tweets = df_final.copy()\n",
    "processed_tweets['processed_tweet'] = df_final.tweet_sentence\n",
    "#processed_tweets['processed_tweet'] = processed_tweets.tweetText\n",
    "#processed_tweets.username.value_counts()\n",
    "print(processed_tweets.target.value_counts())"
   ]
  },
  {
   "cell_type": "markdown",
   "metadata": {},
   "source": [
    "### Procesamiento de caracteres especiales"
   ]
  },
  {
   "cell_type": "markdown",
   "metadata": {},
   "source": [
    "#### 1. Hashtags: \n",
    "*Reemplazamos los hashtagas con la etiqueta __HASH__*"
   ]
  },
  {
   "cell_type": "code",
   "execution_count": 140,
   "metadata": {},
   "outputs": [],
   "source": [
    "import re\n",
    "hash_regex = re.compile(r\"#(\\w+)\")\n",
    "hstgs = [] # To store the hashtags so we can exclude them from some parts of the analysis\n",
    "def hash_repl(match):\n",
    "    _ = '__HASH_'+match.group(1).upper()\n",
    "    hstgs.append(_)\n",
    "    return _"
   ]
  },
  {
   "cell_type": "markdown",
   "metadata": {},
   "source": [
    "#### 2. Usernames:\n",
    "*Reemplazamos los usernames con la etiqueta __user__*"
   ]
  },
  {
   "cell_type": "code",
   "execution_count": 141,
   "metadata": {},
   "outputs": [],
   "source": [
    "user_regex = re.compile(r\"@(\\w+)\")\n",
    "usr_names = [] # To store the user names so we can exclude them from some parts of the analysis\n",
    "def user_repl(match):\n",
    "    _ = '__user_'+match.group(1).upper()\n",
    "    usr_names.append(_)\n",
    "    return _"
   ]
  },
  {
   "cell_type": "markdown",
   "metadata": {},
   "source": [
    "#### 3. URLs:\n",
    "*Reemplazamos los URLs con la etiqueta __URL_*"
   ]
  },
  {
   "cell_type": "code",
   "execution_count": 142,
   "metadata": {},
   "outputs": [],
   "source": [
    "url_regex = re.compile(r\"(http|https|ftp)://[a-zA-Z0-9\\./]+\")\n",
    "def url_repl(match):\n",
    "    return '__URL_'"
   ]
  },
  {
   "cell_type": "code",
   "execution_count": 143,
   "metadata": {},
   "outputs": [],
   "source": [
    "#processed_tweets['processed_tweet'] = [re.sub(url_regex, url_repl, str(s)) for s in processed_tweets.processed_tweet]\n",
    "#processed_tweets"
   ]
  },
  {
   "cell_type": "markdown",
   "metadata": {},
   "source": [
    "#### 4. Caracteres repetidos:\n",
    "*Corregimos los caracteres repetidos "
   ]
  },
  {
   "cell_type": "code",
   "execution_count": 144,
   "metadata": {},
   "outputs": [],
   "source": [
    "# Repeating words like hurrrryyyyyy\n",
    "rpt_regex = re.compile(r\"(.)\\1{1,}\", re.IGNORECASE);\n",
    "def rpt_repl(match):\n",
    "    return match.group(1)+match.group(1)"
   ]
  },
  {
   "cell_type": "code",
   "execution_count": 145,
   "metadata": {},
   "outputs": [
    {
     "data": {
      "text/plain": [
       "'Reppeated characters in wordss'"
      ]
     },
     "execution_count": 145,
     "metadata": {},
     "output_type": "execute_result"
    }
   ],
   "source": [
    "# Test\n",
    "re.sub(rpt_regex, rpt_repl, \"Reppppeated characters in wordsssssssss\" )"
   ]
  },
  {
   "cell_type": "markdown",
   "metadata": {},
   "source": [
    "#### 5. Puntuación\n",
    "* "
   ]
  },
  {
   "cell_type": "code",
   "execution_count": 146,
   "metadata": {},
   "outputs": [],
   "source": [
    "# Spliting by word boundaries\n",
    "word_bound_regex = re.compile(r\"\\W+\")\n",
    "\n",
    "# Punctuations\n",
    "punctuations = \\\n",
    "\t[\t#('',\t\t['.', ] )\t,\\\n",
    "\t\t#('',\t\t[',', ] )\t,\\\n",
    "\t\t#('',\t\t['\\'', '\\\"', ] )\t,\\\n",
    "\t\t('__PUNC_EXCL',\t\t['!', '¡', ] )\t,\\\n",
    "\t\t('__PUNC_QUES',\t\t['?', '¿', ] )\t,\\\n",
    "\t\t('__PUNC_ELLP',\t\t['...', '…', ] )\t,\\\n",
    "\t]\n",
    "\n",
    "#For punctuation replacement\n",
    "def punctuations_repl(match):\n",
    "\ttext = match.group(0)\n",
    "\trepl = []\n",
    "\tfor (key, parr) in punctuations :\n",
    "\t\tfor punc in parr :\n",
    "\t\t\tif punc in text:\n",
    "\t\t\t\trepl.append(key)\n",
    "\tif( len(repl)>0 ) :\n",
    "\t\treturn ' '+' '.join(repl)+' '\n",
    "\telse :\n",
    "\t\treturn ' '"
   ]
  },
  {
   "cell_type": "code",
   "execution_count": 147,
   "metadata": {},
   "outputs": [],
   "source": [
    "#processed_tweets['processed_tweet'] = [re.sub(word_bound_regex, punctuations_repl, str(s)) for s in processed_tweets.processed_tweet]"
   ]
  },
  {
   "cell_type": "markdown",
   "metadata": {},
   "source": [
    "### Stemming\n",
    "* Utilizamos SnowballStemmer para obtener los radicales de las palabras"
   ]
  },
  {
   "cell_type": "code",
   "execution_count": 148,
   "metadata": {},
   "outputs": [],
   "source": [
    "from nltk.stem import SnowballStemmer\n",
    "stemmer = SnowballStemmer('spanish')"
   ]
  },
  {
   "cell_type": "code",
   "execution_count": 1,
   "metadata": {},
   "outputs": [
    {
     "ename": "NameError",
     "evalue": "name 'processed_tweets' is not defined",
     "output_type": "error",
     "traceback": [
      "\u001b[1;31m---------------------------------------------------------------------------\u001b[0m",
      "\u001b[1;31mNameError\u001b[0m                                 Traceback (most recent call last)",
      "\u001b[1;32m~\\AppData\\Local\\Temp/ipykernel_15988/914829769.py\u001b[0m in \u001b[0;36m<module>\u001b[1;34m\u001b[0m\n\u001b[0;32m      1\u001b[0m \u001b[1;31m# Test\u001b[0m\u001b[1;33m\u001b[0m\u001b[1;33m\u001b[0m\u001b[0m\n\u001b[1;32m----> 2\u001b[1;33m \u001b[0mtext\u001b[0m \u001b[1;33m=\u001b[0m \u001b[0mprocessed_tweets\u001b[0m\u001b[1;33m.\u001b[0m\u001b[0mprocessed_tweet\u001b[0m\u001b[1;33m[\u001b[0m\u001b[1;36m21\u001b[0m\u001b[1;33m]\u001b[0m\u001b[1;33m\u001b[0m\u001b[1;33m\u001b[0m\u001b[0m\n\u001b[0m\u001b[0;32m      3\u001b[0m \u001b[0mprint\u001b[0m\u001b[1;33m(\u001b[0m\u001b[0mtext\u001b[0m\u001b[1;33m)\u001b[0m\u001b[1;33m\u001b[0m\u001b[1;33m\u001b[0m\u001b[0m\n\u001b[0;32m      4\u001b[0m \u001b[0mtext\u001b[0m \u001b[1;33m=\u001b[0m \u001b[1;33m[\u001b[0m\u001b[0mword\u001b[0m \u001b[1;32mif\u001b[0m\u001b[1;33m(\u001b[0m\u001b[0mword\u001b[0m\u001b[1;33m[\u001b[0m\u001b[1;36m0\u001b[0m\u001b[1;33m:\u001b[0m\u001b[1;36m2\u001b[0m\u001b[1;33m]\u001b[0m\u001b[1;33m==\u001b[0m\u001b[1;34m'__'\u001b[0m\u001b[1;33m)\u001b[0m \u001b[1;32melse\u001b[0m \u001b[0mword\u001b[0m\u001b[1;33m.\u001b[0m\u001b[0mlower\u001b[0m\u001b[1;33m(\u001b[0m\u001b[1;33m)\u001b[0m \u001b[1;32mfor\u001b[0m \u001b[0mword\u001b[0m \u001b[1;32min\u001b[0m \u001b[0mtext\u001b[0m\u001b[1;33m.\u001b[0m\u001b[0msplit\u001b[0m\u001b[1;33m(\u001b[0m\u001b[1;33m)\u001b[0m \u001b[1;32mif\u001b[0m \u001b[1;33m(\u001b[0m\u001b[1;33m(\u001b[0m\u001b[0mlen\u001b[0m\u001b[1;33m(\u001b[0m\u001b[0mword\u001b[0m\u001b[1;33m)\u001b[0m \u001b[1;33m>=\u001b[0m \u001b[1;36m3\u001b[0m\u001b[1;33m)\u001b[0m \u001b[1;32mand\u001b[0m \u001b[1;33m(\u001b[0m\u001b[0mword\u001b[0m \u001b[1;32mnot\u001b[0m \u001b[1;32min\u001b[0m \u001b[0musr_names\u001b[0m\u001b[1;33m)\u001b[0m\u001b[1;33m)\u001b[0m\u001b[1;33m]\u001b[0m\u001b[1;33m\u001b[0m\u001b[1;33m\u001b[0m\u001b[0m\n\u001b[0;32m      5\u001b[0m \u001b[0mtext\u001b[0m \u001b[1;33m=\u001b[0m \u001b[1;33m[\u001b[0m\u001b[0mstemmer\u001b[0m\u001b[1;33m.\u001b[0m\u001b[0mstem\u001b[0m\u001b[1;33m(\u001b[0m\u001b[0mw\u001b[0m\u001b[1;33m)\u001b[0m \u001b[1;32mfor\u001b[0m \u001b[0mw\u001b[0m \u001b[1;32min\u001b[0m \u001b[0mtext\u001b[0m\u001b[1;33m]\u001b[0m\u001b[1;33m\u001b[0m\u001b[1;33m\u001b[0m\u001b[0m\n",
      "\u001b[1;31mNameError\u001b[0m: name 'processed_tweets' is not defined"
     ]
    }
   ],
   "source": [
    "# Test\n",
    "text = processed_tweets.processed_tweet[21]\n",
    "print(text)\n",
    "text = [word if(word[0:2]=='__') else word.lower() for word in text.split() if ((len(word) >= 3) and (word not in usr_names))]\n",
    "text = [stemmer.stem(w) for w in text]                \n",
    "text = \" \".join(text)\n",
    "print('------------------')\n",
    "print(text)"
   ]
  },
  {
   "cell_type": "code",
   "execution_count": 150,
   "metadata": {},
   "outputs": [],
   "source": [
    "def sb_stem(text, only_first=0):\n",
    "    text = [word if(word[0:2]=='__') else word.lower() for word in text.split() if ((len(word) >= 3) or (word in ['no','si', 'sí', 'ni']))] #   If we are doing negation analysis, maybe is a better idea to keep the small words (like 'no')\n",
    "    text = [stemmer.stem(w) if w[0:2]!='__' else w for w in text ]\n",
    "    \n",
    "    return(text)"
   ]
  },
  {
   "cell_type": "markdown",
   "metadata": {},
   "source": [
    "** processAll incluye todos el pre-procesamiento de tweeets **"
   ]
  },
  {
   "cell_type": "code",
   "execution_count": 152,
   "metadata": {},
   "outputs": [],
   "source": [
    "def processAll(text):\n",
    "    text = re.sub( hash_regex, hash_repl, text )\n",
    "    text = re.sub( user_regex, user_repl, text)\n",
    "    text = re.sub( url_regex, url_repl, text )\n",
    "    \n",
    "    text = text.replace('\\'','')\n",
    "    \n",
    "    text = re.sub( word_bound_regex , punctuations_repl, text )\n",
    "    text = re.sub( rpt_regex, rpt_repl, text )\n",
    "    \n",
    "    text = sb_stem(text)    \n",
    "    return text"
   ]
  },
  {
   "cell_type": "markdown",
   "metadata": {},
   "source": [
    "## Feature Engineering"
   ]
  },
  {
   "cell_type": "markdown",
   "metadata": {},
   "source": [
    "#### Creacion de diccionarios de emoticones:\n",
    "* Consideramos 6 categorias para la clasificacion de emoticones"
   ]
  },
  {
   "cell_type": "code",
   "execution_count": 155,
   "metadata": {},
   "outputs": [],
   "source": [
    "# Emoticons\n",
    "emoticons = \\\n",
    "\t[\t# For __EMOT_SMILEY\n",
    "        (' __emoji: U+1F601',\t[':-)', ':)', '(:', '(-:', ] )\t,\\\n",
    "        # for __EMOT_LAUGH\n",
    "\t\t(' __emoji: U+1F923',\t\t[':-D', ':D', 'X-D', 'XD', 'xD', ] )\t,\\\n",
    "        # For __EMOT_LOVE\n",
    "\t\t(' __emoji: U+2764',\t\t['<3', ':\\*', ] )\t,\\\n",
    "        # For __EMOT_WINK\n",
    "\t\t('__emoji: U+1F609',\t\t[';-)', ';)', ';-D', ';D', '(;', '(-;', ] )\t,\\\n",
    "        # For __EMOT_FROWN\n",
    "\t\t(' __emoji: U+2639',\t\t[':-(', ':(', '(:', '(-:', ] )\t,\\\n",
    "        # For __EMOT_CRY\n",
    "\t\t(' __emoji: U+1F622',\t\t[':,(', ':\\'(', ':\"(', ':(('] )\t,\\\n",
    "\t]\n",
    "    \n",
    "def escape_paren(arr):\n",
    "\treturn [text.replace(')', '[)}\\]]').replace('(', '[({\\[]') for text in arr]\n",
    "\n",
    "def regex_union(arr):\n",
    "\treturn '(' + '|'.join( arr ) + ')'\n",
    "\n",
    "emoticons_regex = [ (repl, re.compile(regex_union(escape_paren(regx))) ) for (repl, regx) in emoticons ]"
   ]
  },
  {
   "cell_type": "markdown",
   "metadata": {},
   "source": [
    "*Los emojis se almacenan como combinaciones de caracteres, como :), por ese motivo los traduciremos a su valor unicode en esta etapa.*"
   ]
  },
  {
   "cell_type": "code",
   "execution_count": 156,
   "metadata": {},
   "outputs": [
    {
     "name": "stdout",
     "output_type": "stream",
     "text": [
      "This is a text with one emoticon   __emoji: U+1F601  and another   __emoji: U+2639 \n"
     ]
    }
   ],
   "source": [
    "# Test\n",
    "text = \"This is a text with one emoticon :) and another :(\"\n",
    "for (repl, regx) in emoticons_regex :\n",
    "    text = re.sub(regx, ' '+repl+' ', text)\n",
    "    \n",
    "print(text)"
   ]
  },
  {
   "cell_type": "markdown",
   "metadata": {},
   "source": [
    "*Utilizamos un archivo archivo html que posee los unicode los emojis y seleccionamos los valores unicos*"
   ]
  },
  {
   "cell_type": "code",
   "execution_count": 157,
   "metadata": {},
   "outputs": [
    {
     "data": {
      "text/html": [
       "<div>\n",
       "<style scoped>\n",
       "    .dataframe tbody tr th:only-of-type {\n",
       "        vertical-align: middle;\n",
       "    }\n",
       "\n",
       "    .dataframe tbody tr th {\n",
       "        vertical-align: top;\n",
       "    }\n",
       "\n",
       "    .dataframe thead th {\n",
       "        text-align: right;\n",
       "    }\n",
       "</style>\n",
       "<table border=\"1\" class=\"dataframe\">\n",
       "  <thead>\n",
       "    <tr style=\"text-align: right;\">\n",
       "      <th></th>\n",
       "      <th>emoji_category</th>\n",
       "      <th>number</th>\n",
       "      <th>code</th>\n",
       "      <th>CLDR_Short_Name</th>\n",
       "    </tr>\n",
       "  </thead>\n",
       "  <tbody>\n",
       "    <tr>\n",
       "      <th>0</th>\n",
       "      <td>face-positive</td>\n",
       "      <td>1</td>\n",
       "      <td>U+1F600</td>\n",
       "      <td>grinning face</td>\n",
       "    </tr>\n",
       "    <tr>\n",
       "      <th>1</th>\n",
       "      <td>face-positive</td>\n",
       "      <td>2</td>\n",
       "      <td>U+1F601</td>\n",
       "      <td>beaming face with smiling eyes</td>\n",
       "    </tr>\n",
       "    <tr>\n",
       "      <th>2</th>\n",
       "      <td>face-positive</td>\n",
       "      <td>3</td>\n",
       "      <td>U+1F602</td>\n",
       "      <td>face with tears of joy</td>\n",
       "    </tr>\n",
       "    <tr>\n",
       "      <th>3</th>\n",
       "      <td>face-positive</td>\n",
       "      <td>4</td>\n",
       "      <td>U+1F923</td>\n",
       "      <td>rolling on the floor laughing</td>\n",
       "    </tr>\n",
       "    <tr>\n",
       "      <th>4</th>\n",
       "      <td>face-positive</td>\n",
       "      <td>5</td>\n",
       "      <td>U+1F603</td>\n",
       "      <td>grinning face with big eyes</td>\n",
       "    </tr>\n",
       "  </tbody>\n",
       "</table>\n",
       "</div>"
      ],
      "text/plain": [
       "  emoji_category  number     code                 CLDR_Short_Name\n",
       "0  face-positive       1  U+1F600                   grinning face\n",
       "1  face-positive       2  U+1F601  beaming face with smiling eyes\n",
       "2  face-positive       3  U+1F602          face with tears of joy\n",
       "3  face-positive       4  U+1F923   rolling on the floor laughing\n",
       "4  face-positive       5  U+1F603     grinning face with big eyes"
      ]
     },
     "execution_count": 157,
     "metadata": {},
     "output_type": "execute_result"
    }
   ],
   "source": [
    "# data scraped from http://www.unicode.org/emoji/charts/full-emoji-list.html\n",
    "emojis_db=pd.read_csv('emojis_db_csv.csv')\n",
    "emojis_db.head()"
   ]
  },
  {
   "cell_type": "code",
   "execution_count": 158,
   "metadata": {},
   "outputs": [
    {
     "data": {
      "text/plain": [
       "array(['face-positive', 'face-neutral', 'face-negative', 'face-sick',\n",
       "       'face-role', 'face-fantasy', 'cat-face', 'monkey-face', 'person',\n",
       "       'person-role', 'person-fantasy', 'person-gesture',\n",
       "       'person-activity', 'person-sport', 'family', 'body', 'hair-style',\n",
       "       'emotion', 'clothing', 'animal-mammal', 'animal-bird',\n",
       "       'animal-amphibian', 'animal-reptile', 'animal-marine',\n",
       "       'animal-bug', 'plant-flower', 'plant-other', 'food-fruit',\n",
       "       'food-vegetable', 'food-prepared', 'food-asian', 'food-sweet',\n",
       "       'drink', 'dishware', 'place-map', 'place-geographic',\n",
       "       'place-building', 'place-religious', 'place-other',\n",
       "       'transport-ground', 'transport-water', 'transport-air', 'hotel',\n",
       "       'time', 'sky & weather', 'event', 'award-medal', 'sport', 'game',\n",
       "       'arts & crafts', 'sound', 'music', 'musical-instrument', 'phone',\n",
       "       'computer', 'light & video', 'book-paper', 'money', 'mail',\n",
       "       'writing', 'office', 'lock', 'tool', 'science', 'medical',\n",
       "       'household', 'other-object', 'transport-sign', 'warning', 'arrow',\n",
       "       'religion', 'zodiac', 'av-symbol', 'other-symbol', 'keycap',\n",
       "       'alphanum', 'geometric', 'flag', 'country-flag',\n",
       "       'subdivision-flag'], dtype=object)"
      ]
     },
     "execution_count": 158,
     "metadata": {},
     "output_type": "execute_result"
    }
   ],
   "source": [
    "emojis_db.emoji_category.unique()"
   ]
  },
  {
   "cell_type": "markdown",
   "metadata": {},
   "source": [
    "*La siguiente función extraerá el unicode de cada emoji para que podamos usarlo como una función.*"
   ]
  },
  {
   "cell_type": "code",
   "execution_count": 159,
   "metadata": {},
   "outputs": [],
   "source": [
    "def emojis_unicode(tweet):\n",
    "    ''' Extracts the emojis on the tweet on Unicode format, also tries to match those in regular format, such as \";)\" '''\n",
    "    for (repl, regx) in emoticons_regex :\n",
    "        tweet = re.sub(regx, ' '+repl+' ', tweet)\n",
    "#     print(tweet)\n",
    "\n",
    "    tweet_unicode = str(tweet.encode('unicode-escape'))\n",
    "    tweet_unicode = tweet_unicode.replace('\\\\\\\\U000',' __emoji: U+')\n",
    "#     print(tweet_unicode)\n",
    "    \n",
    "    emoji_list = []\n",
    "#     print(tweet)\n",
    "    for emoji in range(tweet_unicode.count(' __emoji: ')):\n",
    "        em = tweet_unicode.split('__emoji: ')[emoji+1].split()[0]\n",
    "        em = em[:7] # the len of the emoji in unicode is between 6 and 7\n",
    "        emoji_list.append(em.upper())\n",
    "    return emoji_list"
   ]
  },
  {
   "cell_type": "code",
   "execution_count": 160,
   "metadata": {},
   "outputs": [
    {
     "data": {
      "text/plain": [
       "['U+1F601', 'U+2639', 'U+1F621', 'U+1F923', 'U+1F602']"
      ]
     },
     "execution_count": 160,
     "metadata": {},
     "output_type": "execute_result"
    }
   ],
   "source": [
    "# Test\n",
    "text = \"This is a text with one emoticon :) and another :( and some others: 😡 🤣😂\"\n",
    "emojis_unicode(text)"
   ]
  },
  {
   "cell_type": "code",
   "execution_count": 161,
   "metadata": {},
   "outputs": [],
   "source": [
    "#processed_tweets['emojis_unicode'] = processed_tweets.tweet.apply(emojis_unicode) # np.vectorize(emojis_unicode)(processed_tweets['tweetText'])"
   ]
  },
  {
   "cell_type": "markdown",
   "metadata": {},
   "source": [
    "*Posteriormente el UNICODE es trandormado a cada categoria establecida*"
   ]
  },
  {
   "cell_type": "code",
   "execution_count": 162,
   "metadata": {
    "scrolled": true
   },
   "outputs": [
    {
     "data": {
      "text/plain": [
       "['face-positive',\n",
       " 'face-negative',\n",
       " 'face-negative',\n",
       " 'face-positive',\n",
       " 'face-positive']"
      ]
     },
     "execution_count": 162,
     "metadata": {},
     "output_type": "execute_result"
    }
   ],
   "source": [
    "def emoji_category(emojis):\n",
    "    categories = []\n",
    "    for i in range(len(emojis)):\n",
    "        # print(emojis[i])\n",
    "        try:\n",
    "            categories.append(emojis_db.loc[emojis_db.code == emojis[i]].emoji_category.values[0])\n",
    "        except:\n",
    "            try:\n",
    "                _ = emojis[i].split('+')[1] + '+'\n",
    "                categories.append(emojis_db[emojis_db.code.str.contains(_)].emoji_category.values[0])\n",
    "            except:\n",
    "                categories.append('other')\n",
    "    if len(categories) < 1:\n",
    "        categories.append('no_emojis')\n",
    "    return categories\n",
    "\n",
    "emoji_category(emojis_unicode(text))"
   ]
  },
  {
   "cell_type": "code",
   "execution_count": 163,
   "metadata": {},
   "outputs": [],
   "source": [
    "#processed_tweets['emojis_categories'] = processed_tweets.emojis_unicode.apply(emoji_category)"
   ]
  },
  {
   "cell_type": "code",
   "execution_count": 164,
   "metadata": {
    "scrolled": false
   },
   "outputs": [],
   "source": [
    "#processed_tweets.head()"
   ]
  },
  {
   "cell_type": "markdown",
   "metadata": {},
   "source": [
    "## Feature Engineering"
   ]
  },
  {
   "cell_type": "markdown",
   "metadata": {},
   "source": [
    "### N-grams\n",
    "*Utilizamos nltk.FreqDist() para inicializar las frecuencias de las palabras:*"
   ]
  },
  {
   "cell_type": "code",
   "execution_count": 2,
   "metadata": {
    "scrolled": true
   },
   "outputs": [
    {
     "ename": "NameError",
     "evalue": "name 'nltk' is not defined",
     "output_type": "error",
     "traceback": [
      "\u001b[1;31m---------------------------------------------------------------------------\u001b[0m",
      "\u001b[1;31mNameError\u001b[0m                                 Traceback (most recent call last)",
      "\u001b[1;32m~\\AppData\\Local\\Temp/ipykernel_15988/1771414490.py\u001b[0m in \u001b[0;36m<module>\u001b[1;34m\u001b[0m\n\u001b[0;32m      1\u001b[0m \u001b[1;31m# Unigrams\u001b[0m\u001b[1;33m\u001b[0m\u001b[1;33m\u001b[0m\u001b[0m\n\u001b[1;32m----> 2\u001b[1;33m \u001b[0munigrams_fd\u001b[0m \u001b[1;33m=\u001b[0m \u001b[0mnltk\u001b[0m\u001b[1;33m.\u001b[0m\u001b[0mFreqDist\u001b[0m\u001b[1;33m(\u001b[0m\u001b[1;33m)\u001b[0m\u001b[1;33m\u001b[0m\u001b[1;33m\u001b[0m\u001b[0m\n\u001b[0m\u001b[0;32m      3\u001b[0m \u001b[1;31m# unigrams_fd.update(text)\u001b[0m\u001b[1;33m\u001b[0m\u001b[1;33m\u001b[0m\u001b[0m\n\u001b[0;32m      4\u001b[0m \u001b[1;31m# unigrams_fd\u001b[0m\u001b[1;33m\u001b[0m\u001b[1;33m\u001b[0m\u001b[0m\n\u001b[0;32m      5\u001b[0m \u001b[1;33m\u001b[0m\u001b[0m\n",
      "\u001b[1;31mNameError\u001b[0m: name 'nltk' is not defined"
     ]
    }
   ],
   "source": [
    "# Unigrams\n",
    "unigrams_fd = nltk.FreqDist()\n",
    "# unigrams_fd.update(text)\n",
    "# unigrams_fd\n",
    "\n",
    "# Bigrams\n",
    "# words_bi  = [ ','.join(map(str,bg)) for bg in nltk.bigrams(text) ]\n",
    "bi_grams_fd = nltk.FreqDist()\n",
    "# bi_grams_fd.update( words_bi )\n",
    "# bi_grams_fd\n",
    "\n",
    "# Trigrams\n",
    "# words_tri  = [ ','.join(map(str,tg)) for tg in nltk.trigrams(text) ]\n",
    "tri_grams_fd = nltk.FreqDist()\n",
    "# tri_grams_fd.update( words_tri )\n",
    "# tri_grams_fd"
   ]
  },
  {
   "cell_type": "markdown",
   "metadata": {},
   "source": [
    "*Mediante get_word_features obtenemos las combinaciones de las palabras para n-grams(1,2,3)*"
   ]
  },
  {
   "cell_type": "code",
   "execution_count": 166,
   "metadata": {},
   "outputs": [],
   "source": [
    "# Wrapper function that encloses all the n-grams procedures\n",
    "def get_word_features(words):\n",
    "    bag = {}\n",
    "    words_uni = [ 'has(%s)'% ug for ug in words ]\n",
    "    words_bi  = [ 'has(%s)'% ','.join(map(str,bg)) for bg in nltk.bigrams(words) ]\n",
    "    words_tri = [ 'has(%s)'% ','.join(map(str,tg)) for tg in nltk.trigrams(words) ]\n",
    "    \n",
    "    for f in words_uni+words_bi+words_tri:\n",
    "        bag[f] = 1\n",
    "\n",
    "    return bag"
   ]
  },
  {
   "cell_type": "markdown",
   "metadata": {},
   "source": [
    "### Negacion\n",
    "*Utilizamos stemming nuevamente para obtener los radicles de cada palabras*"
   ]
  },
  {
   "cell_type": "code",
   "execution_count": 167,
   "metadata": {},
   "outputs": [
    {
     "data": {
      "text/plain": [
       "['nunc', 'no', 'nad', 'ningun', 'ningun', 'ningun', 'tampoc']"
      ]
     },
     "execution_count": 167,
     "metadata": {},
     "output_type": "execute_result"
    }
   ],
   "source": [
    "sb_stem('nunca no nada ningún ninguno ninguna tampoco')"
   ]
  },
  {
   "cell_type": "code",
   "execution_count": 168,
   "metadata": {},
   "outputs": [],
   "source": [
    "negtn_regex = re.compile( r\"\"\"(?:\n",
    "    ^(?:nunca|no|nada|ningún|ninguno|ninguna|tampoco|\n",
    "        nunc|nad|ningun|tampoc\n",
    "    )$\n",
    ")\n",
    "|\n",
    "n't\n",
    "\"\"\", re.X)\n",
    "\n",
    "def get_negation_features(words):\n",
    "    INF = 0.0\n",
    "    negtn = [ bool(negtn_regex.search(w)) for w in words ]\n",
    "\n",
    "    left = [0.0] * len(words)\n",
    "    prev = 0.0\n",
    "    for i in range(0,len(words)):\n",
    "        if( negtn[i] ):\n",
    "            prev = 1.0\n",
    "        left[i] = prev\n",
    "        prev = max( 0.0, prev-0.1)\n",
    "\n",
    "    right = [0.0] * len(words)\n",
    "    prev = 0.0\n",
    "    for i in reversed(range(0,len(words))):\n",
    "        if( negtn[i] ):\n",
    "            prev = 1.0\n",
    "        right[i] = prev\n",
    "        prev = max( 0.0, prev-0.1)\n",
    "\n",
    "    return dict( zip(\n",
    "                    ['neg_l('+w+')' for w in  words] + ['neg_r('+w+')' for w in  words],\n",
    "                    left + right ) )"
   ]
  },
  {
   "cell_type": "code",
   "execution_count": null,
   "metadata": {},
   "outputs": [],
   "source": [
    "*Explicar ALE"
   ]
  },
  {
   "cell_type": "code",
   "execution_count": 169,
   "metadata": {},
   "outputs": [
    {
     "data": {
      "text/plain": [
       "{'neg_l(Este)': 0.0,\n",
       " 'neg_l(tweet)': 0.0,\n",
       " 'neg_l(no)': 1.0,\n",
       " 'neg_l(es)': 0.9,\n",
       " 'neg_l(positivo)': 0.8,\n",
       " 'neg_r(Este)': 0.8,\n",
       " 'neg_r(tweet)': 0.9,\n",
       " 'neg_r(no)': 1.0,\n",
       " 'neg_r(es)': 0.0,\n",
       " 'neg_r(positivo)': 0.0}"
      ]
     },
     "execution_count": 169,
     "metadata": {},
     "output_type": "execute_result"
    }
   ],
   "source": [
    "# Test\n",
    "text = [\"Este\",\"tweet\", \"no\", \"es\", \"positivo\"]\n",
    "get_negation_features(text)"
   ]
  },
  {
   "cell_type": "markdown",
   "metadata": {},
   "source": [
    "### Apply Features\n",
    "*extract_features engloba el pre procesmiento y el feature engineering para cada oracion*"
   ]
  },
  {
   "cell_type": "code",
   "execution_count": 174,
   "metadata": {},
   "outputs": [],
   "source": [
    "# Wrapper function for the extraction of features\n",
    "def extract_features(text):\n",
    "    global usr_names, hstgs\n",
    "    features = {}\n",
    "    words = text\n",
    "    words = processAll(text)\n",
    "\n",
    "    word_features = get_word_features(words)\n",
    "    features.update( word_features )\n",
    "\n",
    "    negation_features = get_negation_features(words)\n",
    "    features.update( negation_features )\n",
    "        \n",
    "    emoji_features = emoji_category(emojis_unicode(text))\n",
    "    emoji_features_dic = dict( zip(['emoji_('+w+')' for w in  emoji_features], emoji_features))\n",
    "    features.update( emoji_features_dic )\n",
    "    \n",
    "    usr_names = list(set(usr_names))\n",
    "    hstgs = list(set(hstgs))\n",
    "    return features"
   ]
  },
  {
   "cell_type": "code",
   "execution_count": 178,
   "metadata": {},
   "outputs": [
    {
     "name": "stdout",
     "output_type": "stream",
     "text": [
      "NEG    4288\n",
      "POS    3110\n",
      "Name: target, dtype: int64\n"
     ]
    }
   ],
   "source": [
    "print(processed_tweets.target.value_counts())\n",
    "processed_tweets['processed_tweet_features'] = processed_tweets.tweet_sentence.apply(extract_features)"
   ]
  },
  {
   "cell_type": "markdown",
   "metadata": {},
   "source": [
    "## Clasificación de tweets\n",
    "*train_test_split se encargara de obtener el conjunto de datos para el train y test, con estas funcion podemos conseguir los conjuntos de datos estratificados*"
   ]
  },
  {
   "cell_type": "code",
   "execution_count": 179,
   "metadata": {},
   "outputs": [],
   "source": [
    "X_train, X_test, y_train, y_test = train_test_split(processed_tweets[['id','tweet_sentence','processed_tweet','processed_tweet_features']], \n",
    "                                                    processed_tweets['target'], stratify = processed_tweets['target'], random_state = 20, test_size=0.20)"
   ]
  },
  {
   "cell_type": "code",
   "execution_count": null,
   "metadata": {},
   "outputs": [],
   "source": [
    "train_ = X_train\n",
    "train_['target'] = y_train\n",
    "test_ = X_test\n",
    "test_['target'] = y_test \n",
    "\n",
    "print(train_['target'].value_counts(), test_['target'].value_counts())"
   ]
  },
  {
   "cell_type": "code",
   "execution_count": 105,
   "metadata": {},
   "outputs": [
    {
     "data": {
      "text/html": [
       "<div>\n",
       "<style scoped>\n",
       "    .dataframe tbody tr th:only-of-type {\n",
       "        vertical-align: middle;\n",
       "    }\n",
       "\n",
       "    .dataframe tbody tr th {\n",
       "        vertical-align: top;\n",
       "    }\n",
       "\n",
       "    .dataframe thead th {\n",
       "        text-align: right;\n",
       "    }\n",
       "</style>\n",
       "<table border=\"1\" class=\"dataframe\">\n",
       "  <thead>\n",
       "    <tr style=\"text-align: right;\">\n",
       "      <th></th>\n",
       "      <th>Unnamed: 0</th>\n",
       "      <th>Unnamed: 0.1</th>\n",
       "      <th>Unnamed: 0.1.1</th>\n",
       "      <th>id</th>\n",
       "      <th>tweet</th>\n",
       "      <th>tweet_sentence</th>\n",
       "      <th>len_sentence</th>\n",
       "      <th>username</th>\n",
       "      <th>date</th>\n",
       "      <th>nlikes</th>\n",
       "      <th>tweet_word</th>\n",
       "      <th>len_word</th>\n",
       "      <th>POS</th>\n",
       "      <th>NEG</th>\n",
       "      <th>NEU</th>\n",
       "      <th>target</th>\n",
       "      <th>processed_tweet</th>\n",
       "      <th>processed_tweet_features</th>\n",
       "    </tr>\n",
       "  </thead>\n",
       "  <tbody>\n",
       "    <tr>\n",
       "      <th>0</th>\n",
       "      <td>10</td>\n",
       "      <td>10</td>\n",
       "      <td>10</td>\n",
       "      <td>1.233416e+18</td>\n",
       "      <td>Riesgo clave del COVID-19 es brote en países c...</td>\n",
       "      <td>Riesgo clave del COVID-19 es brote en países c...</td>\n",
       "      <td>5</td>\n",
       "      <td>AlfonsodlTorre</td>\n",
       "      <td>2020-02-28 10:36:23</td>\n",
       "      <td>2</td>\n",
       "      <td>['Riesgo', 'clave', 'del', 'COVID-19', 'es', '...</td>\n",
       "      <td>13</td>\n",
       "      <td>0.000672</td>\n",
       "      <td>0.975066</td>\n",
       "      <td>0.024262</td>\n",
       "      <td>NEG</td>\n",
       "      <td>Riesgo clave del COVID-19 es brote en países c...</td>\n",
       "      <td>{'has(riesg)': 1, 'has(clav)': 1, 'has(del)': ...</td>\n",
       "    </tr>\n",
       "    <tr>\n",
       "      <th>1</th>\n",
       "      <td>11</td>\n",
       "      <td>11</td>\n",
       "      <td>11</td>\n",
       "      <td>1.233416e+18</td>\n",
       "      <td>Riesgo clave del COVID-19 es brote en países c...</td>\n",
       "      <td>China/Corea son países capaces de ejecutar pla...</td>\n",
       "      <td>5</td>\n",
       "      <td>AlfonsodlTorre</td>\n",
       "      <td>2020-02-28 10:36:23</td>\n",
       "      <td>2</td>\n",
       "      <td>['China/Corea', 'son', 'países', 'capaces', 'd...</td>\n",
       "      <td>10</td>\n",
       "      <td>0.000672</td>\n",
       "      <td>0.975066</td>\n",
       "      <td>0.024262</td>\n",
       "      <td>NEG</td>\n",
       "      <td>China/Corea son países capaces de ejecutar pla...</td>\n",
       "      <td>{'has(chin)': 1, 'has(core)': 1, 'has(son)': 1...</td>\n",
       "    </tr>\n",
       "    <tr>\n",
       "      <th>2</th>\n",
       "      <td>12</td>\n",
       "      <td>12</td>\n",
       "      <td>12</td>\n",
       "      <td>1.233416e+18</td>\n",
       "      <td>Riesgo clave del COVID-19 es brote en países c...</td>\n",
       "      <td>Un ejemplo es Irán, donde fatalidad del virus ...</td>\n",
       "      <td>5</td>\n",
       "      <td>AlfonsodlTorre</td>\n",
       "      <td>2020-02-28 10:36:23</td>\n",
       "      <td>2</td>\n",
       "      <td>['Un', 'ejemplo', 'es', 'Irán', ',', 'donde', ...</td>\n",
       "      <td>13</td>\n",
       "      <td>0.000672</td>\n",
       "      <td>0.975066</td>\n",
       "      <td>0.024262</td>\n",
       "      <td>NEG</td>\n",
       "      <td>Un ejemplo es Irán, donde fatalidad del virus ...</td>\n",
       "      <td>{'has(ejempl)': 1, 'has(iran)': 1, 'has(dond)'...</td>\n",
       "    </tr>\n",
       "    <tr>\n",
       "      <th>3</th>\n",
       "      <td>13</td>\n",
       "      <td>13</td>\n",
       "      <td>13</td>\n",
       "      <td>1.233416e+18</td>\n",
       "      <td>Riesgo clave del COVID-19 es brote en países c...</td>\n",
       "      <td>O no se detectan casos o cobertura médica es p...</td>\n",
       "      <td>5</td>\n",
       "      <td>AlfonsodlTorre</td>\n",
       "      <td>2020-02-28 10:36:23</td>\n",
       "      <td>2</td>\n",
       "      <td>['O', 'no', 'se', 'detectan', 'casos', 'o', 'c...</td>\n",
       "      <td>11</td>\n",
       "      <td>0.000672</td>\n",
       "      <td>0.975066</td>\n",
       "      <td>0.024262</td>\n",
       "      <td>NEG</td>\n",
       "      <td>O no se detectan casos o cobertura médica es p...</td>\n",
       "      <td>{'has(no)': 1, 'has(detect)': 1, 'has(cas)': 1...</td>\n",
       "    </tr>\n",
       "    <tr>\n",
       "      <th>4</th>\n",
       "      <td>14</td>\n",
       "      <td>14</td>\n",
       "      <td>14</td>\n",
       "      <td>1.233401e+18</td>\n",
       "      <td>Confirmado el primer caso de coronavirus covid...</td>\n",
       "      <td>Confirmado el primer caso de coronavirus covid...</td>\n",
       "      <td>3</td>\n",
       "      <td>PierolaMarcelo</td>\n",
       "      <td>2020-02-28 09:39:56</td>\n",
       "      <td>6</td>\n",
       "      <td>['Confirmado', 'el', 'primer', 'caso', 'de', '...</td>\n",
       "      <td>22</td>\n",
       "      <td>0.001187</td>\n",
       "      <td>0.977370</td>\n",
       "      <td>0.021444</td>\n",
       "      <td>NEG</td>\n",
       "      <td>Confirmado el primer caso de coronavirus covid...</td>\n",
       "      <td>{'has(confirm)': 1, 'has(prim)': 1, 'has(cas)'...</td>\n",
       "    </tr>\n",
       "    <tr>\n",
       "      <th>...</th>\n",
       "      <td>...</td>\n",
       "      <td>...</td>\n",
       "      <td>...</td>\n",
       "      <td>...</td>\n",
       "      <td>...</td>\n",
       "      <td>...</td>\n",
       "      <td>...</td>\n",
       "      <td>...</td>\n",
       "      <td>...</td>\n",
       "      <td>...</td>\n",
       "      <td>...</td>\n",
       "      <td>...</td>\n",
       "      <td>...</td>\n",
       "      <td>...</td>\n",
       "      <td>...</td>\n",
       "      <td>...</td>\n",
       "      <td>...</td>\n",
       "      <td>...</td>\n",
       "    </tr>\n",
       "    <tr>\n",
       "      <th>6369</th>\n",
       "      <td>10302</td>\n",
       "      <td>10302</td>\n",
       "      <td>10302</td>\n",
       "      <td>1.531074e+18</td>\n",
       "      <td>Agradecemos el saludo de la @ACTransparencia p...</td>\n",
       "      <td>Agradecemos el saludo de la @ACTransparencia p...</td>\n",
       "      <td>3</td>\n",
       "      <td>JNE_Peru</td>\n",
       "      <td>2022-05-29 19:42:45</td>\n",
       "      <td>20</td>\n",
       "      <td>['Agradecemos', 'el', 'saludo', 'de', 'la', '@...</td>\n",
       "      <td>12</td>\n",
       "      <td>0.514830</td>\n",
       "      <td>0.011206</td>\n",
       "      <td>0.473965</td>\n",
       "      <td>POS</td>\n",
       "      <td>Agradecemos el saludo de la @ACTransparencia p...</td>\n",
       "      <td>{'has(agradec)': 1, 'has(salud)': 1, 'has(__us...</td>\n",
       "    </tr>\n",
       "    <tr>\n",
       "      <th>6370</th>\n",
       "      <td>10303</td>\n",
       "      <td>10303</td>\n",
       "      <td>10303</td>\n",
       "      <td>1.531074e+18</td>\n",
       "      <td>Agradecemos el saludo de la @ACTransparencia p...</td>\n",
       "      <td>Continuaremos trabajando incansablemente para ...</td>\n",
       "      <td>3</td>\n",
       "      <td>JNE_Peru</td>\n",
       "      <td>2022-05-29 19:42:45</td>\n",
       "      <td>20</td>\n",
       "      <td>['Continuaremos', 'trabajando', 'incansablemen...</td>\n",
       "      <td>20</td>\n",
       "      <td>0.514830</td>\n",
       "      <td>0.011206</td>\n",
       "      <td>0.473965</td>\n",
       "      <td>POS</td>\n",
       "      <td>Continuaremos trabajando incansablemente para ...</td>\n",
       "      <td>{'has(continu)': 1, 'has(trabaj)': 1, 'has(inc...</td>\n",
       "    </tr>\n",
       "    <tr>\n",
       "      <th>6375</th>\n",
       "      <td>10318</td>\n",
       "      <td>10318</td>\n",
       "      <td>10318</td>\n",
       "      <td>1.542233e+18</td>\n",
       "      <td>En entrevista a #JNETV, Mariani señaló que lo ...</td>\n",
       "      <td>En entrevista a #JNETV, Mariani señaló que lo ...</td>\n",
       "      <td>1</td>\n",
       "      <td>JNE_Peru</td>\n",
       "      <td>2022-06-29 14:47:08</td>\n",
       "      <td>5</td>\n",
       "      <td>['En', 'entrevista', 'a', '#', 'JNETV', ',', '...</td>\n",
       "      <td>49</td>\n",
       "      <td>0.000673</td>\n",
       "      <td>0.988905</td>\n",
       "      <td>0.010422</td>\n",
       "      <td>NEG</td>\n",
       "      <td>En entrevista a #JNETV, Mariani señaló que lo ...</td>\n",
       "      <td>{'has(entrev)': 1, 'has(__HASH_JNETV)': 1, 'ha...</td>\n",
       "    </tr>\n",
       "    <tr>\n",
       "      <th>6376</th>\n",
       "      <td>10320</td>\n",
       "      <td>10320</td>\n",
       "      <td>10320</td>\n",
       "      <td>1.542167e+18</td>\n",
       "      <td>Según el docente universitario, \"ejecutivo y l...</td>\n",
       "      <td>Según el docente universitario, \"ejecutivo y l...</td>\n",
       "      <td>1</td>\n",
       "      <td>JNE_Peru</td>\n",
       "      <td>2022-06-29 10:24:37</td>\n",
       "      <td>12</td>\n",
       "      <td>['Según', 'el', 'docente', 'universitario', ',...</td>\n",
       "      <td>50</td>\n",
       "      <td>0.000674</td>\n",
       "      <td>0.980890</td>\n",
       "      <td>0.018436</td>\n",
       "      <td>NEG</td>\n",
       "      <td>Según el docente universitario, \"ejecutivo y l...</td>\n",
       "      <td>{'has(segun)': 1, 'has(docent)': 1, 'has(unive...</td>\n",
       "    </tr>\n",
       "    <tr>\n",
       "      <th>6418</th>\n",
       "      <td>10378</td>\n",
       "      <td>10378</td>\n",
       "      <td>10378</td>\n",
       "      <td>1.552033e+18</td>\n",
       "      <td>“Debemos actuar antes de que aparezcan en el h...</td>\n",
       "      <td>“Debemos actuar antes de que aparezcan en el h...</td>\n",
       "      <td>2</td>\n",
       "      <td>JNE_Peru</td>\n",
       "      <td>2022-07-26 15:47:01</td>\n",
       "      <td>3</td>\n",
       "      <td>['“', 'Debemos', 'actuar', 'antes', 'de', 'que...</td>\n",
       "      <td>48</td>\n",
       "      <td>0.002036</td>\n",
       "      <td>0.972231</td>\n",
       "      <td>0.025733</td>\n",
       "      <td>NEG</td>\n",
       "      <td>“Debemos actuar antes de que aparezcan en el h...</td>\n",
       "      <td>{'has(deb)': 1, 'has(actu)': 1, 'has(antes)': ...</td>\n",
       "    </tr>\n",
       "  </tbody>\n",
       "</table>\n",
       "<p>6394 rows × 18 columns</p>\n",
       "</div>"
      ],
      "text/plain": [
       "      Unnamed: 0  Unnamed: 0.1  Unnamed: 0.1.1            id  \\\n",
       "0             10            10              10  1.233416e+18   \n",
       "1             11            11              11  1.233416e+18   \n",
       "2             12            12              12  1.233416e+18   \n",
       "3             13            13              13  1.233416e+18   \n",
       "4             14            14              14  1.233401e+18   \n",
       "...          ...           ...             ...           ...   \n",
       "6369       10302         10302           10302  1.531074e+18   \n",
       "6370       10303         10303           10303  1.531074e+18   \n",
       "6375       10318         10318           10318  1.542233e+18   \n",
       "6376       10320         10320           10320  1.542167e+18   \n",
       "6418       10378         10378           10378  1.552033e+18   \n",
       "\n",
       "                                                  tweet  \\\n",
       "0     Riesgo clave del COVID-19 es brote en países c...   \n",
       "1     Riesgo clave del COVID-19 es brote en países c...   \n",
       "2     Riesgo clave del COVID-19 es brote en países c...   \n",
       "3     Riesgo clave del COVID-19 es brote en países c...   \n",
       "4     Confirmado el primer caso de coronavirus covid...   \n",
       "...                                                 ...   \n",
       "6369  Agradecemos el saludo de la @ACTransparencia p...   \n",
       "6370  Agradecemos el saludo de la @ACTransparencia p...   \n",
       "6375  En entrevista a #JNETV, Mariani señaló que lo ...   \n",
       "6376  Según el docente universitario, \"ejecutivo y l...   \n",
       "6418  “Debemos actuar antes de que aparezcan en el h...   \n",
       "\n",
       "                                         tweet_sentence  len_sentence  \\\n",
       "0     Riesgo clave del COVID-19 es brote en países c...             5   \n",
       "1     China/Corea son países capaces de ejecutar pla...             5   \n",
       "2     Un ejemplo es Irán, donde fatalidad del virus ...             5   \n",
       "3     O no se detectan casos o cobertura médica es p...             5   \n",
       "4     Confirmado el primer caso de coronavirus covid...             3   \n",
       "...                                                 ...           ...   \n",
       "6369  Agradecemos el saludo de la @ACTransparencia p...             3   \n",
       "6370  Continuaremos trabajando incansablemente para ...             3   \n",
       "6375  En entrevista a #JNETV, Mariani señaló que lo ...             1   \n",
       "6376  Según el docente universitario, \"ejecutivo y l...             1   \n",
       "6418  “Debemos actuar antes de que aparezcan en el h...             2   \n",
       "\n",
       "            username                 date  nlikes  \\\n",
       "0     AlfonsodlTorre  2020-02-28 10:36:23       2   \n",
       "1     AlfonsodlTorre  2020-02-28 10:36:23       2   \n",
       "2     AlfonsodlTorre  2020-02-28 10:36:23       2   \n",
       "3     AlfonsodlTorre  2020-02-28 10:36:23       2   \n",
       "4     PierolaMarcelo  2020-02-28 09:39:56       6   \n",
       "...              ...                  ...     ...   \n",
       "6369        JNE_Peru  2022-05-29 19:42:45      20   \n",
       "6370        JNE_Peru  2022-05-29 19:42:45      20   \n",
       "6375        JNE_Peru  2022-06-29 14:47:08       5   \n",
       "6376        JNE_Peru  2022-06-29 10:24:37      12   \n",
       "6418        JNE_Peru  2022-07-26 15:47:01       3   \n",
       "\n",
       "                                             tweet_word  len_word       POS  \\\n",
       "0     ['Riesgo', 'clave', 'del', 'COVID-19', 'es', '...        13  0.000672   \n",
       "1     ['China/Corea', 'son', 'países', 'capaces', 'd...        10  0.000672   \n",
       "2     ['Un', 'ejemplo', 'es', 'Irán', ',', 'donde', ...        13  0.000672   \n",
       "3     ['O', 'no', 'se', 'detectan', 'casos', 'o', 'c...        11  0.000672   \n",
       "4     ['Confirmado', 'el', 'primer', 'caso', 'de', '...        22  0.001187   \n",
       "...                                                 ...       ...       ...   \n",
       "6369  ['Agradecemos', 'el', 'saludo', 'de', 'la', '@...        12  0.514830   \n",
       "6370  ['Continuaremos', 'trabajando', 'incansablemen...        20  0.514830   \n",
       "6375  ['En', 'entrevista', 'a', '#', 'JNETV', ',', '...        49  0.000673   \n",
       "6376  ['Según', 'el', 'docente', 'universitario', ',...        50  0.000674   \n",
       "6418  ['“', 'Debemos', 'actuar', 'antes', 'de', 'que...        48  0.002036   \n",
       "\n",
       "           NEG       NEU target  \\\n",
       "0     0.975066  0.024262    NEG   \n",
       "1     0.975066  0.024262    NEG   \n",
       "2     0.975066  0.024262    NEG   \n",
       "3     0.975066  0.024262    NEG   \n",
       "4     0.977370  0.021444    NEG   \n",
       "...        ...       ...    ...   \n",
       "6369  0.011206  0.473965    POS   \n",
       "6370  0.011206  0.473965    POS   \n",
       "6375  0.988905  0.010422    NEG   \n",
       "6376  0.980890  0.018436    NEG   \n",
       "6418  0.972231  0.025733    NEG   \n",
       "\n",
       "                                        processed_tweet  \\\n",
       "0     Riesgo clave del COVID-19 es brote en países c...   \n",
       "1     China/Corea son países capaces de ejecutar pla...   \n",
       "2     Un ejemplo es Irán, donde fatalidad del virus ...   \n",
       "3     O no se detectan casos o cobertura médica es p...   \n",
       "4     Confirmado el primer caso de coronavirus covid...   \n",
       "...                                                 ...   \n",
       "6369  Agradecemos el saludo de la @ACTransparencia p...   \n",
       "6370  Continuaremos trabajando incansablemente para ...   \n",
       "6375  En entrevista a #JNETV, Mariani señaló que lo ...   \n",
       "6376  Según el docente universitario, \"ejecutivo y l...   \n",
       "6418  “Debemos actuar antes de que aparezcan en el h...   \n",
       "\n",
       "                               processed_tweet_features  \n",
       "0     {'has(riesg)': 1, 'has(clav)': 1, 'has(del)': ...  \n",
       "1     {'has(chin)': 1, 'has(core)': 1, 'has(son)': 1...  \n",
       "2     {'has(ejempl)': 1, 'has(iran)': 1, 'has(dond)'...  \n",
       "3     {'has(no)': 1, 'has(detect)': 1, 'has(cas)': 1...  \n",
       "4     {'has(confirm)': 1, 'has(prim)': 1, 'has(cas)'...  \n",
       "...                                                 ...  \n",
       "6369  {'has(agradec)': 1, 'has(salud)': 1, 'has(__us...  \n",
       "6370  {'has(continu)': 1, 'has(trabaj)': 1, 'has(inc...  \n",
       "6375  {'has(entrev)': 1, 'has(__HASH_JNETV)': 1, 'ha...  \n",
       "6376  {'has(segun)': 1, 'has(docent)': 1, 'has(unive...  \n",
       "6418  {'has(deb)': 1, 'has(actu)': 1, 'has(antes)': ...  \n",
       "\n",
       "[6394 rows x 18 columns]"
      ]
     },
     "execution_count": 105,
     "metadata": {},
     "output_type": "execute_result"
    }
   ],
   "source": [
    "processed_tweets"
   ]
  },
  {
   "cell_type": "markdown",
   "metadata": {},
   "source": [
    "*Mediante este otro codigo obtenemos el train y test de forma aleatoria*"
   ]
  },
  {
   "cell_type": "code",
   "execution_count": 661,
   "metadata": {},
   "outputs": [
    {
     "name": "stdout",
     "output_type": "stream",
     "text": [
      "NEG    2252\n",
      "POS    1398\n",
      "NEU    1393\n",
      "Name: target, dtype: int64\n",
      "NEU    1546\n",
      "POS     365\n",
      "NEG     251\n",
      "Name: target, dtype: int64\n"
     ]
    }
   ],
   "source": [
    "#sin estratificacion\n",
    "import numpy as np\n",
    "\n",
    "p_train = 0.70 # Porcentaje de train.\n",
    "index_train = int(p_train*len(processed_tweets))\n",
    "train_ = processed_tweets.iloc[:index_train]\n",
    "#train_ = processed_tweets.values[:train_size]\n",
    "test_ = processed_tweets.iloc[index_train:]\n",
    "#train_, test_ = df[df['is_train']==True], df[df['is_train']==False]\n",
    "#df = df.drop('is_train', 1)\n",
    "#print(train_.columns)\n",
    "y_train = train_['target']\n",
    "y_test = test_['target'] \n",
    "print(train_['target'].value_counts())#, test_['target'].value_counts())\n",
    "print(test_['target'].value_counts())#, test_['target'].value_counts())"
   ]
  },
  {
   "cell_type": "code",
   "execution_count": 181,
   "metadata": {},
   "outputs": [
    {
     "name": "stdout",
     "output_type": "stream",
     "text": [
      "5178\n"
     ]
    }
   ],
   "source": [
    "train_size = int(train_.shape[0] - (train_.shape[0]+test_.shape[0])*0.1)\n",
    "print(train_size)\n",
    "sentiment_train_tweets = [(tweet, sentiment) for tweet, sentiment in train_[['tweet_sentence', 'target']].values[:train_size]]\n",
    "sentiment_train_tweets_full = [(tweet, sentiment) for tweet, sentiment in train_[['tweet_sentence', 'target']].values[:train_size]]\n",
    "sentiment_validation_tweets = [(tweet, sentiment) for tweet, sentiment in train_[['tweet_sentence', 'target']].values[train_size:]]\n",
    "sentiment_test_tweets  = [(tweet, sentiment) for tweet, sentiment in test_[['tweet_sentence', 'target']].values]\n",
    "#sentiment_train_tweets"
   ]
  },
  {
   "cell_type": "markdown",
   "metadata": {},
   "source": [
    "## Preparación de datos\n",
    "*Cuando se trabaja con grandes corpus, la construcción de una sola lista que contiene las características de cada instancia puede consumir una gran cantidad de memoria. En estos casos, utilice la función nltk.classify.apply_features, que devuelve un objeto que actúa como una lista pero no almacena todos los conjuntos de funciones en la memoria:*"
   ]
  },
  {
   "cell_type": "code",
   "execution_count": 182,
   "metadata": {},
   "outputs": [
    {
     "name": "stdout",
     "output_type": "stream",
     "text": [
      "5178 5178 740 1480\n"
     ]
    }
   ],
   "source": [
    "# Apply the data processing and cleaning extraction methodologies\n",
    "v_train = nltk.classify.apply_features(extract_features,sentiment_train_tweets)\n",
    "v_train_full = nltk.classify.apply_features(extract_features,sentiment_train_tweets_full)\n",
    "v_validation = nltk.classify.apply_features(extract_features,sentiment_validation_tweets)\n",
    "v_test  = nltk.classify.apply_features(extract_features,sentiment_test_tweets)\n",
    "print(len(v_train), len(v_train_full), len(v_validation), len(v_test))"
   ]
  },
  {
   "cell_type": "markdown",
   "metadata": {},
   "source": [
    "## Cross Validation"
   ]
  },
  {
   "cell_type": "code",
   "execution_count": 202,
   "metadata": {},
   "outputs": [],
   "source": [
    "def generar_entradas(tupla):\n",
    "    lista_entradas = []\n",
    "    lista_target = []\n",
    "    for i in tupla:\n",
    "        lista_entradas.append(list(i[0]))\n",
    "        lista_target.append(i[1])\n",
    "    return lista_entradas, lista_target\n",
    "\n",
    "sentiment_tweets  = [(tweet, sentiment) for tweet, sentiment in processed_tweets[['tweet_sentence', 'target']].values]\n",
    "df_final = nltk.classify.apply_features(extract_features,sentiment_tweets)\n",
    "X, y = generar_entradas(df_final)"
   ]
  },
  {
   "cell_type": "code",
   "execution_count": 203,
   "metadata": {},
   "outputs": [],
   "source": [
    "from statistics import mean\n",
    "def cross_validation(num_folds, df_final, name_archivo, model):\n",
    "    num_folds = num_folds\n",
    "    subset_size = int(len(df_final)/num_folds)\n",
    "    lista_acuracia = []\n",
    "    lista_precision = []                  \n",
    "    lista_recall = []                  \n",
    "\n",
    "    for i in range(num_folds):\n",
    "        #print(i, subset_size)\n",
    "        testing_this_round = df_final[i*subset_size:][:subset_size]\n",
    "        training_this_round = df_final[:i*subset_size] + df_final[(i+1)*subset_size:]\n",
    "        # train using training\n",
    "        nb_classifier = model\n",
    "        nb_class = nb_classifier.train(training_this_round)\n",
    "        # evaluate against testing_this_round\n",
    "        y_test = []\n",
    "        for i in testing_this_round:\n",
    "            y_test.append(i[1])\n",
    "\n",
    "        test_predict = [nb_class.classify(t) for (t,s) in testing_this_round]\n",
    "        # save accuracy\n",
    "        acuracia = accuracy_score(y_test, test_predict)\n",
    "        precision = precision_score(y_test, test_predict, average=\"binary\",pos_label='POS')\n",
    "        recall = recall_score(y_test, test_predict, average=\"binary\", pos_label='POS')\n",
    "        #print(acuracia, precision, recall)\n",
    "        lista_acuracia.append(acuracia)\n",
    "        lista_precision.append(precision)\n",
    "        lista_recall.append(recall)\n",
    "    print(mean(lista_acuracia), mean(lista_precision), mean(lista_recall))\n",
    "    \n",
    "    #plotar_grafico(lista_acuracia, lista_precision, lista_recall, name_archivo, num_folds)\n",
    "        #print('accuracia', acuracia)\n",
    "        #print('precision', precision)\n",
    "        #print('recall', recall)"
   ]
  },
  {
   "cell_type": "code",
   "execution_count": 205,
   "metadata": {
    "scrolled": true
   },
   "outputs": [
    {
     "name": "stdout",
     "output_type": "stream",
     "text": [
      "0.8653116531165311 0.7840668414987841 0.8755220491336748\n"
     ]
    }
   ],
   "source": [
    "#nltk.classify.SklearnClassifier(LinearSVC())\n",
    "#nltk.classify.NaiveBayesClassifier\n",
    "#nltk.classify.SklearnClassifier(RandomForestClassifier())\n",
    "cross_validation(20,df_final,'cross_NB_20_F', nltk.classify.NaiveBayesClassifier)"
   ]
  },
  {
   "cell_type": "code",
   "execution_count": 206,
   "metadata": {},
   "outputs": [
    {
     "name": "stdout",
     "output_type": "stream",
     "text": [
      "0.8520325203252033 0.8097342345757786 0.778318825946067\n"
     ]
    }
   ],
   "source": [
    "cross_validation(20,df_final,'cross_NB_20_F', nltk.classify.SklearnClassifier(LinearSVC()))"
   ]
  },
  {
   "cell_type": "code",
   "execution_count": 207,
   "metadata": {},
   "outputs": [
    {
     "name": "stdout",
     "output_type": "stream",
     "text": [
      "0.8223577235772358 0.8279894554008868 0.6701958832880579\n"
     ]
    }
   ],
   "source": [
    "cross_validation(20,df_final,'cross_NB_20_F', nltk.classify.SklearnClassifier(RandomForestClassifier()))"
   ]
  },
  {
   "cell_type": "code",
   "execution_count": 208,
   "metadata": {},
   "outputs": [
    {
     "name": "stdout",
     "output_type": "stream",
     "text": [
      "0.8597560975609756 0.8150083267829225 0.8089492538209967\n"
     ]
    }
   ],
   "source": [
    "cross_validation(20,df_final,'cross_NB_20_F', perceptron_classifier)"
   ]
  },
  {
   "cell_type": "code",
   "execution_count": 778,
   "metadata": {},
   "outputs": [],
   "source": [
    "import matplotlib.pyplot as plt \n",
    "def plotar_grafico(list_acur, list_prec, list_recall, name_archivo, num_fold):\n",
    "    x = np.arange(0, num_fold, 1)\n",
    "    plt.figure(figsize=(20,6))\n",
    "    #Generamos una grafica lineal para una recta en X\n",
    "    plt.bar(x, list_acur, label='Acuracia', marker = \"o\", color='red', s =110)\n",
    "    #Generamos otra grafica lineal para una X cuadratica\n",
    "    plt.bar(x, list_prec, label='Precision' , marker='s', color='blue', s =110)\n",
    "    #Generamos una grafica lineas para una X Cubica\n",
    "    plt.bar(x, list_recall, label='Recall',  marker='p', color='green', s=110)\n",
    "    #Agregamos las etiquetas y añadimos una leyenda.\n",
    "    plt.xlabel('Fold')\n",
    "    #grid()\n",
    "    #plt.ylabel('')\n",
    "    #plt.title(\"Simple Plot\")\n",
    "    plt.legend(fontsize=18)\n",
    "    plt.savefig(name_archivo+'.pdf', dpi=500)\n",
    "    plt.show()"
   ]
  },
  {
   "cell_type": "code",
   "execution_count": 338,
   "metadata": {},
   "outputs": [
    {
     "name": "stdout",
     "output_type": "stream",
     "text": [
      "     Acuracia_2080  Acuracia_VM_2080  Acuracia_fold  Acuracia_VM_fold\n",
      "NB           0.866             0.878          0.860             0.865\n",
      "SVM          0.850             0.852          0.840             0.852\n",
      "RF           0.805             0.826          0.796             0.822\n",
      "PM           0.867             0.882          0.851             0.860\n"
     ]
    }
   ],
   "source": [
    "import pandas as pd \n",
    "import matplotlib.pyplot as plt\n",
    "data = pd.DataFrame({'Acuracia_2080' : [0.866, 0.850, 0.805, 0.867],\n",
    "                     'Acuracia_VM_2080': [0.878, 0.852, 0.826, 0.882],\n",
    "                     'Acuracia_fold' : [0.860, 0.840, 0.796, 0.851],\n",
    "                     'Acuracia_VM_fold': [0.865, 0.852, 0.822, 0.860],},\n",
    "                    index=('NB', 'SVM', 'RF', 'PM'))\n",
    "print(data)\n",
    "#total = data.sum(axis=1)\n",
    "#plt.bar(total.index, total)\n",
    "#plt.show()"
   ]
  },
  {
   "cell_type": "code",
   "execution_count": 339,
   "metadata": {},
   "outputs": [],
   "source": [
    "def addlabels(x,y):\n",
    "    for i in range(len(x)):\n",
    "        plt.text(i, y[i] + 0.02, y[i], ha = 'center')"
   ]
  },
  {
   "cell_type": "code",
   "execution_count": 340,
   "metadata": {},
   "outputs": [
    {
     "data": {
      "image/png": "[encoded data removed]",
      "text/plain": [
       "<Figure size 2160x1080 with 1 Axes>"
      ]
     },
     "metadata": {
      "needs_background": "light"
     },
     "output_type": "display_data"
    }
   ],
   "source": [
    "import numpy as np\n",
    "n = len(data.index)\n",
    "x = np.arange(n)\n",
    "width = 0.2\n",
    "plt.figure(figsize=(30, 15))\n",
    "plt.bar(x - width, data.Acuracia_2080, width=width, label='Acuracia con proporcion 80/20')\n",
    "plt.bar(x, data.Acuracia_VM_2080, width=width, label='Acuracia con proporcion 80/20 (con VM)')\n",
    "#addlabels(x, data.Acuracia_VM_fold)\n",
    "plt.bar(x + width, data.Acuracia_fold, width=width, label='Acuracia con fold')\n",
    "plt.bar(x + 2*width, data.Acuracia_VM_fold, width=width, label='Acuracia con fold (con VM)')\n",
    "#addlabels(x + 2*width, data.Acuracia_VM_2080)\n",
    "#plt.bar(x + width, data.Recall, width=width, label='Recall')\n",
    "plt.grid(color = 'grey', linestyle = '--', linewidth = 1)\n",
    "plt.xticks(x + 0.1 , data.index,fontsize=30)\n",
    "#np.arange(0.02,1.02,0.02)\n",
    "plt.yticks(np.arange(0,1,0.05),fontsize=30)\n",
    "plt.legend(loc='lower center', fontsize=30)\n",
    "plt.savefig('acuracia_total.pdf', dpi=500)\n",
    "plt.show()"
   ]
  },
  {
   "cell_type": "markdown",
   "metadata": {},
   "source": [
    "## Naive Bayes"
   ]
  },
  {
   "cell_type": "code",
   "execution_count": 183,
   "metadata": {},
   "outputs": [
    {
     "name": "stdout",
     "output_type": "stream",
     "text": [
      "Accuracy of the model =  0.8662162162162163\n"
     ]
    }
   ],
   "source": [
    "nb_classifier = nltk.classify.NaiveBayesClassifier\n",
    "nb_class = nb_classifier.train(v_train)\n",
    "#print(v_validation)\n",
    "print (\"Accuracy of the model = \", nltk.classify.accuracy(nb_class, v_validation))\n",
    "#test_predict = [nb_class.classify(t) for (t,s) in v_test]"
   ]
  },
  {
   "cell_type": "markdown",
   "metadata": {},
   "source": [
    "Accuracy looks good enough, we can try now to train on the whole set and run on the Colombian tweets"
   ]
  },
  {
   "cell_type": "code",
   "execution_count": 184,
   "metadata": {},
   "outputs": [
    {
     "name": "stdout",
     "output_type": "stream",
     "text": [
      "Accuracy of the model =  0.8783783783783784\n",
      "1480 1480\n"
     ]
    },
    {
     "data": {
      "text/plain": [
       "0.8783783783783784"
      ]
     },
     "execution_count": 184,
     "metadata": {},
     "output_type": "execute_result"
    }
   ],
   "source": [
    "#nb_class = nb_classifier.train(v_train_full) \n",
    "test_predict = [nb_class.classify(t) for (t,s) in v_test]\n",
    "print (\"Accuracy of the model = \", nltk.classify.accuracy(nb_class, v_test))\n",
    "#print((test_predict),(y_test.to_list()))\n",
    "print(len(y_test), len(test_predict))\n",
    "accuracy_score(y_test, test_predict)"
   ]
  },
  {
   "cell_type": "code",
   "execution_count": 185,
   "metadata": {},
   "outputs": [
    {
     "name": "stdout",
     "output_type": "stream",
     "text": [
      "<function confusion_matrix at 0x000001D34674A0D0>\n",
      "742 116 64 558\n"
     ]
    },
    {
     "data": {
      "image/png": "[encoded data removed]",
      "text/plain": [
       "<Figure size 432x288 with 1 Axes>"
      ]
     },
     "metadata": {
      "needs_background": "light"
     },
     "output_type": "display_data"
    }
   ],
   "source": [
    "from sklearn.metrics import confusion_matrix\n",
    "import seaborn as sns\n",
    "# crear matriz de confusión\n",
    "def confusion_matrix_graf(class_names, y_test, test_predict, name):\n",
    "    #class_names= ['POS', 'NEG']\n",
    "    matrix = confusion_matrix(y_test, test_predict)\n",
    "    TN = matrix[0][0]\n",
    "    FP = matrix[0][1]\n",
    "    FN = matrix[1][0]\n",
    "    TP = matrix[1][1]\n",
    "    print(confusion_matrix)\n",
    "    print(TN, FP, FN, TP)\n",
    "    # crear marco de datos de pandas Crear un conjunto de datos\n",
    "    dataframe = pd.DataFrame(matrix, index=class_names, columns=class_names)\n",
    "    #print((dataframe))\n",
    "    # crear mapa de calor dibujar mapa de calor\n",
    "    sns.heatmap(dataframe, annot=True, cbar=None, cmap=\"Blues\", fmt=\"d\")\n",
    "    #plt.title(\"Confusion Matrix\"), plt.tight_layout()\n",
    "    plt.ylabel(\"Target\"), plt.xlabel(\"Target predecido\")\n",
    "    plt.savefig(name + '.pdf')\n",
    "    plt.show()\n",
    "    return TN, FP, FN, TP\n",
    "\n",
    "TN, FP, FN, TP = confusion_matrix_graf(['POS', 'NEG'], y_test, test_predict,'PolVM_NB3_sin_mx')\n"
   ]
  },
  {
   "cell_type": "code",
   "execution_count": 186,
   "metadata": {},
   "outputs": [
    {
     "name": "stdout",
     "output_type": "stream",
     "text": [
      "0.8783783783783784 0.827893175074184 0.8971061093247589 0.8648018648018648 0.8459451286787242\n"
     ]
    }
   ],
   "source": [
    "#METRICAS\n",
    "def calculo_metricas(TN, FP, FN, TP,test_predict):\n",
    "    accuracia = (TP + TN) / len(test_predict)\n",
    "    precision = TP / (TP + FP)\n",
    "    recall = TP / (TP + FN)\n",
    "    sensitive = TN /(TN + FP)\n",
    "    F1_score = 2*(precision * sensitive) /(precision+sensitive)\n",
    "    print(accuracia, precision, recall, sensitive, F1_score)\n",
    "\n",
    "calculo_metricas(TN, FP, FN, TP, test_predict)"
   ]
  },
  {
   "cell_type": "markdown",
   "metadata": {},
   "source": [
    "## SVM"
   ]
  },
  {
   "cell_type": "code",
   "execution_count": 187,
   "metadata": {},
   "outputs": [
    {
     "name": "stdout",
     "output_type": "stream",
     "text": [
      "Accuracy of the model =  0.8527027027027027\n"
     ]
    }
   ],
   "source": [
    "from sklearn.svm import LinearSVC\n",
    "svm_classifier = nltk.classify.SklearnClassifier(LinearSVC())\n",
    "svm_class = svm_classifier.train(v_train)\n",
    "#print(v_validation)\n",
    "print (\"Accuracy of the model = \", nltk.classify.accuracy(svm_class, v_validation))"
   ]
  },
  {
   "cell_type": "code",
   "execution_count": 188,
   "metadata": {},
   "outputs": [
    {
     "name": "stdout",
     "output_type": "stream",
     "text": [
      "Accuracy of the model =  0.8527027027027027\n"
     ]
    }
   ],
   "source": [
    "#nb_class = nb_classifier.train(v_train_full) \n",
    "test_predict = [svm_class.classify(t) for (t,s) in v_test]\n",
    "print (\"Accuracy of the model = \", nltk.classify.accuracy(svm_class, v_test))"
   ]
  },
  {
   "cell_type": "code",
   "execution_count": 189,
   "metadata": {},
   "outputs": [
    {
     "data": {
      "text/plain": [
       "0.8527027027027027"
      ]
     },
     "execution_count": 189,
     "metadata": {},
     "output_type": "execute_result"
    }
   ],
   "source": [
    "from sklearn.metrics import accuracy_score\n",
    "accuracy_score(y_test, test_predict)"
   ]
  },
  {
   "cell_type": "code",
   "execution_count": 190,
   "metadata": {},
   "outputs": [
    {
     "name": "stdout",
     "output_type": "stream",
     "text": [
      "<function confusion_matrix at 0x000001D34674A0D0>\n",
      "770 88 130 492\n"
     ]
    },
    {
     "data": {
      "image/png": "[encoded data removed]",
      "text/plain": [
       "<Figure size 432x288 with 1 Axes>"
      ]
     },
     "metadata": {
      "needs_background": "light"
     },
     "output_type": "display_data"
    }
   ],
   "source": [
    "TN, FP, FN, TP = confusion_matrix_graf(['POS', 'NEG'], y_test, test_predict,'Pand_SVM_sin_mx')"
   ]
  },
  {
   "cell_type": "code",
   "execution_count": 191,
   "metadata": {},
   "outputs": [
    {
     "name": "stdout",
     "output_type": "stream",
     "text": [
      "0.8527027027027027 0.8482758620689655 0.7909967845659164 0.8974358974358975 0.872163695299838\n"
     ]
    }
   ],
   "source": [
    "calculo_metricas(TN, FP, FN, TP, test_predict)"
   ]
  },
  {
   "cell_type": "markdown",
   "metadata": {},
   "source": [
    "## Random Forest"
   ]
  },
  {
   "cell_type": "code",
   "execution_count": 192,
   "metadata": {},
   "outputs": [
    {
     "name": "stdout",
     "output_type": "stream",
     "text": [
      "Accuracy of the model =  0.8243243243243243\n"
     ]
    }
   ],
   "source": [
    "from sklearn.ensemble import RandomForestClassifier\n",
    "dt_classifier = nltk.classify.SklearnClassifier(RandomForestClassifier())\n",
    "dt_class = dt_classifier.train(v_train)\n",
    "#print(v_validation)\n",
    "print (\"Accuracy of the model = \", nltk.classify.accuracy(dt_class, v_validation))"
   ]
  },
  {
   "cell_type": "code",
   "execution_count": 193,
   "metadata": {},
   "outputs": [
    {
     "name": "stdout",
     "output_type": "stream",
     "text": [
      "Accuracy of the model =  0.8263513513513514\n"
     ]
    }
   ],
   "source": [
    "#nb_class = nb_classifier.train(v_train_full) \n",
    "test_predict = [dt_class.classify(t) for (t,s) in v_test]\n",
    "print(\"Accuracy of the model = \", nltk.classify.accuracy(dt_class, v_test))"
   ]
  },
  {
   "cell_type": "code",
   "execution_count": 194,
   "metadata": {},
   "outputs": [
    {
     "data": {
      "text/plain": [
       "0.8263513513513514"
      ]
     },
     "execution_count": 194,
     "metadata": {},
     "output_type": "execute_result"
    }
   ],
   "source": [
    "from sklearn.metrics import accuracy_score\n",
    "accuracy_score(y_test, test_predict)"
   ]
  },
  {
   "cell_type": "code",
   "execution_count": 195,
   "metadata": {},
   "outputs": [
    {
     "name": "stdout",
     "output_type": "stream",
     "text": [
      "<function confusion_matrix at 0x000001D34674A0D0>\n",
      "802 56 201 421\n"
     ]
    },
    {
     "data": {
      "image/png": "[encoded data removed]",
      "text/plain": [
       "<Figure size 432x288 with 1 Axes>"
      ]
     },
     "metadata": {
      "needs_background": "light"
     },
     "output_type": "display_data"
    }
   ],
   "source": [
    "TN, FP, FN, TP = confusion_matrix_graf(['POS', 'NEG'], y_test, test_predict,'Pand_RF_sin_mx')"
   ]
  },
  {
   "cell_type": "code",
   "execution_count": 196,
   "metadata": {},
   "outputs": [
    {
     "name": "stdout",
     "output_type": "stream",
     "text": [
      "0.8263513513513514 0.8825995807127882 0.6768488745980707 0.9347319347319347 0.907918017887202\n"
     ]
    }
   ],
   "source": [
    "calculo_metricas(TN, FP, FN, TP, test_predict)"
   ]
  },
  {
   "cell_type": "markdown",
   "metadata": {},
   "source": [
    "## Perceptron Multicapa"
   ]
  },
  {
   "cell_type": "code",
   "execution_count": 197,
   "metadata": {},
   "outputs": [
    {
     "name": "stdout",
     "output_type": "stream",
     "text": [
      "Accuracy of the model =  0.8702702702702703\n"
     ]
    }
   ],
   "source": [
    "from sklearn.neural_network import MLPClassifier\n",
    "perceptron_classifier = nltk.classify.SklearnClassifier(MLPClassifier(activation='relu', solver='adam', alpha=1e-5,\n",
    "                    hidden_layer_sizes=(50,50), random_state=1,\n",
    "                    learning_rate_init=0.001,max_iter=500,early_stopping=True))\n",
    "dt_class = perceptron_classifier.train(v_train)\n",
    "#print(v_validation)\n",
    "print (\"Accuracy of the model = \", nltk.classify.accuracy(dt_class, v_validation))"
   ]
  },
  {
   "cell_type": "code",
   "execution_count": 198,
   "metadata": {},
   "outputs": [
    {
     "name": "stdout",
     "output_type": "stream",
     "text": [
      "Accuracy of the model =  0.8817567567567568\n"
     ]
    }
   ],
   "source": [
    "#nb_class = nb_classifier.train(v_train_full) \n",
    "test_predict = [dt_class.classify(t) for (t,s) in v_test]\n",
    "print (\"Accuracy of the model = \", nltk.classify.accuracy(dt_class, v_test))"
   ]
  },
  {
   "cell_type": "code",
   "execution_count": 199,
   "metadata": {},
   "outputs": [
    {
     "data": {
      "text/plain": [
       "0.8817567567567568"
      ]
     },
     "execution_count": 199,
     "metadata": {},
     "output_type": "execute_result"
    }
   ],
   "source": [
    "from sklearn.metrics import accuracy_score\n",
    "accuracy_score(y_test, test_predict)"
   ]
  },
  {
   "cell_type": "code",
   "execution_count": 200,
   "metadata": {},
   "outputs": [
    {
     "name": "stdout",
     "output_type": "stream",
     "text": [
      "<function confusion_matrix at 0x000001D34674A0D0>\n",
      "772 86 89 533\n"
     ]
    },
    {
     "data": {
      "image/png": "[encoded data removed]",
      "text/plain": [
       "<Figure size 432x288 with 1 Axes>"
      ]
     },
     "metadata": {
      "needs_background": "light"
     },
     "output_type": "display_data"
    }
   ],
   "source": [
    "TN, FP, FN, TP = confusion_matrix_graf(['POS', 'NEG'], y_test, test_predict,'Pand_PM_sin_mx')"
   ]
  },
  {
   "cell_type": "code",
   "execution_count": 201,
   "metadata": {},
   "outputs": [
    {
     "name": "stdout",
     "output_type": "stream",
     "text": [
      "0.8817567567567568 0.8610662358642972 0.8569131832797428 0.8997668997668997 0.8799912744257268\n"
     ]
    }
   ],
   "source": [
    "calculo_metricas(TN, FP, FN, TP, test_predict)"
   ]
  }
 ],
 "metadata": {
  "kernelspec": {
   "display_name": "Python 3 (ipykernel)",
   "language": "python",
   "name": "python3"
  },
  "language_info": {
   "codemirror_mode": {
    "name": "ipython",
    "version": 3
   },
   "file_extension": ".py",
   "mimetype": "text/x-python",
   "name": "python",
   "nbconvert_exporter": "python",
   "pygments_lexer": "ipython3",
   "version": "3.9.7"
  }
 },
 "nbformat": 4,
 "nbformat_minor": 2
}
